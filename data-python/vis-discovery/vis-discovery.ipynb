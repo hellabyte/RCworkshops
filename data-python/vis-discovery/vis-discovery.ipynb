{
 "cells": [
  {
   "cell_type": "markdown",
   "metadata": {},
   "source": [
    "Data Discovery with Visualization\n",
    "==================\n",
    "\n",
    "In this notebook we will explore how to use python to discover descriptive attributes of various data.\n",
    "\n",
    "There are thirteen data files contained in the sub-directory `dat/`, with the path and generic basename `dat/dataset_k{:02d}.tsv`. These tab separated value files contain two columns of floats, `x` and `y`.\n",
    "\n",
    "We will first explore the data by computing summary statistics.\n",
    "\n",
    "- - -"
   ]
  },
  {
   "cell_type": "code",
   "execution_count": null,
   "metadata": {},
   "outputs": [],
   "source": [
    "# Import required modules\n",
    "import pandas as pd\n",
    "import numpy as np\n",
    "import glob,natsort\n",
    "# Generate a list of `tsv` files and sort the list\n",
    "F = natsort.realsorted(glob.glob('dat/dataset_K*.tsv'))\n",
    "# Generate a list of DataFrames with list index -> dataset index\n",
    "dfs = [ pd.read_csv(f,delimiter='\\t') for f in F ]"
   ]
  },
  {
   "cell_type": "code",
   "execution_count": null,
   "metadata": {},
   "outputs": [],
   "source": [
    "dfs[0]"
   ]
  },
  {
   "cell_type": "code",
   "execution_count": null,
   "metadata": {},
   "outputs": [],
   "source": [
    "# Useful function\n",
    "def gen_summary_statistics(df):\n",
    "    methods = [ \n",
    "        df.mean, \n",
    "        df.std, \n",
    "        df.skew, \n",
    "        df.kurt,\n",
    "    ]\n",
    "    return np.r_[\n",
    "        np.array([ method().values for method in methods ]).flatten(),\n",
    "        df.corr().values[1,0]\n",
    "    ]\n",
    "\n",
    "# Column names of generated summary stats\n",
    "cols = [\n",
    "    'x_mean','y_mean',\n",
    "    'x_std', 'y_std',\n",
    "    'x_skew','y_skew',\n",
    "    'x_kurt','y_kurt',\n",
    "    'corr',\n",
    "]"
   ]
  },
  {
   "cell_type": "code",
   "execution_count": null,
   "metadata": {},
   "outputs": [],
   "source": [
    "# Loop through DataFrames and generate summary statistics DataFrame\n",
    "sdf = pd.DataFrame([ gen_summary_statistics(df) for df in dfs ], columns=cols)\n",
    "sdf"
   ]
  },
  {
   "cell_type": "code",
   "execution_count": null,
   "metadata": {},
   "outputs": [],
   "source": [
    "# Get to the visualizin\n",
    "import pylab as plt\n",
    "from plt_style import *\n",
    "def mk_grids(): \n",
    "    plt.grid(which='major',linestyle='--',color='#333333')\n",
    "    plt.grid(which='minor',linestyle=':',color='#555555')"
   ]
  },
  {
   "cell_type": "code",
   "execution_count": null,
   "metadata": {},
   "outputs": [],
   "source": [
    "plt.plot(sdf.x_mean,sdf.y_mean,'o',mec='k',mfc=gld,ms=8); mk_grids()\n",
    "plt.xlabel('$<x>$')\n",
    "plt.ylabel('$<y>$')\n",
    "plt.title('Mean Comparison')"
   ]
  },
  {
   "cell_type": "code",
   "execution_count": null,
   "metadata": {},
   "outputs": [],
   "source": [
    "plt.plot(sdf.x_std,sdf.y_std,'o',mec='k',mfc=gld,ms=8); mk_grids()\n",
    "plt.xlabel('$\\sigma(x)$')\n",
    "plt.ylabel('$\\sigma(y)$')\n",
    "plt.title('Standard Dev. Comparison')"
   ]
  },
  {
   "cell_type": "code",
   "execution_count": null,
   "metadata": {},
   "outputs": [],
   "source": [
    "plt.plot(sdf.x_mean/sdf.x_std,sdf.y_mean/sdf.y_std,'o',mec='k',mfc=gld,ms=8); mk_grids()\n",
    "plt.xlabel(r'SNR$(x)$')\n",
    "plt.ylabel(r'SNR$(y)$')\n",
    "plt.title('Signal to Noise Comparison')"
   ]
  },
  {
   "cell_type": "code",
   "execution_count": null,
   "metadata": {},
   "outputs": [],
   "source": [
    "plt.plot(sdf['corr'],'o',mec='k',mfc=gld,ms=8); mk_grids()\n",
    "plt.xlabel(r'$k$')\n",
    "plt.ylabel(r'$\\rho(xy)$')\n",
    "plt.title('Correlation Comparison')"
   ]
  },
  {
   "cell_type": "code",
   "execution_count": null,
   "metadata": {},
   "outputs": [],
   "source": [
    "plt.plot(sdf['x_skew'],sdf['y_skew'],'o',mec='k',mfc=gld,ms=8); mk_grids()\n",
    "plt.xlabel(r'$\\gamma(x)$')\n",
    "plt.ylabel(r'$\\gamma(y)$')\n",
    "plt.title('Skewness Comparison')"
   ]
  },
  {
   "cell_type": "code",
   "execution_count": null,
   "metadata": {},
   "outputs": [],
   "source": [
    "plt.plot(sdf['x_kurt'],sdf['y_kurt'],'o',mec='k',mfc=gld,ms=8); mk_grids()\n",
    "plt.xlabel(r'$\\kappa(x)$')\n",
    "plt.ylabel(r'$\\kappa(y)$')\n",
    "plt.title('Kurtosis Comparison')"
   ]
  },
  {
   "cell_type": "markdown",
   "metadata": {},
   "source": [
    "- - - \n",
    "\n",
    "What do the data actually look like?\n",
    "---"
   ]
  },
  {
   "cell_type": "code",
   "execution_count": null,
   "metadata": {},
   "outputs": [],
   "source": [
    "f,axarr = plt.subplots(4,4,figsize=(21,20))\n",
    "# Only 13 plots, remove last 3 empty frames\n",
    "f.delaxes(axarr[-1,-3])\n",
    "f.delaxes(axarr[-1,-2])\n",
    "f.delaxes(axarr[-1,-1])\n",
    "# loop over dataframes and plot data\n",
    "for k,df in enumerate(dfs):\n",
    "    ax = axarr[k//4,k%4]\n",
    "    ax.plot(df.x,df.y,'o',c='k' if k != 3 else 'r')\n",
    "    ax.set_xlabel(r'$x$')\n",
    "    ax.set_ylabel(r'$y$') \n",
    "    ax.set_title(f'Index {k:02d}')\n",
    "plt.axis('equal')    \n",
    "plt.tight_layout()"
   ]
  },
  {
   "cell_type": "markdown",
   "metadata": {},
   "source": [
    "---------------------------------------\n",
    "\n",
    "\n",
    "![Anscombe.png](fig/anscombe.png)\n",
    "\n",
    "Data and more from [this blog post](https://www.autodeskresearch.com/publications/samestats).\n"
   ]
  },
  {
   "cell_type": "code",
   "execution_count": null,
   "metadata": {},
   "outputs": [],
   "source": []
  },
  {
   "cell_type": "code",
   "execution_count": null,
   "metadata": {},
   "outputs": [],
   "source": []
  }
 ],
 "metadata": {
  "kernelspec": {
   "display_name": "scicomp",
   "language": "python",
   "name": "scicomp"
  },
  "language_info": {
   "codemirror_mode": {
    "name": "ipython",
    "version": 3
   },
   "file_extension": ".py",
   "mimetype": "text/x-python",
   "name": "python",
   "nbconvert_exporter": "python",
   "pygments_lexer": "ipython3",
   "version": "3.11.0"
  }
 },
 "nbformat": 4,
 "nbformat_minor": 4
}
