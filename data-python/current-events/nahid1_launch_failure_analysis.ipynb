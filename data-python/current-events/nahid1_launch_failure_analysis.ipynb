{
 "cells": [
  {
   "cell_type": "markdown",
   "metadata": {},
   "source": [
    "![title](img/POTUS_tweet.png)\n",
    "\n",
    "# Nahid-1/Safir launch failure of August 29, 2019\n",
    "\n",
    "After the Nahid-1/Safir launch failure of August 29, 2019, Donald Trump released this overhead image of the launch site.\n",
    "\n",
    "![title](img/twitter_image.jpg)\n",
    "\n",
    "The launch site is [Imam Khomeini Spaceport](https://en.wikipedia.org/wiki/Imam_Khomeini_Spaceport), located at 35.238 deg North, 53.9508 deg East.\n",
    "\n",
    "The image shows four masts around a circular launch platform. From Google Earth, the North and South masts are located along a line which has an azimuth of around 192 degrees.\n",
    "\n",
    "![title](img/googleearth.png)\n",
    "\n",
    "The azimuth of the camera can be estimated from the angle between the towers. Under the assumption that the launch platform is indeed circular, the elevation of the camera can be estimated."
   ]
  },
  {
   "cell_type": "code",
   "execution_count": null,
   "metadata": {},
   "outputs": [],
   "source": [
    "import numpy as np\n",
    "import matplotlib.pyplot as plt\n",
    "import ephem\n",
    "import datetime\n",
    "import time"
   ]
  },
  {
   "cell_type": "code",
   "execution_count": null,
   "metadata": {},
   "outputs": [],
   "source": [
    "img = plt.imread(\"img/twitter_image.jpg\")"
   ]
  },
  {
   "cell_type": "code",
   "execution_count": null,
   "metadata": {},
   "outputs": [],
   "source": [
    "def create_ellipse(x0, y0, a, b):\n",
    "    phi = np.linspace(0.0, 2.0*np.pi)\n",
    "    x, y = a*np.cos(phi)+x0, b*np.sin(phi)+y0\n",
    "    return x, y"
   ]
  },
  {
   "cell_type": "markdown",
   "metadata": {},
   "source": [
    "The following values describe an ellipse whose outline matches one of the circles of the launch pad."
   ]
  },
  {
   "cell_type": "code",
   "execution_count": null,
   "metadata": {},
   "outputs": [],
   "source": [
    "x0, y0 = 680, 438\n",
    "a, b = 270.0, 195.0"
   ]
  },
  {
   "cell_type": "markdown",
   "metadata": {},
   "source": [
    "The following values define the location of the South tower, and the direction of the North tower and its shadow."
   ]
  },
  {
   "cell_type": "code",
   "execution_count": null,
   "metadata": {},
   "outputs": [],
   "source": [
    "x_south, y_south = 693, 674\n",
    "x_north_shadow = np.array([742, 705])\n",
    "y_north_shadow = np.array([74, 135])\n",
    "x_north_tower = np.array([662, 662])\n",
    "y_north_tower = np.array([4, 135])\n",
    "x_north, y_north = 662, 202"
   ]
  },
  {
   "cell_type": "code",
   "execution_count": null,
   "metadata": {},
   "outputs": [],
   "source": [
    "def linear_extrapolate(x, y, frac):\n",
    "    x0, y0 = x[0], y[0]\n",
    "    dx, dy = x[1]-x[0], y[1]-y[0]\n",
    "    return x0+frac*dx, y0+frac*dy"
   ]
  },
  {
   "cell_type": "code",
   "execution_count": null,
   "metadata": {},
   "outputs": [],
   "source": [
    "fig, ax = plt.subplots(figsize=(15, 10))\n",
    "\n",
    "# Plot the image\n",
    "ax.imshow(img, aspect=1)\n",
    "\n",
    "# Plot the ellipse that matches the launch platform\n",
    "x, y = create_ellipse(x0, y0, a, b)\n",
    "ax.plot(x, y, \"C1\")\n",
    "ax.plot(x0, y0, \"C1+\")\n",
    "\n",
    "# Location of the South tower\n",
    "ax.plot(x_south, y_south, \"C1o\")\n",
    "\n",
    "# Plot the shadow of the North tower and extrapolate\n",
    "ax.plot(x_north_shadow, y_north_shadow, \"C1o\")\n",
    "xp, yp = linear_extrapolate(x_north_shadow, y_north_shadow, np.array([0.0, 3.0]))\n",
    "ax.plot(xp, yp, \"C1\")\n",
    "\n",
    "# Plot the the North tower and extrapolate\n",
    "ax.plot(x_north_tower, y_north_tower, \"C1o\")\n",
    "xp, yp = linear_extrapolate(x_north_tower, y_north_tower, np.array([0.0, 2.0]))\n",
    "ax.plot(xp, yp, \"C1\")\n",
    "\n",
    "# Location of the North tower at the intersection\n",
    "ax.plot(x_north, y_north, \"C1o\")\n",
    "ax.set_title(\"Estimating camera viewpoint azimuth and elevation\")\n",
    "ax.set_xlabel(\"x (pixel)\")\n",
    "ax.set_xlabel(\"y (pixel)\")\n",
    "\n",
    "plt.tight_layout()\n",
    "plt.savefig(\"image_analysis.png\", bbox_inches=\"tight\")\n",
    "plt.show()"
   ]
  },
  {
   "cell_type": "markdown",
   "metadata": {},
   "source": [
    "Based on the positions of the North and South tower, we can determine the difference in azimuth of the towers and the viewing angle. This difference can be added to the 192 degrees determined from Google Earth to find the azimuth of the camera."
   ]
  },
  {
   "cell_type": "code",
   "execution_count": null,
   "metadata": {},
   "outputs": [],
   "source": [
    "azimuth_difference = np.arctan2(x_south-x_north, y_south-y_north)*180.0/np.pi\n",
    "azimuth = azimuth_difference + 192\n",
    "print(\"Azimuth difference between North and South towers: %.1f deg\" % azimuth_difference)\n",
    "print(\"Azimuth of camera: %.1f deg\" % azimuth)"
   ]
  },
  {
   "cell_type": "markdown",
   "metadata": {},
   "source": [
    "The elevation of the camera can be determined from the semi-major ($a$) and semi-minor ($b$) axes of the ellipse. The elevation $h$ is given by $\\sin h = b/a$."
   ]
  },
  {
   "cell_type": "code",
   "execution_count": null,
   "metadata": {},
   "outputs": [],
   "source": [
    "elevation = np.arcsin(b/a)*180.0/np.pi\n",
    "print(\"Elevation of camera: %.1f deg\" % elevation)"
   ]
  },
  {
   "cell_type": "markdown",
   "metadata": {},
   "source": [
    "The track of USA 224 can be computed from its orbital parameters, so called two-line elements (TLEs). As USA 224 is a classified satellite, its orbital elements are not published by Combined Space Operations Center (CSpOC). Instead, the TLEs for USA 224 are determined from measurements by amateur satellite trackers. Mike McCants determines and publishes the TLEs from amateur satellite trackers on [his website](https://www.prismnet.com/~mmccants/tles/index.html) through [this file](https://www.prismnet.com/~mmccants/tles/classfd.zip).\n",
    "\n",
    "The latest TLE of USA 224 is:\n",
    "\n",
    "`USA 224\n",
    "1 37348U 11002A   19239.00965638 0.00010600  00000-0  95384-4 0    03\n",
    "2 37348  97.9000 349.1166 0536016 134.6567 225.3431 14.78336728    04`\n",
    "\n",
    "As the observer we set the location of the Imam Khomeini Spaceport. "
   ]
  },
  {
   "cell_type": "code",
   "execution_count": null,
   "metadata": {},
   "outputs": [],
   "source": [
    "observer = ephem.Observer()\n",
    "observer.lon = \"53.9508\"\n",
    "observer.lat = \"35.238\"\n",
    "observer.elevation = 0"
   ]
  },
  {
   "cell_type": "markdown",
   "metadata": {},
   "source": [
    "We can now load the TLE and compute the satellite path accross the horizon between 09:00UTC and 10:00UTC on August 29, 2019."
   ]
  },
  {
   "cell_type": "code",
   "execution_count": null,
   "metadata": {},
   "outputs": [],
   "source": [
    "satellite = ephem.readtle(\"USA 224\", \n",
    "                          \"1 37348U 11002A   19239.00965638 0.00010600  00000-0  95384-4 0    03\",\n",
    "                          \"2 37348  97.9000 349.1166 0536016 134.6567 225.3431 14.78336728    04\")"
   ]
  },
  {
   "cell_type": "code",
   "execution_count": null,
   "metadata": {},
   "outputs": [],
   "source": [
    "tstart = datetime.datetime.strptime(\"2019-08-29T09:40:00\", \"%Y-%m-%dT%H:%M:%S\")"
   ]
  },
  {
   "cell_type": "code",
   "execution_count": null,
   "metadata": {},
   "outputs": [],
   "source": [
    "az = []\n",
    "el = []\n",
    "times = []\n",
    "dist = []\n",
    "for t in range(0, 600, 10):\n",
    "    observer.date = ephem.date(tstart+datetime.timedelta(seconds=t))\n",
    "    times.append((tstart+datetime.timedelta(seconds=t)).strftime(\"%H:%M:%S\"))\n",
    "\n",
    "    satellite.compute(observer)\n",
    "    az.append(float(satellite.az))\n",
    "    el.append(float(satellite.alt)*180.0/np.pi)\n",
    "    dist.append(float(satellite.range))\n",
    "        \n",
    "az = np.array(az)\n",
    "za = 90.0-np.array(el)\n",
    "dist = np.array(dist)"
   ]
  },
  {
   "cell_type": "code",
   "execution_count": null,
   "metadata": {},
   "outputs": [],
   "source": [
    "fig = plt.figure(figsize=(8, 8))\n",
    "ax = fig.add_subplot(111, projection='polar')\n",
    "ax.set_theta_offset(np.pi/2.0)\n",
    "#ax.set_theta_direction(-1)\n",
    "ax.plot(az, za)\n",
    "ax.plot(az, za, \"C0o\")\n",
    "ax.set_rticks([90, 60, 30, 0])\n",
    "ax.set_rgrids([90, 60, 30, 0], [\"\", \"30$^\\circ$\", \"60$^\\circ$\", \"\"])\n",
    "ax.plot(azimuth*np.pi/180.0, 90-elevation, \"o\")\n",
    "ax.text(azimuth*np.pi/180.0, 90-elevation, \"  Estimated camera direction\", color=\"C1\")\n",
    "for i in range(0, len(az), 3):\n",
    "    if za[i]<70.0:\n",
    "        ax.text(az[i], za[i], \"  %s\" % times[i], color=\"C0\")\n",
    "ax.grid(True)\n",
    "ax.bar(0, 90).remove()\n",
    "ax.set_rmax(90.0)\n",
    "ax.set_title(\"USA 224 pass over Imam Khomeini Spaceport on August 29, 2019\")\n",
    "\n",
    "plt.tight_layout()\n",
    "plt.savefig(\"usa224_pass.png\", bbox_inches=\"tight\")\n",
    "plt.show()"
   ]
  },
  {
   "cell_type": "code",
   "execution_count": null,
   "metadata": {},
   "outputs": [],
   "source": [
    "for i in range(len(times)):\n",
    "    if \"09:44:20\" in times[i]:\n",
    "        print(\"Distance at %s: %.1f km\" %(times[i], dist[i]/1000))"
   ]
  },
  {
   "cell_type": "markdown",
   "metadata": {},
   "source": [
    "USA 224 passed very close to the camera direction at 09:44:20UTC on August 29, 2019. At that time, USA 224 was at a distance of 382 km from the Imam Khomeini Spaceport."
   ]
  },
  {
   "cell_type": "markdown",
   "metadata": {},
   "source": [
    "- - -\n",
    "From [https://github.com/cbassa/satellite_analysis](0)\n",
    "- - -\n",
    "[0]: https://github.com/cbassa/satellite_analysis"
   ]
  }
 ],
 "metadata": {
  "kernelspec": {
   "display_name": "Python [conda env:pyintel]",
   "language": "python",
   "name": "conda-env-pyintel-py"
  },
  "language_info": {
   "codemirror_mode": {
    "name": "ipython",
    "version": 3
   },
   "file_extension": ".py",
   "mimetype": "text/x-python",
   "name": "python",
   "nbconvert_exporter": "python",
   "pygments_lexer": "ipython3",
   "version": "3.6.3"
  }
 },
 "nbformat": 4,
 "nbformat_minor": 2
}
