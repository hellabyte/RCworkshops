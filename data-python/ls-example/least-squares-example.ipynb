{
 "cells": [
  {
   "cell_type": "markdown",
   "metadata": {},
   "source": [
    "Least Squares Example\n",
    "===\n",
    "\n",
    "From solution of N.S. equations on domain $(x,z)\\in[-0.5,0.5]^2$\n",
    "\n",
    "$$ \\dfrac{\\partial \\textbf{u}}{\\partial t} + (\\textbf{u}\\cdot{\\bf\\nabla})\\textbf{u} = -\\nabla p + \\dfrac{1}{R_N}\\nabla^2 {\\textbf u} + \\sin(\\varphi\\sin\\omega t)T\\hat{e}_x+\\cos(\\varphi\\sin\\omega t)T\\hat{e}_z,$$\n",
    "$$ \\dfrac{\\partial T}{\\partial t} + \\textbf{u}\\cdot{\\bf\\nabla}T = \\dfrac{1}{Pr\\,R_N}\\nabla^2 T,$$\n",
    "$$ \\nabla\\cdot\\textbf{u}=0,$$\n",
    "\n",
    "with no-slip boundary conditions for the velocity (0 on all walls), no-flux boundary conditions for temperature on sidewalls, Dirichlet boundary conditions for temperature on endwalls (0.5 top wall, -0.5 bottom wall).\n",
    "\n",
    "First order linear theory provides eigenmode solutions for the vorticity on domain $(X,Z)\\in[0,\\pi]^2$: \n",
    "\n",
    "$$\\eta_{m:n}=A_\\eta \\sin(mX)\\sin(nZ)\\sin(\\sigma t),$$ \n",
    "\n",
    "where $\\sigma^2=m^2/(m^2+n^2)$. Note that $<\\eta_{m:n},\\eta_{k:\\ell}>=c_{m:n}\\delta_{mk}\\delta_{n\\ell}$ forms an orthogonal basis.\n",
    "\n",
    "Then we quantify (after removing viscous boundary layers) the scalar projection coefficient $C_{m:n}$ by projecting the Direct Numerical Simuation (DNS) vorticity's amplitude $A(\\eta)$ onto the space of $\\eta_{m:n}$:\n",
    "\n",
    "$$C_{m:n} = \\dfrac{\\langle A(\\eta),\\eta_{m:n}\\rangle}{\\|\\eta_{m:n}\\|^2},$$\n",
    "\n",
    "where \n",
    "\n",
    "$$A(\\eta) = \\max_{t\\in[0,\\tau)}|\\eta|.$$"
   ]
  },
  {
   "cell_type": "code",
   "execution_count": null,
   "metadata": {},
   "outputs": [],
   "source": [
    "%matplotlib inline\n",
    "from hellaPy import *\n",
    "from plt_style import *\n",
    "import cheb\n",
    "import qp\n",
    "from numpy import *\n",
    "from pylab import *"
   ]
  },
  {
   "cell_type": "code",
   "execution_count": null,
   "metadata": {},
   "outputs": [],
   "source": [
    "def qLS(field,cutoff_mode=100):\n",
    "    M,N = [ k-1 for k in field.shape ]\n",
    "    Dx,x= cheb.cheb(M)\n",
    "    Dz,z= cheb.cheb(N)\n",
    "    wx  = cheb.clenshaw_curtis_quad(M)\n",
    "    wz  = cheb.clenshaw_curtis_quad(N)\n",
    "    x,z,wx,wz = x/2,z/2,wx/2,wz/2\n",
    "    bl  = qp.get_blayer_thickness(field)\n",
    "    mx  = max(bl['mhalfx'],bl['mhalfz'])\n",
    "    clip= abs(x-(x[0]-mx)).argmin()\n",
    "    print(clip,mx)\n",
    "    X,Z = meshgrid((x+0.5)*pi,(z+0.5)*pi,indexing='ij')\n",
    "    C   = zeros((cutoff_mode,cutoff_mode))\n",
    "    for m in range(1,cutoff_mode):\n",
    "        for n in range(1,cutoff_mode):\n",
    "            C[m,n] = LS(field,X,Z,wx,wz,m,n,clip=clip)\n",
    "    return C\n",
    "\n",
    "def Th(X,Z,m,n):\n",
    "    return sin(m*X)*sin(n*Z)\n",
    "\n",
    "def LS(field,X,Z,wx,wz,m,n,clip=40):\n",
    "    f = field[clip:-clip,clip:-clip]\n",
    "    q = Th(X,Z,m,n)[clip:-clip,clip:-clip]\n",
    "    Wx= wx[clip:-clip]\n",
    "    Wz= wz[clip:-clip]\n",
    "    qn= Wx@(f*q)@Wz\n",
    "    qd= Wx@(q*q)@Wz\n",
    "    return qn/qd"
   ]
  },
  {
   "cell_type": "code",
   "execution_count": null,
   "metadata": {},
   "outputs": [],
   "source": [
    "mkl_set_num_threads(2)\n",
    "# Structure of Dict:\n",
    "#   Rn : (Rn,frequency,eta_amplitude)\n",
    "Q = load('m1n1_eta_amplitude.pykl',allow_pickle=True).item()"
   ]
  },
  {
   "cell_type": "code",
   "execution_count": null,
   "metadata": {},
   "outputs": [],
   "source": [
    "Q"
   ]
  },
  {
   "cell_type": "code",
   "execution_count": null,
   "metadata": {},
   "outputs": [],
   "source": [
    "C = { Rn : qLS(Q[Rn][-1]) for Rn in Q.keys() }"
   ]
  },
  {
   "cell_type": "code",
   "execution_count": null,
   "metadata": {},
   "outputs": [],
   "source": [
    "D = { Rn : diag(C[Rn])[1::2] for Rn in C.keys() }"
   ]
  },
  {
   "cell_type": "code",
   "execution_count": null,
   "metadata": {},
   "outputs": [],
   "source": [
    "Rn_labels = { Rn : '$10^{'+Rn.split('e')[-1]+'}$' for Rn in D.keys() }"
   ]
  },
  {
   "cell_type": "code",
   "execution_count": null,
   "metadata": {},
   "outputs": [],
   "source": [
    "figure(1,figsize=(10,10))\n",
    "imshow(log10(around(abs(C['1e7']),5)+1e-16),cmap=myKWh)"
   ]
  },
  {
   "cell_type": "code",
   "execution_count": null,
   "metadata": {},
   "outputs": [],
   "source": [
    "figure(2,figsize=(10,10))\n",
    "for Rn in D.keys():\n",
    "  c = D[Rn]\n",
    "  loglog(arange(len(c))*2+1,abs(c),'o-',label=Rn_labels[Rn])\n",
    "legend()\n",
    "xlabel(r'$m$',color='w')\n",
    "ylabel(r'$\\dfrac{\\langle A(\\eta),\\eta_{m:m}\\rangle}{\\|\\eta_{m:m}\\|^2}$',color='w')\n",
    "s = sqrt(10)\n",
    "loglog(r_[   1,  10],r_[1e-2,1e-4],'-',lw=3,c='#cccccc77')\n",
    "loglog(r_[  10,s*10],r_[1e-4,5e-6],'-',lw=3,c='#00777777')\n",
    "loglog(r_[s*10, 100],r_[5e-6,5e-8],'-',lw=3,c='#77007777')\n",
    "annotate(r'$\\Delta=-2$',xy=( 3,2.0e-3),fontsize=18,rotation=-28)\n",
    "annotate(r'$\\Delta=-3$',xy=(15,5.0e-5),fontsize=18,rotation=-32)\n",
    "annotate(r'$\\Delta=-4$',xy=(50,1.5e-6),fontsize=18,rotation=-45)\n",
    "yticks(10.**arange(-10,-1))\n",
    "xlim(1,100)\n",
    "ylim(1e-10,1e-2)"
   ]
  },
  {
   "cell_type": "code",
   "execution_count": null,
   "metadata": {},
   "outputs": [],
   "source": []
  }
 ],
 "metadata": {
  "kernelspec": {
   "display_name": "Python [conda env:.conda-pyintel]",
   "language": "python",
   "name": "conda-env-.conda-pyintel-py"
  },
  "language_info": {
   "codemirror_mode": {
    "name": "ipython",
    "version": 3
   },
   "file_extension": ".py",
   "mimetype": "text/x-python",
   "name": "python",
   "nbconvert_exporter": "python",
   "pygments_lexer": "ipython3",
   "version": "3.6.3"
  }
 },
 "nbformat": 4,
 "nbformat_minor": 4
}
