{
 "cells": [
  {
   "cell_type": "markdown",
   "metadata": {},
   "source": [
    "Wiener Process with drift $\\mu$ and variance $\\sigma^2$\n",
    "===\n",
    "This directory demonstrates the post-processing visualization of 100 \n",
    "plain text data files. Each file has four columns: the first column \n",
    "is time and the remaining three are one-dimensional Brownian walks \n",
    "with the same mean $\\mu$ and variance $\\sigma^2$. \n",
    "$$\\Large X_t = \\mu t + \\sigma W_t, \\qquad X_0=0$$\n",
    "\n",
    "<p style=\"align:center;\">\n",
    "<img src=\"assets/Brownian_motion_large.gif\" style=\"display: block;  margin-left: auto;  margin-right: auto;  width: 30%;\">\n",
    "</p>\n",
    "Below are the first ten lines of one of the data files."
   ]
  },
  {
   "cell_type": "code",
   "execution_count": 3,
   "metadata": {},
   "outputs": [
    {
     "name": "stdout",
     "output_type": "stream",
     "text": [
      "+0.0000000e+00 +1.6121901e-02 -2.1556124e-02 -4.2334954e-03\n",
      "+1.0000000e-03 -3.0940717e-02 -3.9804579e-02 +5.8573106e-02\n",
      "+2.0000000e-03 -2.0012240e-02 -1.2321402e-02 +2.4045456e-02\n",
      "+3.0000000e-03 +2.4907717e-02 -6.7733886e-03 -4.0442243e-03\n",
      "+4.0000000e-03 -8.5340498e-03 -1.7385692e-02 +9.6295301e-03\n",
      "+5.0000000e-03 -4.0650831e-03 -3.4583822e-02 +3.1814011e-02\n",
      "+6.0000000e-03 +1.8266772e-02 -1.1361694e-01 -3.2969411e-02\n",
      "+7.0000000e-03 +3.0136372e-02 -6.1630401e-02 -3.3209350e-02\n",
      "+8.0000000e-03 +3.7707978e-02 -2.7269198e-02 -5.2485328e-02\n",
      "+9.0000000e-03 +6.9623241e-03 -2.4135298e-02 +9.8349939e-03\n"
     ]
    }
   ],
   "source": [
    "!head dat/mu0_sigma10_wiener.txt"
   ]
  },
  {
   "cell_type": "markdown",
   "metadata": {},
   "source": [
    "We could have also used Python to do this, rather than the shell:"
   ]
  },
  {
   "cell_type": "code",
   "execution_count": 5,
   "metadata": {},
   "outputs": [
    {
     "data": {
      "text/html": [
       "<div>\n",
       "<style scoped>\n",
       "    .dataframe tbody tr th:only-of-type {\n",
       "        vertical-align: middle;\n",
       "    }\n",
       "\n",
       "    .dataframe tbody tr th {\n",
       "        vertical-align: top;\n",
       "    }\n",
       "\n",
       "    .dataframe thead th {\n",
       "        text-align: right;\n",
       "    }\n",
       "</style>\n",
       "<table border=\"1\" class=\"dataframe\">\n",
       "  <thead>\n",
       "    <tr style=\"text-align: right;\">\n",
       "      <th></th>\n",
       "      <th>time</th>\n",
       "      <th>sample0</th>\n",
       "      <th>sample1</th>\n",
       "      <th>sample2</th>\n",
       "    </tr>\n",
       "  </thead>\n",
       "  <tbody>\n",
       "    <tr>\n",
       "      <th>0</th>\n",
       "      <td>0.000</td>\n",
       "      <td>0.016122</td>\n",
       "      <td>-0.021556</td>\n",
       "      <td>-0.004233</td>\n",
       "    </tr>\n",
       "    <tr>\n",
       "      <th>1</th>\n",
       "      <td>0.001</td>\n",
       "      <td>-0.030941</td>\n",
       "      <td>-0.039805</td>\n",
       "      <td>0.058573</td>\n",
       "    </tr>\n",
       "    <tr>\n",
       "      <th>2</th>\n",
       "      <td>0.002</td>\n",
       "      <td>-0.020012</td>\n",
       "      <td>-0.012321</td>\n",
       "      <td>0.024045</td>\n",
       "    </tr>\n",
       "    <tr>\n",
       "      <th>3</th>\n",
       "      <td>0.003</td>\n",
       "      <td>0.024908</td>\n",
       "      <td>-0.006773</td>\n",
       "      <td>-0.004044</td>\n",
       "    </tr>\n",
       "    <tr>\n",
       "      <th>4</th>\n",
       "      <td>0.004</td>\n",
       "      <td>-0.008534</td>\n",
       "      <td>-0.017386</td>\n",
       "      <td>0.009630</td>\n",
       "    </tr>\n",
       "    <tr>\n",
       "      <th>5</th>\n",
       "      <td>0.005</td>\n",
       "      <td>-0.004065</td>\n",
       "      <td>-0.034584</td>\n",
       "      <td>0.031814</td>\n",
       "    </tr>\n",
       "    <tr>\n",
       "      <th>6</th>\n",
       "      <td>0.006</td>\n",
       "      <td>0.018267</td>\n",
       "      <td>-0.113617</td>\n",
       "      <td>-0.032969</td>\n",
       "    </tr>\n",
       "    <tr>\n",
       "      <th>7</th>\n",
       "      <td>0.007</td>\n",
       "      <td>0.030136</td>\n",
       "      <td>-0.061630</td>\n",
       "      <td>-0.033209</td>\n",
       "    </tr>\n",
       "    <tr>\n",
       "      <th>8</th>\n",
       "      <td>0.008</td>\n",
       "      <td>0.037708</td>\n",
       "      <td>-0.027269</td>\n",
       "      <td>-0.052485</td>\n",
       "    </tr>\n",
       "    <tr>\n",
       "      <th>9</th>\n",
       "      <td>0.009</td>\n",
       "      <td>0.006962</td>\n",
       "      <td>-0.024135</td>\n",
       "      <td>0.009835</td>\n",
       "    </tr>\n",
       "  </tbody>\n",
       "</table>\n",
       "</div>"
      ],
      "text/plain": [
       "    time   sample0   sample1   sample2\n",
       "0  0.000  0.016122 -0.021556 -0.004233\n",
       "1  0.001 -0.030941 -0.039805  0.058573\n",
       "2  0.002 -0.020012 -0.012321  0.024045\n",
       "3  0.003  0.024908 -0.006773 -0.004044\n",
       "4  0.004 -0.008534 -0.017386  0.009630\n",
       "5  0.005 -0.004065 -0.034584  0.031814\n",
       "6  0.006  0.018267 -0.113617 -0.032969\n",
       "7  0.007  0.030136 -0.061630 -0.033209\n",
       "8  0.008  0.037708 -0.027269 -0.052485\n",
       "9  0.009  0.006962 -0.024135  0.009835"
      ]
     },
     "execution_count": 5,
     "metadata": {},
     "output_type": "execute_result"
    }
   ],
   "source": [
    "import pandas as pd\n",
    "df = pd.read_csv(\n",
    "  'dat/mu0_sigma10_wiener.txt',\n",
    "  delim_whitespace=True,\n",
    "  names=[\n",
    "    'time',    # the first column is time\n",
    "    'sample0', # the next three are random samples\n",
    "    'sample1',\n",
    "    'sample2'\n",
    "  ]\n",
    ")\n",
    "df.head(10)"
   ]
  },
  {
   "cell_type": "markdown",
   "metadata": {},
   "source": [
    "With the data loaded into a Pandas DataFrame object, we gain powerful tools for post-processing, like summary statistics and plotting."
   ]
  },
  {
   "cell_type": "code",
   "execution_count": 13,
   "metadata": {},
   "outputs": [
    {
     "data": {
      "text/html": [
       "<div>\n",
       "<style scoped>\n",
       "    .dataframe tbody tr th:only-of-type {\n",
       "        vertical-align: middle;\n",
       "    }\n",
       "\n",
       "    .dataframe tbody tr th {\n",
       "        vertical-align: top;\n",
       "    }\n",
       "\n",
       "    .dataframe thead th {\n",
       "        text-align: right;\n",
       "    }\n",
       "</style>\n",
       "<table border=\"1\" class=\"dataframe\">\n",
       "  <thead>\n",
       "    <tr style=\"text-align: right;\">\n",
       "      <th></th>\n",
       "      <th>time</th>\n",
       "      <th>sample0</th>\n",
       "      <th>sample1</th>\n",
       "      <th>sample2</th>\n",
       "    </tr>\n",
       "  </thead>\n",
       "  <tbody>\n",
       "    <tr>\n",
       "      <th>count</th>\n",
       "      <td>1001.000000</td>\n",
       "      <td>1001.000000</td>\n",
       "      <td>1001.000000</td>\n",
       "      <td>1001.000000</td>\n",
       "    </tr>\n",
       "    <tr>\n",
       "      <th>mean</th>\n",
       "      <td>0.500000</td>\n",
       "      <td>-0.617580</td>\n",
       "      <td>-0.575953</td>\n",
       "      <td>0.730717</td>\n",
       "    </tr>\n",
       "    <tr>\n",
       "      <th>std</th>\n",
       "      <td>0.289108</td>\n",
       "      <td>0.332713</td>\n",
       "      <td>0.337517</td>\n",
       "      <td>0.455193</td>\n",
       "    </tr>\n",
       "    <tr>\n",
       "      <th>min</th>\n",
       "      <td>0.000000</td>\n",
       "      <td>-1.193917</td>\n",
       "      <td>-1.186552</td>\n",
       "      <td>-0.372083</td>\n",
       "    </tr>\n",
       "    <tr>\n",
       "      <th>25%</th>\n",
       "      <td>0.250000</td>\n",
       "      <td>-0.844595</td>\n",
       "      <td>-0.870286</td>\n",
       "      <td>0.421743</td>\n",
       "    </tr>\n",
       "    <tr>\n",
       "      <th>50%</th>\n",
       "      <td>0.500000</td>\n",
       "      <td>-0.691347</td>\n",
       "      <td>-0.580127</td>\n",
       "      <td>0.757623</td>\n",
       "    </tr>\n",
       "    <tr>\n",
       "      <th>75%</th>\n",
       "      <td>0.750000</td>\n",
       "      <td>-0.544848</td>\n",
       "      <td>-0.270580</td>\n",
       "      <td>1.076842</td>\n",
       "    </tr>\n",
       "    <tr>\n",
       "      <th>max</th>\n",
       "      <td>1.000000</td>\n",
       "      <td>0.329773</td>\n",
       "      <td>0.067140</td>\n",
       "      <td>1.549698</td>\n",
       "    </tr>\n",
       "  </tbody>\n",
       "</table>\n",
       "</div>"
      ],
      "text/plain": [
       "              time      sample0      sample1      sample2\n",
       "count  1001.000000  1001.000000  1001.000000  1001.000000\n",
       "mean      0.500000    -0.617580    -0.575953     0.730717\n",
       "std       0.289108     0.332713     0.337517     0.455193\n",
       "min       0.000000    -1.193917    -1.186552    -0.372083\n",
       "25%       0.250000    -0.844595    -0.870286     0.421743\n",
       "50%       0.500000    -0.691347    -0.580127     0.757623\n",
       "75%       0.750000    -0.544848    -0.270580     1.076842\n",
       "max       1.000000     0.329773     0.067140     1.549698"
      ]
     },
     "execution_count": 13,
     "metadata": {},
     "output_type": "execute_result"
    }
   ],
   "source": [
    "df.describe()"
   ]
  },
  {
   "cell_type": "code",
   "execution_count": 14,
   "metadata": {},
   "outputs": [
    {
     "data": {
      "text/plain": [
       "(0.0, 1.0)"
      ]
     },
     "execution_count": 14,
     "metadata": {},
     "output_type": "execute_result"
    },
    {
     "data": {
      "image/png": "[encoded data removed]",
      "text/plain": [
       "<Figure size 720x432 with 1 Axes>"
      ]
     },
     "metadata": {
      "needs_background": "light"
     },
     "output_type": "display_data"
    }
   ],
   "source": [
    "import pylab as plt\n",
    "plt.figure(figsize=(10,6))\n",
    "plt.plot(df.time,df.sample0,'k-',label='sample0')\n",
    "plt.plot(df.time,df.sample1,'b-',label='sample1')\n",
    "plt.plot(df.time,df.sample2,'r-',label='sample2')\n",
    "plt.xticks(fontsize=16)\n",
    "plt.yticks(fontsize=16)\n",
    "plt.tick_params(direction='in',which='both')\n",
    "plt.xlabel('time',fontsize=18)\n",
    "plt.ylabel('Motion',fontsize=18)\n",
    "plt.xlim(0,1)"
   ]
  },
  {
   "cell_type": "markdown",
   "metadata": {},
   "source": [
    "But how do we do this for all 100 files? \n",
    "\n",
    "On the supercomputer, one of the best ways to process similar data is to leverage the **scheduler** and **job arrays**.\n",
    "\n",
    "The provided script, `sbatch-plot-case.bash`, will generate figures for data files that are read from a \"manifest\" file. Below are the contents of the script:"
   ]
  },
  {
   "cell_type": "code",
   "execution_count": 15,
   "metadata": {},
   "outputs": [
    {
     "name": "stdout",
     "output_type": "stream",
     "text": [
      "     1\t#!/bin/bash\n",
      "     2\t#SBATCH --partition=general   # Where to request nodes\n",
      "     3\t#SBATCH --qos=public          # Quality of Service\n",
      "     4\t#SBATCH -c 1                  # single core\n",
      "     5\t#SBATCH -t 2                  # Two minutes allocation time\n",
      "     6\t#SBATCH -o log/s.%A.%a.%j.out # SLURM output log\n",
      "     7\t\n",
      "     8\treadonly manifest=${1:?ERROR -- manifest file was not passed}\n",
      "     9\treadonly   taskid=$SLURM_ARRAY_TASK_ID\n",
      "    10\treadonly datafile=$(getline $taskid $manifest)\n",
      "    11\t\n",
      "    12\tmodule load mamba/latest\n",
      "    13\tsource activate scicomp\n",
      "    14\t\n",
      "    15\tpython plot-case.py \"$datafile\"\n",
      "    16\t#convert -delay 1 fig/*.png out.gif\n"
     ]
    }
   ],
   "source": [
    "!cat -n sbatch-plot-case.bash"
   ]
  },
  {
   "cell_type": "markdown",
   "metadata": {},
   "source": [
    "We need to pass a \"manifest\" file as input to the scheduler script. This just is a static record of all data files that are essentially mapped to an integer. We're in effect, creating an enumerated list, or array, of our data files."
   ]
  },
  {
   "cell_type": "code",
   "execution_count": 17,
   "metadata": {},
   "outputs": [
    {
     "name": "stdout",
     "output_type": "stream",
     "text": [
      "     1\tdat/mu0_sigma1_wiener.txt\n",
      "     2\tdat/mu0_sigma2_wiener.txt\n",
      "     3\tdat/mu0_sigma3_wiener.txt\n",
      "     4\tdat/mu0_sigma4_wiener.txt\n",
      "     5\tdat/mu0_sigma5_wiener.txt\n",
      "     6\tdat/mu0_sigma6_wiener.txt\n",
      "     7\tdat/mu0_sigma7_wiener.txt\n",
      "     8\tdat/mu0_sigma8_wiener.txt\n",
      "     9\tdat/mu0_sigma9_wiener.txt\n",
      "    10\tdat/mu0_sigma10_wiener.txt\n"
     ]
    }
   ],
   "source": [
    "!head manifest | cat -n"
   ]
  },
  {
   "cell_type": "markdown",
   "metadata": {},
   "source": [
    "Thus, running the following will generate an array of 100 tasks that are numbered sequentially 1 through 100, that allow our script to grab the data file at the line corresponding to the task."
   ]
  },
  {
   "cell_type": "code",
   "execution_count": 19,
   "metadata": {},
   "outputs": [
    {
     "name": "stdout",
     "output_type": "stream",
     "text": [
      "Submitted batch job 3911\n"
     ]
    }
   ],
   "source": [
    "!sbatch -a 1-100 sbatch-plot-case.bash manifest"
   ]
  },
  {
   "cell_type": "code",
   "execution_count": 20,
   "metadata": {},
   "outputs": [
    {
     "name": "stdout",
     "output_type": "stream",
     "text": [
      "   JOBID  PRIORITY   PARTITION/QOS  NAME                     STATE  TIME  TIME_LIMIT  Node/Core/GPU  NODELIST(REASON)\n",
      "  3912_1     76655  general/public  sbatch-plot-case.bash  RUNNING  0:09        2:00  1/1/NA         d002\n",
      "  3913_2     76655  general/public  sbatch-plot-case.bash  RUNNING  0:09        2:00  1/1/NA         d002\n",
      "  3914_3     76655  general/public  sbatch-plot-case.bash  RUNNING  0:09        2:00  1/1/NA         d002\n",
      "  3915_4     76655  general/public  sbatch-plot-case.bash  RUNNING  0:09        2:00  1/1/NA         d002\n",
      "  3916_5     76655  general/public  sbatch-plot-case.bash  RUNNING  0:09        2:00  1/1/NA         d002\n",
      "  3917_6     76655  general/public  sbatch-plot-case.bash  RUNNING  0:09        2:00  1/1/NA         d002\n",
      "  3918_7     76655  general/public  sbatch-plot-case.bash  RUNNING  0:09        2:00  1/1/NA         d002\n",
      "  3919_8     76655  general/public  sbatch-plot-case.bash  RUNNING  0:09        2:00  1/1/NA         d002\n",
      "  3920_9     76655  general/public  sbatch-plot-case.bash  RUNNING  0:09        2:00  1/1/NA         d002\n",
      " 3921_10     76655  general/public  sbatch-plot-case.bash  RUNNING  0:09        2:00  1/1/NA         d002\n",
      " 3922_11     76655  general/public  sbatch-plot-case.bash  RUNNING  0:09        2:00  1/1/NA         d002\n",
      " 3923_12     76655  general/public  sbatch-plot-case.bash  RUNNING  0:09        2:00  1/1/NA         d002\n",
      " 3924_13     76655  general/public  sbatch-plot-case.bash  RUNNING  0:09        2:00  1/1/NA         d002\n",
      " 3925_14     76655  general/public  sbatch-plot-case.bash  RUNNING  0:09        2:00  1/1/NA         d002\n",
      " 3926_15     76655  general/public  sbatch-plot-case.bash  RUNNING  0:09        2:00  1/1/NA         d002\n",
      " 3927_16     76655  general/public  sbatch-plot-case.bash  RUNNING  0:09        2:00  1/1/NA         d002\n",
      " 3928_17     76655  general/public  sbatch-plot-case.bash  RUNNING  0:09        2:00  1/1/NA         d002\n",
      " 3929_18     76655  general/public  sbatch-plot-case.bash  RUNNING  0:09        2:00  1/1/NA         d002\n",
      " 3930_19     76655  general/public  sbatch-plot-case.bash  RUNNING  0:09        2:00  1/1/NA         d002\n",
      " 3931_20     76655  general/public  sbatch-plot-case.bash  RUNNING  0:09        2:00  1/1/NA         d002\n",
      " 3932_21     76655  general/public  sbatch-plot-case.bash  RUNNING  0:09        2:00  1/1/NA         d002\n",
      " 3933_22     76655  general/public  sbatch-plot-case.bash  RUNNING  0:09        2:00  1/1/NA         d002\n",
      " 3934_23     76655  general/public  sbatch-plot-case.bash  RUNNING  0:09        2:00  1/1/NA         d002\n",
      " 3935_24     76655  general/public  sbatch-plot-case.bash  RUNNING  0:09        2:00  1/1/NA         d002\n",
      " 3936_25     76655  general/public  sbatch-plot-case.bash  RUNNING  0:09        2:00  1/1/NA         d002\n",
      " 3937_26     76655  general/public  sbatch-plot-case.bash  RUNNING  0:09        2:00  1/1/NA         d002\n",
      " 3938_27     76655  general/public  sbatch-plot-case.bash  RUNNING  0:09        2:00  1/1/NA         d002\n",
      " 3939_28     76655  general/public  sbatch-plot-case.bash  RUNNING  0:09        2:00  1/1/NA         d002\n",
      " 3940_29     76655  general/public  sbatch-plot-case.bash  RUNNING  0:09        2:00  1/1/NA         d002\n",
      " 3941_30     76655  general/public  sbatch-plot-case.bash  RUNNING  0:09        2:00  1/1/NA         d002\n",
      " 3942_31     76655  general/public  sbatch-plot-case.bash  RUNNING  0:09        2:00  1/1/NA         d002\n",
      " 3943_32     76655  general/public  sbatch-plot-case.bash  RUNNING  0:09        2:00  1/1/NA         d002\n",
      " 3944_33     76655  general/public  sbatch-plot-case.bash  RUNNING  0:09        2:00  1/1/NA         d002\n",
      " 3945_34     76655  general/public  sbatch-plot-case.bash  RUNNING  0:09        2:00  1/1/NA         d002\n",
      " 3946_35     76655  general/public  sbatch-plot-case.bash  RUNNING  0:09        2:00  1/1/NA         d002\n",
      " 3947_36     76655  general/public  sbatch-plot-case.bash  RUNNING  0:09        2:00  1/1/NA         d002\n",
      " 3948_37     76655  general/public  sbatch-plot-case.bash  RUNNING  0:09        2:00  1/1/NA         d002\n",
      " 3949_38     76655  general/public  sbatch-plot-case.bash  RUNNING  0:09        2:00  1/1/NA         d002\n",
      " 3950_39     76655  general/public  sbatch-plot-case.bash  RUNNING  0:09        2:00  1/1/NA         d002\n",
      " 3951_40     76655  general/public  sbatch-plot-case.bash  RUNNING  0:09        2:00  1/1/NA         d002\n",
      " 3952_41     76655  general/public  sbatch-plot-case.bash  RUNNING  0:09        2:00  1/1/NA         d002\n",
      " 3953_42     76655  general/public  sbatch-plot-case.bash  RUNNING  0:09        2:00  1/1/NA         d002\n",
      " 3954_43     76655  general/public  sbatch-plot-case.bash  RUNNING  0:09        2:00  1/1/NA         d002\n",
      " 3955_44     76655  general/public  sbatch-plot-case.bash  RUNNING  0:09        2:00  1/1/NA         d002\n",
      " 3956_45     76655  general/public  sbatch-plot-case.bash  RUNNING  0:09        2:00  1/1/NA         d002\n",
      " 3957_46     76655  general/public  sbatch-plot-case.bash  RUNNING  0:09        2:00  1/1/NA         d002\n",
      " 3958_47     76655  general/public  sbatch-plot-case.bash  RUNNING  0:09        2:00  1/1/NA         d002\n",
      " 3959_48     76655  general/public  sbatch-plot-case.bash  RUNNING  0:09        2:00  1/1/NA         d002\n",
      " 3960_49     76655  general/public  sbatch-plot-case.bash  RUNNING  0:09        2:00  1/1/NA         d002\n",
      " 3961_50     76655  general/public  sbatch-plot-case.bash  RUNNING  0:09        2:00  1/1/NA         d002\n",
      " 3962_51     76655  general/public  sbatch-plot-case.bash  RUNNING  0:09        2:00  1/1/NA         d002\n",
      " 3963_52     76655  general/public  sbatch-plot-case.bash  RUNNING  0:09        2:00  1/1/NA         d002\n",
      " 3964_53     76655  general/public  sbatch-plot-case.bash  RUNNING  0:09        2:00  1/1/NA         d002\n",
      " 3965_54     76655  general/public  sbatch-plot-case.bash  RUNNING  0:09        2:00  1/1/NA         d002\n",
      " 3966_55     76655  general/public  sbatch-plot-case.bash  RUNNING  0:09        2:00  1/1/NA         d002\n",
      " 3967_56     76655  general/public  sbatch-plot-case.bash  RUNNING  0:09        2:00  1/1/NA         d002\n",
      " 3968_57     76655  general/public  sbatch-plot-case.bash  RUNNING  0:09        2:00  1/1/NA         d002\n",
      " 3969_58     76655  general/public  sbatch-plot-case.bash  RUNNING  0:09        2:00  1/1/NA         d002\n",
      " 3970_59     76655  general/public  sbatch-plot-case.bash  RUNNING  0:09        2:00  1/1/NA         d002\n",
      " 3971_60     76655  general/public  sbatch-plot-case.bash  RUNNING  0:09        2:00  1/1/NA         d002\n",
      " 3972_61     76655  general/public  sbatch-plot-case.bash  RUNNING  0:09        2:00  1/1/NA         d002\n",
      " 3973_62     76655  general/public  sbatch-plot-case.bash  RUNNING  0:09        2:00  1/1/NA         d002\n",
      " 3974_63     76655  general/public  sbatch-plot-case.bash  RUNNING  0:09        2:00  1/1/NA         d002\n",
      " 3975_64     76655  general/public  sbatch-plot-case.bash  RUNNING  0:09        2:00  1/1/NA         d002\n",
      " 3976_65     76655  general/public  sbatch-plot-case.bash  RUNNING  0:09        2:00  1/1/NA         d002\n",
      " 3977_66     76655  general/public  sbatch-plot-case.bash  RUNNING  0:09        2:00  1/1/NA         d002\n",
      " 3978_67     76655  general/public  sbatch-plot-case.bash  RUNNING  0:09        2:00  1/1/NA         d002\n",
      " 3979_68     76655  general/public  sbatch-plot-case.bash  RUNNING  0:09        2:00  1/1/NA         d002\n",
      " 3980_69     76655  general/public  sbatch-plot-case.bash  RUNNING  0:09        2:00  1/1/NA         d002\n",
      " 3981_70     76655  general/public  sbatch-plot-case.bash  RUNNING  0:09        2:00  1/1/NA         d002\n",
      " 3982_71     76655  general/public  sbatch-plot-case.bash  RUNNING  0:09        2:00  1/1/NA         d002\n",
      " 3983_72     76655  general/public  sbatch-plot-case.bash  RUNNING  0:09        2:00  1/1/NA         d002\n",
      " 3984_73     76655  general/public  sbatch-plot-case.bash  RUNNING  0:09        2:00  1/1/NA         d002\n",
      " 3985_74     76655  general/public  sbatch-plot-case.bash  RUNNING  0:09        2:00  1/1/NA         d002\n",
      " 3986_75     76655  general/public  sbatch-plot-case.bash  RUNNING  0:09        2:00  1/1/NA         d002\n",
      " 3987_76     76655  general/public  sbatch-plot-case.bash  RUNNING  0:09        2:00  1/1/NA         d002\n",
      " 3988_77     76655  general/public  sbatch-plot-case.bash  RUNNING  0:09        2:00  1/1/NA         d002\n",
      " 3989_78     76655  general/public  sbatch-plot-case.bash  RUNNING  0:09        2:00  1/1/NA         d002\n",
      " 3990_79     76655  general/public  sbatch-plot-case.bash  RUNNING  0:09        2:00  1/1/NA         d002\n",
      " 3991_80     76655  general/public  sbatch-plot-case.bash  RUNNING  0:09        2:00  1/1/NA         d002\n",
      " 3992_81     76655  general/public  sbatch-plot-case.bash  RUNNING  0:09        2:00  1/1/NA         d002\n",
      " 3993_82     76655  general/public  sbatch-plot-case.bash  RUNNING  0:09        2:00  1/1/NA         d002\n",
      " 3994_83     76655  general/public  sbatch-plot-case.bash  RUNNING  0:09        2:00  1/1/NA         d002\n",
      " 3995_84     76655  general/public  sbatch-plot-case.bash  RUNNING  0:09        2:00  1/1/NA         d002\n",
      " 3996_85     76655  general/public  sbatch-plot-case.bash  RUNNING  0:09        2:00  1/1/NA         d002\n",
      " 3997_86     76655  general/public  sbatch-plot-case.bash  RUNNING  0:09        2:00  1/1/NA         d002\n",
      " 3998_87     76655  general/public  sbatch-plot-case.bash  RUNNING  0:09        2:00  1/1/NA         d002\n",
      " 3999_88     76655  general/public  sbatch-plot-case.bash  RUNNING  0:09        2:00  1/1/NA         d002\n",
      " 4000_89     76655  general/public  sbatch-plot-case.bash  RUNNING  0:09        2:00  1/1/NA         d002\n",
      " 4001_90     76655  general/public  sbatch-plot-case.bash  RUNNING  0:09        2:00  1/1/NA         d002\n",
      " 4002_91     76655  general/public  sbatch-plot-case.bash  RUNNING  0:09        2:00  1/1/NA         d002\n",
      " 4003_92     76655  general/public  sbatch-plot-case.bash  RUNNING  0:09        2:00  1/1/NA         d002\n",
      " 4004_93     76655  general/public  sbatch-plot-case.bash  RUNNING  0:09        2:00  1/1/NA         d002\n",
      " 4005_94     76655  general/public  sbatch-plot-case.bash  RUNNING  0:09        2:00  1/1/NA         d002\n",
      " 4006_95     76655  general/public  sbatch-plot-case.bash  RUNNING  0:09        2:00  1/1/NA         d002\n",
      " 4007_96     76655  general/public  sbatch-plot-case.bash  RUNNING  0:09        2:00  1/1/NA         d002\n",
      " 4008_97     76655  general/public  sbatch-plot-case.bash  RUNNING  0:09        2:00  1/1/NA         d002\n",
      " 4009_98     76655  general/public  sbatch-plot-case.bash  RUNNING  0:09        2:00  1/1/NA         d002\n",
      " 4010_99     76655  general/public  sbatch-plot-case.bash  RUNNING  0:09        2:00  1/1/NA         d002\n",
      "3911_100     76655  general/public  sbatch-plot-case.bash  RUNNING  0:09        2:00  1/1/NA         d002\n"
     ]
    }
   ],
   "source": [
    "!myjobs"
   ]
  },
  {
   "cell_type": "code",
   "execution_count": 25,
   "metadata": {},
   "outputs": [
    {
     "name": "stdout",
     "output_type": "stream",
     "text": [
      "JOBID  PRIORITY  PARTITION/QOS  NAME  STATE  TIME  TIME_LIMIT  Node/Core/GPU  NODELIST(REASON)\n"
     ]
    }
   ],
   "source": [
    "!myjobs"
   ]
  },
  {
   "cell_type": "markdown",
   "metadata": {},
   "source": [
    "![img](fig/out_mu0_sigma10_wiener.png)"
   ]
  },
  {
   "cell_type": "code",
   "execution_count": 27,
   "metadata": {},
   "outputs": [],
   "source": [
    "!bash mkgif.sh"
   ]
  },
  {
   "cell_type": "markdown",
   "metadata": {},
   "source": [
    "![gif](out.gif)"
   ]
  },
  {
   "cell_type": "code",
   "execution_count": null,
   "metadata": {},
   "outputs": [],
   "source": []
  }
 ],
 "metadata": {
  "kernelspec": {
   "display_name": "Python 3 (ipykernel)",
   "language": "python",
   "name": "python3"
  },
  "language_info": {
   "codemirror_mode": {
    "name": "ipython",
    "version": 3
   },
   "file_extension": ".py",
   "mimetype": "text/x-python",
   "name": "python",
   "nbconvert_exporter": "python",
   "pygments_lexer": "ipython3",
   "version": "3.9.12"
  }
 },
 "nbformat": 4,
 "nbformat_minor": 4
}
