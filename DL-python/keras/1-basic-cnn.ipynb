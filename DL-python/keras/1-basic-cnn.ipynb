{
 "cells": [
  {
   "cell_type": "markdown",
   "metadata": {},
   "source": [
    "# Basic Convolutional Neural Networks (CNN)\n",
    "- Objective: create basic CNN models with Keras"
   ]
  },
  {
   "cell_type": "markdown",
   "metadata": {},
   "source": [
    "<img src=\"https://adeshpande3.github.io/assets/Cover.png\" style=\"width: 800px\"/>\n",
    "\n",
    "<br>\n",
    "\n",
    "- Fundamental CNN structures: CNNs are similar to Multilayer Perceptrons (MLPs) since they only feed signals forward (feedforward nets), but have different kind of layers unique to CNNs  \n",
    "  - ** Convolutional layer** : process data in a small receptive field (i.e., filter)  \n",
    "  - ** Pooling layer** : downsample along 2 dimensions (usually width and height)   \n",
    "  - ** Dense (fully connected) layer** : similar to hidden layers of MLPs  "
   ]
  },
  {
   "cell_type": "markdown",
   "metadata": {},
   "source": [
    "<img src=\"http://cs231n.github.io/assets/cnn/convnet.jpeg\" style=\"width: 600px\"/>\n",
    "<br>\n",
    "<center> **ConvNet architecture** </center>"
   ]
  },
  {
   "cell_type": "code",
   "execution_count": 2,
   "metadata": {},
   "outputs": [
    {
     "name": "stdout",
     "output_type": "stream",
     "text": [
      "Mon Mar  9 21:45:29 2020       \n",
      "+-----------------------------------------------------------------------------+\n",
      "| NVIDIA-SMI 440.33.01    Driver Version: 440.33.01    CUDA Version: 10.2     |\n",
      "|-------------------------------+----------------------+----------------------+\n",
      "| GPU  Name        Persistence-M| Bus-Id        Disp.A | Volatile Uncorr. ECC |\n",
      "| Fan  Temp  Perf  Pwr:Usage/Cap|         Memory-Usage | GPU-Util  Compute M. |\n",
      "|===============================+======================+======================|\n",
      "|   0  Tesla V100-SXM2...  Off  | 00000000:18:00.0 Off |                    0 |\n",
      "| N/A   35C    P0    56W / 300W |      0MiB / 16160MiB |      0%      Default |\n",
      "+-------------------------------+----------------------+----------------------+\n",
      "                                                                               \n",
      "+-----------------------------------------------------------------------------+\n",
      "| Processes:                                                       GPU Memory |\n",
      "|  GPU       PID   Type   Process name                             Usage      |\n",
      "|=============================================================================|\n",
      "|  No running processes found                                                 |\n",
      "+-----------------------------------------------------------------------------+\n",
      " 21:45:30 up 5 days, 13:59,  0 users,  load average: 0.20, 0.20, 0.21\n",
      "10\n"
     ]
    }
   ],
   "source": [
    "!nvidia-smi\n",
    "!uptime\n",
    "!nproc"
   ]
  },
  {
   "cell_type": "code",
   "execution_count": 3,
   "metadata": {},
   "outputs": [
    {
     "name": "stderr",
     "output_type": "stream",
     "text": [
      "/packages/7x/anaconda3/5.3.0/envs/tf1.13-gpu/lib/python3.7/site-packages/tensorflow/python/framework/dtypes.py:526: FutureWarning: Passing (type, 1) or '1type' as a synonym of type is deprecated; in a future version of numpy, it will be understood as (type, (1,)) / '(1,)type'.\n",
      "  _np_qint8 = np.dtype([(\"qint8\", np.int8, 1)])\n",
      "/packages/7x/anaconda3/5.3.0/envs/tf1.13-gpu/lib/python3.7/site-packages/tensorflow/python/framework/dtypes.py:527: FutureWarning: Passing (type, 1) or '1type' as a synonym of type is deprecated; in a future version of numpy, it will be understood as (type, (1,)) / '(1,)type'.\n",
      "  _np_quint8 = np.dtype([(\"quint8\", np.uint8, 1)])\n",
      "/packages/7x/anaconda3/5.3.0/envs/tf1.13-gpu/lib/python3.7/site-packages/tensorflow/python/framework/dtypes.py:528: FutureWarning: Passing (type, 1) or '1type' as a synonym of type is deprecated; in a future version of numpy, it will be understood as (type, (1,)) / '(1,)type'.\n",
      "  _np_qint16 = np.dtype([(\"qint16\", np.int16, 1)])\n",
      "/packages/7x/anaconda3/5.3.0/envs/tf1.13-gpu/lib/python3.7/site-packages/tensorflow/python/framework/dtypes.py:529: FutureWarning: Passing (type, 1) or '1type' as a synonym of type is deprecated; in a future version of numpy, it will be understood as (type, (1,)) / '(1,)type'.\n",
      "  _np_quint16 = np.dtype([(\"quint16\", np.uint16, 1)])\n",
      "/packages/7x/anaconda3/5.3.0/envs/tf1.13-gpu/lib/python3.7/site-packages/tensorflow/python/framework/dtypes.py:530: FutureWarning: Passing (type, 1) or '1type' as a synonym of type is deprecated; in a future version of numpy, it will be understood as (type, (1,)) / '(1,)type'.\n",
      "  _np_qint32 = np.dtype([(\"qint32\", np.int32, 1)])\n",
      "/packages/7x/anaconda3/5.3.0/envs/tf1.13-gpu/lib/python3.7/site-packages/tensorflow/python/framework/dtypes.py:535: FutureWarning: Passing (type, 1) or '1type' as a synonym of type is deprecated; in a future version of numpy, it will be understood as (type, (1,)) / '(1,)type'.\n",
      "  np_resource = np.dtype([(\"resource\", np.ubyte, 1)])\n"
     ]
    }
   ],
   "source": [
    "import numpy as np\n",
    "import matplotlib.pyplot as plt\n",
    "\n",
    "from sklearn import datasets\n",
    "from sklearn.model_selection import train_test_split\n",
    "from tensorflow.keras.utils import to_categorical"
   ]
  },
  {
   "cell_type": "markdown",
   "metadata": {},
   "source": [
    "### Load Datset\n",
    "- Digits dataset in sklearn\n",
    "- Doc: http://scikit-learn.org/stable/auto_examples/datasets/plot_digits_last_image.html"
   ]
  },
  {
   "cell_type": "code",
   "execution_count": 4,
   "metadata": {},
   "outputs": [],
   "source": [
    "data = datasets.load_digits()"
   ]
  },
  {
   "cell_type": "code",
   "execution_count": 5,
   "metadata": {},
   "outputs": [
    {
     "data": {
      "text/plain": [
       "1797"
      ]
     },
     "execution_count": 5,
     "metadata": {},
     "output_type": "execute_result"
    }
   ],
   "source": [
    "K,M,N = data.images.shape\n",
    "FI = data.images[:10].reshape((10*M,N))\n",
    "K"
   ]
  },
  {
   "cell_type": "code",
   "execution_count": 6,
   "metadata": {},
   "outputs": [
    {
     "data": {
      "image/png": "[encoded data removed]",
      "text/plain": [
       "<Figure size 1440x1440 with 1 Axes>"
      ]
     },
     "metadata": {
      "needs_background": "light"
     },
     "output_type": "display_data"
    }
   ],
   "source": [
    "k=0\n",
    "plt.close()\n",
    "plt.figure(figsize=(20,20))\n",
    "plt.imshow(FI,cmap=plt.cm.binary)    # show first number in the dataset\n",
    "plt.title('label: %d' % data.target[k],fontsize=18,color='w')    # label = '0'\n",
    "plt.show()"
   ]
  },
  {
   "cell_type": "code",
   "execution_count": 7,
   "metadata": {},
   "outputs": [],
   "source": [
    "X_data = data.images\n",
    "y_data = data.target"
   ]
  },
  {
   "cell_type": "code",
   "execution_count": 8,
   "metadata": {},
   "outputs": [
    {
     "name": "stdout",
     "output_type": "stream",
     "text": [
      "(1797, 8, 8)\n",
      "(1797,)\n"
     ]
    }
   ],
   "source": [
    "# shape of data\n",
    "print(X_data.shape)    # (8 X 8) format\n",
    "print(y_data.shape)"
   ]
  },
  {
   "cell_type": "code",
   "execution_count": 9,
   "metadata": {},
   "outputs": [
    {
     "data": {
      "text/plain": [
       "0"
      ]
     },
     "execution_count": 9,
     "metadata": {},
     "output_type": "execute_result"
    }
   ],
   "source": [
    "data.target[0]"
   ]
  },
  {
   "cell_type": "code",
   "execution_count": 10,
   "metadata": {},
   "outputs": [],
   "source": [
    "# reshape X_data into 3-D format\n",
    "# note that this follows image format of Tensorflow backend\n",
    "X_data = X_data.reshape((X_data.shape[0], X_data.shape[1], X_data.shape[2], 1))"
   ]
  },
  {
   "cell_type": "code",
   "execution_count": 11,
   "metadata": {},
   "outputs": [],
   "source": [
    "# one-hot encoding of y_data\n",
    "y_data = to_categorical(y_data)"
   ]
  },
  {
   "cell_type": "code",
   "execution_count": 14,
   "metadata": {},
   "outputs": [
    {
     "name": "stdout",
     "output_type": "stream",
     "text": [
      "Original first digit label: 0\n",
      "After one-hot encoding: [1. 0. 0. 0. 0. 0. 0. 0. 0. 0.]\n"
     ]
    }
   ],
   "source": [
    "print(f'Original first digit label: {data.target[0]}')\n",
    "print('After one-hot encoding:', y_data[0])"
   ]
  },
  {
   "cell_type": "code",
   "execution_count": 15,
   "metadata": {},
   "outputs": [],
   "source": [
    "# partition data into train/test sets\n",
    "X_train, X_test, y_train, y_test = train_test_split(X_data, y_data, test_size = 0.3, random_state = 777)"
   ]
  },
  {
   "cell_type": "code",
   "execution_count": 16,
   "metadata": {},
   "outputs": [
    {
     "name": "stdout",
     "output_type": "stream",
     "text": [
      "(1257, 8, 8, 1)\n",
      "(540, 8, 8, 1)\n",
      "(1257, 10)\n",
      "(540, 10)\n"
     ]
    }
   ],
   "source": [
    "print(X_train.shape)\n",
    "print(X_test.shape)\n",
    "print(y_train.shape)\n",
    "print(y_test.shape)"
   ]
  },
  {
   "cell_type": "code",
   "execution_count": 17,
   "metadata": {},
   "outputs": [],
   "source": [
    "from tensorflow.keras.models import Sequential\n",
    "from tensorflow.keras import optimizers\n",
    "from tensorflow.keras.layers import Dense, Activation, Flatten, Conv2D, MaxPooling2D"
   ]
  },
  {
   "cell_type": "markdown",
   "metadata": {},
   "source": [
    "### 1. Creating model\n",
    "- Creating a model is same with MLP (Sequential)\n",
    "- Original notebook defined a model with an reLU activation layer. We run two of these original models and compare to a model without activation."
   ]
  },
  {
   "cell_type": "code",
   "execution_count": 126,
   "metadata": {},
   "outputs": [],
   "source": [
    "# Allow multiple models to have the same seed (note there is still randomness in the model fit)\n",
    "from numpy.random import seed\n",
    "from tensorflow import set_random_seed\n",
    "seed(1)\n",
    "set_random_seed(2)"
   ]
  },
  {
   "cell_type": "code",
   "execution_count": 127,
   "metadata": {},
   "outputs": [],
   "source": [
    "orig_model0 = Sequential()\n",
    "orig_model1 = Sequential()\n",
    "noLU_model0 = Sequential()"
   ]
  },
  {
   "cell_type": "markdown",
   "metadata": {},
   "source": [
    "### 2. Convolutional Layer\n",
    "- In general, 2D convolutional layer is used for image processing\n",
    "    - Size of filter (designated by 'kernel_size' parameter) defines **width and height of receptive field **\n",
    "    - Number of filters (designated by 'filters' parameter) is equal to **depth of the next layer**\n",
    "    - Strides (designated by 'strides' parameter) is** how far a filter makes change in its position** for each move\n",
    "    - Image can be **zero-padded** in order to prevent getting too small (designated by 'padding' parameter)\n",
    "- Doc: https://keras.io/layers/convolutional/\n",
    "\n",
    "<img src=\"http://cs231n.github.io/assets/cnn/depthcol.jpeg\" style=\"width: 400px\"/>"
   ]
  },
  {
   "cell_type": "code",
   "execution_count": 128,
   "metadata": {},
   "outputs": [],
   "source": [
    "# convolution layer\n",
    "orig_model0.add(Conv2D(input_shape = (X_data.shape[1], X_data.shape[2], X_data.shape[3]), filters = 10, kernel_size = (3,3), strides = (1,1), padding = 'valid'))\n",
    "orig_model1.add(Conv2D(input_shape = (X_data.shape[1], X_data.shape[2], X_data.shape[3]), filters = 10, kernel_size = (3,3), strides = (1,1), padding = 'valid'))\n",
    "noLU_model0.add(Conv2D(input_shape = (X_data.shape[1], X_data.shape[2], X_data.shape[3]), filters = 10, kernel_size = (3,3), strides = (1,1), padding = 'valid'))"
   ]
  },
  {
   "cell_type": "markdown",
   "metadata": {},
   "source": [
    "### 3. Activation Layer\n",
    "- Identical to the activation layers in MLP\n",
    "- In general, rectified Linear Unit (reLU)  is used as well\n",
    "- Note that Conv2d step may have applied activation through keyword argument\n",
    "- Below, reLU activation function is demonstrated"
   ]
  },
  {
   "cell_type": "code",
   "execution_count": 129,
   "metadata": {},
   "outputs": [
    {
     "data": {
      "image/png": "[encoded data removed]",
      "text/plain": [
       "<Figure size 360x385.2 with 1 Axes>"
      ]
     },
     "metadata": {
      "needs_background": "dark"
     },
     "output_type": "display_data"
    }
   ],
   "source": [
    "plt.figure(figsize=(5,5.35))\n",
    "plt.clf()\n",
    "x = np.linspace(-1,1,15)\n",
    "myreLU = [ 0 if xx < 0 else xx for xx in x ]\n",
    "plt.plot(x,0*x,'k-',lw=5)    # x-axis\n",
    "plt.plot(0*x,x,'k-',lw=5)    # y-axis\n",
    "plt.plot(x,myreLU,'r-',lw=3) # reLU\n",
    "plt.xticks(color='w',fontsize=18,rotation=90)\n",
    "plt.yticks(color='w',fontsize=18)\n",
    "plt.xlim(-1,1)\n",
    "plt.ylim(-1,1)\n",
    "plt.grid(which='major',linestyle='--',color='#777777')\n",
    "plt.show()"
   ]
  },
  {
   "cell_type": "markdown",
   "metadata": {},
   "source": [
    "Original model includes activation layer that will not contribute to output. \n",
    "\n",
    "Kept for pedagogical reasons, but ask yourself, why the reLU activation layer does not contribute to the result."
   ]
  },
  {
   "cell_type": "code",
   "execution_count": 130,
   "metadata": {},
   "outputs": [],
   "source": [
    "orig_model0.add(Activation('relu'))\n",
    "orig_model1.add(Activation('relu'))\n",
    "# Not adding activation layer to alternative model"
   ]
  },
  {
   "cell_type": "markdown",
   "metadata": {},
   "source": [
    "### 4. Pooling layer\n",
    "- In general, max pooling method is used\n",
    "- Common alternative is average pooling\n",
    "- Reduces number of parameters\n",
    "- Doc: https://keras.io/layers/pooling/\n",
    "\n",
    "<img src=\"http://cs231n.github.io/assets/cnn/maxpool.jpeg\" style=\"width: 600px\"/>"
   ]
  },
  {
   "cell_type": "code",
   "execution_count": 131,
   "metadata": {},
   "outputs": [],
   "source": [
    "orig_model0.add(MaxPooling2D(pool_size = (2,2)))\n",
    "orig_model1.add(MaxPooling2D(pool_size = (2,2)))\n",
    "noLU_model0.add(MaxPooling2D(pool_size = (2,2)))"
   ]
  },
  {
   "cell_type": "markdown",
   "metadata": {},
   "source": [
    "### 5. Dense (fully connected layer)\n",
    "- Convolutional & pooling layers can be connected to dense layers\n",
    "- Sometimes, dense layers can be omitted\n",
    "- Doc: https://keras.io/layers/core/"
   ]
  },
  {
   "cell_type": "code",
   "execution_count": 132,
   "metadata": {},
   "outputs": [],
   "source": [
    "# prior layer should be flattend to be connected to dense layers\n",
    "orig_model0.add(Flatten())\n",
    "orig_model1.add(Flatten())\n",
    "noLU_model0.add(Flatten())"
   ]
  },
  {
   "cell_type": "code",
   "execution_count": 133,
   "metadata": {},
   "outputs": [],
   "source": [
    "# dense layer with 50 neurons\n",
    "orig_model0.add(Dense(50, activation = 'relu'))\n",
    "orig_model1.add(Dense(50, activation = 'relu'))\n",
    "noLU_model0.add(Dense(50, activation = 'relu'))"
   ]
  },
  {
   "cell_type": "code",
   "execution_count": 134,
   "metadata": {},
   "outputs": [],
   "source": [
    "# final layer with 10 neurons to classify the instances\n",
    "orig_model0.add(Dense(10, activation = 'softmax'))\n",
    "orig_model1.add(Dense(10, activation = 'softmax'))\n",
    "noLU_model0.add(Dense(10, activation = 'softmax'))"
   ]
  },
  {
   "cell_type": "markdown",
   "metadata": {},
   "source": [
    "### 6. Model compile & train\n",
    "- Optimize with adaptive moment estimation (Adam)\n",
    "- accuracy as the metric"
   ]
  },
  {
   "cell_type": "code",
   "execution_count": 135,
   "metadata": {},
   "outputs": [],
   "source": [
    "adam = optimizers.Adam(lr = 0.001)\n",
    "orig_model0.compile(loss = 'categorical_crossentropy', optimizer = adam, metrics = ['accuracy'])\n",
    "orig_model1.compile(loss = 'categorical_crossentropy', optimizer = adam, metrics = ['accuracy'])\n",
    "noLU_model0.compile(loss = 'categorical_crossentropy', optimizer = adam, metrics = ['accuracy'])"
   ]
  },
  {
   "cell_type": "code",
   "execution_count": 136,
   "metadata": {},
   "outputs": [
    {
     "name": "stdout",
     "output_type": "stream",
     "text": [
      "_________________________________________________________________\n",
      "Layer (type)                 Output Shape              Param #   \n",
      "=================================================================\n",
      "conv2d_18 (Conv2D)           (None, 6, 6, 10)          100       \n",
      "_________________________________________________________________\n",
      "activation_11 (Activation)   (None, 6, 6, 10)          0         \n",
      "_________________________________________________________________\n",
      "max_pooling2d_16 (MaxPooling (None, 3, 3, 10)          0         \n",
      "_________________________________________________________________\n",
      "flatten_13 (Flatten)         (None, 90)                0         \n",
      "_________________________________________________________________\n",
      "dense_26 (Dense)             (None, 50)                4550      \n",
      "_________________________________________________________________\n",
      "dense_29 (Dense)             (None, 10)                510       \n",
      "=================================================================\n",
      "Total params: 5,160\n",
      "Trainable params: 5,160\n",
      "Non-trainable params: 0\n",
      "_________________________________________________________________\n"
     ]
    }
   ],
   "source": [
    "print('Original Model 0 Summary')\n",
    "orig_model0.summary()"
   ]
  },
  {
   "cell_type": "code",
   "execution_count": 137,
   "metadata": {},
   "outputs": [
    {
     "name": "stdout",
     "output_type": "stream",
     "text": [
      "No Activation Model 0 Summary\n",
      "_________________________________________________________________\n",
      "Layer (type)                 Output Shape              Param #   \n",
      "=================================================================\n",
      "conv2d_20 (Conv2D)           (None, 6, 6, 10)          100       \n",
      "_________________________________________________________________\n",
      "max_pooling2d_18 (MaxPooling (None, 3, 3, 10)          0         \n",
      "_________________________________________________________________\n",
      "flatten_15 (Flatten)         (None, 90)                0         \n",
      "_________________________________________________________________\n",
      "dense_28 (Dense)             (None, 50)                4550      \n",
      "_________________________________________________________________\n",
      "dense_31 (Dense)             (None, 10)                510       \n",
      "=================================================================\n",
      "Total params: 5,160\n",
      "Trainable params: 5,160\n",
      "Non-trainable params: 0\n",
      "_________________________________________________________________\n"
     ]
    }
   ],
   "source": [
    "print('No Activation Model 0 Summary')\n",
    "noLU_model0.summary()"
   ]
  },
  {
   "cell_type": "code",
   "execution_count": 86,
   "metadata": {},
   "outputs": [
    {
     "name": "stdout",
     "output_type": "stream",
     "text": [
      "Train on 1005 samples, validate on 252 samples\n",
      "Epoch 1/100\n",
      "1005/1005 [==============================] - 0s 431us/sample - loss: 2.4151 - acc: 0.2657 - val_loss: 1.5600 - val_acc: 0.4683\n",
      "Epoch 2/100\n",
      "1005/1005 [==============================] - 0s 91us/sample - loss: 1.2345 - acc: 0.5960 - val_loss: 0.9068 - val_acc: 0.7143\n",
      "Epoch 3/100\n",
      "1005/1005 [==============================] - 0s 70us/sample - loss: 0.7949 - acc: 0.7841 - val_loss: 0.6153 - val_acc: 0.8492\n",
      "Epoch 4/100\n",
      "1005/1005 [==============================] - 0s 58us/sample - loss: 0.5757 - acc: 0.8507 - val_loss: 0.4621 - val_acc: 0.8730\n",
      "Epoch 5/100\n",
      "1005/1005 [==============================] - 0s 51us/sample - loss: 0.4489 - acc: 0.8806 - val_loss: 0.3649 - val_acc: 0.8929\n",
      "Epoch 6/100\n",
      "1005/1005 [==============================] - 0s 47us/sample - loss: 0.3637 - acc: 0.9065 - val_loss: 0.3046 - val_acc: 0.9246\n",
      "Epoch 7/100\n",
      "1005/1005 [==============================] - 0s 46us/sample - loss: 0.3028 - acc: 0.9194 - val_loss: 0.2613 - val_acc: 0.9365\n",
      "Epoch 8/100\n",
      "1005/1005 [==============================] - 0s 51us/sample - loss: 0.2601 - acc: 0.9333 - val_loss: 0.2317 - val_acc: 0.9444\n",
      "Epoch 9/100\n",
      "1005/1005 [==============================] - 0s 50us/sample - loss: 0.2277 - acc: 0.9453 - val_loss: 0.2082 - val_acc: 0.9524\n",
      "Epoch 10/100\n",
      "1005/1005 [==============================] - 0s 50us/sample - loss: 0.2016 - acc: 0.9592 - val_loss: 0.1895 - val_acc: 0.9563\n",
      "Epoch 11/100\n",
      "1005/1005 [==============================] - 0s 49us/sample - loss: 0.1811 - acc: 0.9602 - val_loss: 0.1735 - val_acc: 0.9603\n",
      "Epoch 12/100\n",
      "1005/1005 [==============================] - 0s 49us/sample - loss: 0.1637 - acc: 0.9632 - val_loss: 0.1612 - val_acc: 0.9603\n",
      "Epoch 13/100\n",
      "1005/1005 [==============================] - 0s 48us/sample - loss: 0.1482 - acc: 0.9672 - val_loss: 0.1504 - val_acc: 0.9603\n",
      "Epoch 14/100\n",
      "1005/1005 [==============================] - 0s 46us/sample - loss: 0.1347 - acc: 0.9682 - val_loss: 0.1416 - val_acc: 0.9643\n",
      "Epoch 15/100\n",
      "1005/1005 [==============================] - 0s 46us/sample - loss: 0.1229 - acc: 0.9692 - val_loss: 0.1338 - val_acc: 0.9603\n",
      "Epoch 16/100\n",
      "1005/1005 [==============================] - 0s 46us/sample - loss: 0.1127 - acc: 0.9741 - val_loss: 0.1268 - val_acc: 0.9603\n",
      "Epoch 17/100\n",
      "1005/1005 [==============================] - 0s 46us/sample - loss: 0.1032 - acc: 0.9761 - val_loss: 0.1209 - val_acc: 0.9683\n",
      "Epoch 18/100\n",
      "1005/1005 [==============================] - 0s 46us/sample - loss: 0.0951 - acc: 0.9761 - val_loss: 0.1159 - val_acc: 0.9722\n",
      "Epoch 19/100\n",
      "1005/1005 [==============================] - 0s 46us/sample - loss: 0.0877 - acc: 0.9811 - val_loss: 0.1112 - val_acc: 0.9722\n",
      "Epoch 20/100\n",
      "1005/1005 [==============================] - 0s 46us/sample - loss: 0.0811 - acc: 0.9841 - val_loss: 0.1075 - val_acc: 0.9722\n",
      "Epoch 21/100\n",
      "1005/1005 [==============================] - 0s 46us/sample - loss: 0.0754 - acc: 0.9851 - val_loss: 0.1045 - val_acc: 0.9762\n",
      "Epoch 22/100\n",
      "1005/1005 [==============================] - 0s 46us/sample - loss: 0.0698 - acc: 0.9861 - val_loss: 0.1008 - val_acc: 0.9762\n",
      "Epoch 23/100\n",
      "1005/1005 [==============================] - 0s 45us/sample - loss: 0.0654 - acc: 0.9871 - val_loss: 0.0979 - val_acc: 0.9762\n",
      "Epoch 24/100\n",
      "1005/1005 [==============================] - 0s 46us/sample - loss: 0.0610 - acc: 0.9881 - val_loss: 0.0949 - val_acc: 0.9762\n",
      "Epoch 25/100\n",
      "1005/1005 [==============================] - 0s 46us/sample - loss: 0.0568 - acc: 0.9910 - val_loss: 0.0924 - val_acc: 0.9762\n",
      "Epoch 26/100\n",
      "1005/1005 [==============================] - 0s 46us/sample - loss: 0.0535 - acc: 0.9900 - val_loss: 0.0901 - val_acc: 0.9762\n",
      "Epoch 27/100\n",
      "1005/1005 [==============================] - 0s 46us/sample - loss: 0.0499 - acc: 0.9900 - val_loss: 0.0875 - val_acc: 0.9762\n",
      "Epoch 28/100\n",
      "1005/1005 [==============================] - 0s 45us/sample - loss: 0.0465 - acc: 0.9930 - val_loss: 0.0839 - val_acc: 0.9762\n",
      "Epoch 29/100\n",
      "1005/1005 [==============================] - 0s 45us/sample - loss: 0.0438 - acc: 0.9950 - val_loss: 0.0822 - val_acc: 0.9802\n",
      "Epoch 30/100\n",
      "1005/1005 [==============================] - 0s 45us/sample - loss: 0.0409 - acc: 0.9950 - val_loss: 0.0795 - val_acc: 0.9841\n",
      "Epoch 31/100\n",
      "1005/1005 [==============================] - 0s 46us/sample - loss: 0.0381 - acc: 0.9950 - val_loss: 0.0767 - val_acc: 0.9841\n",
      "Epoch 32/100\n",
      "1005/1005 [==============================] - 0s 46us/sample - loss: 0.0360 - acc: 0.9950 - val_loss: 0.0751 - val_acc: 0.9841\n",
      "Epoch 33/100\n",
      "1005/1005 [==============================] - 0s 45us/sample - loss: 0.0333 - acc: 0.9970 - val_loss: 0.0726 - val_acc: 0.9841\n",
      "Epoch 34/100\n",
      "1005/1005 [==============================] - 0s 46us/sample - loss: 0.0314 - acc: 0.9970 - val_loss: 0.0710 - val_acc: 0.9802\n",
      "Epoch 35/100\n",
      "1005/1005 [==============================] - 0s 45us/sample - loss: 0.0293 - acc: 0.9970 - val_loss: 0.0691 - val_acc: 0.9802\n",
      "Epoch 36/100\n",
      "1005/1005 [==============================] - 0s 45us/sample - loss: 0.0276 - acc: 0.9980 - val_loss: 0.0673 - val_acc: 0.9802\n",
      "Epoch 37/100\n",
      "1005/1005 [==============================] - 0s 46us/sample - loss: 0.0260 - acc: 0.9980 - val_loss: 0.0659 - val_acc: 0.9802\n",
      "Epoch 38/100\n",
      "1005/1005 [==============================] - 0s 45us/sample - loss: 0.0245 - acc: 0.9990 - val_loss: 0.0645 - val_acc: 0.9802\n",
      "Epoch 39/100\n",
      "1005/1005 [==============================] - 0s 45us/sample - loss: 0.0231 - acc: 0.9990 - val_loss: 0.0632 - val_acc: 0.9802\n",
      "Epoch 40/100\n",
      "1005/1005 [==============================] - 0s 46us/sample - loss: 0.0219 - acc: 0.9990 - val_loss: 0.0620 - val_acc: 0.9802\n",
      "Epoch 41/100\n",
      "1005/1005 [==============================] - 0s 45us/sample - loss: 0.0206 - acc: 0.9990 - val_loss: 0.0610 - val_acc: 0.9802\n",
      "Epoch 42/100\n",
      "1005/1005 [==============================] - 0s 45us/sample - loss: 0.0196 - acc: 0.9990 - val_loss: 0.0601 - val_acc: 0.9841\n",
      "Epoch 43/100\n",
      "1005/1005 [==============================] - 0s 45us/sample - loss: 0.0185 - acc: 0.9990 - val_loss: 0.0591 - val_acc: 0.9802\n",
      "Epoch 44/100\n",
      "1005/1005 [==============================] - 0s 46us/sample - loss: 0.0176 - acc: 0.9990 - val_loss: 0.0583 - val_acc: 0.9841\n",
      "Epoch 45/100\n",
      "1005/1005 [==============================] - 0s 46us/sample - loss: 0.0167 - acc: 0.9990 - val_loss: 0.0575 - val_acc: 0.9841\n",
      "Epoch 46/100\n",
      "1005/1005 [==============================] - 0s 47us/sample - loss: 0.0159 - acc: 0.9990 - val_loss: 0.0568 - val_acc: 0.9841\n",
      "Epoch 47/100\n",
      "1005/1005 [==============================] - 0s 46us/sample - loss: 0.0151 - acc: 0.9990 - val_loss: 0.0561 - val_acc: 0.9841\n",
      "Epoch 48/100\n",
      "1005/1005 [==============================] - 0s 46us/sample - loss: 0.0144 - acc: 0.9990 - val_loss: 0.0553 - val_acc: 0.9841\n",
      "Epoch 49/100\n",
      "1005/1005 [==============================] - 0s 46us/sample - loss: 0.0136 - acc: 0.9990 - val_loss: 0.0546 - val_acc: 0.9841\n",
      "Epoch 50/100\n",
      "1005/1005 [==============================] - 0s 46us/sample - loss: 0.0130 - acc: 1.0000 - val_loss: 0.0544 - val_acc: 0.9841\n",
      "Epoch 51/100\n",
      "1005/1005 [==============================] - 0s 46us/sample - loss: 0.0124 - acc: 1.0000 - val_loss: 0.0535 - val_acc: 0.9881\n",
      "Epoch 52/100\n",
      "1005/1005 [==============================] - 0s 46us/sample - loss: 0.0119 - acc: 1.0000 - val_loss: 0.0534 - val_acc: 0.9841\n",
      "Epoch 53/100\n",
      "1005/1005 [==============================] - 0s 46us/sample - loss: 0.0113 - acc: 1.0000 - val_loss: 0.0526 - val_acc: 0.9881\n",
      "Epoch 54/100\n",
      "1005/1005 [==============================] - 0s 46us/sample - loss: 0.0108 - acc: 1.0000 - val_loss: 0.0523 - val_acc: 0.9881\n",
      "Epoch 55/100\n",
      "1005/1005 [==============================] - 0s 45us/sample - loss: 0.0104 - acc: 1.0000 - val_loss: 0.0518 - val_acc: 0.9881\n",
      "Epoch 56/100\n",
      "1005/1005 [==============================] - 0s 45us/sample - loss: 0.0099 - acc: 1.0000 - val_loss: 0.0516 - val_acc: 0.9881\n",
      "Epoch 57/100\n",
      "1005/1005 [==============================] - 0s 45us/sample - loss: 0.0095 - acc: 1.0000 - val_loss: 0.0509 - val_acc: 0.9881\n",
      "Epoch 58/100\n",
      "1005/1005 [==============================] - 0s 45us/sample - loss: 0.0091 - acc: 1.0000 - val_loss: 0.0504 - val_acc: 0.9881\n",
      "Epoch 59/100\n",
      "1005/1005 [==============================] - 0s 46us/sample - loss: 0.0088 - acc: 1.0000 - val_loss: 0.0506 - val_acc: 0.9881\n",
      "Epoch 60/100\n",
      "1005/1005 [==============================] - 0s 46us/sample - loss: 0.0084 - acc: 1.0000 - val_loss: 0.0499 - val_acc: 0.9881\n",
      "Epoch 61/100\n",
      "1005/1005 [==============================] - 0s 46us/sample - loss: 0.0081 - acc: 1.0000 - val_loss: 0.0498 - val_acc: 0.9881\n",
      "Epoch 62/100\n",
      "1005/1005 [==============================] - 0s 46us/sample - loss: 0.0077 - acc: 1.0000 - val_loss: 0.0494 - val_acc: 0.9881\n",
      "Epoch 63/100\n",
      "1005/1005 [==============================] - 0s 46us/sample - loss: 0.0075 - acc: 1.0000 - val_loss: 0.0493 - val_acc: 0.9881\n",
      "Epoch 64/100\n",
      "1005/1005 [==============================] - 0s 46us/sample - loss: 0.0071 - acc: 1.0000 - val_loss: 0.0488 - val_acc: 0.9881\n",
      "Epoch 65/100\n",
      "1005/1005 [==============================] - 0s 45us/sample - loss: 0.0069 - acc: 1.0000 - val_loss: 0.0486 - val_acc: 0.9881\n",
      "Epoch 66/100\n",
      "1005/1005 [==============================] - 0s 46us/sample - loss: 0.0066 - acc: 1.0000 - val_loss: 0.0482 - val_acc: 0.9881\n",
      "Epoch 67/100\n",
      "1005/1005 [==============================] - 0s 45us/sample - loss: 0.0064 - acc: 1.0000 - val_loss: 0.0480 - val_acc: 0.9881\n",
      "Epoch 68/100\n",
      "1005/1005 [==============================] - 0s 46us/sample - loss: 0.0061 - acc: 1.0000 - val_loss: 0.0475 - val_acc: 0.9881\n",
      "Epoch 69/100\n",
      "1005/1005 [==============================] - 0s 45us/sample - loss: 0.0059 - acc: 1.0000 - val_loss: 0.0474 - val_acc: 0.9881\n",
      "Epoch 70/100\n",
      "1005/1005 [==============================] - 0s 46us/sample - loss: 0.0057 - acc: 1.0000 - val_loss: 0.0473 - val_acc: 0.9881\n",
      "Epoch 71/100\n",
      "1005/1005 [==============================] - 0s 45us/sample - loss: 0.0055 - acc: 1.0000 - val_loss: 0.0469 - val_acc: 0.9881\n",
      "Epoch 72/100\n",
      "1005/1005 [==============================] - 0s 46us/sample - loss: 0.0053 - acc: 1.0000 - val_loss: 0.0468 - val_acc: 0.9881\n",
      "Epoch 73/100\n",
      "1005/1005 [==============================] - 0s 46us/sample - loss: 0.0051 - acc: 1.0000 - val_loss: 0.0465 - val_acc: 0.9881\n",
      "Epoch 74/100\n",
      "1005/1005 [==============================] - 0s 46us/sample - loss: 0.0050 - acc: 1.0000 - val_loss: 0.0462 - val_acc: 0.9881\n",
      "Epoch 75/100\n",
      "1005/1005 [==============================] - 0s 46us/sample - loss: 0.0048 - acc: 1.0000 - val_loss: 0.0464 - val_acc: 0.9881\n",
      "Epoch 76/100\n",
      "1005/1005 [==============================] - 0s 46us/sample - loss: 0.0046 - acc: 1.0000 - val_loss: 0.0458 - val_acc: 0.9881\n",
      "Epoch 77/100\n",
      "1005/1005 [==============================] - 0s 45us/sample - loss: 0.0045 - acc: 1.0000 - val_loss: 0.0458 - val_acc: 0.9881\n",
      "Epoch 78/100\n",
      "1005/1005 [==============================] - 0s 46us/sample - loss: 0.0044 - acc: 1.0000 - val_loss: 0.0455 - val_acc: 0.9881\n",
      "Epoch 79/100\n",
      "1005/1005 [==============================] - 0s 46us/sample - loss: 0.0042 - acc: 1.0000 - val_loss: 0.0454 - val_acc: 0.9881\n",
      "Epoch 80/100\n",
      "1005/1005 [==============================] - 0s 46us/sample - loss: 0.0041 - acc: 1.0000 - val_loss: 0.0451 - val_acc: 0.9881\n",
      "Epoch 81/100\n",
      "1005/1005 [==============================] - 0s 45us/sample - loss: 0.0040 - acc: 1.0000 - val_loss: 0.0453 - val_acc: 0.9881\n",
      "Epoch 82/100\n",
      "1005/1005 [==============================] - 0s 45us/sample - loss: 0.0038 - acc: 1.0000 - val_loss: 0.0447 - val_acc: 0.9881\n",
      "Epoch 83/100\n",
      "1005/1005 [==============================] - 0s 46us/sample - loss: 0.0037 - acc: 1.0000 - val_loss: 0.0449 - val_acc: 0.9881\n",
      "Epoch 84/100\n",
      "1005/1005 [==============================] - 0s 46us/sample - loss: 0.0036 - acc: 1.0000 - val_loss: 0.0446 - val_acc: 0.9881\n",
      "Epoch 85/100\n",
      "1005/1005 [==============================] - 0s 45us/sample - loss: 0.0035 - acc: 1.0000 - val_loss: 0.0444 - val_acc: 0.9881\n",
      "Epoch 86/100\n",
      "1005/1005 [==============================] - 0s 46us/sample - loss: 0.0034 - acc: 1.0000 - val_loss: 0.0445 - val_acc: 0.9881\n",
      "Epoch 87/100\n",
      "1005/1005 [==============================] - 0s 46us/sample - loss: 0.0033 - acc: 1.0000 - val_loss: 0.0439 - val_acc: 0.9881\n",
      "Epoch 88/100\n",
      "1005/1005 [==============================] - 0s 46us/sample - loss: 0.0032 - acc: 1.0000 - val_loss: 0.0443 - val_acc: 0.9881\n",
      "Epoch 89/100\n",
      "1005/1005 [==============================] - 0s 46us/sample - loss: 0.0031 - acc: 1.0000 - val_loss: 0.0439 - val_acc: 0.9881\n",
      "Epoch 90/100\n",
      "1005/1005 [==============================] - 0s 47us/sample - loss: 0.0030 - acc: 1.0000 - val_loss: 0.0439 - val_acc: 0.9881\n",
      "Epoch 91/100\n",
      "1005/1005 [==============================] - 0s 46us/sample - loss: 0.0030 - acc: 1.0000 - val_loss: 0.0439 - val_acc: 0.9881\n",
      "Epoch 92/100\n",
      "1005/1005 [==============================] - 0s 45us/sample - loss: 0.0029 - acc: 1.0000 - val_loss: 0.0436 - val_acc: 0.9881\n",
      "Epoch 93/100\n",
      "1005/1005 [==============================] - 0s 45us/sample - loss: 0.0028 - acc: 1.0000 - val_loss: 0.0436 - val_acc: 0.9881\n",
      "Epoch 94/100\n",
      "1005/1005 [==============================] - 0s 45us/sample - loss: 0.0027 - acc: 1.0000 - val_loss: 0.0435 - val_acc: 0.9881\n",
      "Epoch 95/100\n",
      "1005/1005 [==============================] - 0s 46us/sample - loss: 0.0026 - acc: 1.0000 - val_loss: 0.0433 - val_acc: 0.9881\n",
      "Epoch 96/100\n",
      "1005/1005 [==============================] - 0s 46us/sample - loss: 0.0026 - acc: 1.0000 - val_loss: 0.0434 - val_acc: 0.9881\n",
      "Epoch 97/100\n",
      "1005/1005 [==============================] - 0s 46us/sample - loss: 0.0025 - acc: 1.0000 - val_loss: 0.0432 - val_acc: 0.9881\n",
      "Epoch 98/100\n",
      "1005/1005 [==============================] - 0s 46us/sample - loss: 0.0024 - acc: 1.0000 - val_loss: 0.0429 - val_acc: 0.9881\n",
      "Epoch 99/100\n",
      "1005/1005 [==============================] - 0s 46us/sample - loss: 0.0024 - acc: 1.0000 - val_loss: 0.0431 - val_acc: 0.9881\n",
      "Epoch 100/100\n",
      "1005/1005 [==============================] - 0s 46us/sample - loss: 0.0023 - acc: 1.0000 - val_loss: 0.0430 - val_acc: 0.9881\n",
      "------------------------------------------------------------------------\n",
      "Train on 1005 samples, validate on 252 samples\n",
      "Epoch 1/100\n",
      "1005/1005 [==============================] - 0s 442us/sample - loss: 1.8372 - acc: 0.4856 - val_loss: 0.6449 - val_acc: 0.8095\n",
      "Epoch 2/100\n",
      "1005/1005 [==============================] - 0s 95us/sample - loss: 0.3882 - acc: 0.8896 - val_loss: 0.2809 - val_acc: 0.8968\n",
      "Epoch 3/100\n",
      "1005/1005 [==============================] - 0s 73us/sample - loss: 0.1900 - acc: 0.9463 - val_loss: 0.2076 - val_acc: 0.9246\n",
      "Epoch 4/100\n",
      "1005/1005 [==============================] - 0s 59us/sample - loss: 0.1215 - acc: 0.9682 - val_loss: 0.1796 - val_acc: 0.9444\n",
      "Epoch 5/100\n",
      "1005/1005 [==============================] - 0s 51us/sample - loss: 0.0814 - acc: 0.9801 - val_loss: 0.1620 - val_acc: 0.9405\n",
      "Epoch 6/100\n",
      "1005/1005 [==============================] - 0s 48us/sample - loss: 0.0612 - acc: 0.9881 - val_loss: 0.1687 - val_acc: 0.9405\n",
      "Epoch 7/100\n",
      "1005/1005 [==============================] - 0s 46us/sample - loss: 0.0492 - acc: 0.9910 - val_loss: 0.1662 - val_acc: 0.9405\n",
      "Epoch 8/100\n",
      "1005/1005 [==============================] - 0s 46us/sample - loss: 0.0398 - acc: 0.9930 - val_loss: 0.1460 - val_acc: 0.9484\n",
      "Epoch 9/100\n",
      "1005/1005 [==============================] - 0s 46us/sample - loss: 0.0320 - acc: 0.9950 - val_loss: 0.1335 - val_acc: 0.9603\n",
      "Epoch 10/100\n",
      "1005/1005 [==============================] - 0s 45us/sample - loss: 0.0258 - acc: 0.9990 - val_loss: 0.1293 - val_acc: 0.9603\n",
      "Epoch 11/100\n",
      "1005/1005 [==============================] - 0s 46us/sample - loss: 0.0215 - acc: 0.9990 - val_loss: 0.1271 - val_acc: 0.9603\n",
      "Epoch 12/100\n",
      "1005/1005 [==============================] - 0s 46us/sample - loss: 0.0187 - acc: 0.9990 - val_loss: 0.1249 - val_acc: 0.9603\n",
      "Epoch 13/100\n",
      "1005/1005 [==============================] - 0s 45us/sample - loss: 0.0164 - acc: 0.9990 - val_loss: 0.1233 - val_acc: 0.9603\n",
      "Epoch 14/100\n",
      "1005/1005 [==============================] - 0s 46us/sample - loss: 0.0142 - acc: 0.9990 - val_loss: 0.1246 - val_acc: 0.9603\n",
      "Epoch 15/100\n",
      "1005/1005 [==============================] - 0s 45us/sample - loss: 0.0123 - acc: 0.9990 - val_loss: 0.1231 - val_acc: 0.9603\n",
      "Epoch 16/100\n",
      "1005/1005 [==============================] - 0s 46us/sample - loss: 0.0108 - acc: 0.9990 - val_loss: 0.1219 - val_acc: 0.9603\n",
      "Epoch 17/100\n",
      "1005/1005 [==============================] - 0s 47us/sample - loss: 0.0095 - acc: 0.9990 - val_loss: 0.1198 - val_acc: 0.9643\n",
      "Epoch 18/100\n",
      "1005/1005 [==============================] - 0s 46us/sample - loss: 0.0084 - acc: 0.9990 - val_loss: 0.1187 - val_acc: 0.9643\n",
      "Epoch 19/100\n",
      "1005/1005 [==============================] - 0s 46us/sample - loss: 0.0075 - acc: 1.0000 - val_loss: 0.1163 - val_acc: 0.9643\n",
      "Epoch 20/100\n",
      "1005/1005 [==============================] - 0s 46us/sample - loss: 0.0067 - acc: 1.0000 - val_loss: 0.1154 - val_acc: 0.9643\n",
      "Epoch 21/100\n",
      "1005/1005 [==============================] - 0s 46us/sample - loss: 0.0061 - acc: 1.0000 - val_loss: 0.1137 - val_acc: 0.9643\n",
      "Epoch 22/100\n",
      "1005/1005 [==============================] - 0s 46us/sample - loss: 0.0056 - acc: 1.0000 - val_loss: 0.1137 - val_acc: 0.9643\n",
      "Epoch 23/100\n",
      "1005/1005 [==============================] - 0s 48us/sample - loss: 0.0051 - acc: 1.0000 - val_loss: 0.1118 - val_acc: 0.9603\n",
      "Epoch 24/100\n",
      "1005/1005 [==============================] - 0s 47us/sample - loss: 0.0047 - acc: 1.0000 - val_loss: 0.1112 - val_acc: 0.9603\n",
      "Epoch 25/100\n",
      "1005/1005 [==============================] - 0s 46us/sample - loss: 0.0044 - acc: 1.0000 - val_loss: 0.1101 - val_acc: 0.9603\n",
      "Epoch 26/100\n",
      "1005/1005 [==============================] - 0s 49us/sample - loss: 0.0041 - acc: 1.0000 - val_loss: 0.1097 - val_acc: 0.9603\n",
      "Epoch 27/100\n",
      "1005/1005 [==============================] - 0s 51us/sample - loss: 0.0038 - acc: 1.0000 - val_loss: 0.1083 - val_acc: 0.9603\n",
      "Epoch 28/100\n",
      "1005/1005 [==============================] - 0s 50us/sample - loss: 0.0035 - acc: 1.0000 - val_loss: 0.1078 - val_acc: 0.9603\n",
      "Epoch 29/100\n",
      "1005/1005 [==============================] - 0s 51us/sample - loss: 0.0033 - acc: 1.0000 - val_loss: 0.1073 - val_acc: 0.9603\n",
      "Epoch 30/100\n",
      "1005/1005 [==============================] - 0s 49us/sample - loss: 0.0031 - acc: 1.0000 - val_loss: 0.1067 - val_acc: 0.9603\n",
      "Epoch 31/100\n",
      "1005/1005 [==============================] - 0s 47us/sample - loss: 0.0029 - acc: 1.0000 - val_loss: 0.1061 - val_acc: 0.9603\n",
      "Epoch 32/100\n",
      "1005/1005 [==============================] - 0s 49us/sample - loss: 0.0027 - acc: 1.0000 - val_loss: 0.1056 - val_acc: 0.9603\n",
      "Epoch 33/100\n",
      "1005/1005 [==============================] - 0s 50us/sample - loss: 0.0026 - acc: 1.0000 - val_loss: 0.1045 - val_acc: 0.9603\n",
      "Epoch 34/100\n",
      "1005/1005 [==============================] - 0s 50us/sample - loss: 0.0025 - acc: 1.0000 - val_loss: 0.1046 - val_acc: 0.9603\n",
      "Epoch 35/100\n",
      "1005/1005 [==============================] - 0s 50us/sample - loss: 0.0023 - acc: 1.0000 - val_loss: 0.1036 - val_acc: 0.9603\n",
      "Epoch 36/100\n",
      "1005/1005 [==============================] - 0s 51us/sample - loss: 0.0022 - acc: 1.0000 - val_loss: 0.1036 - val_acc: 0.9603\n",
      "Epoch 37/100\n",
      "1005/1005 [==============================] - 0s 52us/sample - loss: 0.0021 - acc: 1.0000 - val_loss: 0.1030 - val_acc: 0.9643\n",
      "Epoch 38/100\n",
      "1005/1005 [==============================] - 0s 50us/sample - loss: 0.0020 - acc: 1.0000 - val_loss: 0.1028 - val_acc: 0.9643\n",
      "Epoch 39/100\n",
      "1005/1005 [==============================] - 0s 50us/sample - loss: 0.0019 - acc: 1.0000 - val_loss: 0.1023 - val_acc: 0.9683\n",
      "Epoch 40/100\n",
      "1005/1005 [==============================] - 0s 50us/sample - loss: 0.0018 - acc: 1.0000 - val_loss: 0.1020 - val_acc: 0.9683\n",
      "Epoch 41/100\n",
      "1005/1005 [==============================] - 0s 51us/sample - loss: 0.0017 - acc: 1.0000 - val_loss: 0.1019 - val_acc: 0.9683\n",
      "Epoch 42/100\n",
      "1005/1005 [==============================] - 0s 50us/sample - loss: 0.0016 - acc: 1.0000 - val_loss: 0.1016 - val_acc: 0.9683\n",
      "Epoch 43/100\n",
      "1005/1005 [==============================] - 0s 50us/sample - loss: 0.0016 - acc: 1.0000 - val_loss: 0.1014 - val_acc: 0.9683\n",
      "Epoch 44/100\n",
      "1005/1005 [==============================] - 0s 50us/sample - loss: 0.0015 - acc: 1.0000 - val_loss: 0.1011 - val_acc: 0.9683\n",
      "Epoch 45/100\n",
      "1005/1005 [==============================] - 0s 50us/sample - loss: 0.0014 - acc: 1.0000 - val_loss: 0.1005 - val_acc: 0.9683\n",
      "Epoch 46/100\n",
      "1005/1005 [==============================] - 0s 50us/sample - loss: 0.0014 - acc: 1.0000 - val_loss: 0.1001 - val_acc: 0.9683\n",
      "Epoch 47/100\n",
      "1005/1005 [==============================] - 0s 51us/sample - loss: 0.0013 - acc: 1.0000 - val_loss: 0.0990 - val_acc: 0.9683\n",
      "Epoch 48/100\n",
      "1005/1005 [==============================] - 0s 52us/sample - loss: 0.0012 - acc: 1.0000 - val_loss: 0.0989 - val_acc: 0.9683\n",
      "Epoch 49/100\n",
      "1005/1005 [==============================] - 0s 50us/sample - loss: 0.0012 - acc: 1.0000 - val_loss: 0.0984 - val_acc: 0.9683\n",
      "Epoch 50/100\n",
      "1005/1005 [==============================] - 0s 50us/sample - loss: 0.0011 - acc: 1.0000 - val_loss: 0.0979 - val_acc: 0.9683\n",
      "Epoch 51/100\n",
      "1005/1005 [==============================] - 0s 50us/sample - loss: 0.0011 - acc: 1.0000 - val_loss: 0.0979 - val_acc: 0.9683\n",
      "Epoch 52/100\n",
      "1005/1005 [==============================] - 0s 50us/sample - loss: 0.0011 - acc: 1.0000 - val_loss: 0.0976 - val_acc: 0.9683\n",
      "Epoch 53/100\n",
      "1005/1005 [==============================] - 0s 50us/sample - loss: 0.0010 - acc: 1.0000 - val_loss: 0.0971 - val_acc: 0.9683\n",
      "Epoch 54/100\n",
      "1005/1005 [==============================] - 0s 50us/sample - loss: 9.8083e-04 - acc: 1.0000 - val_loss: 0.0969 - val_acc: 0.9683\n",
      "Epoch 55/100\n",
      "1005/1005 [==============================] - 0s 49us/sample - loss: 9.4687e-04 - acc: 1.0000 - val_loss: 0.0967 - val_acc: 0.9683\n",
      "Epoch 56/100\n",
      "1005/1005 [==============================] - 0s 46us/sample - loss: 9.1360e-04 - acc: 1.0000 - val_loss: 0.0964 - val_acc: 0.9683\n",
      "Epoch 57/100\n",
      "1005/1005 [==============================] - 0s 52us/sample - loss: 8.8193e-04 - acc: 1.0000 - val_loss: 0.0960 - val_acc: 0.9683\n",
      "Epoch 58/100\n",
      "1005/1005 [==============================] - 0s 49us/sample - loss: 8.5355e-04 - acc: 1.0000 - val_loss: 0.0957 - val_acc: 0.9683\n",
      "Epoch 59/100\n",
      "1005/1005 [==============================] - 0s 46us/sample - loss: 8.2521e-04 - acc: 1.0000 - val_loss: 0.0954 - val_acc: 0.9722\n",
      "Epoch 60/100\n",
      "1005/1005 [==============================] - 0s 47us/sample - loss: 7.9869e-04 - acc: 1.0000 - val_loss: 0.0950 - val_acc: 0.9722\n",
      "Epoch 61/100\n",
      "1005/1005 [==============================] - 0s 54us/sample - loss: 7.7282e-04 - acc: 1.0000 - val_loss: 0.0943 - val_acc: 0.9722\n",
      "Epoch 62/100\n",
      "1005/1005 [==============================] - 0s 51us/sample - loss: 7.4876e-04 - acc: 1.0000 - val_loss: 0.0943 - val_acc: 0.9722\n",
      "Epoch 63/100\n",
      "1005/1005 [==============================] - 0s 48us/sample - loss: 7.2539e-04 - acc: 1.0000 - val_loss: 0.0939 - val_acc: 0.9722\n",
      "Epoch 64/100\n",
      "1005/1005 [==============================] - 0s 47us/sample - loss: 7.0349e-04 - acc: 1.0000 - val_loss: 0.0933 - val_acc: 0.9762\n",
      "Epoch 65/100\n",
      "1005/1005 [==============================] - 0s 46us/sample - loss: 6.8255e-04 - acc: 1.0000 - val_loss: 0.0929 - val_acc: 0.9762\n",
      "Epoch 66/100\n",
      "1005/1005 [==============================] - 0s 47us/sample - loss: 6.6234e-04 - acc: 1.0000 - val_loss: 0.0925 - val_acc: 0.9802\n",
      "Epoch 67/100\n",
      "1005/1005 [==============================] - 0s 46us/sample - loss: 6.4372e-04 - acc: 1.0000 - val_loss: 0.0922 - val_acc: 0.9802\n",
      "Epoch 68/100\n",
      "1005/1005 [==============================] - 0s 50us/sample - loss: 6.2478e-04 - acc: 1.0000 - val_loss: 0.0919 - val_acc: 0.9802\n",
      "Epoch 69/100\n",
      "1005/1005 [==============================] - 0s 47us/sample - loss: 6.0765e-04 - acc: 1.0000 - val_loss: 0.0916 - val_acc: 0.9802\n",
      "Epoch 70/100\n",
      "1005/1005 [==============================] - 0s 46us/sample - loss: 5.9082e-04 - acc: 1.0000 - val_loss: 0.0913 - val_acc: 0.9802\n",
      "Epoch 71/100\n",
      "1005/1005 [==============================] - 0s 46us/sample - loss: 5.7481e-04 - acc: 1.0000 - val_loss: 0.0908 - val_acc: 0.9802\n",
      "Epoch 72/100\n",
      "1005/1005 [==============================] - 0s 46us/sample - loss: 5.5956e-04 - acc: 1.0000 - val_loss: 0.0906 - val_acc: 0.9802\n",
      "Epoch 73/100\n",
      "1005/1005 [==============================] - 0s 46us/sample - loss: 5.4416e-04 - acc: 1.0000 - val_loss: 0.0903 - val_acc: 0.9802\n",
      "Epoch 74/100\n",
      "1005/1005 [==============================] - 0s 46us/sample - loss: 5.3024e-04 - acc: 1.0000 - val_loss: 0.0902 - val_acc: 0.9802\n",
      "Epoch 75/100\n",
      "1005/1005 [==============================] - 0s 48us/sample - loss: 5.1615e-04 - acc: 1.0000 - val_loss: 0.0898 - val_acc: 0.9802\n",
      "Epoch 76/100\n",
      "1005/1005 [==============================] - 0s 46us/sample - loss: 5.0284e-04 - acc: 1.0000 - val_loss: 0.0894 - val_acc: 0.9802\n",
      "Epoch 77/100\n",
      "1005/1005 [==============================] - 0s 47us/sample - loss: 4.9016e-04 - acc: 1.0000 - val_loss: 0.0894 - val_acc: 0.9802\n",
      "Epoch 78/100\n",
      "1005/1005 [==============================] - 0s 46us/sample - loss: 4.7732e-04 - acc: 1.0000 - val_loss: 0.0891 - val_acc: 0.9802\n",
      "Epoch 79/100\n",
      "1005/1005 [==============================] - 0s 46us/sample - loss: 4.6556e-04 - acc: 1.0000 - val_loss: 0.0889 - val_acc: 0.9802\n",
      "Epoch 80/100\n",
      "1005/1005 [==============================] - 0s 46us/sample - loss: 4.5383e-04 - acc: 1.0000 - val_loss: 0.0887 - val_acc: 0.9802\n",
      "Epoch 81/100\n",
      "1005/1005 [==============================] - 0s 52us/sample - loss: 4.4248e-04 - acc: 1.0000 - val_loss: 0.0884 - val_acc: 0.9802\n",
      "Epoch 82/100\n",
      "1005/1005 [==============================] - 0s 53us/sample - loss: 4.3194e-04 - acc: 1.0000 - val_loss: 0.0882 - val_acc: 0.9802\n",
      "Epoch 83/100\n",
      "1005/1005 [==============================] - 0s 53us/sample - loss: 4.2139e-04 - acc: 1.0000 - val_loss: 0.0879 - val_acc: 0.9802\n",
      "Epoch 84/100\n",
      "1005/1005 [==============================] - 0s 51us/sample - loss: 4.1121e-04 - acc: 1.0000 - val_loss: 0.0878 - val_acc: 0.9802\n",
      "Epoch 85/100\n",
      "1005/1005 [==============================] - 0s 50us/sample - loss: 4.0116e-04 - acc: 1.0000 - val_loss: 0.0876 - val_acc: 0.9802\n",
      "Epoch 86/100\n",
      "1005/1005 [==============================] - 0s 49us/sample - loss: 3.9159e-04 - acc: 1.0000 - val_loss: 0.0873 - val_acc: 0.9802\n",
      "Epoch 87/100\n",
      "1005/1005 [==============================] - 0s 47us/sample - loss: 3.8220e-04 - acc: 1.0000 - val_loss: 0.0871 - val_acc: 0.9802\n",
      "Epoch 88/100\n",
      "1005/1005 [==============================] - 0s 46us/sample - loss: 3.7278e-04 - acc: 1.0000 - val_loss: 0.0869 - val_acc: 0.9802\n",
      "Epoch 89/100\n",
      "1005/1005 [==============================] - 0s 46us/sample - loss: 3.6340e-04 - acc: 1.0000 - val_loss: 0.0866 - val_acc: 0.9802\n",
      "Epoch 90/100\n",
      "1005/1005 [==============================] - 0s 46us/sample - loss: 3.5467e-04 - acc: 1.0000 - val_loss: 0.0865 - val_acc: 0.9802\n",
      "Epoch 91/100\n",
      "1005/1005 [==============================] - 0s 46us/sample - loss: 3.4610e-04 - acc: 1.0000 - val_loss: 0.0862 - val_acc: 0.9802\n",
      "Epoch 92/100\n",
      "1005/1005 [==============================] - 0s 46us/sample - loss: 3.3771e-04 - acc: 1.0000 - val_loss: 0.0858 - val_acc: 0.9802\n",
      "Epoch 93/100\n",
      "1005/1005 [==============================] - 0s 45us/sample - loss: 3.2993e-04 - acc: 1.0000 - val_loss: 0.0856 - val_acc: 0.9802\n",
      "Epoch 94/100\n",
      "1005/1005 [==============================] - 0s 46us/sample - loss: 3.2193e-04 - acc: 1.0000 - val_loss: 0.0853 - val_acc: 0.9802\n",
      "Epoch 95/100\n",
      "1005/1005 [==============================] - 0s 46us/sample - loss: 3.1450e-04 - acc: 1.0000 - val_loss: 0.0851 - val_acc: 0.9802\n",
      "Epoch 96/100\n",
      "1005/1005 [==============================] - 0s 46us/sample - loss: 3.0709e-04 - acc: 1.0000 - val_loss: 0.0850 - val_acc: 0.9802\n",
      "Epoch 97/100\n",
      "1005/1005 [==============================] - 0s 46us/sample - loss: 3.0020e-04 - acc: 1.0000 - val_loss: 0.0845 - val_acc: 0.9802\n",
      "Epoch 98/100\n",
      "1005/1005 [==============================] - 0s 46us/sample - loss: 2.9347e-04 - acc: 1.0000 - val_loss: 0.0843 - val_acc: 0.9802\n",
      "Epoch 99/100\n",
      "1005/1005 [==============================] - 0s 47us/sample - loss: 2.8678e-04 - acc: 1.0000 - val_loss: 0.0842 - val_acc: 0.9802\n",
      "Epoch 100/100\n",
      "1005/1005 [==============================] - 0s 46us/sample - loss: 2.8045e-04 - acc: 1.0000 - val_loss: 0.0839 - val_acc: 0.9802\n",
      "------------------------------------------------------------------------\n",
      "Train on 1005 samples, validate on 252 samples\n",
      "Epoch 1/100\n",
      "1005/1005 [==============================] - 0s 432us/sample - loss: 2.2891 - acc: 0.4547 - val_loss: 0.5905 - val_acc: 0.8254\n",
      "Epoch 2/100\n",
      "1005/1005 [==============================] - 0s 93us/sample - loss: 0.4400 - acc: 0.8736 - val_loss: 0.2556 - val_acc: 0.9167\n",
      "Epoch 3/100\n",
      "1005/1005 [==============================] - 0s 71us/sample - loss: 0.2262 - acc: 0.9353 - val_loss: 0.2045 - val_acc: 0.9484\n",
      "Epoch 4/100\n",
      "1005/1005 [==============================] - 0s 59us/sample - loss: 0.1601 - acc: 0.9602 - val_loss: 0.1721 - val_acc: 0.9484\n",
      "Epoch 5/100\n",
      "1005/1005 [==============================] - 0s 51us/sample - loss: 0.1238 - acc: 0.9662 - val_loss: 0.1568 - val_acc: 0.9563\n",
      "Epoch 6/100\n",
      "1005/1005 [==============================] - 0s 47us/sample - loss: 0.0965 - acc: 0.9781 - val_loss: 0.1435 - val_acc: 0.9603\n",
      "Epoch 7/100\n",
      "1005/1005 [==============================] - 0s 47us/sample - loss: 0.0786 - acc: 0.9831 - val_loss: 0.1394 - val_acc: 0.9603\n",
      "Epoch 8/100\n",
      "1005/1005 [==============================] - 0s 48us/sample - loss: 0.0665 - acc: 0.9871 - val_loss: 0.1381 - val_acc: 0.9603\n",
      "Epoch 9/100\n",
      "1005/1005 [==============================] - 0s 47us/sample - loss: 0.0584 - acc: 0.9900 - val_loss: 0.1354 - val_acc: 0.9563\n",
      "Epoch 10/100\n",
      "1005/1005 [==============================] - 0s 46us/sample - loss: 0.0517 - acc: 0.9930 - val_loss: 0.1291 - val_acc: 0.9603\n",
      "Epoch 11/100\n",
      "1005/1005 [==============================] - 0s 47us/sample - loss: 0.0459 - acc: 0.9950 - val_loss: 0.1208 - val_acc: 0.9643\n",
      "Epoch 12/100\n",
      "1005/1005 [==============================] - 0s 46us/sample - loss: 0.0409 - acc: 0.9980 - val_loss: 0.1139 - val_acc: 0.9643\n",
      "Epoch 13/100\n",
      "1005/1005 [==============================] - 0s 46us/sample - loss: 0.0359 - acc: 0.9980 - val_loss: 0.1083 - val_acc: 0.9683\n",
      "Epoch 14/100\n",
      "1005/1005 [==============================] - 0s 46us/sample - loss: 0.0312 - acc: 0.9980 - val_loss: 0.1045 - val_acc: 0.9643\n",
      "Epoch 15/100\n",
      "1005/1005 [==============================] - 0s 46us/sample - loss: 0.0278 - acc: 0.9980 - val_loss: 0.1024 - val_acc: 0.9643\n",
      "Epoch 16/100\n",
      "1005/1005 [==============================] - 0s 49us/sample - loss: 0.0251 - acc: 0.9980 - val_loss: 0.1008 - val_acc: 0.9643\n",
      "Epoch 17/100\n",
      "1005/1005 [==============================] - 0s 45us/sample - loss: 0.0227 - acc: 0.9980 - val_loss: 0.0996 - val_acc: 0.9643\n",
      "Epoch 18/100\n",
      "1005/1005 [==============================] - 0s 47us/sample - loss: 0.0205 - acc: 0.9990 - val_loss: 0.0989 - val_acc: 0.9643\n",
      "Epoch 19/100\n",
      "1005/1005 [==============================] - 0s 46us/sample - loss: 0.0187 - acc: 0.9990 - val_loss: 0.0978 - val_acc: 0.9643\n",
      "Epoch 20/100\n",
      "1005/1005 [==============================] - 0s 46us/sample - loss: 0.0172 - acc: 0.9990 - val_loss: 0.0963 - val_acc: 0.9643\n",
      "Epoch 21/100\n",
      "1005/1005 [==============================] - 0s 46us/sample - loss: 0.0159 - acc: 0.9990 - val_loss: 0.0954 - val_acc: 0.9683\n",
      "Epoch 22/100\n",
      "1005/1005 [==============================] - 0s 46us/sample - loss: 0.0148 - acc: 1.0000 - val_loss: 0.0944 - val_acc: 0.9722\n",
      "Epoch 23/100\n",
      "1005/1005 [==============================] - 0s 50us/sample - loss: 0.0137 - acc: 1.0000 - val_loss: 0.0937 - val_acc: 0.9683\n",
      "Epoch 24/100\n",
      "1005/1005 [==============================] - 0s 52us/sample - loss: 0.0128 - acc: 1.0000 - val_loss: 0.0932 - val_acc: 0.9722\n",
      "Epoch 25/100\n",
      "1005/1005 [==============================] - 0s 50us/sample - loss: 0.0120 - acc: 1.0000 - val_loss: 0.0927 - val_acc: 0.9762\n",
      "Epoch 26/100\n",
      "1005/1005 [==============================] - 0s 50us/sample - loss: 0.0112 - acc: 1.0000 - val_loss: 0.0925 - val_acc: 0.9762\n",
      "Epoch 27/100\n",
      "1005/1005 [==============================] - 0s 49us/sample - loss: 0.0105 - acc: 1.0000 - val_loss: 0.0919 - val_acc: 0.9762\n",
      "Epoch 28/100\n",
      "1005/1005 [==============================] - 0s 48us/sample - loss: 0.0099 - acc: 1.0000 - val_loss: 0.0916 - val_acc: 0.9762\n",
      "Epoch 29/100\n",
      "1005/1005 [==============================] - 0s 49us/sample - loss: 0.0093 - acc: 1.0000 - val_loss: 0.0914 - val_acc: 0.9762\n",
      "Epoch 30/100\n",
      "1005/1005 [==============================] - 0s 49us/sample - loss: 0.0087 - acc: 1.0000 - val_loss: 0.0909 - val_acc: 0.9762\n",
      "Epoch 31/100\n",
      "1005/1005 [==============================] - 0s 47us/sample - loss: 0.0083 - acc: 1.0000 - val_loss: 0.0909 - val_acc: 0.9762\n",
      "Epoch 32/100\n",
      "1005/1005 [==============================] - 0s 46us/sample - loss: 0.0078 - acc: 1.0000 - val_loss: 0.0903 - val_acc: 0.9762\n",
      "Epoch 33/100\n",
      "1005/1005 [==============================] - 0s 49us/sample - loss: 0.0074 - acc: 1.0000 - val_loss: 0.0904 - val_acc: 0.9762\n",
      "Epoch 34/100\n",
      "1005/1005 [==============================] - 0s 51us/sample - loss: 0.0070 - acc: 1.0000 - val_loss: 0.0904 - val_acc: 0.9762\n",
      "Epoch 35/100\n",
      "1005/1005 [==============================] - 0s 50us/sample - loss: 0.0067 - acc: 1.0000 - val_loss: 0.0904 - val_acc: 0.9762\n",
      "Epoch 36/100\n",
      "1005/1005 [==============================] - 0s 47us/sample - loss: 0.0063 - acc: 1.0000 - val_loss: 0.0901 - val_acc: 0.9762\n",
      "Epoch 37/100\n",
      "1005/1005 [==============================] - 0s 47us/sample - loss: 0.0060 - acc: 1.0000 - val_loss: 0.0903 - val_acc: 0.9762\n",
      "Epoch 38/100\n",
      "1005/1005 [==============================] - 0s 47us/sample - loss: 0.0058 - acc: 1.0000 - val_loss: 0.0902 - val_acc: 0.9762\n",
      "Epoch 39/100\n",
      "1005/1005 [==============================] - 0s 51us/sample - loss: 0.0055 - acc: 1.0000 - val_loss: 0.0902 - val_acc: 0.9762\n",
      "Epoch 40/100\n",
      "1005/1005 [==============================] - 0s 48us/sample - loss: 0.0053 - acc: 1.0000 - val_loss: 0.0902 - val_acc: 0.9762\n",
      "Epoch 41/100\n",
      "1005/1005 [==============================] - 0s 46us/sample - loss: 0.0050 - acc: 1.0000 - val_loss: 0.0903 - val_acc: 0.9762\n",
      "Epoch 42/100\n",
      "1005/1005 [==============================] - 0s 46us/sample - loss: 0.0048 - acc: 1.0000 - val_loss: 0.0902 - val_acc: 0.9762\n",
      "Epoch 43/100\n",
      "1005/1005 [==============================] - 0s 46us/sample - loss: 0.0046 - acc: 1.0000 - val_loss: 0.0904 - val_acc: 0.9762\n",
      "Epoch 44/100\n",
      "1005/1005 [==============================] - 0s 46us/sample - loss: 0.0044 - acc: 1.0000 - val_loss: 0.0903 - val_acc: 0.9762\n",
      "Epoch 45/100\n",
      "1005/1005 [==============================] - 0s 46us/sample - loss: 0.0043 - acc: 1.0000 - val_loss: 0.0900 - val_acc: 0.9762\n",
      "Epoch 46/100\n",
      "1005/1005 [==============================] - 0s 46us/sample - loss: 0.0041 - acc: 1.0000 - val_loss: 0.0903 - val_acc: 0.9762\n",
      "Epoch 47/100\n",
      "1005/1005 [==============================] - 0s 50us/sample - loss: 0.0040 - acc: 1.0000 - val_loss: 0.0903 - val_acc: 0.9762\n",
      "Epoch 48/100\n",
      "1005/1005 [==============================] - 0s 51us/sample - loss: 0.0038 - acc: 1.0000 - val_loss: 0.0904 - val_acc: 0.9762\n",
      "Epoch 49/100\n",
      "1005/1005 [==============================] - 0s 50us/sample - loss: 0.0037 - acc: 1.0000 - val_loss: 0.0903 - val_acc: 0.9762\n",
      "Epoch 50/100\n",
      "1005/1005 [==============================] - 0s 46us/sample - loss: 0.0035 - acc: 1.0000 - val_loss: 0.0902 - val_acc: 0.9762\n",
      "Epoch 51/100\n",
      "1005/1005 [==============================] - 0s 46us/sample - loss: 0.0034 - acc: 1.0000 - val_loss: 0.0903 - val_acc: 0.9762\n",
      "Epoch 52/100\n",
      "1005/1005 [==============================] - 0s 46us/sample - loss: 0.0033 - acc: 1.0000 - val_loss: 0.0901 - val_acc: 0.9762\n",
      "Epoch 53/100\n",
      "1005/1005 [==============================] - 0s 49us/sample - loss: 0.0032 - acc: 1.0000 - val_loss: 0.0902 - val_acc: 0.9762\n",
      "Epoch 54/100\n",
      "1005/1005 [==============================] - 0s 48us/sample - loss: 0.0031 - acc: 1.0000 - val_loss: 0.0904 - val_acc: 0.9762\n",
      "Epoch 55/100\n",
      "1005/1005 [==============================] - 0s 49us/sample - loss: 0.0030 - acc: 1.0000 - val_loss: 0.0902 - val_acc: 0.9762\n",
      "Epoch 56/100\n",
      "1005/1005 [==============================] - 0s 51us/sample - loss: 0.0029 - acc: 1.0000 - val_loss: 0.0901 - val_acc: 0.9762\n",
      "Epoch 57/100\n",
      "1005/1005 [==============================] - 0s 50us/sample - loss: 0.0028 - acc: 1.0000 - val_loss: 0.0901 - val_acc: 0.9762\n",
      "Epoch 58/100\n",
      "1005/1005 [==============================] - 0s 50us/sample - loss: 0.0027 - acc: 1.0000 - val_loss: 0.0902 - val_acc: 0.9762\n",
      "Epoch 59/100\n",
      "1005/1005 [==============================] - 0s 50us/sample - loss: 0.0026 - acc: 1.0000 - val_loss: 0.0900 - val_acc: 0.9762\n",
      "Epoch 60/100\n",
      "1005/1005 [==============================] - 0s 50us/sample - loss: 0.0025 - acc: 1.0000 - val_loss: 0.0900 - val_acc: 0.9762\n",
      "Epoch 61/100\n",
      "1005/1005 [==============================] - 0s 51us/sample - loss: 0.0025 - acc: 1.0000 - val_loss: 0.0900 - val_acc: 0.9762\n",
      "Epoch 62/100\n",
      "1005/1005 [==============================] - 0s 50us/sample - loss: 0.0024 - acc: 1.0000 - val_loss: 0.0901 - val_acc: 0.9762\n",
      "Epoch 63/100\n",
      "1005/1005 [==============================] - 0s 50us/sample - loss: 0.0023 - acc: 1.0000 - val_loss: 0.0900 - val_acc: 0.9762\n",
      "Epoch 64/100\n",
      "1005/1005 [==============================] - 0s 50us/sample - loss: 0.0023 - acc: 1.0000 - val_loss: 0.0899 - val_acc: 0.9762\n",
      "Epoch 65/100\n",
      "1005/1005 [==============================] - 0s 47us/sample - loss: 0.0022 - acc: 1.0000 - val_loss: 0.0899 - val_acc: 0.9762\n",
      "Epoch 66/100\n",
      "1005/1005 [==============================] - 0s 46us/sample - loss: 0.0021 - acc: 1.0000 - val_loss: 0.0899 - val_acc: 0.9762\n",
      "Epoch 67/100\n",
      "1005/1005 [==============================] - 0s 50us/sample - loss: 0.0021 - acc: 1.0000 - val_loss: 0.0899 - val_acc: 0.9762\n",
      "Epoch 68/100\n",
      "1005/1005 [==============================] - 0s 50us/sample - loss: 0.0020 - acc: 1.0000 - val_loss: 0.0900 - val_acc: 0.9762\n",
      "Epoch 69/100\n",
      "1005/1005 [==============================] - 0s 50us/sample - loss: 0.0020 - acc: 1.0000 - val_loss: 0.0899 - val_acc: 0.9762\n",
      "Epoch 70/100\n",
      "1005/1005 [==============================] - 0s 47us/sample - loss: 0.0019 - acc: 1.0000 - val_loss: 0.0899 - val_acc: 0.9762\n",
      "Epoch 71/100\n",
      "1005/1005 [==============================] - 0s 46us/sample - loss: 0.0019 - acc: 1.0000 - val_loss: 0.0898 - val_acc: 0.9762\n",
      "Epoch 72/100\n",
      "1005/1005 [==============================] - 0s 46us/sample - loss: 0.0018 - acc: 1.0000 - val_loss: 0.0898 - val_acc: 0.9762\n",
      "Epoch 73/100\n",
      "1005/1005 [==============================] - 0s 46us/sample - loss: 0.0018 - acc: 1.0000 - val_loss: 0.0898 - val_acc: 0.9762\n",
      "Epoch 74/100\n",
      "1005/1005 [==============================] - 0s 48us/sample - loss: 0.0017 - acc: 1.0000 - val_loss: 0.0899 - val_acc: 0.9762\n",
      "Epoch 75/100\n",
      "1005/1005 [==============================] - 0s 46us/sample - loss: 0.0017 - acc: 1.0000 - val_loss: 0.0898 - val_acc: 0.9762\n",
      "Epoch 76/100\n",
      "1005/1005 [==============================] - 0s 47us/sample - loss: 0.0016 - acc: 1.0000 - val_loss: 0.0898 - val_acc: 0.9762\n",
      "Epoch 77/100\n",
      "1005/1005 [==============================] - 0s 46us/sample - loss: 0.0016 - acc: 1.0000 - val_loss: 0.0898 - val_acc: 0.9762\n",
      "Epoch 78/100\n",
      "1005/1005 [==============================] - 0s 46us/sample - loss: 0.0016 - acc: 1.0000 - val_loss: 0.0898 - val_acc: 0.9762\n",
      "Epoch 79/100\n",
      "1005/1005 [==============================] - 0s 46us/sample - loss: 0.0015 - acc: 1.0000 - val_loss: 0.0899 - val_acc: 0.9762\n",
      "Epoch 80/100\n",
      "1005/1005 [==============================] - 0s 46us/sample - loss: 0.0015 - acc: 1.0000 - val_loss: 0.0898 - val_acc: 0.9762\n",
      "Epoch 81/100\n",
      "1005/1005 [==============================] - 0s 45us/sample - loss: 0.0014 - acc: 1.0000 - val_loss: 0.0898 - val_acc: 0.9762\n",
      "Epoch 82/100\n",
      "1005/1005 [==============================] - 0s 47us/sample - loss: 0.0014 - acc: 1.0000 - val_loss: 0.0898 - val_acc: 0.9762\n",
      "Epoch 83/100\n",
      "1005/1005 [==============================] - 0s 46us/sample - loss: 0.0014 - acc: 1.0000 - val_loss: 0.0899 - val_acc: 0.9762\n",
      "Epoch 84/100\n",
      "1005/1005 [==============================] - 0s 47us/sample - loss: 0.0013 - acc: 1.0000 - val_loss: 0.0899 - val_acc: 0.9762\n",
      "Epoch 85/100\n",
      "1005/1005 [==============================] - 0s 46us/sample - loss: 0.0013 - acc: 1.0000 - val_loss: 0.0898 - val_acc: 0.9762\n",
      "Epoch 86/100\n",
      "1005/1005 [==============================] - 0s 46us/sample - loss: 0.0013 - acc: 1.0000 - val_loss: 0.0899 - val_acc: 0.9762\n",
      "Epoch 87/100\n",
      "1005/1005 [==============================] - 0s 47us/sample - loss: 0.0013 - acc: 1.0000 - val_loss: 0.0899 - val_acc: 0.9762\n",
      "Epoch 88/100\n",
      "1005/1005 [==============================] - 0s 48us/sample - loss: 0.0012 - acc: 1.0000 - val_loss: 0.0900 - val_acc: 0.9762\n",
      "Epoch 89/100\n",
      "1005/1005 [==============================] - 0s 48us/sample - loss: 0.0012 - acc: 1.0000 - val_loss: 0.0899 - val_acc: 0.9762\n",
      "Epoch 90/100\n",
      "1005/1005 [==============================] - 0s 47us/sample - loss: 0.0012 - acc: 1.0000 - val_loss: 0.0899 - val_acc: 0.9762\n",
      "Epoch 91/100\n",
      "1005/1005 [==============================] - 0s 46us/sample - loss: 0.0011 - acc: 1.0000 - val_loss: 0.0899 - val_acc: 0.9762\n",
      "Epoch 92/100\n",
      "1005/1005 [==============================] - 0s 47us/sample - loss: 0.0011 - acc: 1.0000 - val_loss: 0.0899 - val_acc: 0.9762\n",
      "Epoch 93/100\n",
      "1005/1005 [==============================] - 0s 46us/sample - loss: 0.0011 - acc: 1.0000 - val_loss: 0.0900 - val_acc: 0.9762\n",
      "Epoch 94/100\n",
      "1005/1005 [==============================] - 0s 46us/sample - loss: 0.0011 - acc: 1.0000 - val_loss: 0.0898 - val_acc: 0.9762\n",
      "Epoch 95/100\n",
      "1005/1005 [==============================] - 0s 45us/sample - loss: 0.0011 - acc: 1.0000 - val_loss: 0.0899 - val_acc: 0.9762\n",
      "Epoch 96/100\n",
      "1005/1005 [==============================] - 0s 47us/sample - loss: 0.0010 - acc: 1.0000 - val_loss: 0.0899 - val_acc: 0.9762\n",
      "Epoch 97/100\n",
      "1005/1005 [==============================] - 0s 46us/sample - loss: 0.0010 - acc: 1.0000 - val_loss: 0.0899 - val_acc: 0.9762\n",
      "Epoch 98/100\n",
      "1005/1005 [==============================] - 0s 47us/sample - loss: 9.8597e-04 - acc: 1.0000 - val_loss: 0.0900 - val_acc: 0.9762\n",
      "Epoch 99/100\n",
      "1005/1005 [==============================] - 0s 53us/sample - loss: 9.6565e-04 - acc: 1.0000 - val_loss: 0.0899 - val_acc: 0.9762\n",
      "Epoch 100/100\n",
      "1005/1005 [==============================] - 0s 53us/sample - loss: 9.4551e-04 - acc: 1.0000 - val_loss: 0.0899 - val_acc: 0.9762\n"
     ]
    }
   ],
   "source": [
    "orig_history0 = orig_model0.fit(X_train, y_train, batch_size = 50, validation_split = 0.2, epochs = 100, verbose = 1, shuffle=False)\n",
    "print(72*'-')\n",
    "orig_history1 = orig_model1.fit(X_train, y_train, batch_size = 50, validation_split = 0.2, epochs = 100, verbose = 1, shuffle=False)\n",
    "print(72*'-')\n",
    "noLU_history0 = noLU_model0.fit(X_train, y_train, batch_size = 50, validation_split = 0.2, epochs = 100, verbose = 1, shuffle=False)"
   ]
  },
  {
   "cell_type": "code",
   "execution_count": 64,
   "metadata": {},
   "outputs": [
    {
     "data": {
      "text/plain": [
       "dict_keys(['loss', 'acc', 'val_loss', 'val_acc'])"
      ]
     },
     "execution_count": 64,
     "metadata": {},
     "output_type": "execute_result"
    }
   ],
   "source": [
    "orig_history.history.keys()"
   ]
  },
  {
   "cell_type": "code",
   "execution_count": 87,
   "metadata": {},
   "outputs": [
    {
     "data": {
      "image/png": "[encoded data removed]",
      "text/plain": [
       "<Figure size 432x288 with 1 Axes>"
      ]
     },
     "metadata": {
      "needs_background": "dark"
     },
     "output_type": "display_data"
    }
   ],
   "source": [
    "plt.clf()\n",
    "plt.plot(orig_history0.history['val_acc'])\n",
    "plt.plot(orig_history1.history['val_acc'])\n",
    "plt.plot(noLU_history0.history['val_acc'])\n",
    "plt.xticks(color='w',fontsize=18)\n",
    "plt.yticks(color='w',fontsize=18)\n",
    "plt.show()"
   ]
  },
  {
   "cell_type": "code",
   "execution_count": 89,
   "metadata": {},
   "outputs": [
    {
     "data": {
      "image/png": "[encoded data removed]",
      "text/plain": [
       "<Figure size 432x288 with 1 Axes>"
      ]
     },
     "metadata": {
      "needs_background": "dark"
     },
     "output_type": "display_data"
    }
   ],
   "source": [
    "plt.clf()\n",
    "plt.semilogy(orig_history0.history['loss'])\n",
    "plt.semilogy(orig_history1.history['loss'])\n",
    "plt.semilogy(noLU_history0.history['loss'])\n",
    "plt.xticks(color='w',fontsize=18)\n",
    "plt.yticks([1e-2,1e-3,1e-4],color='w',fontsize=18)\n",
    "plt.show()"
   ]
  },
  {
   "cell_type": "code",
   "execution_count": 90,
   "metadata": {},
   "outputs": [],
   "source": [
    "orig_results0 = orig_model0.evaluate(X_test, y_test,verbose=0)\n",
    "orig_results1 = orig_model1.evaluate(X_test, y_test,verbose=0)\n",
    "noLU_results0 = noLU_model0.evaluate(X_test, y_test,verbose=0)"
   ]
  },
  {
   "cell_type": "code",
   "execution_count": 92,
   "metadata": {},
   "outputs": [
    {
     "name": "stdout",
     "output_type": "stream",
     "text": [
      "   0-Original Test accuracy:  0.97407407\n",
      "   1-Original Test accuracy:  0.9685185\n",
      "No activation Test accuracy:  0.9685185\n",
      "MUST PERFORM STATISTICS EVEN ON SIMPLE DATASETS\n",
      " AND THINK CAREFULLY ABOUT THE LAYERS WE THINK WE ARE ADDING\n"
     ]
    }
   ],
   "source": [
    "print('   0-Original Test accuracy: ', orig_results0[1])\n",
    "print('   1-Original Test accuracy: ', orig_results1[1])\n",
    "print('No activation Test accuracy: ', noLU_results0[1])\n",
    "print('MUST PERFORM STATISTICS EVEN ON SIMPLE DATASETS')\n",
    "print(' AND THINK CAREFULLY ABOUT THE LAYERS WE THINK WE ARE ADDING')"
   ]
  },
  {
   "cell_type": "markdown",
   "metadata": {},
   "source": [
    "Summary\n",
    "---\n",
    "\n",
    "* Even simple CNN model shows fine performance of **97%** test accuracy\n",
    "* Difficult to perform small change and measure outcomes deterministically, must use statistics\n",
    "* Helps to functionally define model and evalute results to improve statistical appreciation of layer construction\n",
    "* Relatively straightforward to program CNN on ASU HPC systems with Python."
   ]
  },
  {
   "cell_type": "code",
   "execution_count": 93,
   "metadata": {},
   "outputs": [
    {
     "name": "stdout",
     "output_type": "stream",
     "text": [
      "cg32-1.agave.rc.asu.edu\n"
     ]
    }
   ],
   "source": [
    "!hostname"
   ]
  },
  {
   "cell_type": "code",
   "execution_count": 94,
   "metadata": {},
   "outputs": [
    {
     "name": "stdout",
     "output_type": "stream",
     "text": [
      "Mon Mar  9 22:08:45 2020       \n",
      "+-----------------------------------------------------------------------------+\n",
      "| NVIDIA-SMI 440.33.01    Driver Version: 440.33.01    CUDA Version: 10.2     |\n",
      "|-------------------------------+----------------------+----------------------+\n",
      "| GPU  Name        Persistence-M| Bus-Id        Disp.A | Volatile Uncorr. ECC |\n",
      "| Fan  Temp  Perf  Pwr:Usage/Cap|         Memory-Usage | GPU-Util  Compute M. |\n",
      "|===============================+======================+======================|\n",
      "|   0  Tesla V100-SXM2...  Off  | 00000000:18:00.0 Off |                    0 |\n",
      "| N/A   36C    P0    56W / 300W |  15842MiB / 16160MiB |      0%      Default |\n",
      "+-------------------------------+----------------------+----------------------+\n",
      "                                                                               \n",
      "+-----------------------------------------------------------------------------+\n",
      "| Processes:                                                       GPU Memory |\n",
      "|  GPU       PID   Type   Process name                             Usage      |\n",
      "|=============================================================================|\n",
      "|    0     11071      C   ...conda3/5.3.0/envs/tf1.13-gpu/bin/python 15831MiB |\n",
      "+-----------------------------------------------------------------------------+\n"
     ]
    }
   ],
   "source": [
    "!nvidia-smi"
   ]
  },
  {
   "cell_type": "code",
   "execution_count": null,
   "metadata": {},
   "outputs": [],
   "source": []
  }
 ],
 "metadata": {
  "kernelspec": {
   "display_name": "tf1.13-gpu (Tensorflow)",
   "language": "python",
   "name": "tf1.13-gpu"
  },
  "language_info": {
   "codemirror_mode": {
    "name": "ipython",
    "version": 3
   },
   "file_extension": ".py",
   "mimetype": "text/x-python",
   "name": "python",
   "nbconvert_exporter": "python",
   "pygments_lexer": "ipython3",
   "version": "3.7.3"
  }
 },
 "nbformat": 4,
 "nbformat_minor": 4
}
