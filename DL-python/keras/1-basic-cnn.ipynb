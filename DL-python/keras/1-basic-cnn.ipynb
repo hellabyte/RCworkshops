{
 "cells": [
  {
   "cell_type": "markdown",
   "metadata": {},
   "source": [
    "# Basic Convolutional Neural Networks (CNN)\n",
    "- Objective: create basic CNN models with Keras"
   ]
  },
  {
   "cell_type": "markdown",
   "metadata": {},
   "source": [
    "<img src=\"https://adeshpande3.github.io/assets/Cover.png\" style=\"width: 800px\"/>\n",
    "\n",
    "<br>\n",
    "\n",
    "- Fundamental CNN structures: CNNs are similar to Multilayer Perceptrons (MLPs) since they only feed signals forward (feedforward nets), but have different kind of layers unique to CNNs  \n",
    "  - ** Convolutional layer** : process data in a small receptive field (i.e., filter)  \n",
    "  - ** Pooling layer** : downsample along 2 dimensions (usually width and height)   \n",
    "  - ** Dense (fully connected) layer** : similar to hidden layers of MLPs  "
   ]
  },
  {
   "cell_type": "markdown",
   "metadata": {},
   "source": [
    "<img src=\"http://cs231n.github.io/assets/cnn/convnet.jpeg\" style=\"width: 600px\"/>\n",
    "<br>\n",
    "<center> **ConvNet architecture** </center>"
   ]
  },
  {
   "cell_type": "code",
   "execution_count": 1,
   "metadata": {},
   "outputs": [
    {
     "name": "stdout",
     "output_type": "stream",
     "text": [
      "Mon Mar  9 13:21:52 2020       \n",
      "+-----------------------------------------------------------------------------+\n",
      "| NVIDIA-SMI 440.33.01    Driver Version: 440.33.01    CUDA Version: 10.2     |\n",
      "|-------------------------------+----------------------+----------------------+\n",
      "| GPU  Name        Persistence-M| Bus-Id        Disp.A | Volatile Uncorr. ECC |\n",
      "| Fan  Temp  Perf  Pwr:Usage/Cap|         Memory-Usage | GPU-Util  Compute M. |\n",
      "|===============================+======================+======================|\n",
      "|   0  Tesla V100-SXM2...  Off  | 00000000:86:00.0 Off |                    0 |\n",
      "| N/A   27C    P0    53W / 300W |      0MiB / 16160MiB |      0%      Default |\n",
      "+-------------------------------+----------------------+----------------------+\n",
      "                                                                               \n",
      "+-----------------------------------------------------------------------------+\n",
      "| Processes:                                                       GPU Memory |\n",
      "|  GPU       PID   Type   Process name                             Usage      |\n",
      "|=============================================================================|\n",
      "|  No running processes found                                                 |\n",
      "+-----------------------------------------------------------------------------+\n",
      " 13:21:52 up 40 days, 23:51,  0 users,  load average: 0.48, 0.39, 1.80\n"
     ]
    }
   ],
   "source": [
    "!nvidia-smi\n",
    "!uptime\n",
    "!nproc"
   ]
  },
  {
   "cell_type": "code",
   "execution_count": 3,
   "metadata": {},
   "outputs": [
    {
     "name": "stderr",
     "output_type": "stream",
     "text": [
      "/packages/7x/anaconda3/5.3.0/envs/tf1.13-gpu/lib/python3.7/site-packages/tensorflow/python/framework/dtypes.py:526: FutureWarning: Passing (type, 1) or '1type' as a synonym of type is deprecated; in a future version of numpy, it will be understood as (type, (1,)) / '(1,)type'.\n",
      "  _np_qint8 = np.dtype([(\"qint8\", np.int8, 1)])\n",
      "/packages/7x/anaconda3/5.3.0/envs/tf1.13-gpu/lib/python3.7/site-packages/tensorflow/python/framework/dtypes.py:527: FutureWarning: Passing (type, 1) or '1type' as a synonym of type is deprecated; in a future version of numpy, it will be understood as (type, (1,)) / '(1,)type'.\n",
      "  _np_quint8 = np.dtype([(\"quint8\", np.uint8, 1)])\n",
      "/packages/7x/anaconda3/5.3.0/envs/tf1.13-gpu/lib/python3.7/site-packages/tensorflow/python/framework/dtypes.py:528: FutureWarning: Passing (type, 1) or '1type' as a synonym of type is deprecated; in a future version of numpy, it will be understood as (type, (1,)) / '(1,)type'.\n",
      "  _np_qint16 = np.dtype([(\"qint16\", np.int16, 1)])\n",
      "/packages/7x/anaconda3/5.3.0/envs/tf1.13-gpu/lib/python3.7/site-packages/tensorflow/python/framework/dtypes.py:529: FutureWarning: Passing (type, 1) or '1type' as a synonym of type is deprecated; in a future version of numpy, it will be understood as (type, (1,)) / '(1,)type'.\n",
      "  _np_quint16 = np.dtype([(\"quint16\", np.uint16, 1)])\n",
      "/packages/7x/anaconda3/5.3.0/envs/tf1.13-gpu/lib/python3.7/site-packages/tensorflow/python/framework/dtypes.py:530: FutureWarning: Passing (type, 1) or '1type' as a synonym of type is deprecated; in a future version of numpy, it will be understood as (type, (1,)) / '(1,)type'.\n",
      "  _np_qint32 = np.dtype([(\"qint32\", np.int32, 1)])\n",
      "/packages/7x/anaconda3/5.3.0/envs/tf1.13-gpu/lib/python3.7/site-packages/tensorflow/python/framework/dtypes.py:535: FutureWarning: Passing (type, 1) or '1type' as a synonym of type is deprecated; in a future version of numpy, it will be understood as (type, (1,)) / '(1,)type'.\n",
      "  np_resource = np.dtype([(\"resource\", np.ubyte, 1)])\n"
     ]
    }
   ],
   "source": [
    "import numpy as np\n",
    "import matplotlib.pyplot as plt\n",
    "\n",
    "from sklearn import datasets\n",
    "from sklearn.model_selection import train_test_split\n",
    "from tensorflow.keras.utils import to_categorical"
   ]
  },
  {
   "cell_type": "markdown",
   "metadata": {},
   "source": [
    "### Load Datset\n",
    "- Digits dataset in sklearn\n",
    "- Doc: http://scikit-learn.org/stable/auto_examples/datasets/plot_digits_last_image.html"
   ]
  },
  {
   "cell_type": "code",
   "execution_count": 4,
   "metadata": {},
   "outputs": [],
   "source": [
    "data = datasets.load_digits()"
   ]
  },
  {
   "cell_type": "code",
   "execution_count": 5,
   "metadata": {},
   "outputs": [
    {
     "data": {
      "text/plain": [
       "1797"
      ]
     },
     "execution_count": 5,
     "metadata": {},
     "output_type": "execute_result"
    }
   ],
   "source": [
    "K,M,N = data.images.shape\n",
    "FI = data.images[:10].reshape((10*M,N))\n",
    "K"
   ]
  },
  {
   "cell_type": "code",
   "execution_count": 6,
   "metadata": {},
   "outputs": [
    {
     "data": {
      "image/png": "[encoded data removed]",
      "text/plain": [
       "<Figure size 1440x1440 with 1 Axes>"
      ]
     },
     "metadata": {
      "needs_background": "light"
     },
     "output_type": "display_data"
    }
   ],
   "source": [
    "k=0\n",
    "plt.close()\n",
    "plt.figure(figsize=(20,20))\n",
    "plt.imshow(FI,cmap=plt.cm.binary)    # show first number in the dataset\n",
    "plt.title('label: %d' % data.target[k],fontsize=18,color='w')    # label = '0'\n",
    "plt.show()"
   ]
  },
  {
   "cell_type": "code",
   "execution_count": 7,
   "metadata": {},
   "outputs": [],
   "source": [
    "X_data = data.images\n",
    "y_data = data.target"
   ]
  },
  {
   "cell_type": "code",
   "execution_count": 8,
   "metadata": {},
   "outputs": [
    {
     "name": "stdout",
     "output_type": "stream",
     "text": [
      "(1797, 8, 8)\n",
      "(1797,)\n"
     ]
    }
   ],
   "source": [
    "# shape of data\n",
    "print(X_data.shape)    # (8 X 8) format\n",
    "print(y_data.shape)"
   ]
  },
  {
   "cell_type": "code",
   "execution_count": 9,
   "metadata": {},
   "outputs": [],
   "source": [
    "# reshape X_data into 3-D format\n",
    "# note that this follows image format of Tensorflow backend\n",
    "X_data = X_data.reshape((X_data.shape[0], X_data.shape[1], X_data.shape[2], 1))"
   ]
  },
  {
   "cell_type": "code",
   "execution_count": 10,
   "metadata": {},
   "outputs": [],
   "source": [
    "# one-hot encoding of y_data\n",
    "y_data = to_categorical(y_data)"
   ]
  },
  {
   "cell_type": "code",
   "execution_count": 11,
   "metadata": {},
   "outputs": [
    {
     "name": "stdout",
     "output_type": "stream",
     "text": [
      "[1. 0. 0. 0. 0. 0. 0. 0. 0. 0.]\n"
     ]
    }
   ],
   "source": [
    "print(y_data[0])"
   ]
  },
  {
   "cell_type": "code",
   "execution_count": 12,
   "metadata": {},
   "outputs": [],
   "source": [
    "# partition data into train/test sets\n",
    "X_train, X_test, y_train, y_test = train_test_split(X_data, y_data, test_size = 0.3, random_state = 777)"
   ]
  },
  {
   "cell_type": "code",
   "execution_count": 13,
   "metadata": {},
   "outputs": [
    {
     "name": "stdout",
     "output_type": "stream",
     "text": [
      "(1257, 8, 8, 1)\n",
      "(540, 8, 8, 1)\n",
      "(1257, 10)\n",
      "(540, 10)\n"
     ]
    }
   ],
   "source": [
    "print(X_train.shape)\n",
    "print(X_test.shape)\n",
    "print(y_train.shape)\n",
    "print(y_test.shape)"
   ]
  },
  {
   "cell_type": "code",
   "execution_count": 14,
   "metadata": {},
   "outputs": [],
   "source": [
    "from tensorflow.keras.models import Sequential\n",
    "from tensorflow.keras import optimizers\n",
    "from tensorflow.keras.layers import Dense, Activation, Flatten, Conv2D, MaxPooling2D"
   ]
  },
  {
   "cell_type": "markdown",
   "metadata": {},
   "source": [
    "### 1. Creating model\n",
    "- Creating a model is same with MLP (Sequential)"
   ]
  },
  {
   "cell_type": "code",
   "execution_count": 15,
   "metadata": {},
   "outputs": [],
   "source": [
    "model = Sequential()"
   ]
  },
  {
   "cell_type": "markdown",
   "metadata": {},
   "source": [
    "### 2. Convolutional Layer\n",
    "- In general, 2D convolutional layer is used for image processing\n",
    "    - Size of filter (designated by 'kernel_size' parameter) defines **width and height of receptive field **\n",
    "    - Number of filters (designated by 'filters' parameter) is equal to **depth of the next layer**\n",
    "    - Strides (designated by 'strides' parameter) is** how far a filter makes change in its position** for each move\n",
    "    - Image can be **zero-padded** in order to prevent getting too small (designated by 'padding' parameter)\n",
    "- Doc: https://keras.io/layers/convolutional/\n",
    "<img src=\"http://cs231n.github.io/assets/cnn/depthcol.jpeg\" style=\"width: 400px\"/>"
   ]
  },
  {
   "cell_type": "code",
   "execution_count": 16,
   "metadata": {},
   "outputs": [
    {
     "name": "stdout",
     "output_type": "stream",
     "text": [
      "WARNING:tensorflow:From /packages/7x/anaconda3/5.3.0/envs/tf1.13-gpu/lib/python3.7/site-packages/tensorflow/python/ops/resource_variable_ops.py:435: colocate_with (from tensorflow.python.framework.ops) is deprecated and will be removed in a future version.\n",
      "Instructions for updating:\n",
      "Colocations handled automatically by placer.\n"
     ]
    }
   ],
   "source": [
    "# convolution layer\n",
    "model.add(Conv2D(input_shape = (X_data.shape[1], X_data.shape[2], X_data.shape[3]), filters = 10, kernel_size = (3,3), strides = (1,1), padding = 'valid'))"
   ]
  },
  {
   "cell_type": "markdown",
   "metadata": {},
   "source": [
    "### 3. Activation Layer\n",
    "- Identical to the activation layers in MLP\n",
    "- In general, relu is used as well\n",
    "- Doc: http://cs231n.github.io/assets/cnn/depthcol.jpeg"
   ]
  },
  {
   "cell_type": "code",
   "execution_count": 17,
   "metadata": {},
   "outputs": [],
   "source": [
    "model.add(Activation('relu'))"
   ]
  },
  {
   "cell_type": "markdown",
   "metadata": {},
   "source": [
    "### 4. Pooling layer\n",
    "- In general, max pooling method is used\n",
    "- Reduces number of parameters\n",
    "- Doc: https://keras.io/layers/pooling/\n",
    "<img src=\"http://cs231n.github.io/assets/cnn/maxpool.jpeg\" style=\"width: 600px\"/>"
   ]
  },
  {
   "cell_type": "code",
   "execution_count": 18,
   "metadata": {},
   "outputs": [],
   "source": [
    "model.add(MaxPooling2D(pool_size = (2,2)))"
   ]
  },
  {
   "cell_type": "markdown",
   "metadata": {},
   "source": [
    "### 5. Dense (fully connected layer)\n",
    "- Convolutional & pooling layers can be connected to dense layers\n",
    "- Sometimes, dense layers can be omitted\n",
    "- Doc: https://keras.io/layers/core/"
   ]
  },
  {
   "cell_type": "code",
   "execution_count": 19,
   "metadata": {},
   "outputs": [],
   "source": [
    "# prior layer should be flattend to be connected to dense layers\n",
    "model.add(Flatten())"
   ]
  },
  {
   "cell_type": "code",
   "execution_count": 20,
   "metadata": {},
   "outputs": [],
   "source": [
    "# dense layer with 50 neurons\n",
    "model.add(Dense(50, activation = 'relu'))"
   ]
  },
  {
   "cell_type": "code",
   "execution_count": 21,
   "metadata": {},
   "outputs": [],
   "source": [
    "# final layer with 10 neurons to classify the instances\n",
    "model.add(Dense(10, activation = 'softmax'))"
   ]
  },
  {
   "cell_type": "markdown",
   "metadata": {},
   "source": [
    "### 6. Model compile & train\n",
    "- Optimize with adaptive moment estimation (Adam)\n",
    "- accuracy as the metric"
   ]
  },
  {
   "cell_type": "code",
   "execution_count": 22,
   "metadata": {},
   "outputs": [],
   "source": [
    "adam = optimizers.Adam(lr = 0.001)\n",
    "model.compile(loss = 'categorical_crossentropy', optimizer = adam, metrics = ['accuracy'])"
   ]
  },
  {
   "cell_type": "code",
   "execution_count": 23,
   "metadata": {},
   "outputs": [
    {
     "name": "stdout",
     "output_type": "stream",
     "text": [
      "Train on 1005 samples, validate on 252 samples\n",
      "WARNING:tensorflow:From /packages/7x/anaconda3/5.3.0/envs/tf1.13-gpu/lib/python3.7/site-packages/tensorflow/python/ops/math_ops.py:3066: to_int32 (from tensorflow.python.ops.math_ops) is deprecated and will be removed in a future version.\n",
      "Instructions for updating:\n",
      "Use tf.cast instead.\n",
      "Epoch 1/100\n",
      "1005/1005 [==============================] - 2s 2ms/sample - loss: 3.0231 - acc: 0.1831 - val_loss: 1.7900 - val_acc: 0.3730\n",
      "Epoch 2/100\n",
      "1005/1005 [==============================] - 0s 99us/sample - loss: 1.5664 - acc: 0.4806 - val_loss: 1.1914 - val_acc: 0.6468\n",
      "Epoch 3/100\n",
      "1005/1005 [==============================] - 0s 69us/sample - loss: 1.0749 - acc: 0.6886 - val_loss: 0.8273 - val_acc: 0.7619\n",
      "Epoch 4/100\n",
      "1005/1005 [==============================] - 0s 58us/sample - loss: 0.7838 - acc: 0.7791 - val_loss: 0.5973 - val_acc: 0.8571\n",
      "Epoch 5/100\n",
      "1005/1005 [==============================] - 0s 50us/sample - loss: 0.5938 - acc: 0.8219 - val_loss: 0.4489 - val_acc: 0.8889\n",
      "Epoch 6/100\n",
      "1005/1005 [==============================] - 0s 47us/sample - loss: 0.4738 - acc: 0.8607 - val_loss: 0.3440 - val_acc: 0.9127\n",
      "Epoch 7/100\n",
      "1005/1005 [==============================] - 0s 44us/sample - loss: 0.3577 - acc: 0.9104 - val_loss: 0.2948 - val_acc: 0.9206\n",
      "Epoch 8/100\n",
      "1005/1005 [==============================] - 0s 45us/sample - loss: 0.2948 - acc: 0.9224 - val_loss: 0.2346 - val_acc: 0.9246\n",
      "Epoch 9/100\n",
      "1005/1005 [==============================] - 0s 45us/sample - loss: 0.2385 - acc: 0.9413 - val_loss: 0.2051 - val_acc: 0.9365\n",
      "Epoch 10/100\n",
      "1005/1005 [==============================] - 0s 46us/sample - loss: 0.2101 - acc: 0.9463 - val_loss: 0.1816 - val_acc: 0.9444\n",
      "Epoch 11/100\n",
      "1005/1005 [==============================] - 0s 47us/sample - loss: 0.1831 - acc: 0.9552 - val_loss: 0.1778 - val_acc: 0.9365\n",
      "Epoch 12/100\n",
      "1005/1005 [==============================] - 0s 44us/sample - loss: 0.1651 - acc: 0.9612 - val_loss: 0.1708 - val_acc: 0.9405\n",
      "Epoch 13/100\n",
      "1005/1005 [==============================] - 0s 44us/sample - loss: 0.1473 - acc: 0.9602 - val_loss: 0.1437 - val_acc: 0.9524\n",
      "Epoch 14/100\n",
      "1005/1005 [==============================] - 0s 45us/sample - loss: 0.1499 - acc: 0.9572 - val_loss: 0.1479 - val_acc: 0.9524\n",
      "Epoch 15/100\n",
      "1005/1005 [==============================] - 0s 45us/sample - loss: 0.1141 - acc: 0.9692 - val_loss: 0.1322 - val_acc: 0.9603\n",
      "Epoch 16/100\n",
      "1005/1005 [==============================] - 0s 45us/sample - loss: 0.1034 - acc: 0.9741 - val_loss: 0.1200 - val_acc: 0.9722\n",
      "Epoch 17/100\n",
      "1005/1005 [==============================] - 0s 45us/sample - loss: 0.0906 - acc: 0.9811 - val_loss: 0.1178 - val_acc: 0.9563\n",
      "Epoch 18/100\n",
      "1005/1005 [==============================] - 0s 46us/sample - loss: 0.0852 - acc: 0.9791 - val_loss: 0.1101 - val_acc: 0.9603\n",
      "Epoch 19/100\n",
      "1005/1005 [==============================] - 0s 45us/sample - loss: 0.0777 - acc: 0.9851 - val_loss: 0.1128 - val_acc: 0.9683\n",
      "Epoch 20/100\n",
      "1005/1005 [==============================] - 0s 45us/sample - loss: 0.0724 - acc: 0.9831 - val_loss: 0.1039 - val_acc: 0.9762\n",
      "Epoch 21/100\n",
      "1005/1005 [==============================] - 0s 45us/sample - loss: 0.0634 - acc: 0.9851 - val_loss: 0.1051 - val_acc: 0.9683\n",
      "Epoch 22/100\n",
      "1005/1005 [==============================] - 0s 45us/sample - loss: 0.0588 - acc: 0.9851 - val_loss: 0.0915 - val_acc: 0.9722\n",
      "Epoch 23/100\n",
      "1005/1005 [==============================] - 0s 45us/sample - loss: 0.0585 - acc: 0.9821 - val_loss: 0.0928 - val_acc: 0.9722\n",
      "Epoch 24/100\n",
      "1005/1005 [==============================] - 0s 44us/sample - loss: 0.0530 - acc: 0.9861 - val_loss: 0.0893 - val_acc: 0.9762\n",
      "Epoch 25/100\n",
      "1005/1005 [==============================] - 0s 45us/sample - loss: 0.0479 - acc: 0.9900 - val_loss: 0.0903 - val_acc: 0.9643\n",
      "Epoch 26/100\n",
      "1005/1005 [==============================] - 0s 45us/sample - loss: 0.0433 - acc: 0.9940 - val_loss: 0.0934 - val_acc: 0.9722\n",
      "Epoch 27/100\n",
      "1005/1005 [==============================] - 0s 45us/sample - loss: 0.0396 - acc: 0.9950 - val_loss: 0.0870 - val_acc: 0.9643\n",
      "Epoch 28/100\n",
      "1005/1005 [==============================] - 0s 45us/sample - loss: 0.0362 - acc: 0.9970 - val_loss: 0.0931 - val_acc: 0.9683\n",
      "Epoch 29/100\n",
      "1005/1005 [==============================] - 0s 45us/sample - loss: 0.0357 - acc: 0.9940 - val_loss: 0.0803 - val_acc: 0.9762\n",
      "Epoch 30/100\n",
      "1005/1005 [==============================] - 0s 45us/sample - loss: 0.0337 - acc: 0.9970 - val_loss: 0.0848 - val_acc: 0.9722\n",
      "Epoch 31/100\n",
      "1005/1005 [==============================] - 0s 46us/sample - loss: 0.0310 - acc: 0.9950 - val_loss: 0.0861 - val_acc: 0.9643\n",
      "Epoch 32/100\n",
      "1005/1005 [==============================] - 0s 46us/sample - loss: 0.0296 - acc: 0.9980 - val_loss: 0.0792 - val_acc: 0.9762\n",
      "Epoch 33/100\n",
      "1005/1005 [==============================] - 0s 45us/sample - loss: 0.0272 - acc: 0.9980 - val_loss: 0.0824 - val_acc: 0.9722\n",
      "Epoch 34/100\n",
      "1005/1005 [==============================] - 0s 45us/sample - loss: 0.0269 - acc: 0.9970 - val_loss: 0.0901 - val_acc: 0.9722\n",
      "Epoch 35/100\n",
      "1005/1005 [==============================] - 0s 44us/sample - loss: 0.0252 - acc: 0.9970 - val_loss: 0.0821 - val_acc: 0.9722\n",
      "Epoch 36/100\n",
      "1005/1005 [==============================] - 0s 45us/sample - loss: 0.0223 - acc: 0.9990 - val_loss: 0.0891 - val_acc: 0.9722\n",
      "Epoch 37/100\n",
      "1005/1005 [==============================] - 0s 45us/sample - loss: 0.0328 - acc: 0.9930 - val_loss: 0.0878 - val_acc: 0.9762\n",
      "Epoch 38/100\n",
      "1005/1005 [==============================] - 0s 45us/sample - loss: 0.0291 - acc: 0.9960 - val_loss: 0.1045 - val_acc: 0.9603\n",
      "Epoch 39/100\n",
      "1005/1005 [==============================] - 0s 46us/sample - loss: 0.0203 - acc: 0.9990 - val_loss: 0.0804 - val_acc: 0.9762\n",
      "Epoch 40/100\n",
      "1005/1005 [==============================] - 0s 45us/sample - loss: 0.0204 - acc: 0.9990 - val_loss: 0.0822 - val_acc: 0.9722\n",
      "Epoch 41/100\n",
      "1005/1005 [==============================] - 0s 45us/sample - loss: 0.0288 - acc: 0.9950 - val_loss: 0.0795 - val_acc: 0.9802\n",
      "Epoch 42/100\n",
      "1005/1005 [==============================] - 0s 45us/sample - loss: 0.0168 - acc: 1.0000 - val_loss: 0.0760 - val_acc: 0.9762\n",
      "Epoch 43/100\n",
      "1005/1005 [==============================] - 0s 45us/sample - loss: 0.0143 - acc: 1.0000 - val_loss: 0.0774 - val_acc: 0.9722\n",
      "Epoch 44/100\n",
      "1005/1005 [==============================] - 0s 46us/sample - loss: 0.0137 - acc: 0.9990 - val_loss: 0.0803 - val_acc: 0.9722\n",
      "Epoch 45/100\n",
      "1005/1005 [==============================] - 0s 45us/sample - loss: 0.0131 - acc: 0.9990 - val_loss: 0.0798 - val_acc: 0.9722\n",
      "Epoch 46/100\n",
      "1005/1005 [==============================] - 0s 46us/sample - loss: 0.0124 - acc: 1.0000 - val_loss: 0.0766 - val_acc: 0.9722\n",
      "Epoch 47/100\n",
      "1005/1005 [==============================] - 0s 46us/sample - loss: 0.0125 - acc: 1.0000 - val_loss: 0.0845 - val_acc: 0.9722\n",
      "Epoch 48/100\n",
      "1005/1005 [==============================] - 0s 47us/sample - loss: 0.0112 - acc: 1.0000 - val_loss: 0.0777 - val_acc: 0.9722\n",
      "Epoch 49/100\n",
      "1005/1005 [==============================] - 0s 45us/sample - loss: 0.0109 - acc: 1.0000 - val_loss: 0.0786 - val_acc: 0.9683\n",
      "Epoch 50/100\n",
      "1005/1005 [==============================] - 0s 46us/sample - loss: 0.0107 - acc: 1.0000 - val_loss: 0.0825 - val_acc: 0.9722\n",
      "Epoch 51/100\n",
      "1005/1005 [==============================] - 0s 45us/sample - loss: 0.0110 - acc: 0.9990 - val_loss: 0.0783 - val_acc: 0.9722\n",
      "Epoch 52/100\n",
      "1005/1005 [==============================] - 0s 48us/sample - loss: 0.0095 - acc: 1.0000 - val_loss: 0.0829 - val_acc: 0.9683\n",
      "Epoch 53/100\n",
      "1005/1005 [==============================] - 0s 48us/sample - loss: 0.0091 - acc: 1.0000 - val_loss: 0.0778 - val_acc: 0.9683\n",
      "Epoch 54/100\n",
      "1005/1005 [==============================] - 0s 49us/sample - loss: 0.0083 - acc: 1.0000 - val_loss: 0.0842 - val_acc: 0.9722\n",
      "Epoch 55/100\n",
      "1005/1005 [==============================] - 0s 48us/sample - loss: 0.0083 - acc: 1.0000 - val_loss: 0.0778 - val_acc: 0.9722\n",
      "Epoch 56/100\n",
      "1005/1005 [==============================] - 0s 48us/sample - loss: 0.0082 - acc: 1.0000 - val_loss: 0.0820 - val_acc: 0.9722\n",
      "Epoch 57/100\n",
      "1005/1005 [==============================] - 0s 48us/sample - loss: 0.0078 - acc: 1.0000 - val_loss: 0.0863 - val_acc: 0.9683\n",
      "Epoch 58/100\n",
      "1005/1005 [==============================] - 0s 47us/sample - loss: 0.0075 - acc: 1.0000 - val_loss: 0.0735 - val_acc: 0.9762\n",
      "Epoch 59/100\n",
      "1005/1005 [==============================] - 0s 45us/sample - loss: 0.0073 - acc: 1.0000 - val_loss: 0.0902 - val_acc: 0.9683\n",
      "Epoch 60/100\n",
      "1005/1005 [==============================] - 0s 45us/sample - loss: 0.0074 - acc: 1.0000 - val_loss: 0.0773 - val_acc: 0.9762\n",
      "Epoch 61/100\n",
      "1005/1005 [==============================] - 0s 45us/sample - loss: 0.0074 - acc: 1.0000 - val_loss: 0.0789 - val_acc: 0.9722\n",
      "Epoch 62/100\n",
      "1005/1005 [==============================] - 0s 45us/sample - loss: 0.0065 - acc: 1.0000 - val_loss: 0.0876 - val_acc: 0.9722\n",
      "Epoch 63/100\n",
      "1005/1005 [==============================] - 0s 45us/sample - loss: 0.0062 - acc: 1.0000 - val_loss: 0.0805 - val_acc: 0.9722\n",
      "Epoch 64/100\n",
      "1005/1005 [==============================] - 0s 45us/sample - loss: 0.0061 - acc: 1.0000 - val_loss: 0.0873 - val_acc: 0.9683\n",
      "Epoch 65/100\n",
      "1005/1005 [==============================] - 0s 46us/sample - loss: 0.0062 - acc: 1.0000 - val_loss: 0.0896 - val_acc: 0.9722\n",
      "Epoch 66/100\n",
      "1005/1005 [==============================] - 0s 46us/sample - loss: 0.0058 - acc: 1.0000 - val_loss: 0.0766 - val_acc: 0.9762\n",
      "Epoch 67/100\n",
      "1005/1005 [==============================] - 0s 47us/sample - loss: 0.0059 - acc: 1.0000 - val_loss: 0.0835 - val_acc: 0.9722\n",
      "Epoch 68/100\n",
      "1005/1005 [==============================] - 0s 47us/sample - loss: 0.0067 - acc: 1.0000 - val_loss: 0.0888 - val_acc: 0.9722\n",
      "Epoch 69/100\n",
      "1005/1005 [==============================] - 0s 46us/sample - loss: 0.0054 - acc: 1.0000 - val_loss: 0.0778 - val_acc: 0.9762\n",
      "Epoch 70/100\n",
      "1005/1005 [==============================] - 0s 45us/sample - loss: 0.0052 - acc: 1.0000 - val_loss: 0.0833 - val_acc: 0.9762\n",
      "Epoch 71/100\n",
      "1005/1005 [==============================] - 0s 45us/sample - loss: 0.0047 - acc: 1.0000 - val_loss: 0.0856 - val_acc: 0.9722\n",
      "Epoch 72/100\n",
      "1005/1005 [==============================] - 0s 44us/sample - loss: 0.0046 - acc: 1.0000 - val_loss: 0.0838 - val_acc: 0.9762\n",
      "Epoch 73/100\n",
      "1005/1005 [==============================] - 0s 47us/sample - loss: 0.0046 - acc: 1.0000 - val_loss: 0.0830 - val_acc: 0.9722\n",
      "Epoch 74/100\n",
      "1005/1005 [==============================] - 0s 47us/sample - loss: 0.0046 - acc: 1.0000 - val_loss: 0.0818 - val_acc: 0.9722\n",
      "Epoch 75/100\n",
      "1005/1005 [==============================] - 0s 46us/sample - loss: 0.0041 - acc: 1.0000 - val_loss: 0.0821 - val_acc: 0.9762\n",
      "Epoch 76/100\n",
      "1005/1005 [==============================] - 0s 45us/sample - loss: 0.0040 - acc: 1.0000 - val_loss: 0.0840 - val_acc: 0.9722\n",
      "Epoch 77/100\n",
      "1005/1005 [==============================] - 0s 46us/sample - loss: 0.0039 - acc: 1.0000 - val_loss: 0.0808 - val_acc: 0.9722\n",
      "Epoch 78/100\n",
      "1005/1005 [==============================] - 0s 46us/sample - loss: 0.0038 - acc: 1.0000 - val_loss: 0.0843 - val_acc: 0.9683\n",
      "Epoch 79/100\n",
      "1005/1005 [==============================] - 0s 47us/sample - loss: 0.0037 - acc: 1.0000 - val_loss: 0.0828 - val_acc: 0.9722\n",
      "Epoch 80/100\n",
      "1005/1005 [==============================] - 0s 47us/sample - loss: 0.0040 - acc: 1.0000 - val_loss: 0.0890 - val_acc: 0.9643\n",
      "Epoch 81/100\n",
      "1005/1005 [==============================] - 0s 47us/sample - loss: 0.0040 - acc: 1.0000 - val_loss: 0.0779 - val_acc: 0.9722\n",
      "Epoch 82/100\n",
      "1005/1005 [==============================] - 0s 45us/sample - loss: 0.0034 - acc: 1.0000 - val_loss: 0.0914 - val_acc: 0.9643\n",
      "Epoch 83/100\n",
      "1005/1005 [==============================] - 0s 46us/sample - loss: 0.0033 - acc: 1.0000 - val_loss: 0.0847 - val_acc: 0.9722\n",
      "Epoch 84/100\n",
      "1005/1005 [==============================] - 0s 46us/sample - loss: 0.0032 - acc: 1.0000 - val_loss: 0.0878 - val_acc: 0.9683\n",
      "Epoch 85/100\n",
      "1005/1005 [==============================] - 0s 45us/sample - loss: 0.0030 - acc: 1.0000 - val_loss: 0.0840 - val_acc: 0.9722\n",
      "Epoch 86/100\n",
      "1005/1005 [==============================] - 0s 45us/sample - loss: 0.0030 - acc: 1.0000 - val_loss: 0.0836 - val_acc: 0.9722\n",
      "Epoch 87/100\n",
      "1005/1005 [==============================] - 0s 45us/sample - loss: 0.0029 - acc: 1.0000 - val_loss: 0.0863 - val_acc: 0.9683\n",
      "Epoch 88/100\n",
      "1005/1005 [==============================] - 0s 45us/sample - loss: 0.0028 - acc: 1.0000 - val_loss: 0.0841 - val_acc: 0.9762\n",
      "Epoch 89/100\n",
      "1005/1005 [==============================] - 0s 44us/sample - loss: 0.0031 - acc: 1.0000 - val_loss: 0.0811 - val_acc: 0.9722\n",
      "Epoch 90/100\n",
      "1005/1005 [==============================] - 0s 46us/sample - loss: 0.0028 - acc: 1.0000 - val_loss: 0.0886 - val_acc: 0.9683\n",
      "Epoch 91/100\n",
      "1005/1005 [==============================] - 0s 46us/sample - loss: 0.0026 - acc: 1.0000 - val_loss: 0.0859 - val_acc: 0.9762\n",
      "Epoch 92/100\n",
      "1005/1005 [==============================] - 0s 52us/sample - loss: 0.0026 - acc: 1.0000 - val_loss: 0.0861 - val_acc: 0.9722\n",
      "Epoch 93/100\n",
      "1005/1005 [==============================] - 0s 48us/sample - loss: 0.0025 - acc: 1.0000 - val_loss: 0.0850 - val_acc: 0.9722\n",
      "Epoch 94/100\n",
      "1005/1005 [==============================] - 0s 48us/sample - loss: 0.0024 - acc: 1.0000 - val_loss: 0.0857 - val_acc: 0.9722\n",
      "Epoch 95/100\n",
      "1005/1005 [==============================] - 0s 46us/sample - loss: 0.0024 - acc: 1.0000 - val_loss: 0.0864 - val_acc: 0.9683\n",
      "Epoch 96/100\n",
      "1005/1005 [==============================] - 0s 46us/sample - loss: 0.0025 - acc: 1.0000 - val_loss: 0.0827 - val_acc: 0.9722\n",
      "Epoch 97/100\n",
      "1005/1005 [==============================] - 0s 47us/sample - loss: 0.0023 - acc: 1.0000 - val_loss: 0.0906 - val_acc: 0.9722\n",
      "Epoch 98/100\n",
      "1005/1005 [==============================] - 0s 44us/sample - loss: 0.0022 - acc: 1.0000 - val_loss: 0.0874 - val_acc: 0.9722\n",
      "Epoch 99/100\n",
      "1005/1005 [==============================] - 0s 45us/sample - loss: 0.0022 - acc: 1.0000 - val_loss: 0.0886 - val_acc: 0.9683\n",
      "Epoch 100/100\n",
      "1005/1005 [==============================] - 0s 45us/sample - loss: 0.0022 - acc: 1.0000 - val_loss: 0.0906 - val_acc: 0.9722\n"
     ]
    }
   ],
   "source": [
    "history = model.fit(X_train, y_train, batch_size = 50, validation_split = 0.2, epochs = 100, verbose = 1)"
   ]
  },
  {
   "cell_type": "code",
   "execution_count": 24,
   "metadata": {},
   "outputs": [
    {
     "data": {
      "text/plain": [
       "dict_keys(['loss', 'acc', 'val_loss', 'val_acc'])"
      ]
     },
     "execution_count": 24,
     "metadata": {},
     "output_type": "execute_result"
    }
   ],
   "source": [
    "history.history.keys()"
   ]
  },
  {
   "cell_type": "code",
   "execution_count": 25,
   "metadata": {},
   "outputs": [
    {
     "data": {
      "image/png": "[encoded data removed]",
      "text/plain": [
       "<Figure size 432x288 with 1 Axes>"
      ]
     },
     "metadata": {
      "needs_background": "dark"
     },
     "output_type": "display_data"
    }
   ],
   "source": [
    "plt.clf()\n",
    "plt.plot(history.history['val_acc'])\n",
    "plt.xticks(color='w',fontsize=18)\n",
    "plt.yticks(color='w',fontsize=18)\n",
    "plt.show()"
   ]
  },
  {
   "cell_type": "code",
   "execution_count": 26,
   "metadata": {},
   "outputs": [
    {
     "data": {
      "image/png": "[encoded data removed]",
      "text/plain": [
       "<Figure size 432x288 with 1 Axes>"
      ]
     },
     "metadata": {
      "needs_background": "dark"
     },
     "output_type": "display_data"
    }
   ],
   "source": [
    "plt.clf()\n",
    "plt.semilogy(history.history['loss'],'r-')\n",
    "plt.xticks(color='w',fontsize=18)\n",
    "plt.yticks([1e-2,1e-3,1e-4],color='w',fontsize=18)\n",
    "plt.show()"
   ]
  },
  {
   "cell_type": "code",
   "execution_count": 27,
   "metadata": {},
   "outputs": [],
   "source": [
    "results = model.evaluate(X_test, y_test,verbose=0)"
   ]
  },
  {
   "cell_type": "code",
   "execution_count": 28,
   "metadata": {},
   "outputs": [
    {
     "name": "stdout",
     "output_type": "stream",
     "text": [
      "Test accuracy:  0.9814815\n"
     ]
    }
   ],
   "source": [
    "print('Test accuracy: ', results[1])"
   ]
  },
  {
   "cell_type": "code",
   "execution_count": 29,
   "metadata": {},
   "outputs": [
    {
     "name": "stdout",
     "output_type": "stream",
     "text": [
      "cg32-2.agave.rc.asu.edu\n"
     ]
    }
   ],
   "source": [
    "!hostname"
   ]
  },
  {
   "cell_type": "markdown",
   "metadata": {},
   "source": [
    "Even simple CNN model shows fine performance of **97% **test accuracy"
   ]
  },
  {
   "cell_type": "code",
   "execution_count": 30,
   "metadata": {},
   "outputs": [
    {
     "name": "stdout",
     "output_type": "stream",
     "text": [
      "Mon Mar  9 13:23:17 2020       \n",
      "+-----------------------------------------------------------------------------+\n",
      "| NVIDIA-SMI 440.33.01    Driver Version: 440.33.01    CUDA Version: 10.2     |\n",
      "|-------------------------------+----------------------+----------------------+\n",
      "| GPU  Name        Persistence-M| Bus-Id        Disp.A | Volatile Uncorr. ECC |\n",
      "| Fan  Temp  Perf  Pwr:Usage/Cap|         Memory-Usage | GPU-Util  Compute M. |\n",
      "|===============================+======================+======================|\n",
      "|   0  Tesla V100-SXM2...  Off  | 00000000:86:00.0 Off |                    0 |\n",
      "| N/A   28C    P0    53W / 300W |  15842MiB / 16160MiB |      0%      Default |\n",
      "+-------------------------------+----------------------+----------------------+\n",
      "                                                                               \n",
      "+-----------------------------------------------------------------------------+\n",
      "| Processes:                                                       GPU Memory |\n",
      "|  GPU       PID   Type   Process name                             Usage      |\n",
      "|=============================================================================|\n",
      "|    0     51208      C   ...conda3/5.3.0/envs/tf1.13-gpu/bin/python 15831MiB |\n",
      "+-----------------------------------------------------------------------------+\n"
     ]
    }
   ],
   "source": [
    "!nvidia-smi"
   ]
  },
  {
   "cell_type": "code",
   "execution_count": null,
   "metadata": {},
   "outputs": [],
   "source": []
  }
 ],
 "metadata": {
  "kernelspec": {
   "display_name": "tf1.13-gpu (Tensorflow)",
   "language": "python",
   "name": "tf1.13-gpu"
  },
  "language_info": {
   "codemirror_mode": {
    "name": "ipython",
    "version": 3
   },
   "file_extension": ".py",
   "mimetype": "text/x-python",
   "name": "python",
   "nbconvert_exporter": "python",
   "pygments_lexer": "ipython3",
   "version": "3.7.3"
  }
 },
 "nbformat": 4,
 "nbformat_minor": 4
}
