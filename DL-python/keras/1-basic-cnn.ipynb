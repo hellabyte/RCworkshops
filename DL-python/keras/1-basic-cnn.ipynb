{
 "cells": [
  {
   "cell_type": "markdown",
   "metadata": {},
   "source": [
    "# Basic Convolutional Neural Networks (CNN)\n",
    "- Objective: create basic CNN models with Keras"
   ]
  },
  {
   "cell_type": "markdown",
   "metadata": {},
   "source": [
    "<img src=\"https://adeshpande3.github.io/assets/Cover.png\" style=\"width: 800px\"/>\n",
    "\n",
    "<br>\n",
    "\n",
    "- Fundamental CNN structures: CNNs are similar to Multilayer Perceptrons (MLPs) since they only feed signals forward (feedforward nets), but have different kind of layers unique to CNNs  \n",
    "  - ** Convolutional layer** : process data in a small receptive field (i.e., filter)  \n",
    "  - ** Pooling layer** : downsample along 2 dimensions (usually width and height)   \n",
    "  - ** Dense (fully connected) layer** : similar to hidden layers of MLPs  "
   ]
  },
  {
   "cell_type": "markdown",
   "metadata": {},
   "source": [
    "<img src=\"http://cs231n.github.io/assets/cnn/convnet.jpeg\" style=\"width: 600px\"/>\n",
    "<br>\n",
    "<center> **ConvNet architecture** </center>"
   ]
  },
  {
   "cell_type": "code",
   "execution_count": 1,
   "metadata": {},
   "outputs": [],
   "source": [
    "import numpy as np\n",
    "import matplotlib.pyplot as plt\n",
    "\n",
    "from sklearn import datasets\n",
    "from sklearn.model_selection import train_test_split\n",
    "from tensorflow.keras.utils import to_categorical"
   ]
  },
  {
   "cell_type": "markdown",
   "metadata": {},
   "source": [
    "### Load Datset\n",
    "- Digits dataset in sklearn\n",
    "- Doc: http://scikit-learn.org/stable/auto_examples/datasets/plot_digits_last_image.html"
   ]
  },
  {
   "cell_type": "code",
   "execution_count": 2,
   "metadata": {},
   "outputs": [],
   "source": [
    "data = datasets.load_digits()"
   ]
  },
  {
   "cell_type": "code",
   "execution_count": 3,
   "metadata": {},
   "outputs": [
    {
     "data": {
      "text/plain": [
       "1797"
      ]
     },
     "execution_count": 3,
     "metadata": {},
     "output_type": "execute_result"
    }
   ],
   "source": [
    "K,M,N = data.images.shape\n",
    "FI = data.images[:10].reshape((10*M,N))\n",
    "K"
   ]
  },
  {
   "cell_type": "code",
   "execution_count": 4,
   "metadata": {},
   "outputs": [
    {
     "data": {
      "image/png": "[encoded data removed]",
      "text/plain": [
       "<Figure size 1440x1440 with 1 Axes>"
      ]
     },
     "metadata": {
      "needs_background": "light"
     },
     "output_type": "display_data"
    }
   ],
   "source": [
    "k=0\n",
    "plt.close()\n",
    "plt.figure(figsize=(20,20))\n",
    "plt.imshow(FI,cmap=plt.cm.binary)    # show first number in the dataset\n",
    "plt.title('label: %d' % data.target[k],fontsize=18,color='w')    # label = '0'\n",
    "plt.show()"
   ]
  },
  {
   "cell_type": "code",
   "execution_count": 5,
   "metadata": {},
   "outputs": [],
   "source": [
    "X_data = data.images\n",
    "y_data = data.target"
   ]
  },
  {
   "cell_type": "code",
   "execution_count": 6,
   "metadata": {},
   "outputs": [
    {
     "name": "stdout",
     "output_type": "stream",
     "text": [
      "(1797, 8, 8)\n",
      "(1797,)\n"
     ]
    }
   ],
   "source": [
    "# shape of data\n",
    "print(X_data.shape)    # (8 X 8) format\n",
    "print(y_data.shape)"
   ]
  },
  {
   "cell_type": "code",
   "execution_count": 7,
   "metadata": {},
   "outputs": [],
   "source": [
    "# reshape X_data into 3-D format\n",
    "# note that this follows image format of Tensorflow backend\n",
    "X_data = X_data.reshape((X_data.shape[0], X_data.shape[1], X_data.shape[2], 1))"
   ]
  },
  {
   "cell_type": "code",
   "execution_count": 8,
   "metadata": {},
   "outputs": [],
   "source": [
    "# one-hot encoding of y_data\n",
    "y_data = to_categorical(y_data)"
   ]
  },
  {
   "cell_type": "code",
   "execution_count": 9,
   "metadata": {},
   "outputs": [
    {
     "name": "stdout",
     "output_type": "stream",
     "text": [
      "[1. 0. 0. 0. 0. 0. 0. 0. 0. 0.]\n"
     ]
    }
   ],
   "source": [
    "print(y_data[0])"
   ]
  },
  {
   "cell_type": "code",
   "execution_count": 10,
   "metadata": {},
   "outputs": [],
   "source": [
    "# partition data into train/test sets\n",
    "X_train, X_test, y_train, y_test = train_test_split(X_data, y_data, test_size = 0.3, random_state = 777)"
   ]
  },
  {
   "cell_type": "code",
   "execution_count": 11,
   "metadata": {},
   "outputs": [
    {
     "name": "stdout",
     "output_type": "stream",
     "text": [
      "(1257, 8, 8, 1)\n",
      "(540, 8, 8, 1)\n",
      "(1257, 10)\n",
      "(540, 10)\n"
     ]
    }
   ],
   "source": [
    "print(X_train.shape)\n",
    "print(X_test.shape)\n",
    "print(y_train.shape)\n",
    "print(y_test.shape)"
   ]
  },
  {
   "cell_type": "code",
   "execution_count": 12,
   "metadata": {},
   "outputs": [],
   "source": [
    "from tensorflow.keras.models import Sequential\n",
    "from tensorflow.keras import optimizers\n",
    "from tensorflow.keras.layers import Dense, Activation, Flatten, Conv2D, MaxPooling2D"
   ]
  },
  {
   "cell_type": "markdown",
   "metadata": {},
   "source": [
    "### 1. Creating model\n",
    "- Creating a model is same with MLP (Sequential)"
   ]
  },
  {
   "cell_type": "code",
   "execution_count": 13,
   "metadata": {},
   "outputs": [],
   "source": [
    "model = Sequential()"
   ]
  },
  {
   "cell_type": "markdown",
   "metadata": {},
   "source": [
    "### 2. Convolutional Layer\n",
    "- In general, 2D convolutional layer is used for image processing\n",
    "    - Size of filter (designated by 'kernel_size' parameter) defines **width and height of receptive field **\n",
    "    - Number of filters (designated by 'filters' parameter) is equal to **depth of the next layer**\n",
    "    - Strides (designated by 'strides' parameter) is** how far a filter makes change in its position** for each move\n",
    "    - Image can be **zero-padded** in order to prevent getting too small (designated by 'padding' parameter)\n",
    "- Doc: https://keras.io/layers/convolutional/\n",
    "<img src=\"http://cs231n.github.io/assets/cnn/depthcol.jpeg\" style=\"width: 400px\"/>"
   ]
  },
  {
   "cell_type": "code",
   "execution_count": 14,
   "metadata": {},
   "outputs": [],
   "source": [
    "# convolution layer\n",
    "model.add(Conv2D(input_shape = (X_data.shape[1], X_data.shape[2], X_data.shape[3]), filters = 10, kernel_size = (3,3), strides = (1,1), padding = 'valid'))"
   ]
  },
  {
   "cell_type": "markdown",
   "metadata": {},
   "source": [
    "### 3. Activation Layer\n",
    "- Identical to the activation layers in MLP\n",
    "- In general, relu is used as well\n",
    "- Doc: http://cs231n.github.io/assets/cnn/depthcol.jpeg"
   ]
  },
  {
   "cell_type": "code",
   "execution_count": 15,
   "metadata": {},
   "outputs": [],
   "source": [
    "model.add(Activation('relu'))"
   ]
  },
  {
   "cell_type": "markdown",
   "metadata": {},
   "source": [
    "### 4. Pooling layer\n",
    "- In general, max pooling method is used\n",
    "- Reduces number of parameters\n",
    "- Doc: https://keras.io/layers/pooling/\n",
    "<img src=\"http://cs231n.github.io/assets/cnn/maxpool.jpeg\" style=\"width: 600px\"/>"
   ]
  },
  {
   "cell_type": "code",
   "execution_count": 16,
   "metadata": {},
   "outputs": [],
   "source": [
    "model.add(MaxPooling2D(pool_size = (2,2)))"
   ]
  },
  {
   "cell_type": "markdown",
   "metadata": {},
   "source": [
    "### 5. Dense (fully connected layer)\n",
    "- Convolutional & pooling layers can be connected to dense layers\n",
    "- Sometimes, dense layers can be omitted\n",
    "- Doc: https://keras.io/layers/core/"
   ]
  },
  {
   "cell_type": "code",
   "execution_count": 17,
   "metadata": {},
   "outputs": [],
   "source": [
    "# prior layer should be flattend to be connected to dense layers\n",
    "model.add(Flatten())"
   ]
  },
  {
   "cell_type": "code",
   "execution_count": 18,
   "metadata": {},
   "outputs": [],
   "source": [
    "# dense layer with 50 neurons\n",
    "model.add(Dense(50, activation = 'relu'))"
   ]
  },
  {
   "cell_type": "code",
   "execution_count": 19,
   "metadata": {},
   "outputs": [],
   "source": [
    "# final layer with 10 neurons to classify the instances\n",
    "model.add(Dense(10, activation = 'softmax'))"
   ]
  },
  {
   "cell_type": "markdown",
   "metadata": {},
   "source": [
    "### 6. Model compile & train\n",
    "- Optimize with adaptive moment estimation (Adam)\n",
    "- accuracy as the metric"
   ]
  },
  {
   "cell_type": "code",
   "execution_count": 20,
   "metadata": {},
   "outputs": [],
   "source": [
    "adam = optimizers.Adam(lr = 0.001)\n",
    "model.compile(loss = 'categorical_crossentropy', optimizer = adam, metrics = ['accuracy'])"
   ]
  },
  {
   "cell_type": "code",
   "execution_count": 21,
   "metadata": {},
   "outputs": [
    {
     "name": "stdout",
     "output_type": "stream",
     "text": [
      "Train on 1005 samples, validate on 252 samples\n",
      "Epoch 1/100\n",
      "1005/1005 [==============================] - 1s 1ms/step - loss: 4.3102 - acc: 0.0826 - val_loss: 2.0671 - val_acc: 0.2857\n",
      "Epoch 2/100\n",
      "1005/1005 [==============================] - 0s 155us/step - loss: 1.8987 - acc: 0.3353 - val_loss: 1.4382 - val_acc: 0.5159\n",
      "Epoch 3/100\n",
      "1005/1005 [==============================] - 0s 151us/step - loss: 1.3218 - acc: 0.5930 - val_loss: 0.9278 - val_acc: 0.7500\n",
      "Epoch 4/100\n",
      "1005/1005 [==============================] - 0s 154us/step - loss: 0.9121 - acc: 0.7562 - val_loss: 0.6195 - val_acc: 0.8373\n",
      "Epoch 5/100\n",
      "1005/1005 [==============================] - 0s 161us/step - loss: 0.6408 - acc: 0.8308 - val_loss: 0.4334 - val_acc: 0.8730\n",
      "Epoch 6/100\n",
      "1005/1005 [==============================] - 0s 156us/step - loss: 0.4581 - acc: 0.8846 - val_loss: 0.3395 - val_acc: 0.9127\n",
      "Epoch 7/100\n",
      "1005/1005 [==============================] - 0s 161us/step - loss: 0.3621 - acc: 0.9015 - val_loss: 0.2625 - val_acc: 0.9325\n",
      "Epoch 8/100\n",
      "1005/1005 [==============================] - 0s 164us/step - loss: 0.2948 - acc: 0.9234 - val_loss: 0.2185 - val_acc: 0.9524\n",
      "Epoch 9/100\n",
      "1005/1005 [==============================] - 0s 164us/step - loss: 0.2447 - acc: 0.9383 - val_loss: 0.1918 - val_acc: 0.9484\n",
      "Epoch 10/100\n",
      "1005/1005 [==============================] - 0s 155us/step - loss: 0.2063 - acc: 0.9522 - val_loss: 0.1746 - val_acc: 0.9444\n",
      "Epoch 11/100\n",
      "1005/1005 [==============================] - 0s 159us/step - loss: 0.1823 - acc: 0.9542 - val_loss: 0.1472 - val_acc: 0.9603\n",
      "Epoch 12/100\n",
      "1005/1005 [==============================] - 0s 150us/step - loss: 0.1586 - acc: 0.9632 - val_loss: 0.1353 - val_acc: 0.9524\n",
      "Epoch 13/100\n",
      "1005/1005 [==============================] - 0s 158us/step - loss: 0.1380 - acc: 0.9692 - val_loss: 0.1366 - val_acc: 0.9643\n",
      "Epoch 14/100\n",
      "1005/1005 [==============================] - 0s 158us/step - loss: 0.1397 - acc: 0.9622 - val_loss: 0.1281 - val_acc: 0.9524\n",
      "Epoch 15/100\n",
      "1005/1005 [==============================] - 0s 162us/step - loss: 0.1177 - acc: 0.9751 - val_loss: 0.1161 - val_acc: 0.9683\n",
      "Epoch 16/100\n",
      "1005/1005 [==============================] - 0s 153us/step - loss: 0.1079 - acc: 0.9771 - val_loss: 0.1229 - val_acc: 0.9643\n",
      "Epoch 17/100\n",
      "1005/1005 [==============================] - 0s 166us/step - loss: 0.1017 - acc: 0.9771 - val_loss: 0.1099 - val_acc: 0.9643\n",
      "Epoch 18/100\n",
      "1005/1005 [==============================] - 0s 151us/step - loss: 0.0863 - acc: 0.9851 - val_loss: 0.0943 - val_acc: 0.9683\n",
      "Epoch 19/100\n",
      "1005/1005 [==============================] - 0s 157us/step - loss: 0.0834 - acc: 0.9831 - val_loss: 0.0970 - val_acc: 0.9722\n",
      "Epoch 20/100\n",
      "1005/1005 [==============================] - 0s 163us/step - loss: 0.0703 - acc: 0.9891 - val_loss: 0.0902 - val_acc: 0.9802\n",
      "Epoch 21/100\n",
      "1005/1005 [==============================] - 0s 161us/step - loss: 0.0662 - acc: 0.9900 - val_loss: 0.0870 - val_acc: 0.9762\n",
      "Epoch 22/100\n",
      "1005/1005 [==============================] - 0s 165us/step - loss: 0.0615 - acc: 0.9881 - val_loss: 0.0854 - val_acc: 0.9722\n",
      "Epoch 23/100\n",
      "1005/1005 [==============================] - 0s 156us/step - loss: 0.0565 - acc: 0.9950 - val_loss: 0.0811 - val_acc: 0.9722\n",
      "Epoch 24/100\n",
      "1005/1005 [==============================] - 0s 165us/step - loss: 0.0543 - acc: 0.9930 - val_loss: 0.0812 - val_acc: 0.9762\n",
      "Epoch 25/100\n",
      "1005/1005 [==============================] - 0s 161us/step - loss: 0.0478 - acc: 0.9950 - val_loss: 0.0876 - val_acc: 0.9802\n",
      "Epoch 26/100\n",
      "1005/1005 [==============================] - 0s 153us/step - loss: 0.0496 - acc: 0.9950 - val_loss: 0.0889 - val_acc: 0.9722\n",
      "Epoch 27/100\n",
      "1005/1005 [==============================] - 0s 149us/step - loss: 0.0510 - acc: 0.9891 - val_loss: 0.0757 - val_acc: 0.9841\n",
      "Epoch 28/100\n",
      "1005/1005 [==============================] - 0s 152us/step - loss: 0.0419 - acc: 0.9950 - val_loss: 0.0797 - val_acc: 0.9841\n",
      "Epoch 29/100\n",
      "1005/1005 [==============================] - 0s 167us/step - loss: 0.0377 - acc: 0.9960 - val_loss: 0.0675 - val_acc: 0.9841\n",
      "Epoch 30/100\n",
      "1005/1005 [==============================] - 0s 149us/step - loss: 0.0373 - acc: 0.9960 - val_loss: 0.0833 - val_acc: 0.9722\n",
      "Epoch 31/100\n",
      "1005/1005 [==============================] - 0s 157us/step - loss: 0.0344 - acc: 0.9970 - val_loss: 0.0675 - val_acc: 0.9841\n",
      "Epoch 32/100\n",
      "1005/1005 [==============================] - 0s 160us/step - loss: 0.0315 - acc: 0.9970 - val_loss: 0.0700 - val_acc: 0.9841\n",
      "Epoch 33/100\n",
      "1005/1005 [==============================] - 0s 162us/step - loss: 0.0288 - acc: 0.9970 - val_loss: 0.0655 - val_acc: 0.9841\n",
      "Epoch 34/100\n",
      "1005/1005 [==============================] - 0s 156us/step - loss: 0.0271 - acc: 0.9980 - val_loss: 0.0675 - val_acc: 0.9762\n",
      "Epoch 35/100\n",
      "1005/1005 [==============================] - 0s 165us/step - loss: 0.0270 - acc: 0.9970 - val_loss: 0.0657 - val_acc: 0.9762\n",
      "Epoch 36/100\n",
      "1005/1005 [==============================] - 0s 153us/step - loss: 0.0286 - acc: 0.9960 - val_loss: 0.0680 - val_acc: 0.9802\n",
      "Epoch 37/100\n",
      "1005/1005 [==============================] - 0s 155us/step - loss: 0.0238 - acc: 0.9990 - val_loss: 0.0667 - val_acc: 0.9762\n",
      "Epoch 38/100\n",
      "1005/1005 [==============================] - 0s 180us/step - loss: 0.0284 - acc: 0.9970 - val_loss: 0.0688 - val_acc: 0.9762\n",
      "Epoch 39/100\n",
      "1005/1005 [==============================] - 0s 155us/step - loss: 0.0217 - acc: 0.9990 - val_loss: 0.0659 - val_acc: 0.9802\n",
      "Epoch 40/100\n",
      "1005/1005 [==============================] - 0s 146us/step - loss: 0.0209 - acc: 0.9980 - val_loss: 0.0658 - val_acc: 0.9762\n",
      "Epoch 41/100\n",
      "1005/1005 [==============================] - 0s 157us/step - loss: 0.0188 - acc: 0.9980 - val_loss: 0.0682 - val_acc: 0.9722\n",
      "Epoch 42/100\n",
      "1005/1005 [==============================] - 0s 150us/step - loss: 0.0195 - acc: 0.9980 - val_loss: 0.0620 - val_acc: 0.9762\n",
      "Epoch 43/100\n",
      "1005/1005 [==============================] - 0s 160us/step - loss: 0.0180 - acc: 0.9990 - val_loss: 0.0682 - val_acc: 0.9762\n",
      "Epoch 44/100\n",
      "1005/1005 [==============================] - 0s 164us/step - loss: 0.0164 - acc: 0.9990 - val_loss: 0.0628 - val_acc: 0.9722\n",
      "Epoch 45/100\n",
      "1005/1005 [==============================] - 0s 156us/step - loss: 0.0164 - acc: 0.9980 - val_loss: 0.0587 - val_acc: 0.9802\n",
      "Epoch 46/100\n",
      "1005/1005 [==============================] - 0s 155us/step - loss: 0.0148 - acc: 0.9990 - val_loss: 0.0603 - val_acc: 0.9762\n",
      "Epoch 47/100\n",
      "1005/1005 [==============================] - 0s 156us/step - loss: 0.0147 - acc: 0.9990 - val_loss: 0.0650 - val_acc: 0.9762\n",
      "Epoch 48/100\n",
      "1005/1005 [==============================] - 0s 157us/step - loss: 0.0143 - acc: 0.9990 - val_loss: 0.0665 - val_acc: 0.9722\n",
      "Epoch 49/100\n",
      "1005/1005 [==============================] - 0s 152us/step - loss: 0.0137 - acc: 0.9980 - val_loss: 0.0574 - val_acc: 0.9802\n",
      "Epoch 50/100\n",
      "1005/1005 [==============================] - 0s 159us/step - loss: 0.0313 - acc: 0.9930 - val_loss: 0.0830 - val_acc: 0.9722\n",
      "Epoch 51/100\n",
      "1005/1005 [==============================] - 0s 161us/step - loss: 0.0161 - acc: 0.9980 - val_loss: 0.0608 - val_acc: 0.9802\n",
      "Epoch 52/100\n",
      "1005/1005 [==============================] - 0s 153us/step - loss: 0.0126 - acc: 0.9990 - val_loss: 0.0643 - val_acc: 0.9722\n",
      "Epoch 53/100\n",
      "1005/1005 [==============================] - 0s 160us/step - loss: 0.0115 - acc: 1.0000 - val_loss: 0.0589 - val_acc: 0.9762\n",
      "Epoch 54/100\n",
      "1005/1005 [==============================] - 0s 155us/step - loss: 0.0100 - acc: 0.9990 - val_loss: 0.0613 - val_acc: 0.9722\n",
      "Epoch 55/100\n",
      "1005/1005 [==============================] - 0s 151us/step - loss: 0.0113 - acc: 0.9990 - val_loss: 0.0596 - val_acc: 0.9802\n",
      "Epoch 56/100\n",
      "1005/1005 [==============================] - 0s 156us/step - loss: 0.0093 - acc: 1.0000 - val_loss: 0.0578 - val_acc: 0.9722\n",
      "Epoch 57/100\n",
      "1005/1005 [==============================] - 0s 156us/step - loss: 0.0095 - acc: 1.0000 - val_loss: 0.0591 - val_acc: 0.9762\n",
      "Epoch 58/100\n",
      "1005/1005 [==============================] - 0s 154us/step - loss: 0.0088 - acc: 1.0000 - val_loss: 0.0591 - val_acc: 0.9722\n",
      "Epoch 59/100\n",
      "1005/1005 [==============================] - 0s 157us/step - loss: 0.0093 - acc: 1.0000 - val_loss: 0.0601 - val_acc: 0.9802\n",
      "Epoch 60/100\n",
      "1005/1005 [==============================] - 0s 164us/step - loss: 0.0079 - acc: 1.0000 - val_loss: 0.0582 - val_acc: 0.9762\n",
      "Epoch 61/100\n",
      "1005/1005 [==============================] - 0s 155us/step - loss: 0.0078 - acc: 1.0000 - val_loss: 0.0619 - val_acc: 0.9762\n",
      "Epoch 62/100\n",
      "1005/1005 [==============================] - 0s 155us/step - loss: 0.0077 - acc: 1.0000 - val_loss: 0.0610 - val_acc: 0.9762\n",
      "Epoch 63/100\n",
      "1005/1005 [==============================] - 0s 155us/step - loss: 0.0081 - acc: 1.0000 - val_loss: 0.0586 - val_acc: 0.9722\n",
      "Epoch 64/100\n",
      "1005/1005 [==============================] - 0s 163us/step - loss: 0.0068 - acc: 1.0000 - val_loss: 0.0591 - val_acc: 0.9802\n",
      "Epoch 65/100\n",
      "1005/1005 [==============================] - 0s 161us/step - loss: 0.0066 - acc: 1.0000 - val_loss: 0.0591 - val_acc: 0.9762\n",
      "Epoch 66/100\n",
      "1005/1005 [==============================] - 0s 162us/step - loss: 0.0067 - acc: 1.0000 - val_loss: 0.0567 - val_acc: 0.9762\n",
      "Epoch 67/100\n",
      "1005/1005 [==============================] - 0s 179us/step - loss: 0.0061 - acc: 1.0000 - val_loss: 0.0617 - val_acc: 0.9722\n",
      "Epoch 68/100\n",
      "1005/1005 [==============================] - 0s 157us/step - loss: 0.0062 - acc: 1.0000 - val_loss: 0.0613 - val_acc: 0.9802\n",
      "Epoch 69/100\n",
      "1005/1005 [==============================] - 0s 159us/step - loss: 0.0063 - acc: 1.0000 - val_loss: 0.0554 - val_acc: 0.9722\n",
      "Epoch 70/100\n",
      "1005/1005 [==============================] - 0s 150us/step - loss: 0.0058 - acc: 1.0000 - val_loss: 0.0661 - val_acc: 0.9762\n",
      "Epoch 71/100\n",
      "1005/1005 [==============================] - 0s 156us/step - loss: 0.0059 - acc: 1.0000 - val_loss: 0.0574 - val_acc: 0.9722\n",
      "Epoch 72/100\n",
      "1005/1005 [==============================] - 0s 164us/step - loss: 0.0055 - acc: 1.0000 - val_loss: 0.0580 - val_acc: 0.9722\n",
      "Epoch 73/100\n",
      "1005/1005 [==============================] - 0s 152us/step - loss: 0.0049 - acc: 1.0000 - val_loss: 0.0616 - val_acc: 0.9722\n",
      "Epoch 74/100\n",
      "1005/1005 [==============================] - 0s 160us/step - loss: 0.0047 - acc: 1.0000 - val_loss: 0.0582 - val_acc: 0.9722\n",
      "Epoch 75/100\n",
      "1005/1005 [==============================] - 0s 163us/step - loss: 0.0046 - acc: 1.0000 - val_loss: 0.0591 - val_acc: 0.9762\n",
      "Epoch 76/100\n",
      "1005/1005 [==============================] - 0s 144us/step - loss: 0.0045 - acc: 1.0000 - val_loss: 0.0582 - val_acc: 0.9722\n",
      "Epoch 77/100\n",
      "1005/1005 [==============================] - 0s 157us/step - loss: 0.0044 - acc: 1.0000 - val_loss: 0.0572 - val_acc: 0.9762\n",
      "Epoch 78/100\n",
      "1005/1005 [==============================] - 0s 145us/step - loss: 0.0043 - acc: 1.0000 - val_loss: 0.0586 - val_acc: 0.9722\n",
      "Epoch 79/100\n",
      "1005/1005 [==============================] - 0s 153us/step - loss: 0.0041 - acc: 1.0000 - val_loss: 0.0584 - val_acc: 0.9722\n",
      "Epoch 80/100\n",
      "1005/1005 [==============================] - 0s 156us/step - loss: 0.0040 - acc: 1.0000 - val_loss: 0.0582 - val_acc: 0.9722\n",
      "Epoch 81/100\n",
      "1005/1005 [==============================] - 0s 151us/step - loss: 0.0039 - acc: 1.0000 - val_loss: 0.0582 - val_acc: 0.9722\n",
      "Epoch 82/100\n",
      "1005/1005 [==============================] - 0s 161us/step - loss: 0.0039 - acc: 1.0000 - val_loss: 0.0594 - val_acc: 0.9762\n",
      "Epoch 83/100\n",
      "1005/1005 [==============================] - 0s 154us/step - loss: 0.0037 - acc: 1.0000 - val_loss: 0.0556 - val_acc: 0.9762\n",
      "Epoch 84/100\n",
      "1005/1005 [==============================] - 0s 163us/step - loss: 0.0036 - acc: 1.0000 - val_loss: 0.0573 - val_acc: 0.9722\n",
      "Epoch 85/100\n",
      "1005/1005 [==============================] - 0s 157us/step - loss: 0.0037 - acc: 1.0000 - val_loss: 0.0589 - val_acc: 0.9722\n",
      "Epoch 86/100\n",
      "1005/1005 [==============================] - 0s 154us/step - loss: 0.0035 - acc: 1.0000 - val_loss: 0.0589 - val_acc: 0.9762\n",
      "Epoch 87/100\n",
      "1005/1005 [==============================] - 0s 169us/step - loss: 0.0036 - acc: 1.0000 - val_loss: 0.0544 - val_acc: 0.9722\n",
      "Epoch 88/100\n",
      "1005/1005 [==============================] - 0s 156us/step - loss: 0.0036 - acc: 1.0000 - val_loss: 0.0589 - val_acc: 0.9722\n",
      "Epoch 89/100\n",
      "1005/1005 [==============================] - 0s 162us/step - loss: 0.0035 - acc: 1.0000 - val_loss: 0.0619 - val_acc: 0.9762\n",
      "Epoch 90/100\n",
      "1005/1005 [==============================] - 0s 153us/step - loss: 0.0032 - acc: 1.0000 - val_loss: 0.0594 - val_acc: 0.9762\n",
      "Epoch 91/100\n",
      "1005/1005 [==============================] - 0s 148us/step - loss: 0.0036 - acc: 1.0000 - val_loss: 0.0624 - val_acc: 0.9762\n",
      "Epoch 92/100\n",
      "1005/1005 [==============================] - 0s 150us/step - loss: 0.0033 - acc: 1.0000 - val_loss: 0.0541 - val_acc: 0.9762\n",
      "Epoch 93/100\n",
      "1005/1005 [==============================] - 0s 151us/step - loss: 0.0030 - acc: 1.0000 - val_loss: 0.0604 - val_acc: 0.9762\n",
      "Epoch 94/100\n",
      "1005/1005 [==============================] - 0s 158us/step - loss: 0.0027 - acc: 1.0000 - val_loss: 0.0560 - val_acc: 0.9762\n",
      "Epoch 95/100\n",
      "1005/1005 [==============================] - 0s 149us/step - loss: 0.0027 - acc: 1.0000 - val_loss: 0.0598 - val_acc: 0.9762\n",
      "Epoch 96/100\n",
      "1005/1005 [==============================] - 0s 152us/step - loss: 0.0028 - acc: 1.0000 - val_loss: 0.0605 - val_acc: 0.9722\n",
      "Epoch 97/100\n",
      "1005/1005 [==============================] - 0s 183us/step - loss: 0.0027 - acc: 1.0000 - val_loss: 0.0590 - val_acc: 0.9762\n",
      "Epoch 98/100\n",
      "1005/1005 [==============================] - 0s 159us/step - loss: 0.0025 - acc: 1.0000 - val_loss: 0.0603 - val_acc: 0.9762\n",
      "Epoch 99/100\n",
      "1005/1005 [==============================] - 0s 152us/step - loss: 0.0025 - acc: 1.0000 - val_loss: 0.0588 - val_acc: 0.9762\n",
      "Epoch 100/100\n",
      "1005/1005 [==============================] - 0s 155us/step - loss: 0.0024 - acc: 1.0000 - val_loss: 0.0622 - val_acc: 0.9722\n"
     ]
    }
   ],
   "source": [
    "history = model.fit(X_train, y_train, batch_size = 50, validation_split = 0.2, epochs = 100, verbose = 1)"
   ]
  },
  {
   "cell_type": "code",
   "execution_count": 22,
   "metadata": {},
   "outputs": [
    {
     "data": {
      "text/plain": [
       "dict_keys(['val_loss', 'val_acc', 'loss', 'acc'])"
      ]
     },
     "execution_count": 22,
     "metadata": {},
     "output_type": "execute_result"
    }
   ],
   "source": [
    "history.history.keys()"
   ]
  },
  {
   "cell_type": "code",
   "execution_count": 24,
   "metadata": {},
   "outputs": [
    {
     "data": {
      "image/png": "[encoded data removed]",
      "text/plain": [
       "<Figure size 432x288 with 1 Axes>"
      ]
     },
     "metadata": {
      "needs_background": "dark"
     },
     "output_type": "display_data"
    }
   ],
   "source": [
    "plt.clf()\n",
    "plt.plot(history.history['val_acc'])\n",
    "plt.xticks(color='w',fontsize=18)\n",
    "plt.yticks(color='w',fontsize=18)\n",
    "plt.show()"
   ]
  },
  {
   "cell_type": "code",
   "execution_count": 25,
   "metadata": {},
   "outputs": [
    {
     "data": {
      "image/png": "[encoded data removed]",
      "text/plain": [
       "<Figure size 432x288 with 1 Axes>"
      ]
     },
     "metadata": {
      "needs_background": "dark"
     },
     "output_type": "display_data"
    }
   ],
   "source": [
    "plt.clf()\n",
    "plt.semilogy(history.history['loss'],'r-')\n",
    "plt.xticks(color='w',fontsize=18)\n",
    "plt.yticks([1e-2,1e-3,1e-4],color='w',fontsize=18)\n",
    "plt.show()"
   ]
  },
  {
   "cell_type": "code",
   "execution_count": 26,
   "metadata": {},
   "outputs": [],
   "source": [
    "results = model.evaluate(X_test, y_test,verbose=0)"
   ]
  },
  {
   "cell_type": "code",
   "execution_count": 27,
   "metadata": {},
   "outputs": [
    {
     "name": "stdout",
     "output_type": "stream",
     "text": [
      "Test accuracy:  0.9685185185185186\n"
     ]
    }
   ],
   "source": [
    "print('Test accuracy: ', results[1])"
   ]
  },
  {
   "cell_type": "code",
   "execution_count": 28,
   "metadata": {},
   "outputs": [
    {
     "name": "stdout",
     "output_type": "stream",
     "text": [
      "cg20-5.agave.rc.asu.edu\n"
     ]
    }
   ],
   "source": [
    "!hostname"
   ]
  },
  {
   "cell_type": "markdown",
   "metadata": {},
   "source": [
    "Even simple CNN model shows fine performance of **97% **test accuracy"
   ]
  },
  {
   "cell_type": "code",
   "execution_count": 29,
   "metadata": {},
   "outputs": [
    {
     "name": "stdout",
     "output_type": "stream",
     "text": [
      "Mon Feb 10 14:36:30 2020       \n",
      "+-----------------------------------------------------------------------------+\n",
      "| NVIDIA-SMI 440.33.01    Driver Version: 440.33.01    CUDA Version: 10.2     |\n",
      "|-------------------------------+----------------------+----------------------+\n",
      "| GPU  Name        Persistence-M| Bus-Id        Disp.A | Volatile Uncorr. ECC |\n",
      "| Fan  Temp  Perf  Pwr:Usage/Cap|         Memory-Usage | GPU-Util  Compute M. |\n",
      "|===============================+======================+======================|\n",
      "|   0  Tesla V100-SXM2...  Off  | 00000000:1E:00.0 Off |                    0 |\n",
      "| N/A   42C    P0    56W / 300W |      0MiB / 16160MiB |      0%      Default |\n",
      "+-------------------------------+----------------------+----------------------+\n",
      "                                                                               \n",
      "+-----------------------------------------------------------------------------+\n",
      "| Processes:                                                       GPU Memory |\n",
      "|  GPU       PID   Type   Process name                             Usage      |\n",
      "|=============================================================================|\n",
      "|  No running processes found                                                 |\n",
      "+-----------------------------------------------------------------------------+\n"
     ]
    }
   ],
   "source": [
    "!nvidia-smi"
   ]
  },
  {
   "cell_type": "code",
   "execution_count": null,
   "metadata": {},
   "outputs": [],
   "source": []
  }
 ],
 "metadata": {
  "kernelspec": {
   "display_name": "Python 3 (Tensorflow 1.12)",
   "language": "python",
   "name": "tf1.12-gpu"
  },
  "language_info": {
   "codemirror_mode": {
    "name": "ipython",
    "version": 3
   },
   "file_extension": ".py",
   "mimetype": "text/x-python",
   "name": "python",
   "nbconvert_exporter": "python",
   "pygments_lexer": "ipython3",
   "version": "3.6.8"
  }
 },
 "nbformat": 4,
 "nbformat_minor": 4
}
