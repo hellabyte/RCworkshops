{
 "cells": [
  {
   "cell_type": "markdown",
   "metadata": {},
   "source": [
    "# Basic Convolutional Neural Networks (CNN)\n",
    "- Objective: create basic CNN models with Keras"
   ]
  },
  {
   "cell_type": "markdown",
   "metadata": {},
   "source": [
    "<img src=\"https://adeshpande3.github.io/assets/Cover.png\" style=\"width: 800px\"/>\n",
    "\n",
    "<br>\n",
    "\n",
    "- Fundamental CNN structures: CNNs are similar to Multilayer Perceptrons (MLPs) since they only feed signals forward (feedforward nets), but have different kind of layers unique to CNNs  \n",
    "  - ** Convolutional layer** : process data in a small receptive field (i.e., filter)  \n",
    "  - ** Pooling layer** : downsample along 2 dimensions (usually width and height)   \n",
    "  - ** Dense (fully connected) layer** : similar to hidden layers of MLPs  "
   ]
  },
  {
   "cell_type": "markdown",
   "metadata": {},
   "source": [
    "<img src=\"http://cs231n.github.io/assets/cnn/convnet.jpeg\" style=\"width: 600px\"/>\n",
    "<br>\n",
    "<center> **ConvNet architecture** </center>"
   ]
  },
  {
   "cell_type": "code",
   "execution_count": 94,
   "metadata": {},
   "outputs": [],
   "source": [
    "import numpy as np\n",
    "import matplotlib.pyplot as plt\n",
    "\n",
    "from sklearn import datasets\n",
    "from sklearn.model_selection import train_test_split\n",
    "from tensorflow.keras.utils import to_categorical"
   ]
  },
  {
   "cell_type": "markdown",
   "metadata": {},
   "source": [
    "### Load Datset\n",
    "- Digits dataset in sklearn\n",
    "- Doc: http://scikit-learn.org/stable/auto_examples/datasets/plot_digits_last_image.html"
   ]
  },
  {
   "cell_type": "code",
   "execution_count": 95,
   "metadata": {},
   "outputs": [],
   "source": [
    "data = datasets.load_digits()"
   ]
  },
  {
   "cell_type": "code",
   "execution_count": 96,
   "metadata": {},
   "outputs": [],
   "source": [
    "K,M,N = data.images.shape\n",
    "FI = data.images[:10].reshape((10*M,N))"
   ]
  },
  {
   "cell_type": "code",
   "execution_count": 97,
   "metadata": {},
   "outputs": [
    {
     "data": {
      "image/png": "[encoded data removed]",
      "text/plain": [
       "<matplotlib.figure.Figure at 0x2b4023de69b0>"
      ]
     },
     "metadata": {},
     "output_type": "display_data"
    }
   ],
   "source": [
    "k=0\n",
    "plt.close()\n",
    "plt.figure(figsize=(1,1))\n",
    "plt.imshow(data.images[k],cmap=plt.cm.binary)    # show first number in the dataset\n",
    "plt.title('label: %d' % data.target[k],fontsize=18,color='w')    # label = '0'\n",
    "plt.show()"
   ]
  },
  {
   "cell_type": "code",
   "execution_count": 98,
   "metadata": {},
   "outputs": [],
   "source": [
    "X_data = data.images\n",
    "y_data = data.target"
   ]
  },
  {
   "cell_type": "code",
   "execution_count": 99,
   "metadata": {},
   "outputs": [
    {
     "name": "stdout",
     "output_type": "stream",
     "text": [
      "(1797, 8, 8)\n",
      "(1797,)\n"
     ]
    }
   ],
   "source": [
    "# shape of data\n",
    "print(X_data.shape)    # (8 X 8) format\n",
    "print(y_data.shape)"
   ]
  },
  {
   "cell_type": "code",
   "execution_count": 100,
   "metadata": {},
   "outputs": [],
   "source": [
    "# reshape X_data into 3-D format\n",
    "# note that this follows image format of Tensorflow backend\n",
    "X_data = X_data.reshape((X_data.shape[0], X_data.shape[1], X_data.shape[2], 1))"
   ]
  },
  {
   "cell_type": "code",
   "execution_count": 101,
   "metadata": {},
   "outputs": [],
   "source": [
    "# one-hot encoding of y_data\n",
    "y_data = to_categorical(y_data)"
   ]
  },
  {
   "cell_type": "code",
   "execution_count": 102,
   "metadata": {},
   "outputs": [
    {
     "name": "stdout",
     "output_type": "stream",
     "text": [
      "[1. 0. 0. 0. 0. 0. 0. 0. 0. 0.]\n"
     ]
    }
   ],
   "source": [
    "print(y_data[0])"
   ]
  },
  {
   "cell_type": "code",
   "execution_count": 103,
   "metadata": {},
   "outputs": [],
   "source": [
    "# partition data into train/test sets\n",
    "X_train, X_test, y_train, y_test = train_test_split(X_data, y_data, test_size = 0.3, random_state = 777)"
   ]
  },
  {
   "cell_type": "code",
   "execution_count": 104,
   "metadata": {},
   "outputs": [
    {
     "name": "stdout",
     "output_type": "stream",
     "text": [
      "(1257, 8, 8, 1)\n",
      "(540, 8, 8, 1)\n",
      "(1257, 10)\n",
      "(540, 10)\n"
     ]
    }
   ],
   "source": [
    "print(X_train.shape)\n",
    "print(X_test.shape)\n",
    "print(y_train.shape)\n",
    "print(y_test.shape)"
   ]
  },
  {
   "cell_type": "code",
   "execution_count": 105,
   "metadata": {},
   "outputs": [],
   "source": [
    "from tensorflow.keras.models import Sequential\n",
    "from tensorflow.keras import optimizers\n",
    "from tensorflow.keras.layers import Dense, Activation, Flatten, Conv2D, MaxPooling2D"
   ]
  },
  {
   "cell_type": "markdown",
   "metadata": {},
   "source": [
    "### 1. Creating model\n",
    "- Creating a model is same with MLP (Sequential)"
   ]
  },
  {
   "cell_type": "code",
   "execution_count": 106,
   "metadata": {},
   "outputs": [],
   "source": [
    "model = Sequential()"
   ]
  },
  {
   "cell_type": "markdown",
   "metadata": {},
   "source": [
    "### 2. Convolutional Layer\n",
    "- In general, 2D convolutional layer is used for image processing\n",
    "    - Size of filter (designated by 'kernel_size' parameter) defines **width and height of receptive field **\n",
    "    - Number of filters (designated by 'filters' parameter) is equal to **depth of the next layer**\n",
    "    - Strides (designated by 'strides' parameter) is** how far a filter makes change in its position** for each move\n",
    "    - Image can be **zero-padded** in order to prevent getting too small (designated by 'padding' parameter)\n",
    "- Doc: https://keras.io/layers/convolutional/\n",
    "<img src=\"http://cs231n.github.io/assets/cnn/depthcol.jpeg\" style=\"width: 400px\"/>"
   ]
  },
  {
   "cell_type": "code",
   "execution_count": 107,
   "metadata": {},
   "outputs": [],
   "source": [
    "# convolution layer\n",
    "model.add(Conv2D(input_shape = (X_data.shape[1], X_data.shape[2], X_data.shape[3]), filters = 10, kernel_size = (3,3), strides = (1,1), padding = 'valid'))"
   ]
  },
  {
   "cell_type": "markdown",
   "metadata": {},
   "source": [
    "### 3. Activation Layer\n",
    "- Identical to the activation layers in MLP\n",
    "- In general, relu is used as well\n",
    "- Doc: http://cs231n.github.io/assets/cnn/depthcol.jpeg"
   ]
  },
  {
   "cell_type": "code",
   "execution_count": 17,
   "metadata": {},
   "outputs": [],
   "source": [
    "model.add(Activation('relu'))"
   ]
  },
  {
   "cell_type": "markdown",
   "metadata": {},
   "source": [
    "### 4. Pooling layer\n",
    "- In general, max pooling method is used\n",
    "- Reduces number of parameters\n",
    "- Doc: https://keras.io/layers/pooling/\n",
    "<img src=\"http://cs231n.github.io/assets/cnn/maxpool.jpeg\" style=\"width: 600px\"/>"
   ]
  },
  {
   "cell_type": "code",
   "execution_count": 18,
   "metadata": {},
   "outputs": [],
   "source": [
    "model.add(MaxPooling2D(pool_size = (2,2)))"
   ]
  },
  {
   "cell_type": "markdown",
   "metadata": {},
   "source": [
    "### 5. Dense (fully connected layer)\n",
    "- Convolutional & pooling layers can be connected to dense layers\n",
    "- Sometimes, dense layers can be omitted\n",
    "- Doc: https://keras.io/layers/core/"
   ]
  },
  {
   "cell_type": "code",
   "execution_count": 19,
   "metadata": {},
   "outputs": [],
   "source": [
    "# prior layer should be flattend to be connected to dense layers\n",
    "model.add(Flatten())"
   ]
  },
  {
   "cell_type": "code",
   "execution_count": 20,
   "metadata": {},
   "outputs": [],
   "source": [
    "# dense layer with 50 neurons\n",
    "model.add(Dense(50, activation = 'relu'))"
   ]
  },
  {
   "cell_type": "code",
   "execution_count": 21,
   "metadata": {},
   "outputs": [],
   "source": [
    "# final layer with 10 neurons to classify the instances\n",
    "model.add(Dense(10, activation = 'softmax'))"
   ]
  },
  {
   "cell_type": "markdown",
   "metadata": {},
   "source": [
    "### 6. Model compile & train\n",
    "- Optimize with adaptive moment estimation (Adam)\n",
    "- accuracy as the metric"
   ]
  },
  {
   "cell_type": "code",
   "execution_count": 22,
   "metadata": {},
   "outputs": [],
   "source": [
    "adam = optimizers.Adam(lr = 0.001)\n",
    "model.compile(loss = 'categorical_crossentropy', optimizer = adam, metrics = ['accuracy'])"
   ]
  },
  {
   "cell_type": "code",
   "execution_count": 24,
   "metadata": {},
   "outputs": [
    {
     "name": "stdout",
     "output_type": "stream",
     "text": [
      "Train on 1005 samples, validate on 252 samples\n",
      "Epoch 1/100\n",
      "1005/1005 [==============================] - 0s 200us/sample - loss: 0.0035 - accuracy: 1.0000 - val_loss: 0.0623 - val_accuracy: 0.9881\n",
      "Epoch 2/100\n",
      "1005/1005 [==============================] - 0s 182us/sample - loss: 0.0044 - accuracy: 1.0000 - val_loss: 0.0732 - val_accuracy: 0.9881\n",
      "Epoch 3/100\n",
      "1005/1005 [==============================] - 0s 196us/sample - loss: 0.0035 - accuracy: 1.0000 - val_loss: 0.0666 - val_accuracy: 0.9881\n",
      "Epoch 4/100\n",
      "1005/1005 [==============================] - 0s 189us/sample - loss: 0.0033 - accuracy: 1.0000 - val_loss: 0.0685 - val_accuracy: 0.9881\n",
      "Epoch 5/100\n",
      "1005/1005 [==============================] - 0s 179us/sample - loss: 0.0030 - accuracy: 1.0000 - val_loss: 0.0697 - val_accuracy: 0.9881\n",
      "Epoch 6/100\n",
      "1005/1005 [==============================] - 0s 189us/sample - loss: 0.0030 - accuracy: 1.0000 - val_loss: 0.0679 - val_accuracy: 0.9881\n",
      "Epoch 7/100\n",
      "1005/1005 [==============================] - 0s 188us/sample - loss: 0.0028 - accuracy: 1.0000 - val_loss: 0.0699 - val_accuracy: 0.9881\n",
      "Epoch 8/100\n",
      "1005/1005 [==============================] - 0s 185us/sample - loss: 0.0028 - accuracy: 1.0000 - val_loss: 0.0696 - val_accuracy: 0.9881\n",
      "Epoch 9/100\n",
      "1005/1005 [==============================] - 0s 178us/sample - loss: 0.0031 - accuracy: 1.0000 - val_loss: 0.0672 - val_accuracy: 0.9881\n",
      "Epoch 10/100\n",
      "1005/1005 [==============================] - 0s 181us/sample - loss: 0.0029 - accuracy: 1.0000 - val_loss: 0.0698 - val_accuracy: 0.9881\n",
      "Epoch 11/100\n",
      "1005/1005 [==============================] - 0s 192us/sample - loss: 0.0027 - accuracy: 1.0000 - val_loss: 0.0679 - val_accuracy: 0.9881\n",
      "Epoch 12/100\n",
      "1005/1005 [==============================] - 0s 182us/sample - loss: 0.0033 - accuracy: 1.0000 - val_loss: 0.0777 - val_accuracy: 0.9881\n",
      "Epoch 13/100\n",
      "1005/1005 [==============================] - 0s 169us/sample - loss: 0.0030 - accuracy: 1.0000 - val_loss: 0.0699 - val_accuracy: 0.9881\n",
      "Epoch 14/100\n",
      "1005/1005 [==============================] - 0s 189us/sample - loss: 0.0027 - accuracy: 1.0000 - val_loss: 0.0702 - val_accuracy: 0.9841\n",
      "Epoch 15/100\n",
      "1005/1005 [==============================] - 0s 178us/sample - loss: 0.0024 - accuracy: 1.0000 - val_loss: 0.0680 - val_accuracy: 0.9881\n",
      "Epoch 16/100\n",
      "1005/1005 [==============================] - 0s 191us/sample - loss: 0.0024 - accuracy: 1.0000 - val_loss: 0.0716 - val_accuracy: 0.9881\n",
      "Epoch 17/100\n",
      "1005/1005 [==============================] - 0s 182us/sample - loss: 0.0023 - accuracy: 1.0000 - val_loss: 0.0698 - val_accuracy: 0.9881\n",
      "Epoch 18/100\n",
      "1005/1005 [==============================] - 0s 186us/sample - loss: 0.0023 - accuracy: 1.0000 - val_loss: 0.0708 - val_accuracy: 0.9881\n",
      "Epoch 19/100\n",
      "1005/1005 [==============================] - 0s 185us/sample - loss: 0.0022 - accuracy: 1.0000 - val_loss: 0.0711 - val_accuracy: 0.9881\n",
      "Epoch 20/100\n",
      "1005/1005 [==============================] - 0s 185us/sample - loss: 0.0021 - accuracy: 1.0000 - val_loss: 0.0700 - val_accuracy: 0.9881\n",
      "Epoch 21/100\n",
      "1005/1005 [==============================] - 0s 191us/sample - loss: 0.0020 - accuracy: 1.0000 - val_loss: 0.0704 - val_accuracy: 0.9881\n",
      "Epoch 22/100\n",
      "1005/1005 [==============================] - 0s 182us/sample - loss: 0.0020 - accuracy: 1.0000 - val_loss: 0.0707 - val_accuracy: 0.9881\n",
      "Epoch 23/100\n",
      "1005/1005 [==============================] - 0s 188us/sample - loss: 0.0020 - accuracy: 1.0000 - val_loss: 0.0718 - val_accuracy: 0.9881\n",
      "Epoch 24/100\n",
      "1005/1005 [==============================] - 0s 189us/sample - loss: 0.0020 - accuracy: 1.0000 - val_loss: 0.0712 - val_accuracy: 0.9881\n",
      "Epoch 25/100\n",
      "1005/1005 [==============================] - 0s 188us/sample - loss: 0.0021 - accuracy: 1.0000 - val_loss: 0.0705 - val_accuracy: 0.9881\n",
      "Epoch 26/100\n",
      "1005/1005 [==============================] - 0s 188us/sample - loss: 0.0019 - accuracy: 1.0000 - val_loss: 0.0730 - val_accuracy: 0.9881\n",
      "Epoch 27/100\n",
      "1005/1005 [==============================] - 0s 170us/sample - loss: 0.0018 - accuracy: 1.0000 - val_loss: 0.0700 - val_accuracy: 0.9881\n",
      "Epoch 28/100\n",
      "1005/1005 [==============================] - 0s 182us/sample - loss: 0.0018 - accuracy: 1.0000 - val_loss: 0.0705 - val_accuracy: 0.9881\n",
      "Epoch 29/100\n",
      "1005/1005 [==============================] - 0s 190us/sample - loss: 0.0018 - accuracy: 1.0000 - val_loss: 0.0713 - val_accuracy: 0.9881\n",
      "Epoch 30/100\n",
      "1005/1005 [==============================] - 0s 187us/sample - loss: 0.0017 - accuracy: 1.0000 - val_loss: 0.0712 - val_accuracy: 0.9881\n",
      "Epoch 31/100\n",
      "1005/1005 [==============================] - 0s 184us/sample - loss: 0.0017 - accuracy: 1.0000 - val_loss: 0.0708 - val_accuracy: 0.9881\n",
      "Epoch 32/100\n",
      "1005/1005 [==============================] - 0s 188us/sample - loss: 0.0016 - accuracy: 1.0000 - val_loss: 0.0720 - val_accuracy: 0.9881\n",
      "Epoch 33/100\n",
      "1005/1005 [==============================] - 0s 197us/sample - loss: 0.0016 - accuracy: 1.0000 - val_loss: 0.0723 - val_accuracy: 0.9841\n",
      "Epoch 34/100\n",
      "1005/1005 [==============================] - 0s 194us/sample - loss: 0.0017 - accuracy: 1.0000 - val_loss: 0.0716 - val_accuracy: 0.9881\n",
      "Epoch 35/100\n",
      "1005/1005 [==============================] - 0s 183us/sample - loss: 0.0015 - accuracy: 1.0000 - val_loss: 0.0722 - val_accuracy: 0.9881\n",
      "Epoch 36/100\n",
      "1005/1005 [==============================] - 0s 189us/sample - loss: 0.0015 - accuracy: 1.0000 - val_loss: 0.0723 - val_accuracy: 0.9881\n",
      "Epoch 37/100\n",
      "1005/1005 [==============================] - 0s 191us/sample - loss: 0.0015 - accuracy: 1.0000 - val_loss: 0.0718 - val_accuracy: 0.9881\n",
      "Epoch 38/100\n",
      "1005/1005 [==============================] - 0s 181us/sample - loss: 0.0014 - accuracy: 1.0000 - val_loss: 0.0725 - val_accuracy: 0.9881\n",
      "Epoch 39/100\n",
      "1005/1005 [==============================] - 0s 184us/sample - loss: 0.0015 - accuracy: 1.0000 - val_loss: 0.0714 - val_accuracy: 0.9881\n",
      "Epoch 40/100\n",
      "1005/1005 [==============================] - 0s 188us/sample - loss: 0.0014 - accuracy: 1.0000 - val_loss: 0.0710 - val_accuracy: 0.9881\n",
      "Epoch 41/100\n",
      "1005/1005 [==============================] - 0s 192us/sample - loss: 0.0013 - accuracy: 1.0000 - val_loss: 0.0713 - val_accuracy: 0.9881\n",
      "Epoch 42/100\n",
      "1005/1005 [==============================] - 0s 190us/sample - loss: 0.0013 - accuracy: 1.0000 - val_loss: 0.0728 - val_accuracy: 0.9881\n",
      "Epoch 43/100\n",
      "1005/1005 [==============================] - 0s 187us/sample - loss: 0.0013 - accuracy: 1.0000 - val_loss: 0.0721 - val_accuracy: 0.9881\n",
      "Epoch 44/100\n",
      "1005/1005 [==============================] - 0s 192us/sample - loss: 0.0013 - accuracy: 1.0000 - val_loss: 0.0751 - val_accuracy: 0.9881\n",
      "Epoch 45/100\n",
      "1005/1005 [==============================] - 0s 189us/sample - loss: 0.0013 - accuracy: 1.0000 - val_loss: 0.0720 - val_accuracy: 0.9881\n",
      "Epoch 46/100\n",
      "1005/1005 [==============================] - 0s 202us/sample - loss: 0.0017 - accuracy: 1.0000 - val_loss: 0.0770 - val_accuracy: 0.9841\n",
      "Epoch 47/100\n",
      "1005/1005 [==============================] - 0s 176us/sample - loss: 0.0014 - accuracy: 1.0000 - val_loss: 0.0714 - val_accuracy: 0.9881\n",
      "Epoch 48/100\n",
      "1005/1005 [==============================] - 0s 181us/sample - loss: 0.0012 - accuracy: 1.0000 - val_loss: 0.0727 - val_accuracy: 0.9881\n",
      "Epoch 49/100\n",
      "1005/1005 [==============================] - 0s 182us/sample - loss: 0.0012 - accuracy: 1.0000 - val_loss: 0.0719 - val_accuracy: 0.9841\n",
      "Epoch 50/100\n",
      "1005/1005 [==============================] - 0s 184us/sample - loss: 0.0011 - accuracy: 1.0000 - val_loss: 0.0720 - val_accuracy: 0.9881\n",
      "Epoch 51/100\n",
      "1005/1005 [==============================] - 0s 182us/sample - loss: 0.0011 - accuracy: 1.0000 - val_loss: 0.0721 - val_accuracy: 0.9881\n",
      "Epoch 52/100\n",
      "1005/1005 [==============================] - 0s 166us/sample - loss: 0.0011 - accuracy: 1.0000 - val_loss: 0.0722 - val_accuracy: 0.9881\n",
      "Epoch 53/100\n",
      "1005/1005 [==============================] - 0s 182us/sample - loss: 0.0011 - accuracy: 1.0000 - val_loss: 0.0727 - val_accuracy: 0.9881\n",
      "Epoch 54/100\n",
      "1005/1005 [==============================] - 0s 174us/sample - loss: 0.0011 - accuracy: 1.0000 - val_loss: 0.0726 - val_accuracy: 0.9841\n",
      "Epoch 55/100\n",
      "1005/1005 [==============================] - 0s 181us/sample - loss: 0.0011 - accuracy: 1.0000 - val_loss: 0.0709 - val_accuracy: 0.9881\n",
      "Epoch 56/100\n",
      "1005/1005 [==============================] - 0s 186us/sample - loss: 0.0010 - accuracy: 1.0000 - val_loss: 0.0745 - val_accuracy: 0.9881\n",
      "Epoch 57/100\n",
      "1005/1005 [==============================] - 0s 191us/sample - loss: 9.9472e-04 - accuracy: 1.0000 - val_loss: 0.0740 - val_accuracy: 0.9881\n",
      "Epoch 58/100\n",
      "1005/1005 [==============================] - 0s 187us/sample - loss: 0.0010 - accuracy: 1.0000 - val_loss: 0.0738 - val_accuracy: 0.9881\n",
      "Epoch 59/100\n",
      "1005/1005 [==============================] - 0s 187us/sample - loss: 9.9050e-04 - accuracy: 1.0000 - val_loss: 0.0723 - val_accuracy: 0.9881\n",
      "Epoch 60/100\n",
      "1005/1005 [==============================] - 0s 188us/sample - loss: 9.5071e-04 - accuracy: 1.0000 - val_loss: 0.0732 - val_accuracy: 0.9881\n",
      "Epoch 61/100\n",
      "1005/1005 [==============================] - 0s 183us/sample - loss: 9.4079e-04 - accuracy: 1.0000 - val_loss: 0.0724 - val_accuracy: 0.9921\n",
      "Epoch 62/100\n",
      "1005/1005 [==============================] - 0s 177us/sample - loss: 9.0898e-04 - accuracy: 1.0000 - val_loss: 0.0736 - val_accuracy: 0.9881\n",
      "Epoch 63/100\n",
      "1005/1005 [==============================] - 0s 187us/sample - loss: 9.0085e-04 - accuracy: 1.0000 - val_loss: 0.0732 - val_accuracy: 0.9881\n",
      "Epoch 64/100\n",
      "1005/1005 [==============================] - 0s 185us/sample - loss: 8.7897e-04 - accuracy: 1.0000 - val_loss: 0.0725 - val_accuracy: 0.9881\n",
      "Epoch 65/100\n",
      "1005/1005 [==============================] - 0s 192us/sample - loss: 9.3333e-04 - accuracy: 1.0000 - val_loss: 0.0717 - val_accuracy: 0.9921\n",
      "Epoch 66/100\n",
      "1005/1005 [==============================] - 0s 194us/sample - loss: 8.4885e-04 - accuracy: 1.0000 - val_loss: 0.0729 - val_accuracy: 0.9881\n",
      "Epoch 67/100\n",
      "1005/1005 [==============================] - 0s 195us/sample - loss: 8.4845e-04 - accuracy: 1.0000 - val_loss: 0.0712 - val_accuracy: 0.9921\n",
      "Epoch 68/100\n",
      "1005/1005 [==============================] - 0s 190us/sample - loss: 9.0709e-04 - accuracy: 1.0000 - val_loss: 0.0747 - val_accuracy: 0.9881\n",
      "Epoch 69/100\n",
      "1005/1005 [==============================] - 0s 181us/sample - loss: 8.2896e-04 - accuracy: 1.0000 - val_loss: 0.0725 - val_accuracy: 0.9921\n",
      "Epoch 70/100\n",
      "1005/1005 [==============================] - 0s 184us/sample - loss: 8.3556e-04 - accuracy: 1.0000 - val_loss: 0.0723 - val_accuracy: 0.9881\n",
      "Epoch 71/100\n",
      "1005/1005 [==============================] - 0s 183us/sample - loss: 8.1613e-04 - accuracy: 1.0000 - val_loss: 0.0734 - val_accuracy: 0.9881\n",
      "Epoch 72/100\n",
      "1005/1005 [==============================] - 0s 182us/sample - loss: 7.6379e-04 - accuracy: 1.0000 - val_loss: 0.0724 - val_accuracy: 0.9921\n",
      "Epoch 73/100\n",
      "1005/1005 [==============================] - 0s 185us/sample - loss: 7.4913e-04 - accuracy: 1.0000 - val_loss: 0.0741 - val_accuracy: 0.9881\n",
      "Epoch 74/100\n",
      "1005/1005 [==============================] - 0s 189us/sample - loss: 7.5524e-04 - accuracy: 1.0000 - val_loss: 0.0739 - val_accuracy: 0.9881\n",
      "Epoch 75/100\n",
      "1005/1005 [==============================] - 0s 185us/sample - loss: 7.4827e-04 - accuracy: 1.0000 - val_loss: 0.0728 - val_accuracy: 0.9881\n",
      "Epoch 76/100\n",
      "1005/1005 [==============================] - 0s 180us/sample - loss: 7.3426e-04 - accuracy: 1.0000 - val_loss: 0.0736 - val_accuracy: 0.9881\n",
      "Epoch 77/100\n",
      "1005/1005 [==============================] - 0s 185us/sample - loss: 7.0399e-04 - accuracy: 1.0000 - val_loss: 0.0732 - val_accuracy: 0.9881\n",
      "Epoch 78/100\n",
      "1005/1005 [==============================] - 0s 186us/sample - loss: 6.9178e-04 - accuracy: 1.0000 - val_loss: 0.0733 - val_accuracy: 0.9921\n",
      "Epoch 79/100\n",
      "1005/1005 [==============================] - 0s 183us/sample - loss: 6.8133e-04 - accuracy: 1.0000 - val_loss: 0.0734 - val_accuracy: 0.9881\n",
      "Epoch 80/100\n",
      "1005/1005 [==============================] - 0s 170us/sample - loss: 8.8848e-04 - accuracy: 1.0000 - val_loss: 0.0767 - val_accuracy: 0.9881\n",
      "Epoch 81/100\n",
      "1005/1005 [==============================] - 0s 181us/sample - loss: 7.3053e-04 - accuracy: 1.0000 - val_loss: 0.0730 - val_accuracy: 0.9841\n",
      "Epoch 82/100\n",
      "1005/1005 [==============================] - 0s 187us/sample - loss: 6.5000e-04 - accuracy: 1.0000 - val_loss: 0.0738 - val_accuracy: 0.9881\n",
      "Epoch 83/100\n",
      "1005/1005 [==============================] - 0s 187us/sample - loss: 6.4896e-04 - accuracy: 1.0000 - val_loss: 0.0735 - val_accuracy: 0.9881\n",
      "Epoch 84/100\n",
      "1005/1005 [==============================] - 0s 187us/sample - loss: 6.3363e-04 - accuracy: 1.0000 - val_loss: 0.0741 - val_accuracy: 0.9881\n",
      "Epoch 85/100\n",
      "1005/1005 [==============================] - 0s 182us/sample - loss: 6.1826e-04 - accuracy: 1.0000 - val_loss: 0.0742 - val_accuracy: 0.9881\n",
      "Epoch 86/100\n",
      "1005/1005 [==============================] - 0s 190us/sample - loss: 6.0940e-04 - accuracy: 1.0000 - val_loss: 0.0729 - val_accuracy: 0.9881\n",
      "Epoch 87/100\n",
      "1005/1005 [==============================] - 0s 197us/sample - loss: 5.9977e-04 - accuracy: 1.0000 - val_loss: 0.0743 - val_accuracy: 0.9881\n",
      "Epoch 88/100\n",
      "1005/1005 [==============================] - 0s 184us/sample - loss: 5.9838e-04 - accuracy: 1.0000 - val_loss: 0.0727 - val_accuracy: 0.9881\n",
      "Epoch 89/100\n",
      "1005/1005 [==============================] - 0s 188us/sample - loss: 5.7415e-04 - accuracy: 1.0000 - val_loss: 0.0736 - val_accuracy: 0.9881\n",
      "Epoch 90/100\n",
      "1005/1005 [==============================] - 0s 180us/sample - loss: 5.7995e-04 - accuracy: 1.0000 - val_loss: 0.0739 - val_accuracy: 0.9881\n",
      "Epoch 91/100\n",
      "1005/1005 [==============================] - 0s 182us/sample - loss: 5.7225e-04 - accuracy: 1.0000 - val_loss: 0.0728 - val_accuracy: 0.9921\n",
      "Epoch 92/100\n",
      "1005/1005 [==============================] - 0s 179us/sample - loss: 5.6535e-04 - accuracy: 1.0000 - val_loss: 0.0748 - val_accuracy: 0.9881\n",
      "Epoch 93/100\n",
      "1005/1005 [==============================] - 0s 183us/sample - loss: 5.5303e-04 - accuracy: 1.0000 - val_loss: 0.0749 - val_accuracy: 0.9881\n",
      "Epoch 94/100\n",
      "1005/1005 [==============================] - 0s 189us/sample - loss: 5.3987e-04 - accuracy: 1.0000 - val_loss: 0.0742 - val_accuracy: 0.9881\n",
      "Epoch 95/100\n",
      "1005/1005 [==============================] - 0s 183us/sample - loss: 5.8634e-04 - accuracy: 1.0000 - val_loss: 0.0732 - val_accuracy: 0.9881\n",
      "Epoch 96/100\n",
      "1005/1005 [==============================] - 0s 179us/sample - loss: 5.3123e-04 - accuracy: 1.0000 - val_loss: 0.0754 - val_accuracy: 0.9881\n",
      "Epoch 97/100\n",
      "1005/1005 [==============================] - 0s 187us/sample - loss: 5.0619e-04 - accuracy: 1.0000 - val_loss: 0.0730 - val_accuracy: 0.9881\n",
      "Epoch 98/100\n",
      "1005/1005 [==============================] - 0s 185us/sample - loss: 5.0185e-04 - accuracy: 1.0000 - val_loss: 0.0717 - val_accuracy: 0.9921\n",
      "Epoch 99/100\n",
      "1005/1005 [==============================] - 0s 182us/sample - loss: 4.9462e-04 - accuracy: 1.0000 - val_loss: 0.0734 - val_accuracy: 0.9881\n",
      "Epoch 100/100\n",
      "1005/1005 [==============================] - 0s 170us/sample - loss: 5.1747e-04 - accuracy: 1.0000 - val_loss: 0.0720 - val_accuracy: 0.9921\n"
     ]
    }
   ],
   "source": [
    "history = model.fit(X_train, y_train, batch_size = 50, validation_split = 0.2, epochs = 100, verbose = 1)"
   ]
  },
  {
   "cell_type": "code",
   "execution_count": 41,
   "metadata": {},
   "outputs": [
    {
     "data": {
      "text/plain": [
       "dict_keys(['loss', 'accuracy', 'val_loss', 'val_accuracy'])"
      ]
     },
     "execution_count": 41,
     "metadata": {},
     "output_type": "execute_result"
    }
   ],
   "source": [
    "history.history.keys()"
   ]
  },
  {
   "cell_type": "code",
   "execution_count": 45,
   "metadata": {},
   "outputs": [
    {
     "data": {
      "image/png": "[encoded data removed]",
      "text/plain": [
       "<matplotlib.figure.Figure at 0x2b402346c470>"
      ]
     },
     "metadata": {},
     "output_type": "display_data"
    }
   ],
   "source": [
    "plt.clf()\n",
    "plt.plot(history.history['val_accuracy'])\n",
    "plt.xticks(color='w',fontsize=18)\n",
    "plt.yticks(color='w',fontsize=18)\n",
    "plt.show()"
   ]
  },
  {
   "cell_type": "code",
   "execution_count": 47,
   "metadata": {},
   "outputs": [
    {
     "data": {
      "image/png": "[encoded data removed]",
      "text/plain": [
       "<matplotlib.figure.Figure at 0x2b40237a9940>"
      ]
     },
     "metadata": {},
     "output_type": "display_data"
    }
   ],
   "source": [
    "plt.clf()\n",
    "plt.semilogy(history.history['loss'],'r-')\n",
    "plt.xticks(color='w',fontsize=18)\n",
    "plt.yticks([1e-2,1e-3,1e-4],color='w',fontsize=18)\n",
    "plt.show()"
   ]
  },
  {
   "cell_type": "code",
   "execution_count": 48,
   "metadata": {},
   "outputs": [
    {
     "name": "stdout",
     "output_type": "stream",
     "text": [
      "540/1 [========================================================================================================================================================================================================================================================================================================================================================================================================================================================================================================================================================================================================================================================================================================================================================================================================================================================================================================================================================================================================================================================================================================================================================================================================================================================================================================================================================================================================================================================================================================================================================================================================================================================================================================================================================================================================================================================================================================================================================================================================================================================================================================================================================================================================================================================================================================================================================================================================================================================================================================================================================================================================================================================================================================================================================================================================================================================================================================================================================================================================================================================================================================================================================================================================================================================================================================================================================================================================================================================================================================================================================================================================================================================================================================================================================================================================================================================================================================================================================================================================================================================================================================================================================================================================================================================================================================================================================================================================================================================================================================================================================================================================================================================================================================================================================================================================================================================================================================================================================================================================================================================================================================================================================================================================================================================================================================================================================================================================================================================================================================================================================================================================================================================================================================================================================================================================================================================================================================================================================================================================================================================================================================================================================================================================================================================================================================================================================================================================================================================================================================================================================================================================================================================================================================================================================================================================================================================================================================================================================================================================================================================================================================================================================================================================================================================================================================================================================================================================================================================================================================================================================================================================================================================================================================================================================================================================================================================================================================================================================================================================================================================================================================================================================================================================================================================================================================================================================================================================================================================================================================================================================================================================================================================================================================================================================================================================================================================================================================================================================================================================================================================================================================================================================================================================================================================================================================================================================================================================================================================================================================================================================================================================================================================================================================================================================================================================================================================================================================================================================================================================================================================================================================================================================================================================================================================================================================================================================================================================================================================================================================================================================================================================================================================================================================================================================================================================================================================================================================================================================================================================================================================================================================================================================================================================================================================================================================================================================================================================================================================================================================================================================================================================================================================================================================================================================================================================================================================================================================================================================================================================================================================================================================================================================================================================================================================================================================================================================================================================================================================================================================================================================================================================================================================================================================================================================================================================================================================================================================================================================================================================================================================================================================================================================================================================================================================================================================================================================================================================================================================================================================================================================================================================================================================================================================================================================================================================================================================================================================================================================================================================================================================================================================================================================================================================================================================================================================================================================================================================================================================================================================================================================================================================================================================================================================================================================================================================================================================================================================================================================================================================================================================================================================================================================================================================================================================================================================================================================================================================================================================================================================================================================================================================================================================================================================================================================================================================================================================================================================================================================================================================================================================================================================================================================================================================================================================================================================================================================================================================================================================================================================================================================================================================================================================================================================================================================================================================================================================================] - 0s 106us/sample - loss: 0.0470 - accuracy: 0.9778\n"
     ]
    }
   ],
   "source": [
    "results = model.evaluate(X_test, y_test)"
   ]
  },
  {
   "cell_type": "code",
   "execution_count": 49,
   "metadata": {},
   "outputs": [
    {
     "name": "stdout",
     "output_type": "stream",
     "text": [
      "Test accuracy:  0.9777778\n"
     ]
    }
   ],
   "source": [
    "print('Test accuracy: ', results[1])"
   ]
  },
  {
   "cell_type": "markdown",
   "metadata": {},
   "source": [
    "Even simple CNN model shows fine performance of **97% **test accuracy"
   ]
  }
 ],
 "metadata": {
  "kernelspec": {
   "display_name": "Python 3",
   "language": "python",
   "name": "python3"
  },
  "language_info": {
   "codemirror_mode": {
    "name": "ipython",
    "version": 3
   },
   "file_extension": ".py",
   "mimetype": "text/x-python",
   "name": "python",
   "nbconvert_exporter": "python",
   "pygments_lexer": "ipython3",
   "version": "3.6.9"
  }
 },
 "nbformat": 4,
 "nbformat_minor": 4
}
