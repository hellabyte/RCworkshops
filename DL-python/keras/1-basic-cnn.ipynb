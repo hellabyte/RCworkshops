{
 "cells": [
  {
   "cell_type": "markdown",
   "metadata": {},
   "source": [
    "# Basic Convolutional Neural Networks (CNN)\n",
    "- Objective: create basic CNN models with Keras"
   ]
  },
  {
   "cell_type": "markdown",
   "metadata": {},
   "source": [
    "<img src=\"https://adeshpande3.github.io/assets/Cover.png\" style=\"width: 800px\"/>\n",
    "\n",
    "<br>\n",
    "\n",
    "- Fundamental CNN structures: CNNs are similar to Multilayer Perceptrons (MLPs) since they only feed signals forward (feedforward nets), but have different kind of layers unique to CNNs  \n",
    "  - ** Convolutional layer** : process data in a small receptive field (i.e., filter)  \n",
    "  - ** Pooling layer** : downsample along 2 dimensions (usually width and height)   \n",
    "  - ** Dense (fully connected) layer** : similar to hidden layers of MLPs  "
   ]
  },
  {
   "cell_type": "markdown",
   "metadata": {},
   "source": [
    "<img src=\"http://cs231n.github.io/assets/cnn/convnet.jpeg\" style=\"width: 600px\"/>\n",
    "<br>\n",
    "<center> **ConvNet architecture** </center>"
   ]
  },
  {
   "cell_type": "code",
   "execution_count": 30,
   "metadata": {},
   "outputs": [],
   "source": [
    "import numpy as np\n",
    "import matplotlib.pyplot as plt\n",
    "\n",
    "from sklearn import datasets\n",
    "from sklearn.model_selection import train_test_split\n",
    "from tensorflow.keras.utils import to_categorical"
   ]
  },
  {
   "cell_type": "markdown",
   "metadata": {},
   "source": [
    "### Load Datset\n",
    "- Digits dataset in sklearn\n",
    "- Doc: http://scikit-learn.org/stable/auto_examples/datasets/plot_digits_last_image.html"
   ]
  },
  {
   "cell_type": "code",
   "execution_count": 31,
   "metadata": {},
   "outputs": [],
   "source": [
    "data = datasets.load_digits()"
   ]
  },
  {
   "cell_type": "code",
   "execution_count": 32,
   "metadata": {},
   "outputs": [
    {
     "data": {
      "text/plain": [
       "1797"
      ]
     },
     "execution_count": 32,
     "metadata": {},
     "output_type": "execute_result"
    }
   ],
   "source": [
    "K,M,N = data.images.shape\n",
    "FI = data.images[:10].reshape((10*M,N))\n",
    "K"
   ]
  },
  {
   "cell_type": "code",
   "execution_count": 33,
   "metadata": {},
   "outputs": [
    {
     "data": {
      "image/png": "[encoded data removed]",
      "text/plain": [
       "<matplotlib.figure.Figure at 0x2ba4b7fd8358>"
      ]
     },
     "metadata": {},
     "output_type": "display_data"
    }
   ],
   "source": [
    "k=0\n",
    "plt.close()\n",
    "plt.figure(figsize=(20,20))\n",
    "plt.imshow(FI,cmap=plt.cm.binary)    # show first number in the dataset\n",
    "plt.title('label: %d' % data.target[k],fontsize=18,color='w')    # label = '0'\n",
    "plt.show()"
   ]
  },
  {
   "cell_type": "code",
   "execution_count": 34,
   "metadata": {},
   "outputs": [],
   "source": [
    "X_data = data.images\n",
    "y_data = data.target"
   ]
  },
  {
   "cell_type": "code",
   "execution_count": 35,
   "metadata": {},
   "outputs": [
    {
     "name": "stdout",
     "output_type": "stream",
     "text": [
      "(1797, 8, 8)\n",
      "(1797,)\n"
     ]
    }
   ],
   "source": [
    "# shape of data\n",
    "print(X_data.shape)    # (8 X 8) format\n",
    "print(y_data.shape)"
   ]
  },
  {
   "cell_type": "code",
   "execution_count": 36,
   "metadata": {},
   "outputs": [],
   "source": [
    "# reshape X_data into 3-D format\n",
    "# note that this follows image format of Tensorflow backend\n",
    "X_data = X_data.reshape((X_data.shape[0], X_data.shape[1], X_data.shape[2], 1))"
   ]
  },
  {
   "cell_type": "code",
   "execution_count": 37,
   "metadata": {},
   "outputs": [],
   "source": [
    "# one-hot encoding of y_data\n",
    "y_data = to_categorical(y_data)"
   ]
  },
  {
   "cell_type": "code",
   "execution_count": 39,
   "metadata": {},
   "outputs": [
    {
     "name": "stdout",
     "output_type": "stream",
     "text": [
      "[1. 0. 0. 0. 0. 0. 0. 0. 0. 0.]\n"
     ]
    }
   ],
   "source": [
    "print(y_data[0])"
   ]
  },
  {
   "cell_type": "code",
   "execution_count": 40,
   "metadata": {},
   "outputs": [],
   "source": [
    "# partition data into train/test sets\n",
    "X_train, X_test, y_train, y_test = train_test_split(X_data, y_data, test_size = 0.3, random_state = 777)"
   ]
  },
  {
   "cell_type": "code",
   "execution_count": 41,
   "metadata": {},
   "outputs": [
    {
     "name": "stdout",
     "output_type": "stream",
     "text": [
      "(1257, 8, 8, 1)\n",
      "(540, 8, 8, 1)\n",
      "(1257, 10)\n",
      "(540, 10)\n"
     ]
    }
   ],
   "source": [
    "print(X_train.shape)\n",
    "print(X_test.shape)\n",
    "print(y_train.shape)\n",
    "print(y_test.shape)"
   ]
  },
  {
   "cell_type": "code",
   "execution_count": 42,
   "metadata": {},
   "outputs": [],
   "source": [
    "from tensorflow.keras.models import Sequential\n",
    "from tensorflow.keras import optimizers\n",
    "from tensorflow.keras.layers import Dense, Activation, Flatten, Conv2D, MaxPooling2D"
   ]
  },
  {
   "cell_type": "markdown",
   "metadata": {},
   "source": [
    "### 1. Creating model\n",
    "- Creating a model is same with MLP (Sequential)"
   ]
  },
  {
   "cell_type": "code",
   "execution_count": 43,
   "metadata": {},
   "outputs": [],
   "source": [
    "model = Sequential()"
   ]
  },
  {
   "cell_type": "markdown",
   "metadata": {},
   "source": [
    "### 2. Convolutional Layer\n",
    "- In general, 2D convolutional layer is used for image processing\n",
    "    - Size of filter (designated by 'kernel_size' parameter) defines **width and height of receptive field **\n",
    "    - Number of filters (designated by 'filters' parameter) is equal to **depth of the next layer**\n",
    "    - Strides (designated by 'strides' parameter) is** how far a filter makes change in its position** for each move\n",
    "    - Image can be **zero-padded** in order to prevent getting too small (designated by 'padding' parameter)\n",
    "- Doc: https://keras.io/layers/convolutional/\n",
    "<img src=\"http://cs231n.github.io/assets/cnn/depthcol.jpeg\" style=\"width: 400px\"/>"
   ]
  },
  {
   "cell_type": "code",
   "execution_count": 44,
   "metadata": {},
   "outputs": [],
   "source": [
    "# convolution layer\n",
    "model.add(Conv2D(input_shape = (X_data.shape[1], X_data.shape[2], X_data.shape[3]), filters = 10, kernel_size = (3,3), strides = (1,1), padding = 'valid'))"
   ]
  },
  {
   "cell_type": "markdown",
   "metadata": {},
   "source": [
    "### 3. Activation Layer\n",
    "- Identical to the activation layers in MLP\n",
    "- In general, relu is used as well\n",
    "- Doc: http://cs231n.github.io/assets/cnn/depthcol.jpeg"
   ]
  },
  {
   "cell_type": "code",
   "execution_count": 45,
   "metadata": {},
   "outputs": [],
   "source": [
    "model.add(Activation('relu'))"
   ]
  },
  {
   "cell_type": "markdown",
   "metadata": {},
   "source": [
    "### 4. Pooling layer\n",
    "- In general, max pooling method is used\n",
    "- Reduces number of parameters\n",
    "- Doc: https://keras.io/layers/pooling/\n",
    "<img src=\"http://cs231n.github.io/assets/cnn/maxpool.jpeg\" style=\"width: 600px\"/>"
   ]
  },
  {
   "cell_type": "code",
   "execution_count": 46,
   "metadata": {},
   "outputs": [],
   "source": [
    "model.add(MaxPooling2D(pool_size = (2,2)))"
   ]
  },
  {
   "cell_type": "markdown",
   "metadata": {},
   "source": [
    "### 5. Dense (fully connected layer)\n",
    "- Convolutional & pooling layers can be connected to dense layers\n",
    "- Sometimes, dense layers can be omitted\n",
    "- Doc: https://keras.io/layers/core/"
   ]
  },
  {
   "cell_type": "code",
   "execution_count": 47,
   "metadata": {},
   "outputs": [],
   "source": [
    "# prior layer should be flattend to be connected to dense layers\n",
    "model.add(Flatten())"
   ]
  },
  {
   "cell_type": "code",
   "execution_count": 48,
   "metadata": {},
   "outputs": [],
   "source": [
    "# dense layer with 50 neurons\n",
    "model.add(Dense(50, activation = 'relu'))"
   ]
  },
  {
   "cell_type": "code",
   "execution_count": 49,
   "metadata": {},
   "outputs": [],
   "source": [
    "# final layer with 10 neurons to classify the instances\n",
    "model.add(Dense(10, activation = 'softmax'))"
   ]
  },
  {
   "cell_type": "markdown",
   "metadata": {},
   "source": [
    "### 6. Model compile & train\n",
    "- Optimize with adaptive moment estimation (Adam)\n",
    "- accuracy as the metric"
   ]
  },
  {
   "cell_type": "code",
   "execution_count": 50,
   "metadata": {},
   "outputs": [],
   "source": [
    "adam = optimizers.Adam(lr = 0.001)\n",
    "model.compile(loss = 'categorical_crossentropy', optimizer = adam, metrics = ['accuracy'])"
   ]
  },
  {
   "cell_type": "code",
   "execution_count": 51,
   "metadata": {},
   "outputs": [
    {
     "name": "stdout",
     "output_type": "stream",
     "text": [
      "Train on 1005 samples, validate on 252 samples\n",
      "Epoch 1/100\n",
      "1005/1005 [==============================] - 1s 907us/sample - loss: 3.6982 - accuracy: 0.1512 - val_loss: 2.1977 - val_accuracy: 0.3095\n",
      "Epoch 2/100\n",
      "1005/1005 [==============================] - 0s 185us/sample - loss: 1.6893 - accuracy: 0.4527 - val_loss: 1.3810 - val_accuracy: 0.5635\n",
      "Epoch 3/100\n",
      "1005/1005 [==============================] - 0s 189us/sample - loss: 1.1725 - accuracy: 0.6249 - val_loss: 0.9933 - val_accuracy: 0.6944\n",
      "Epoch 4/100\n",
      "1005/1005 [==============================] - 0s 200us/sample - loss: 0.8542 - accuracy: 0.7572 - val_loss: 0.6955 - val_accuracy: 0.8016\n",
      "Epoch 5/100\n",
      "1005/1005 [==============================] - 0s 186us/sample - loss: 0.6279 - accuracy: 0.8159 - val_loss: 0.5268 - val_accuracy: 0.8452\n",
      "Epoch 6/100\n",
      "1005/1005 [==============================] - 0s 193us/sample - loss: 0.4620 - accuracy: 0.8617 - val_loss: 0.3841 - val_accuracy: 0.8929\n",
      "Epoch 7/100\n",
      "1005/1005 [==============================] - 0s 180us/sample - loss: 0.3582 - accuracy: 0.9065 - val_loss: 0.3251 - val_accuracy: 0.9127\n",
      "Epoch 8/100\n",
      "1005/1005 [==============================] - 0s 186us/sample - loss: 0.2953 - accuracy: 0.9254 - val_loss: 0.2812 - val_accuracy: 0.9048\n",
      "Epoch 9/100\n",
      "1005/1005 [==============================] - 0s 187us/sample - loss: 0.2541 - accuracy: 0.9383 - val_loss: 0.2482 - val_accuracy: 0.9325\n",
      "Epoch 10/100\n",
      "1005/1005 [==============================] - 0s 186us/sample - loss: 0.2143 - accuracy: 0.9483 - val_loss: 0.2311 - val_accuracy: 0.9206\n",
      "Epoch 11/100\n",
      "1005/1005 [==============================] - 0s 192us/sample - loss: 0.2129 - accuracy: 0.9433 - val_loss: 0.2140 - val_accuracy: 0.9325\n",
      "Epoch 12/100\n",
      "1005/1005 [==============================] - 0s 188us/sample - loss: 0.1687 - accuracy: 0.9562 - val_loss: 0.1848 - val_accuracy: 0.9365\n",
      "Epoch 13/100\n",
      "1005/1005 [==============================] - 0s 187us/sample - loss: 0.1510 - accuracy: 0.9632 - val_loss: 0.1734 - val_accuracy: 0.9444\n",
      "Epoch 14/100\n",
      "1005/1005 [==============================] - 0s 185us/sample - loss: 0.1337 - accuracy: 0.9662 - val_loss: 0.1616 - val_accuracy: 0.9444\n",
      "Epoch 15/100\n",
      "1005/1005 [==============================] - 0s 187us/sample - loss: 0.1260 - accuracy: 0.9711 - val_loss: 0.1551 - val_accuracy: 0.9484\n",
      "Epoch 16/100\n",
      "1005/1005 [==============================] - 0s 185us/sample - loss: 0.1146 - accuracy: 0.9692 - val_loss: 0.1649 - val_accuracy: 0.9484\n",
      "Epoch 17/100\n",
      "1005/1005 [==============================] - 0s 184us/sample - loss: 0.1144 - accuracy: 0.9741 - val_loss: 0.1538 - val_accuracy: 0.9524\n",
      "Epoch 18/100\n",
      "1005/1005 [==============================] - 0s 189us/sample - loss: 0.0965 - accuracy: 0.9751 - val_loss: 0.1289 - val_accuracy: 0.9563\n",
      "Epoch 19/100\n",
      "1005/1005 [==============================] - 0s 182us/sample - loss: 0.0911 - accuracy: 0.9781 - val_loss: 0.1330 - val_accuracy: 0.9563\n",
      "Epoch 20/100\n",
      "1005/1005 [==============================] - 0s 186us/sample - loss: 0.0765 - accuracy: 0.9861 - val_loss: 0.1273 - val_accuracy: 0.9563\n",
      "Epoch 21/100\n",
      "1005/1005 [==============================] - 0s 185us/sample - loss: 0.0818 - accuracy: 0.9801 - val_loss: 0.1204 - val_accuracy: 0.9643\n",
      "Epoch 22/100\n",
      "1005/1005 [==============================] - 0s 186us/sample - loss: 0.0718 - accuracy: 0.9861 - val_loss: 0.1198 - val_accuracy: 0.9643\n",
      "Epoch 23/100\n",
      "1005/1005 [==============================] - 0s 186us/sample - loss: 0.0629 - accuracy: 0.9891 - val_loss: 0.1131 - val_accuracy: 0.9524\n",
      "Epoch 24/100\n",
      "1005/1005 [==============================] - 0s 183us/sample - loss: 0.0576 - accuracy: 0.9910 - val_loss: 0.1042 - val_accuracy: 0.9643\n",
      "Epoch 25/100\n",
      "1005/1005 [==============================] - 0s 186us/sample - loss: 0.0526 - accuracy: 0.9920 - val_loss: 0.1061 - val_accuracy: 0.9643\n",
      "Epoch 26/100\n",
      "1005/1005 [==============================] - 0s 202us/sample - loss: 0.0497 - accuracy: 0.9950 - val_loss: 0.1073 - val_accuracy: 0.9603\n",
      "Epoch 27/100\n",
      "1005/1005 [==============================] - 0s 182us/sample - loss: 0.0490 - accuracy: 0.9930 - val_loss: 0.1041 - val_accuracy: 0.9563\n",
      "Epoch 28/100\n",
      "1005/1005 [==============================] - 0s 202us/sample - loss: 0.0431 - accuracy: 0.9930 - val_loss: 0.1033 - val_accuracy: 0.9643\n",
      "Epoch 29/100\n",
      "1005/1005 [==============================] - 0s 187us/sample - loss: 0.0396 - accuracy: 0.9970 - val_loss: 0.0937 - val_accuracy: 0.9683\n",
      "Epoch 30/100\n",
      "1005/1005 [==============================] - 0s 196us/sample - loss: 0.0413 - accuracy: 0.9930 - val_loss: 0.0936 - val_accuracy: 0.9683\n",
      "Epoch 31/100\n",
      "1005/1005 [==============================] - 0s 184us/sample - loss: 0.0377 - accuracy: 0.9940 - val_loss: 0.0936 - val_accuracy: 0.9683\n",
      "Epoch 32/100\n",
      "1005/1005 [==============================] - 0s 184us/sample - loss: 0.0342 - accuracy: 0.9970 - val_loss: 0.0874 - val_accuracy: 0.9683\n",
      "Epoch 33/100\n",
      "1005/1005 [==============================] - 0s 184us/sample - loss: 0.0302 - accuracy: 0.9980 - val_loss: 0.0892 - val_accuracy: 0.9683\n",
      "Epoch 34/100\n",
      "1005/1005 [==============================] - 0s 183us/sample - loss: 0.0279 - accuracy: 0.9990 - val_loss: 0.0905 - val_accuracy: 0.9683\n",
      "Epoch 35/100\n",
      "1005/1005 [==============================] - 0s 185us/sample - loss: 0.0266 - accuracy: 0.9990 - val_loss: 0.0881 - val_accuracy: 0.9683\n",
      "Epoch 36/100\n",
      "1005/1005 [==============================] - 0s 183us/sample - loss: 0.0281 - accuracy: 0.9970 - val_loss: 0.0933 - val_accuracy: 0.9683\n",
      "Epoch 37/100\n",
      "1005/1005 [==============================] - 0s 182us/sample - loss: 0.0326 - accuracy: 0.9950 - val_loss: 0.0907 - val_accuracy: 0.9683\n",
      "Epoch 38/100\n",
      "1005/1005 [==============================] - 0s 185us/sample - loss: 0.0236 - accuracy: 0.9980 - val_loss: 0.0865 - val_accuracy: 0.9643\n",
      "Epoch 39/100\n",
      "1005/1005 [==============================] - 0s 184us/sample - loss: 0.0218 - accuracy: 0.9990 - val_loss: 0.0843 - val_accuracy: 0.9683\n",
      "Epoch 40/100\n",
      "1005/1005 [==============================] - 0s 186us/sample - loss: 0.0200 - accuracy: 0.9980 - val_loss: 0.0855 - val_accuracy: 0.9683\n",
      "Epoch 41/100\n",
      "1005/1005 [==============================] - 0s 185us/sample - loss: 0.0185 - accuracy: 1.0000 - val_loss: 0.0822 - val_accuracy: 0.9683\n",
      "Epoch 42/100\n",
      "1005/1005 [==============================] - 0s 184us/sample - loss: 0.0191 - accuracy: 0.9980 - val_loss: 0.0823 - val_accuracy: 0.9643\n",
      "Epoch 43/100\n",
      "1005/1005 [==============================] - 0s 186us/sample - loss: 0.0177 - accuracy: 1.0000 - val_loss: 0.0824 - val_accuracy: 0.9643\n",
      "Epoch 44/100\n",
      "1005/1005 [==============================] - 0s 185us/sample - loss: 0.0171 - accuracy: 0.9990 - val_loss: 0.0801 - val_accuracy: 0.9722\n",
      "Epoch 45/100\n",
      "1005/1005 [==============================] - 0s 183us/sample - loss: 0.0152 - accuracy: 1.0000 - val_loss: 0.0796 - val_accuracy: 0.9683\n",
      "Epoch 46/100\n",
      "1005/1005 [==============================] - 0s 184us/sample - loss: 0.0150 - accuracy: 1.0000 - val_loss: 0.0811 - val_accuracy: 0.9722\n",
      "Epoch 47/100\n",
      "1005/1005 [==============================] - 0s 183us/sample - loss: 0.0142 - accuracy: 1.0000 - val_loss: 0.0808 - val_accuracy: 0.9722\n",
      "Epoch 48/100\n",
      "1005/1005 [==============================] - 0s 185us/sample - loss: 0.0139 - accuracy: 1.0000 - val_loss: 0.0824 - val_accuracy: 0.9683\n",
      "Epoch 49/100\n",
      "1005/1005 [==============================] - 0s 184us/sample - loss: 0.0132 - accuracy: 1.0000 - val_loss: 0.0787 - val_accuracy: 0.9722\n",
      "Epoch 50/100\n",
      "1005/1005 [==============================] - 0s 185us/sample - loss: 0.0126 - accuracy: 1.0000 - val_loss: 0.0797 - val_accuracy: 0.9722\n",
      "Epoch 51/100\n",
      "1005/1005 [==============================] - 0s 186us/sample - loss: 0.0117 - accuracy: 1.0000 - val_loss: 0.0805 - val_accuracy: 0.9722\n",
      "Epoch 52/100\n",
      "1005/1005 [==============================] - 0s 187us/sample - loss: 0.0118 - accuracy: 1.0000 - val_loss: 0.0767 - val_accuracy: 0.9722\n",
      "Epoch 53/100\n",
      "1005/1005 [==============================] - 0s 185us/sample - loss: 0.0111 - accuracy: 1.0000 - val_loss: 0.0799 - val_accuracy: 0.9722\n",
      "Epoch 54/100\n",
      "1005/1005 [==============================] - 0s 185us/sample - loss: 0.0108 - accuracy: 1.0000 - val_loss: 0.0834 - val_accuracy: 0.9683\n",
      "Epoch 55/100\n",
      "1005/1005 [==============================] - 0s 183us/sample - loss: 0.0107 - accuracy: 1.0000 - val_loss: 0.0798 - val_accuracy: 0.9722\n",
      "Epoch 56/100\n",
      "1005/1005 [==============================] - 0s 184us/sample - loss: 0.0096 - accuracy: 1.0000 - val_loss: 0.0782 - val_accuracy: 0.9722\n",
      "Epoch 57/100\n",
      "1005/1005 [==============================] - 0s 190us/sample - loss: 0.0102 - accuracy: 1.0000 - val_loss: 0.0786 - val_accuracy: 0.9722\n",
      "Epoch 58/100\n",
      "1005/1005 [==============================] - 0s 192us/sample - loss: 0.0098 - accuracy: 1.0000 - val_loss: 0.0761 - val_accuracy: 0.9722\n",
      "Epoch 59/100\n",
      "1005/1005 [==============================] - 0s 182us/sample - loss: 0.0087 - accuracy: 1.0000 - val_loss: 0.0767 - val_accuracy: 0.9722\n",
      "Epoch 60/100\n",
      "1005/1005 [==============================] - 0s 180us/sample - loss: 0.0095 - accuracy: 1.0000 - val_loss: 0.0824 - val_accuracy: 0.9722\n",
      "Epoch 61/100\n",
      "1005/1005 [==============================] - 0s 184us/sample - loss: 0.0094 - accuracy: 1.0000 - val_loss: 0.0788 - val_accuracy: 0.9722\n",
      "Epoch 62/100\n",
      "1005/1005 [==============================] - 0s 180us/sample - loss: 0.0077 - accuracy: 1.0000 - val_loss: 0.0748 - val_accuracy: 0.9722\n",
      "Epoch 63/100\n",
      "1005/1005 [==============================] - 0s 181us/sample - loss: 0.0074 - accuracy: 1.0000 - val_loss: 0.0760 - val_accuracy: 0.9722\n",
      "Epoch 64/100\n",
      "1005/1005 [==============================] - 0s 185us/sample - loss: 0.0078 - accuracy: 1.0000 - val_loss: 0.0825 - val_accuracy: 0.9683\n",
      "Epoch 65/100\n",
      "1005/1005 [==============================] - 0s 184us/sample - loss: 0.0079 - accuracy: 1.0000 - val_loss: 0.0770 - val_accuracy: 0.9722\n",
      "Epoch 66/100\n",
      "1005/1005 [==============================] - 0s 184us/sample - loss: 0.0068 - accuracy: 1.0000 - val_loss: 0.0762 - val_accuracy: 0.9722\n",
      "Epoch 67/100\n",
      "1005/1005 [==============================] - 0s 182us/sample - loss: 0.0067 - accuracy: 1.0000 - val_loss: 0.0749 - val_accuracy: 0.9722\n",
      "Epoch 68/100\n",
      "1005/1005 [==============================] - 0s 182us/sample - loss: 0.0074 - accuracy: 1.0000 - val_loss: 0.0748 - val_accuracy: 0.9722\n",
      "Epoch 69/100\n",
      "1005/1005 [==============================] - 0s 188us/sample - loss: 0.0060 - accuracy: 1.0000 - val_loss: 0.0755 - val_accuracy: 0.9722\n",
      "Epoch 70/100\n",
      "1005/1005 [==============================] - 0s 187us/sample - loss: 0.0058 - accuracy: 1.0000 - val_loss: 0.0732 - val_accuracy: 0.9722\n",
      "Epoch 71/100\n",
      "1005/1005 [==============================] - 0s 191us/sample - loss: 0.0057 - accuracy: 1.0000 - val_loss: 0.0761 - val_accuracy: 0.9722\n",
      "Epoch 72/100\n",
      "1005/1005 [==============================] - 0s 186us/sample - loss: 0.0058 - accuracy: 1.0000 - val_loss: 0.0713 - val_accuracy: 0.9722\n",
      "Epoch 73/100\n",
      "1005/1005 [==============================] - 0s 187us/sample - loss: 0.0057 - accuracy: 1.0000 - val_loss: 0.0745 - val_accuracy: 0.9722\n",
      "Epoch 74/100\n",
      "1005/1005 [==============================] - 0s 187us/sample - loss: 0.0056 - accuracy: 1.0000 - val_loss: 0.0726 - val_accuracy: 0.9722\n",
      "Epoch 75/100\n",
      "1005/1005 [==============================] - 0s 187us/sample - loss: 0.0050 - accuracy: 1.0000 - val_loss: 0.0748 - val_accuracy: 0.9722\n",
      "Epoch 76/100\n",
      "1005/1005 [==============================] - 0s 185us/sample - loss: 0.0060 - accuracy: 1.0000 - val_loss: 0.0777 - val_accuracy: 0.9722\n",
      "Epoch 77/100\n",
      "1005/1005 [==============================] - 0s 185us/sample - loss: 0.0164 - accuracy: 0.9960 - val_loss: 0.0782 - val_accuracy: 0.9683\n",
      "Epoch 78/100\n",
      "1005/1005 [==============================] - 0s 188us/sample - loss: 0.0069 - accuracy: 1.0000 - val_loss: 0.0723 - val_accuracy: 0.9722\n",
      "Epoch 79/100\n",
      "1005/1005 [==============================] - 0s 185us/sample - loss: 0.0049 - accuracy: 1.0000 - val_loss: 0.0738 - val_accuracy: 0.9762\n",
      "Epoch 80/100\n",
      "1005/1005 [==============================] - 0s 184us/sample - loss: 0.0044 - accuracy: 1.0000 - val_loss: 0.0736 - val_accuracy: 0.9722\n",
      "Epoch 81/100\n",
      "1005/1005 [==============================] - 0s 185us/sample - loss: 0.0041 - accuracy: 1.0000 - val_loss: 0.0718 - val_accuracy: 0.9722\n",
      "Epoch 82/100\n",
      "1005/1005 [==============================] - 0s 200us/sample - loss: 0.0042 - accuracy: 1.0000 - val_loss: 0.0704 - val_accuracy: 0.9762\n",
      "Epoch 83/100\n",
      "1005/1005 [==============================] - 0s 186us/sample - loss: 0.0040 - accuracy: 1.0000 - val_loss: 0.0711 - val_accuracy: 0.9762\n",
      "Epoch 84/100\n",
      "1005/1005 [==============================] - 0s 187us/sample - loss: 0.0039 - accuracy: 1.0000 - val_loss: 0.0725 - val_accuracy: 0.9722\n",
      "Epoch 85/100\n",
      "1005/1005 [==============================] - 0s 186us/sample - loss: 0.0040 - accuracy: 1.0000 - val_loss: 0.0781 - val_accuracy: 0.9722\n",
      "Epoch 86/100\n",
      "1005/1005 [==============================] - 0s 186us/sample - loss: 0.0038 - accuracy: 1.0000 - val_loss: 0.0689 - val_accuracy: 0.9762\n",
      "Epoch 87/100\n",
      "1005/1005 [==============================] - 0s 188us/sample - loss: 0.0037 - accuracy: 1.0000 - val_loss: 0.0741 - val_accuracy: 0.9762\n",
      "Epoch 88/100\n",
      "1005/1005 [==============================] - 0s 190us/sample - loss: 0.0034 - accuracy: 1.0000 - val_loss: 0.0712 - val_accuracy: 0.9762\n",
      "Epoch 89/100\n",
      "1005/1005 [==============================] - 0s 185us/sample - loss: 0.0033 - accuracy: 1.0000 - val_loss: 0.0708 - val_accuracy: 0.9762\n",
      "Epoch 90/100\n",
      "1005/1005 [==============================] - 0s 185us/sample - loss: 0.0031 - accuracy: 1.0000 - val_loss: 0.0695 - val_accuracy: 0.9762\n",
      "Epoch 91/100\n",
      "1005/1005 [==============================] - 0s 185us/sample - loss: 0.0030 - accuracy: 1.0000 - val_loss: 0.0702 - val_accuracy: 0.9762\n",
      "Epoch 92/100\n",
      "1005/1005 [==============================] - 0s 181us/sample - loss: 0.0029 - accuracy: 1.0000 - val_loss: 0.0700 - val_accuracy: 0.9762\n",
      "Epoch 93/100\n",
      "1005/1005 [==============================] - 0s 186us/sample - loss: 0.0028 - accuracy: 1.0000 - val_loss: 0.0709 - val_accuracy: 0.9762\n",
      "Epoch 94/100\n",
      "1005/1005 [==============================] - 0s 186us/sample - loss: 0.0028 - accuracy: 1.0000 - val_loss: 0.0715 - val_accuracy: 0.9762\n",
      "Epoch 95/100\n",
      "1005/1005 [==============================] - 0s 186us/sample - loss: 0.0027 - accuracy: 1.0000 - val_loss: 0.0687 - val_accuracy: 0.9762\n",
      "Epoch 96/100\n",
      "1005/1005 [==============================] - 0s 184us/sample - loss: 0.0026 - accuracy: 1.0000 - val_loss: 0.0708 - val_accuracy: 0.9762\n",
      "Epoch 97/100\n",
      "1005/1005 [==============================] - 0s 184us/sample - loss: 0.0026 - accuracy: 1.0000 - val_loss: 0.0708 - val_accuracy: 0.9762\n",
      "Epoch 98/100\n",
      "1005/1005 [==============================] - 0s 184us/sample - loss: 0.0025 - accuracy: 1.0000 - val_loss: 0.0723 - val_accuracy: 0.9762\n",
      "Epoch 99/100\n",
      "1005/1005 [==============================] - 0s 187us/sample - loss: 0.0025 - accuracy: 1.0000 - val_loss: 0.0715 - val_accuracy: 0.9762\n",
      "Epoch 100/100\n",
      "1005/1005 [==============================] - 0s 184us/sample - loss: 0.0024 - accuracy: 1.0000 - val_loss: 0.0706 - val_accuracy: 0.9762\n"
     ]
    }
   ],
   "source": [
    "history = model.fit(X_train, y_train, batch_size = 50, validation_split = 0.2, epochs = 100, verbose = 1)"
   ]
  },
  {
   "cell_type": "code",
   "execution_count": 26,
   "metadata": {},
   "outputs": [
    {
     "data": {
      "text/plain": [
       "dict_keys(['loss', 'accuracy', 'val_loss', 'val_accuracy'])"
      ]
     },
     "execution_count": 26,
     "metadata": {},
     "output_type": "execute_result"
    }
   ],
   "source": [
    "history.history.keys()"
   ]
  },
  {
   "cell_type": "code",
   "execution_count": 52,
   "metadata": {},
   "outputs": [
    {
     "data": {
      "image/png": "[encoded data removed]",
      "text/plain": [
       "<matplotlib.figure.Figure at 0x2ba4d6ae7240>"
      ]
     },
     "metadata": {},
     "output_type": "display_data"
    }
   ],
   "source": [
    "plt.clf()\n",
    "plt.plot(history.history['val_accuracy'])\n",
    "plt.xticks(color='w',fontsize=18)\n",
    "plt.yticks(color='w',fontsize=18)\n",
    "plt.show()"
   ]
  },
  {
   "cell_type": "code",
   "execution_count": 28,
   "metadata": {},
   "outputs": [
    {
     "data": {
      "image/png": "[encoded data removed]",
      "text/plain": [
       "<matplotlib.figure.Figure at 0x2ba4b7f55cf8>"
      ]
     },
     "metadata": {},
     "output_type": "display_data"
    }
   ],
   "source": [
    "plt.clf()\n",
    "plt.semilogy(history.history['loss'],'r-')\n",
    "plt.xticks(color='w',fontsize=18)\n",
    "plt.yticks([1e-2,1e-3,1e-4],color='w',fontsize=18)\n",
    "plt.show()"
   ]
  },
  {
   "cell_type": "code",
   "execution_count": 55,
   "metadata": {},
   "outputs": [],
   "source": [
    "results = model.evaluate(X_test, y_test,verbose=0)"
   ]
  },
  {
   "cell_type": "code",
   "execution_count": 56,
   "metadata": {},
   "outputs": [
    {
     "name": "stdout",
     "output_type": "stream",
     "text": [
      "Test accuracy:  0.96666664\n"
     ]
    }
   ],
   "source": [
    "print('Test accuracy: ', results[1])"
   ]
  },
  {
   "cell_type": "code",
   "execution_count": 29,
   "metadata": {},
   "outputs": [
    {
     "name": "stdout",
     "output_type": "stream",
     "text": [
      "cg20-10.agave.rc.asu.edu\n"
     ]
    }
   ],
   "source": [
    "!hostname"
   ]
  },
  {
   "cell_type": "markdown",
   "metadata": {},
   "source": [
    "Even simple CNN model shows fine performance of **97% **test accuracy"
   ]
  }
 ],
 "metadata": {
  "kernelspec": {
   "display_name": "Python 3",
   "language": "python",
   "name": "python3"
  },
  "language_info": {
   "codemirror_mode": {
    "name": "ipython",
    "version": 3
   },
   "file_extension": ".py",
   "mimetype": "text/x-python",
   "name": "python",
   "nbconvert_exporter": "python",
   "pygments_lexer": "ipython3",
   "version": "3.6.9"
  }
 },
 "nbformat": 4,
 "nbformat_minor": 4
}
