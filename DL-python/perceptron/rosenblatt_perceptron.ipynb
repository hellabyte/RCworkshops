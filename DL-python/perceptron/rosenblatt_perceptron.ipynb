{
 "cells": [
  {
   "cell_type": "code",
   "execution_count": null,
   "metadata": {},
   "outputs": [],
   "source": [
    "%matplotlib inline\n",
    "import rosen\n",
    "import pylab as plt\n",
    "import numpy as np\n",
    "# --> Import sklearn utility functions.\n",
    "from sklearn.base import BaseEstimator, ClassifierMixin\n",
    "from sklearn.exceptions import NotFittedError\n",
    "from sklearn.utils import check_X_y, check_array\n",
    "from sklearn.datasets import make_classification\n",
    "\n",
    "from plt_style import * "
   ]
  },
  {
   "cell_type": "code",
   "execution_count": null,
   "metadata": {},
   "outputs": [],
   "source": [
    "# --> Generate toy problem.\n",
    "X, y = make_classification(\n",
    "    n_samples=100,\n",
    "    n_features=2,\n",
    "    n_informative=2,\n",
    "    n_redundant=0,\n",
    "    n_clusters_per_class=1,\n",
    "    flip_y=0,                 # No noise.\n",
    "    class_sep=1.5,\n",
    "    random_state=9999,         # Fix random seed for reproducibility.\n",
    ")\n",
    "\n",
    "\n"
   ]
  },
  {
   "cell_type": "code",
   "execution_count": null,
   "metadata": {},
   "outputs": [],
   "source": [
    "# --> Plot the problem.\n",
    "_, ax = plt.subplots(1, 1, figsize=(6, 6))\n",
    "\n",
    "ax.scatter(\n",
    "    X[:,0],X[:,1],\n",
    "    c=y,\n",
    "    cmap=\"coolwarm\",\n",
    "    s=60,\n",
    "    edgecolors=\"w\",\n",
    "    alpha=0.9,\n",
    ")\n",
    "\n",
    "ax.set_xlabel(r\"$x_1$\",color='w',fontsize=18)\n",
    "ax.set_ylabel(r\"$x_2$\",color='w',fontsize=18)\n",
    "\n"
   ]
  },
  {
   "cell_type": "code",
   "execution_count": null,
   "metadata": {},
   "outputs": [],
   "source": [
    "# --> Plot the problem.\n",
    "_, ax = plt.subplots(1, 1, figsize=(6, 6))\n",
    "\n",
    "ax.scatter(\n",
    "    X[:,0],X[:,1],\n",
    "    c=y,\n",
    "    cmap=\"coolwarm\",\n",
    "    s=60,\n",
    "    edgecolors=\"w\",\n",
    "    alpha=0.9,\n",
    ")\n",
    "\n",
    "ax.set_xlabel(r\"$x_1$\",color='w',fontsize=18)\n",
    "ax.set_ylabel(r\"$x_2$\",color='w',fontsize=18)\n",
    "\n",
    "\n",
    "# --> Classify data using Rosenblatt's perceptron.\n",
    "model = rosen.Rosenblatt()\n",
    "model.fit(X, y)\n",
    "\n",
    "# --> Decision boundary.\n",
    "def decision(x): \n",
    "    return -(model.weights[0] * x + model.bias)/model.weights[1]\n",
    "\n",
    "x = np.linspace(*ax.get_xlim())\n",
    "\n",
    "# --> Plot the decision boundary.\n",
    "ax.plot(x, decision(x),\"w--\",lw=2)\n",
    "ax.set_xlim(x.min(), x.max())\n",
    "plt.xticks(fontsize=18)\n",
    "plt.yticks(fontsize=18)"
   ]
  },
  {
   "cell_type": "code",
   "execution_count": null,
   "metadata": {},
   "outputs": [],
   "source": [
    "x = np.linspace(-1,1,10001)\n",
    "plt.plot(x,np.heaviside(x,1),'w-')\n",
    "plt.xticks([-1,0,1],fontsize=18)\n",
    "plt.yticks(fontsize=18)"
   ]
  },
  {
   "cell_type": "code",
   "execution_count": null,
   "metadata": {},
   "outputs": [],
   "source": []
  }
 ],
 "metadata": {
  "kernelspec": {
   "display_name": "Python 3",
   "language": "python",
   "name": "python3"
  },
  "language_info": {
   "codemirror_mode": {
    "name": "ipython",
    "version": 3
   },
   "file_extension": ".py",
   "mimetype": "text/x-python",
   "name": "python",
   "nbconvert_exporter": "python",
   "pygments_lexer": "ipython3",
   "version": "3.7.5"
  }
 },
 "nbformat": 4,
 "nbformat_minor": 4
}
