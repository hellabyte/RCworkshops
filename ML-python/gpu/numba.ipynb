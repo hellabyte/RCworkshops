{
 "cells": [
  {
   "cell_type": "markdown",
   "metadata": {},
   "source": [
    "![Mandel.png](./Mandel.png)\n",
    "\n",
    "The Mandelbrot Set\n",
    "===\n",
    "\n",
    "The Mandelbrot set is a well known mathematical object. You can read about it on [Wikipedia](http://en.wikipedia.org/wiki/Mandelbrot_set). There are also \"deep zooms\" on YouTube exploring never before seen regions of the set.\n",
    "\n",
    "We're going to explore how to plot it.\n",
    "\n",
    "---\n",
    "\n",
    "Below, we're defining the python function that will apply the Mandelbrot map:\n",
    "\n",
    "$$f_{n+1} = f_n^2 + z,\\qquad f_0 = 0, \\qquad n\\in\\mathbb{N},z\\in\\mathbb{C}.$$\n",
    "\n",
    "For a given complex number $z$, $z$ is a member of the Mandelbrot set if and only if the magnitude of $z$ stays bounded as $n\\to\\infty$.\n",
    "\n",
    "---\n",
    "\n",
    "Previously a numpy implementation provided the following cpu timings:\n",
    "\n",
    "  N  | Wall Time | Machine \n",
    "----:|:---------:|:--------\n",
    "  50 |    2.4 ms | s72-2\n",
    " 500 |   97.1 ms | s72-2\n",
    "5000 |   24.1 s  | s72-2\n",
    "\n",
    "\n",
    "[0]: http://en.wikipedia.org/wiki/Mandelbrot_set"
   ]
  },
  {
   "cell_type": "code",
   "execution_count": null,
   "metadata": {},
   "outputs": [],
   "source": [
    "from timeit import default_timer as timer\n",
    "import pylab as plt\n",
    "import numpy as np\n",
    "from numba import jit\n",
    "from plt_style import *\n",
    "%matplotlib inline\n",
    "\n",
    "@jit\n",
    "def mandel(x, y, max_iters):\n",
    "    \"\"\"\n",
    "    Given the real and imaginary parts of a complex number,\n",
    "    determine if it is a candidate for membership in the Mandelbrot\n",
    "    set given a fixed number of iterations.\n",
    "    \"\"\"\n",
    "    i = 0\n",
    "    c = complex(x,y)\n",
    "    z = 0.0j\n",
    "    for i in range(max_iters):\n",
    "        z = z*z + c\n",
    "        if (z.real*z.real + z.imag*z.imag) >= 4:\n",
    "            return i\n",
    "    return 255\n",
    "\n",
    "@jit\n",
    "def create_fractal(min_x, max_x, min_y, max_y, image, iters):\n",
    "    height = image.shape[0]\n",
    "    width  = image.shape[1]\n",
    "\n",
    "    pixel_size_x = (max_x - min_x) / width\n",
    "    pixel_size_y = (max_y - min_y) / height\n",
    "    for x in range(width):\n",
    "        real = min_x + x * pixel_size_x\n",
    "        for y in range(height):\n",
    "            imag = min_y + y * pixel_size_y\n",
    "            color = mandel(real, imag, iters)\n",
    "            image[x, y] = color\n",
    "    return image\n"
   ]
  },
  {
   "cell_type": "code",
   "execution_count": null,
   "metadata": {},
   "outputs": [],
   "source": [
    "M = 5000\n",
    "xlims = np.r_[-2,1]\n",
    "ylims = np.r_[-1,1]\n",
    "x = np.linspace(*xlims,M)\n",
    "y = np.linspace(*ylims,M)\n",
    "X,Y = np.meshgrid(x,y,indexing='ij')\n",
    "image = np.zeros(X.shape, dtype=np.uint8)"
   ]
  },
  {
   "cell_type": "code",
   "execution_count": null,
   "metadata": {},
   "outputs": [],
   "source": [
    "s = timer()\n",
    "create_fractal(*xlims,*ylims, image, 255)\n",
    "e = timer()\n",
    "print(e - s,image.shape)\n"
   ]
  },
  {
   "cell_type": "code",
   "execution_count": null,
   "metadata": {},
   "outputs": [],
   "source": [
    "plt.contourf(X,Y,image,[254,255],colors='w')"
   ]
  },
  {
   "cell_type": "code",
   "execution_count": null,
   "metadata": {},
   "outputs": [],
   "source": []
  }
 ],
 "metadata": {
  "kernelspec": {
   "display_name": "Python [conda env:rapids] *",
   "language": "python",
   "name": "conda-env-rapids-py"
  },
  "language_info": {
   "codemirror_mode": {
    "name": "ipython",
    "version": 3
   },
   "file_extension": ".py",
   "mimetype": "text/x-python",
   "name": "python",
   "nbconvert_exporter": "python",
   "pygments_lexer": "ipython3",
   "version": "3.6.7"
  }
 },
 "nbformat": 4,
 "nbformat_minor": 4
}
