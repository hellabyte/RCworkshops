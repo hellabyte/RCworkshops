{
 "cells": [
  {
   "cell_type": "markdown",
   "metadata": {},
   "source": [
    "![Mandel.png](Mandel.png)\n",
    "\n",
    "The Mandelbrot Set\n",
    "===\n",
    "\n",
    "The Mandelbrot set is a well known mathematical object. You can read about it on [Wikipedia](http://en.wikipedia.org/wiki/Mandelbrot_set). There are also \"deep zooms\" on YouTube exploring never before seen regions of the set.\n",
    "\n",
    "We're going to explore how to plot it.\n",
    "\n",
    "---\n",
    "\n",
    "[0]: http://en.wikipedia.org/wiki/Mandelbrot_set"
   ]
  },
  {
   "cell_type": "code",
   "execution_count": null,
   "metadata": {},
   "outputs": [],
   "source": [
    "# necessary imports\n",
    "%matplotlib inline\n",
    "#import numpy as np\n",
    "import pylab as plt\n",
    "import cupy as np\n",
    "np.cuda.Device(3).use()"
   ]
  },
  {
   "cell_type": "markdown",
   "metadata": {},
   "source": [
    "Below, we're defining the python function that will apply the Mandelbrot map:\n",
    "\n",
    "$$f_{n+1} = f_n^2 + z,\\qquad f_0 = 0, \\qquad n\\in\\mathbb{N},z\\in\\mathbb{C}.$$\n",
    "\n",
    "For a given complex number $z$, $z$ is a member of the Mandelbrot set if and only if the magnitude of $z$ stays bounded as $n\\to\\infty$."
   ]
  },
  {
   "cell_type": "code",
   "execution_count": null,
   "metadata": {},
   "outputs": [],
   "source": [
    "def f(z, n=100, power=2):\n",
    "    f = z\n",
    "    for i in range(1,n):\n",
    "        f = f**power + z\n",
    "    return f"
   ]
  },
  {
   "cell_type": "markdown",
   "metadata": {},
   "source": [
    "The python function above is evaluated on a grid defined in the next cell. The density of this grid has a quadratic effect on the computation time (up until a critical $N$)."
   ]
  },
  {
   "cell_type": "code",
   "execution_count": null,
   "metadata": {},
   "outputs": [],
   "source": [
    "N = 5000\n",
    "x = np.linspace(-1.7,0.6, N)\n",
    "y = np.linspace(-1.4,1.4, N)\n",
    "X,Y = np.meshgrid(x,y,indexing='ij')\n",
    "# Complex Domain\n",
    "Z = X+1j*Y"
   ]
  },
  {
   "cell_type": "markdown",
   "metadata": {},
   "source": [
    "Below comes the loop that evaluates the function `f` on the previously defined grid. This is the part of the program that takes time.\n",
    "\n",
    "  N  | Wall Time | Machine \n",
    "----:|:---------:|:--------\n",
    "  50 |    2.4 ms | s72-2\n",
    " 500 |   97.1 ms | s72-2\n",
    "5000 |   24.1 s  | s72-2"
   ]
  },
  {
   "cell_type": "code",
   "execution_count": null,
   "metadata": {},
   "outputs": [],
   "source": [
    "%%time\n",
    "data = f(Z,power=2)"
   ]
  },
  {
   "cell_type": "markdown",
   "metadata": {},
   "source": [
    "Finally, we can plot the computed boundaries of the Mandelbrot set with the following code."
   ]
  },
  {
   "cell_type": "code",
   "execution_count": null,
   "metadata": {},
   "outputs": [],
   "source": [
    "D = np.asnumpy(np.abs(data.T))\n",
    "extent = (x[0],x[-1],y[0],y[-1])\n",
    "plt.figure(figsize=(16,12))\n",
    "plt.imshow(D, vmin=0,vmax=2,cmap=plt.cm.seismic,extent=extent)"
   ]
  }
 ],
 "metadata": {
  "kernelspec": {
   "display_name": "Python [conda env:rapids] *",
   "language": "python",
   "name": "conda-env-rapids-py"
  },
  "language_info": {
   "codemirror_mode": {
    "name": "ipython",
    "version": 3
   },
   "file_extension": ".py",
   "mimetype": "text/x-python",
   "name": "python",
   "nbconvert_exporter": "python",
   "pygments_lexer": "ipython3",
   "version": "3.6.7"
  }
 },
 "nbformat": 4,
 "nbformat_minor": 4
}
