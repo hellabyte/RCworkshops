{
 "cells": [
  {
   "cell_type": "markdown",
   "metadata": {},
   "source": [
    "# Basic Convolutional Neural Networks (CNN)\n",
    "- Objective: create basic CNN models with Keras"
   ]
  },
  {
   "cell_type": "markdown",
   "metadata": {},
   "source": [
    "<img src=\"https://adeshpande3.github.io/assets/Cover.png\" style=\"width: 800px\"/>\n",
    "\n",
    "<br>\n",
    "\n",
    "- Fundamental CNN structures: CNNs are similar to Multilayer Perceptrons (MLPs) since they only feed signals forward (feedforward nets), but have different kind of layers unique to CNNs  \n",
    "  - ** Convolutional layer** : process data in a small receptive field (i.e., filter)  \n",
    "  - ** Pooling layer** : downsample along 2 dimensions (usually width and height)   \n",
    "  - ** Dense (fully connected) layer** : similar to hidden layers of MLPs  "
   ]
  },
  {
   "cell_type": "markdown",
   "metadata": {},
   "source": [
    "<img src=\"http://cs231n.github.io/assets/cnn/convnet.jpeg\" style=\"width: 600px\"/>\n",
    "<br>\n",
    "<center> **ConvNet architecture** </center>"
   ]
  },
  {
   "cell_type": "code",
   "execution_count": 1,
   "metadata": {},
   "outputs": [
    {
     "name": "stdout",
     "output_type": "stream",
     "text": [
      "Thu May 21 11:39:59 2020       \n",
      "+-----------------------------------------------------------------------------+\n",
      "| NVIDIA-SMI 440.33.01    Driver Version: 440.33.01    CUDA Version: 10.2     |\n",
      "|-------------------------------+----------------------+----------------------+\n",
      "| GPU  Name        Persistence-M| Bus-Id        Disp.A | Volatile Uncorr. ECC |\n",
      "| Fan  Temp  Perf  Pwr:Usage/Cap|         Memory-Usage | GPU-Util  Compute M. |\n",
      "|===============================+======================+======================|\n",
      "|   0  Tesla V100-SXM2...  Off  | 00000000:1A:00.0 Off |                    0 |\n",
      "| N/A   51C    P0    71W / 300W |  12717MiB / 32510MiB |     32%      Default |\n",
      "+-------------------------------+----------------------+----------------------+\n",
      "|   1  Tesla V100-SXM2...  Off  | 00000000:1C:00.0 Off |                    0 |\n",
      "| N/A   50C    P0   178W / 300W |  12004MiB / 32510MiB |     38%      Default |\n",
      "+-------------------------------+----------------------+----------------------+\n",
      "|   2  Tesla V100-SXM2...  Off  | 00000000:1D:00.0 Off |                    0 |\n",
      "| N/A   55C    P0   124W / 300W |  12004MiB / 32510MiB |      4%      Default |\n",
      "+-------------------------------+----------------------+----------------------+\n",
      "|   3  Tesla V100-SXM2...  Off  | 00000000:1E:00.0 Off |                    0 |\n",
      "| N/A   58C    P0    79W / 300W |  12004MiB / 32510MiB |     97%      Default |\n",
      "+-------------------------------+----------------------+----------------------+\n",
      "                                                                               \n",
      "+-----------------------------------------------------------------------------+\n",
      "| Processes:                                                       GPU Memory |\n",
      "|  GPU       PID   Type   Process name                             Usage      |\n",
      "|=============================================================================|\n",
      "|    0    105827      C   PARABRICKS                                 11961MiB |\n",
      "|    0    132737      C   .../anaconda3/5.3.0/envs/rapids/bin/python   713MiB |\n",
      "|    1    105827      C   PARABRICKS                                 11961MiB |\n",
      "|    2    105827      C   PARABRICKS                                 11961MiB |\n",
      "|    3    105827      C   PARABRICKS                                 11961MiB |\n",
      "+-----------------------------------------------------------------------------+\n",
      " 11:40:00 up 113 days, 22:08,  2 users,  load average: 13.38, 11.95, 7.09\n",
      "40\n"
     ]
    }
   ],
   "source": [
    "!nvidia-smi\n",
    "!uptime\n",
    "!nproc"
   ]
  },
  {
   "cell_type": "code",
   "execution_count": 2,
   "metadata": {},
   "outputs": [
    {
     "name": "stderr",
     "output_type": "stream",
     "text": [
      "/packages/7x/anaconda3/5.3.0/envs/tf1.13-gpu/lib/python3.7/site-packages/tensorflow/python/framework/dtypes.py:526: FutureWarning: Passing (type, 1) or '1type' as a synonym of type is deprecated; in a future version of numpy, it will be understood as (type, (1,)) / '(1,)type'.\n",
      "  _np_qint8 = np.dtype([(\"qint8\", np.int8, 1)])\n",
      "/packages/7x/anaconda3/5.3.0/envs/tf1.13-gpu/lib/python3.7/site-packages/tensorflow/python/framework/dtypes.py:527: FutureWarning: Passing (type, 1) or '1type' as a synonym of type is deprecated; in a future version of numpy, it will be understood as (type, (1,)) / '(1,)type'.\n",
      "  _np_quint8 = np.dtype([(\"quint8\", np.uint8, 1)])\n",
      "/packages/7x/anaconda3/5.3.0/envs/tf1.13-gpu/lib/python3.7/site-packages/tensorflow/python/framework/dtypes.py:528: FutureWarning: Passing (type, 1) or '1type' as a synonym of type is deprecated; in a future version of numpy, it will be understood as (type, (1,)) / '(1,)type'.\n",
      "  _np_qint16 = np.dtype([(\"qint16\", np.int16, 1)])\n",
      "/packages/7x/anaconda3/5.3.0/envs/tf1.13-gpu/lib/python3.7/site-packages/tensorflow/python/framework/dtypes.py:529: FutureWarning: Passing (type, 1) or '1type' as a synonym of type is deprecated; in a future version of numpy, it will be understood as (type, (1,)) / '(1,)type'.\n",
      "  _np_quint16 = np.dtype([(\"quint16\", np.uint16, 1)])\n",
      "/packages/7x/anaconda3/5.3.0/envs/tf1.13-gpu/lib/python3.7/site-packages/tensorflow/python/framework/dtypes.py:530: FutureWarning: Passing (type, 1) or '1type' as a synonym of type is deprecated; in a future version of numpy, it will be understood as (type, (1,)) / '(1,)type'.\n",
      "  _np_qint32 = np.dtype([(\"qint32\", np.int32, 1)])\n",
      "/packages/7x/anaconda3/5.3.0/envs/tf1.13-gpu/lib/python3.7/site-packages/tensorflow/python/framework/dtypes.py:535: FutureWarning: Passing (type, 1) or '1type' as a synonym of type is deprecated; in a future version of numpy, it will be understood as (type, (1,)) / '(1,)type'.\n",
      "  np_resource = np.dtype([(\"resource\", np.ubyte, 1)])\n"
     ]
    }
   ],
   "source": [
    "import numpy as np\n",
    "import matplotlib.pyplot as plt\n",
    "import sys\n",
    "sys.path.append('../common')\n",
    "import plt_style as ps\n",
    "\n",
    "from sklearn import datasets\n",
    "from sklearn.model_selection import train_test_split\n",
    "from tensorflow.keras.utils import to_categorical"
   ]
  },
  {
   "cell_type": "markdown",
   "metadata": {},
   "source": [
    "### Load Datset\n",
    "- Digits dataset in sklearn\n",
    "- Doc: http://scikit-learn.org/stable/auto_examples/datasets/plot_digits_last_image.html"
   ]
  },
  {
   "cell_type": "code",
   "execution_count": 3,
   "metadata": {},
   "outputs": [],
   "source": [
    "data = datasets.load_digits()"
   ]
  },
  {
   "cell_type": "code",
   "execution_count": 4,
   "metadata": {},
   "outputs": [
    {
     "data": {
      "text/plain": [
       "1797"
      ]
     },
     "execution_count": 4,
     "metadata": {},
     "output_type": "execute_result"
    }
   ],
   "source": [
    "K,M,N = data.images.shape\n",
    "FI = data.images[:10].reshape((10*M,N))\n",
    "K"
   ]
  },
  {
   "cell_type": "code",
   "execution_count": 18,
   "metadata": {},
   "outputs": [
    {
     "data": {
      "image/png": "[encoded data removed]",
      "text/plain": [
       "<Figure size 144x144 with 1 Axes>"
      ]
     },
     "metadata": {},
     "output_type": "display_data"
    }
   ],
   "source": [
    "k=0\n",
    "plt.close()\n",
    "plt.figure(figsize=(2,2))\n",
    "plt.imshow(FI[:8,:8],cmap=plt.cm.binary.reversed() )   # show first number in the dataset\n",
    "#plt.title('label: %d' % data.target[k],fontsize=18,color='w')    # label = '0'\n",
    "plt.show()"
   ]
  },
  {
   "cell_type": "code",
   "execution_count": 19,
   "metadata": {},
   "outputs": [],
   "source": [
    "X_data = data.images\n",
    "y_data = data.target"
   ]
  },
  {
   "cell_type": "code",
   "execution_count": 20,
   "metadata": {},
   "outputs": [
    {
     "name": "stdout",
     "output_type": "stream",
     "text": [
      "(1797, 8, 8)\n",
      "(1797,)\n"
     ]
    }
   ],
   "source": [
    "# shape of data\n",
    "print(X_data.shape)    # (8 X 8) format\n",
    "print(y_data.shape)"
   ]
  },
  {
   "cell_type": "code",
   "execution_count": 21,
   "metadata": {},
   "outputs": [
    {
     "data": {
      "text/plain": [
       "0"
      ]
     },
     "execution_count": 21,
     "metadata": {},
     "output_type": "execute_result"
    }
   ],
   "source": [
    "data.target[0]"
   ]
  },
  {
   "cell_type": "code",
   "execution_count": 22,
   "metadata": {},
   "outputs": [],
   "source": [
    "# reshape X_data into 3-D format\n",
    "# note that this follows image format of Tensorflow backend\n",
    "X_data = X_data.reshape((X_data.shape[0], X_data.shape[1], X_data.shape[2], 1))"
   ]
  },
  {
   "cell_type": "code",
   "execution_count": 23,
   "metadata": {},
   "outputs": [],
   "source": [
    "# one-hot encoding of y_data\n",
    "y_data = to_categorical(y_data)"
   ]
  },
  {
   "cell_type": "code",
   "execution_count": 24,
   "metadata": {},
   "outputs": [
    {
     "name": "stdout",
     "output_type": "stream",
     "text": [
      "Original first digit label: 0\n",
      "After one-hot encoding: [1. 0. 0. 0. 0. 0. 0. 0. 0. 0.]\n"
     ]
    }
   ],
   "source": [
    "print(f'Original first digit label: {data.target[0]}')\n",
    "print('After one-hot encoding:', y_data[0])"
   ]
  },
  {
   "cell_type": "code",
   "execution_count": 25,
   "metadata": {},
   "outputs": [],
   "source": [
    "# partition data into train/test sets\n",
    "X_train, X_test, y_train, y_test = train_test_split(X_data, y_data, test_size = 0.3, random_state = 777)"
   ]
  },
  {
   "cell_type": "code",
   "execution_count": 26,
   "metadata": {},
   "outputs": [
    {
     "name": "stdout",
     "output_type": "stream",
     "text": [
      "(1257, 8, 8, 1)\n",
      "(540, 8, 8, 1)\n",
      "(1257, 10)\n",
      "(540, 10)\n"
     ]
    }
   ],
   "source": [
    "print(X_train.shape)\n",
    "print(X_test.shape)\n",
    "print(y_train.shape)\n",
    "print(y_test.shape)"
   ]
  },
  {
   "cell_type": "code",
   "execution_count": 27,
   "metadata": {},
   "outputs": [],
   "source": [
    "from tensorflow.keras.models import Sequential\n",
    "from tensorflow.keras import optimizers\n",
    "from tensorflow.keras.layers import Dense, Activation, Flatten, Conv2D, MaxPooling2D"
   ]
  },
  {
   "cell_type": "markdown",
   "metadata": {},
   "source": [
    "### 1. Creating model\n",
    "- Creating a model is same with MLP (Sequential)\n",
    "- Original notebook defined a model with an reLU activation layer. We run two of these original models and compare to a model without activation."
   ]
  },
  {
   "cell_type": "code",
   "execution_count": 28,
   "metadata": {},
   "outputs": [],
   "source": [
    "# Allow multiple models to have the same seed (note there is still randomness in the model fit)\n",
    "from numpy.random import seed\n",
    "from tensorflow import set_random_seed\n",
    "seed(1)\n",
    "set_random_seed(2)"
   ]
  },
  {
   "cell_type": "code",
   "execution_count": 29,
   "metadata": {},
   "outputs": [],
   "source": [
    "orig_model0 = Sequential()\n",
    "orig_model1 = Sequential()"
   ]
  },
  {
   "cell_type": "markdown",
   "metadata": {},
   "source": [
    "### 2. Convolutional Layer\n",
    "- In general, 2D convolutional layer is used for image processing\n",
    "    - Size of filter (designated by 'kernel_size' parameter) defines **width and height of receptive field **\n",
    "    - Number of filters (designated by 'filters' parameter) is equal to **depth of the next layer**\n",
    "    - Strides (designated by 'strides' parameter) is** how far a filter makes change in its position** for each move\n",
    "    - Image can be **zero-padded** in order to prevent getting too small (designated by 'padding' parameter)\n",
    "- Doc: https://keras.io/layers/convolutional/\n",
    "\n",
    "<img src=\"http://cs231n.github.io/assets/cnn/depthcol.jpeg\" style=\"width: 400px\"/>"
   ]
  },
  {
   "cell_type": "code",
   "execution_count": 30,
   "metadata": {},
   "outputs": [
    {
     "name": "stdout",
     "output_type": "stream",
     "text": [
      "WARNING:tensorflow:From /packages/7x/anaconda3/5.3.0/envs/tf1.13-gpu/lib/python3.7/site-packages/tensorflow/python/ops/resource_variable_ops.py:435: colocate_with (from tensorflow.python.framework.ops) is deprecated and will be removed in a future version.\n",
      "Instructions for updating:\n",
      "Colocations handled automatically by placer.\n"
     ]
    }
   ],
   "source": [
    "# convolution layer\n",
    "orig_model0.add(Conv2D(input_shape = (X_data.shape[1], X_data.shape[2], X_data.shape[3]), filters = 10, kernel_size = (3,3), strides = (1,1), padding = 'valid'))\n",
    "orig_model1.add(Conv2D(input_shape = (X_data.shape[1], X_data.shape[2], X_data.shape[3]), filters = 10, kernel_size = (3,3), strides = (1,1), padding = 'valid'))"
   ]
  },
  {
   "cell_type": "markdown",
   "metadata": {},
   "source": [
    "### 3. Activation Layer\n",
    "- Identical to the activation layers in MLP\n",
    "- In general, rectified Linear Unit (reLU)  is used as well\n",
    "- Note that Conv2d step may have applied activation through keyword argument\n",
    "- Below, reLU activation function is demonstrated"
   ]
  },
  {
   "cell_type": "code",
   "execution_count": 35,
   "metadata": {},
   "outputs": [
    {
     "data": {
      "image/png": "[encoded data removed]",
      "text/plain": [
       "<Figure size 360x385.2 with 1 Axes>"
      ]
     },
     "metadata": {},
     "output_type": "display_data"
    }
   ],
   "source": [
    "plt.figure(figsize=(5,5.35))\n",
    "plt.clf()\n",
    "x = np.linspace(-1,1,15)\n",
    "myreLU = [ 0 if xx < 0 else xx for xx in x ]\n",
    "plt.plot(x,0*x,'-',c=ps.gry,lw=5)    # x-axis\n",
    "plt.plot(0*x,x,'-',c=ps.gry,lw=5)    # y-axis\n",
    "plt.plot(x,myreLU,'r-',lw=3) # reLU\n",
    "plt.xticks(color='w',fontsize=18,rotation=90)\n",
    "plt.yticks(color='w',fontsize=18)\n",
    "plt.xlim(-1,1)\n",
    "plt.ylim(-1,1)\n",
    "#plt.grid(which='major',linestyle='--',color='#777777')\n",
    "plt.show()"
   ]
  },
  {
   "cell_type": "markdown",
   "metadata": {},
   "source": [
    "Original model includes activation layer that will not contribute to output. \n",
    "\n",
    "Kept for pedagogical reasons, but ask yourself, why the reLU activation layer does not contribute to the result."
   ]
  },
  {
   "cell_type": "code",
   "execution_count": 36,
   "metadata": {},
   "outputs": [],
   "source": [
    "orig_model0.add(Activation('relu'))\n",
    "orig_model1.add(Activation('relu'))"
   ]
  },
  {
   "cell_type": "markdown",
   "metadata": {},
   "source": [
    "### 4. Pooling layer\n",
    "- In general, max pooling method is used\n",
    "- Common alternative is average pooling\n",
    "- Reduces number of parameters\n",
    "- Doc: https://keras.io/layers/pooling/\n",
    "\n",
    "<img src=\"http://cs231n.github.io/assets/cnn/maxpool.jpeg\" style=\"width: 600px\"/>"
   ]
  },
  {
   "cell_type": "code",
   "execution_count": 37,
   "metadata": {},
   "outputs": [],
   "source": [
    "orig_model0.add(MaxPooling2D(pool_size = (2,2)))\n",
    "orig_model1.add(MaxPooling2D(pool_size = (2,2)))"
   ]
  },
  {
   "cell_type": "markdown",
   "metadata": {},
   "source": [
    "### 5. Dense (fully connected layer)\n",
    "- Convolutional & pooling layers can be connected to dense layers\n",
    "- Sometimes, dense layers can be omitted\n",
    "- Doc: https://keras.io/layers/core/"
   ]
  },
  {
   "cell_type": "code",
   "execution_count": 38,
   "metadata": {},
   "outputs": [],
   "source": [
    "# prior layer should be flattend to be connected to dense layers\n",
    "orig_model0.add(Flatten())\n",
    "orig_model1.add(Flatten())"
   ]
  },
  {
   "cell_type": "code",
   "execution_count": 39,
   "metadata": {},
   "outputs": [],
   "source": [
    "# dense layer with 50 neurons\n",
    "orig_model0.add(Dense(50, activation = 'relu'))\n",
    "orig_model1.add(Dense(50, activation = 'relu'))"
   ]
  },
  {
   "cell_type": "code",
   "execution_count": 40,
   "metadata": {},
   "outputs": [],
   "source": [
    "# final layer with 10 neurons to classify the instances\n",
    "orig_model0.add(Dense(10, activation = 'softmax'))\n",
    "orig_model1.add(Dense(10, activation = 'softmax'))"
   ]
  },
  {
   "cell_type": "markdown",
   "metadata": {},
   "source": [
    "### 6. Model compile & train\n",
    "- Optimize with adaptive moment estimation (Adam)\n",
    "- accuracy as the metric"
   ]
  },
  {
   "cell_type": "code",
   "execution_count": 41,
   "metadata": {},
   "outputs": [],
   "source": [
    "adam = optimizers.Adam(lr = 0.001)\n",
    "orig_model0.compile(loss = 'categorical_crossentropy', optimizer = adam, metrics = ['accuracy'])\n",
    "orig_model1.compile(loss = 'categorical_crossentropy', optimizer = adam, metrics = ['accuracy'])"
   ]
  },
  {
   "cell_type": "code",
   "execution_count": 42,
   "metadata": {},
   "outputs": [
    {
     "name": "stdout",
     "output_type": "stream",
     "text": [
      "Original Model 0 Summary\n",
      "_________________________________________________________________\n",
      "Layer (type)                 Output Shape              Param #   \n",
      "=================================================================\n",
      "conv2d (Conv2D)              (None, 6, 6, 10)          100       \n",
      "_________________________________________________________________\n",
      "activation (Activation)      (None, 6, 6, 10)          0         \n",
      "_________________________________________________________________\n",
      "activation_2 (Activation)    (None, 6, 6, 10)          0         \n",
      "_________________________________________________________________\n",
      "max_pooling2d (MaxPooling2D) (None, 3, 3, 10)          0         \n",
      "_________________________________________________________________\n",
      "flatten (Flatten)            (None, 90)                0         \n",
      "_________________________________________________________________\n",
      "dense (Dense)                (None, 50)                4550      \n",
      "_________________________________________________________________\n",
      "dense_2 (Dense)              (None, 10)                510       \n",
      "=================================================================\n",
      "Total params: 5,160\n",
      "Trainable params: 5,160\n",
      "Non-trainable params: 0\n",
      "_________________________________________________________________\n",
      "Original Model 1 Summary\n",
      "_________________________________________________________________\n",
      "Layer (type)                 Output Shape              Param #   \n",
      "=================================================================\n",
      "conv2d_1 (Conv2D)            (None, 6, 6, 10)          100       \n",
      "_________________________________________________________________\n",
      "activation_1 (Activation)    (None, 6, 6, 10)          0         \n",
      "_________________________________________________________________\n",
      "activation_3 (Activation)    (None, 6, 6, 10)          0         \n",
      "_________________________________________________________________\n",
      "max_pooling2d_1 (MaxPooling2 (None, 3, 3, 10)          0         \n",
      "_________________________________________________________________\n",
      "flatten_1 (Flatten)          (None, 90)                0         \n",
      "_________________________________________________________________\n",
      "dense_1 (Dense)              (None, 50)                4550      \n",
      "_________________________________________________________________\n",
      "dense_3 (Dense)              (None, 10)                510       \n",
      "=================================================================\n",
      "Total params: 5,160\n",
      "Trainable params: 5,160\n",
      "Non-trainable params: 0\n",
      "_________________________________________________________________\n"
     ]
    }
   ],
   "source": [
    "print('Original Model 0 Summary')\n",
    "orig_model0.summary()\n",
    "print('Original Model 1 Summary')\n",
    "orig_model1.summary()"
   ]
  },
  {
   "cell_type": "code",
   "execution_count": 43,
   "metadata": {},
   "outputs": [
    {
     "name": "stdout",
     "output_type": "stream",
     "text": [
      "Train on 1005 samples, validate on 252 samples\n",
      "WARNING:tensorflow:From /packages/7x/anaconda3/5.3.0/envs/tf1.13-gpu/lib/python3.7/site-packages/tensorflow/python/ops/math_ops.py:3066: to_int32 (from tensorflow.python.ops.math_ops) is deprecated and will be removed in a future version.\n",
      "Instructions for updating:\n",
      "Use tf.cast instead.\n",
      "Epoch 1/100\n",
      "1005/1005 [==============================] - 2s 2ms/sample - loss: 6.0894 - acc: 0.1065 - val_loss: 3.1320 - val_acc: 0.1905\n",
      "Epoch 2/100\n",
      "1005/1005 [==============================] - 0s 150us/sample - loss: 2.4928 - acc: 0.2478 - val_loss: 1.8154 - val_acc: 0.3611\n",
      "Epoch 3/100\n",
      "1005/1005 [==============================] - 0s 68us/sample - loss: 1.5406 - acc: 0.4925 - val_loss: 1.1577 - val_acc: 0.6349\n",
      "Epoch 4/100\n",
      "1005/1005 [==============================] - 0s 60us/sample - loss: 1.0611 - acc: 0.6955 - val_loss: 0.7762 - val_acc: 0.7897\n",
      "Epoch 5/100\n",
      "1005/1005 [==============================] - 0s 72us/sample - loss: 0.7769 - acc: 0.7930 - val_loss: 0.5684 - val_acc: 0.8373\n",
      "Epoch 6/100\n",
      "1005/1005 [==============================] - 0s 174us/sample - loss: 0.5997 - acc: 0.8378 - val_loss: 0.4405 - val_acc: 0.8730\n",
      "Epoch 7/100\n",
      "1005/1005 [==============================] - 0s 150us/sample - loss: 0.4799 - acc: 0.8746 - val_loss: 0.3582 - val_acc: 0.9008\n",
      "Epoch 8/100\n",
      "1005/1005 [==============================] - 0s 73us/sample - loss: 0.3951 - acc: 0.8965 - val_loss: 0.3022 - val_acc: 0.9127\n",
      "Epoch 9/100\n",
      "1005/1005 [==============================] - 0s 195us/sample - loss: 0.3327 - acc: 0.9164 - val_loss: 0.2638 - val_acc: 0.9206\n",
      "Epoch 10/100\n",
      "1005/1005 [==============================] - 0s 127us/sample - loss: 0.2856 - acc: 0.9313 - val_loss: 0.2351 - val_acc: 0.9246\n",
      "Epoch 11/100\n",
      "1005/1005 [==============================] - 0s 55us/sample - loss: 0.2491 - acc: 0.9383 - val_loss: 0.2115 - val_acc: 0.9286\n",
      "Epoch 12/100\n",
      "1005/1005 [==============================] - 0s 58us/sample - loss: 0.2195 - acc: 0.9453 - val_loss: 0.1924 - val_acc: 0.9365\n",
      "Epoch 13/100\n",
      "1005/1005 [==============================] - 0s 70us/sample - loss: 0.1946 - acc: 0.9512 - val_loss: 0.1771 - val_acc: 0.9365\n",
      "Epoch 14/100\n",
      "1005/1005 [==============================] - 0s 195us/sample - loss: 0.1743 - acc: 0.9552 - val_loss: 0.1643 - val_acc: 0.9365\n",
      "Epoch 15/100\n",
      "1005/1005 [==============================] - 0s 138us/sample - loss: 0.1567 - acc: 0.9602 - val_loss: 0.1532 - val_acc: 0.9405\n",
      "Epoch 16/100\n",
      "1005/1005 [==============================] - 0s 70us/sample - loss: 0.1414 - acc: 0.9711 - val_loss: 0.1435 - val_acc: 0.9444\n",
      "Epoch 17/100\n",
      "1005/1005 [==============================] - 0s 66us/sample - loss: 0.1283 - acc: 0.9761 - val_loss: 0.1353 - val_acc: 0.9444\n",
      "Epoch 18/100\n",
      "1005/1005 [==============================] - 0s 66us/sample - loss: 0.1167 - acc: 0.9781 - val_loss: 0.1283 - val_acc: 0.9524\n",
      "Epoch 19/100\n",
      "1005/1005 [==============================] - 0s 61us/sample - loss: 0.1060 - acc: 0.9771 - val_loss: 0.1216 - val_acc: 0.9524\n",
      "Epoch 20/100\n",
      "1005/1005 [==============================] - 0s 223us/sample - loss: 0.0965 - acc: 0.9811 - val_loss: 0.1153 - val_acc: 0.9563\n",
      "Epoch 21/100\n",
      "1005/1005 [==============================] - 0s 128us/sample - loss: 0.0879 - acc: 0.9831 - val_loss: 0.1098 - val_acc: 0.9603\n",
      "Epoch 22/100\n",
      "1005/1005 [==============================] - 0s 71us/sample - loss: 0.0799 - acc: 0.9871 - val_loss: 0.1066 - val_acc: 0.9603\n",
      "Epoch 23/100\n",
      "1005/1005 [==============================] - 0s 226us/sample - loss: 0.0732 - acc: 0.9891 - val_loss: 0.1026 - val_acc: 0.9603\n",
      "Epoch 24/100\n",
      "1005/1005 [==============================] - 0s 108us/sample - loss: 0.0673 - acc: 0.9900 - val_loss: 0.0999 - val_acc: 0.9603\n",
      "Epoch 25/100\n",
      "1005/1005 [==============================] - 0s 71us/sample - loss: 0.0619 - acc: 0.9930 - val_loss: 0.0960 - val_acc: 0.9643\n",
      "Epoch 26/100\n",
      "1005/1005 [==============================] - 0s 167us/sample - loss: 0.0574 - acc: 0.9940 - val_loss: 0.0946 - val_acc: 0.9683\n",
      "Epoch 27/100\n",
      "1005/1005 [==============================] - 0s 159us/sample - loss: 0.0531 - acc: 0.9940 - val_loss: 0.0918 - val_acc: 0.9683\n",
      "Epoch 28/100\n",
      "1005/1005 [==============================] - 0s 76us/sample - loss: 0.0494 - acc: 0.9950 - val_loss: 0.0901 - val_acc: 0.9683\n",
      "Epoch 29/100\n",
      "1005/1005 [==============================] - 0s 69us/sample - loss: 0.0459 - acc: 0.9950 - val_loss: 0.0878 - val_acc: 0.9683\n",
      "Epoch 30/100\n",
      "1005/1005 [==============================] - 0s 245us/sample - loss: 0.0429 - acc: 0.9950 - val_loss: 0.0863 - val_acc: 0.9683\n",
      "Epoch 31/100\n",
      "1005/1005 [==============================] - 0s 52us/sample - loss: 0.0399 - acc: 0.9950 - val_loss: 0.0842 - val_acc: 0.9683\n",
      "Epoch 32/100\n",
      "1005/1005 [==============================] - 0s 62us/sample - loss: 0.0374 - acc: 0.9950 - val_loss: 0.0826 - val_acc: 0.9683\n",
      "Epoch 33/100\n",
      "1005/1005 [==============================] - 0s 66us/sample - loss: 0.0349 - acc: 0.9960 - val_loss: 0.0811 - val_acc: 0.9683\n",
      "Epoch 34/100\n",
      "1005/1005 [==============================] - 0s 203us/sample - loss: 0.0326 - acc: 0.9960 - val_loss: 0.0798 - val_acc: 0.9683\n",
      "Epoch 35/100\n",
      "1005/1005 [==============================] - 0s 114us/sample - loss: 0.0306 - acc: 0.9960 - val_loss: 0.0785 - val_acc: 0.9683\n",
      "Epoch 36/100\n",
      "1005/1005 [==============================] - 0s 60us/sample - loss: 0.0287 - acc: 0.9970 - val_loss: 0.0762 - val_acc: 0.9683\n",
      "Epoch 37/100\n",
      "1005/1005 [==============================] - 0s 54us/sample - loss: 0.0269 - acc: 0.9980 - val_loss: 0.0752 - val_acc: 0.9683\n",
      "Epoch 38/100\n",
      "1005/1005 [==============================] - 0s 69us/sample - loss: 0.0254 - acc: 0.9990 - val_loss: 0.0742 - val_acc: 0.9683\n",
      "Epoch 39/100\n",
      "1005/1005 [==============================] - 0s 123us/sample - loss: 0.0238 - acc: 0.9990 - val_loss: 0.0724 - val_acc: 0.9683\n",
      "Epoch 40/100\n",
      "1005/1005 [==============================] - 0s 194us/sample - loss: 0.0224 - acc: 0.9990 - val_loss: 0.0709 - val_acc: 0.9683\n",
      "Epoch 41/100\n",
      "1005/1005 [==============================] - 0s 66us/sample - loss: 0.0214 - acc: 0.9990 - val_loss: 0.0718 - val_acc: 0.9683\n",
      "Epoch 42/100\n",
      "1005/1005 [==============================] - 0s 75us/sample - loss: 0.0201 - acc: 0.9990 - val_loss: 0.0707 - val_acc: 0.9683\n",
      "Epoch 43/100\n",
      "1005/1005 [==============================] - 0s 148us/sample - loss: 0.0189 - acc: 0.9990 - val_loss: 0.0683 - val_acc: 0.9683\n",
      "Epoch 44/100\n",
      "1005/1005 [==============================] - 0s 205us/sample - loss: 0.0181 - acc: 0.9990 - val_loss: 0.0678 - val_acc: 0.9683\n",
      "Epoch 45/100\n",
      "1005/1005 [==============================] - 0s 93us/sample - loss: 0.0170 - acc: 0.9990 - val_loss: 0.0670 - val_acc: 0.9683\n",
      "Epoch 46/100\n",
      "1005/1005 [==============================] - 0s 208us/sample - loss: 0.0161 - acc: 1.0000 - val_loss: 0.0668 - val_acc: 0.9683\n",
      "Epoch 47/100\n",
      "1005/1005 [==============================] - 0s 123us/sample - loss: 0.0152 - acc: 1.0000 - val_loss: 0.0648 - val_acc: 0.9683\n",
      "Epoch 48/100\n",
      "1005/1005 [==============================] - 0s 123us/sample - loss: 0.0146 - acc: 1.0000 - val_loss: 0.0663 - val_acc: 0.9683\n",
      "Epoch 49/100\n",
      "1005/1005 [==============================] - 0s 222us/sample - loss: 0.0138 - acc: 1.0000 - val_loss: 0.0632 - val_acc: 0.9683\n",
      "Epoch 50/100\n",
      "1005/1005 [==============================] - 0s 77us/sample - loss: 0.0132 - acc: 1.0000 - val_loss: 0.0634 - val_acc: 0.9683\n",
      "Epoch 51/100\n",
      "1005/1005 [==============================] - 0s 59us/sample - loss: 0.0125 - acc: 1.0000 - val_loss: 0.0623 - val_acc: 0.9683\n",
      "Epoch 52/100\n",
      "1005/1005 [==============================] - 0s 63us/sample - loss: 0.0119 - acc: 1.0000 - val_loss: 0.0620 - val_acc: 0.9683\n",
      "Epoch 53/100\n",
      "1005/1005 [==============================] - 0s 66us/sample - loss: 0.0113 - acc: 1.0000 - val_loss: 0.0614 - val_acc: 0.9683\n",
      "Epoch 54/100\n",
      "1005/1005 [==============================] - 0s 176us/sample - loss: 0.0109 - acc: 1.0000 - val_loss: 0.0609 - val_acc: 0.9683\n",
      "Epoch 55/100\n",
      "1005/1005 [==============================] - 0s 137us/sample - loss: 0.0103 - acc: 1.0000 - val_loss: 0.0602 - val_acc: 0.9722\n",
      "Epoch 56/100\n",
      "1005/1005 [==============================] - 0s 67us/sample - loss: 0.0099 - acc: 1.0000 - val_loss: 0.0600 - val_acc: 0.9722\n",
      "Epoch 57/100\n",
      "1005/1005 [==============================] - 0s 67us/sample - loss: 0.0095 - acc: 1.0000 - val_loss: 0.0594 - val_acc: 0.9722\n",
      "Epoch 58/100\n",
      "1005/1005 [==============================] - 0s 240us/sample - loss: 0.0092 - acc: 1.0000 - val_loss: 0.0588 - val_acc: 0.9722\n",
      "Epoch 59/100\n",
      "1005/1005 [==============================] - 0s 100us/sample - loss: 0.0087 - acc: 1.0000 - val_loss: 0.0584 - val_acc: 0.9722\n",
      "Epoch 60/100\n",
      "1005/1005 [==============================] - 0s 67us/sample - loss: 0.0084 - acc: 1.0000 - val_loss: 0.0577 - val_acc: 0.9762\n",
      "Epoch 61/100\n",
      "1005/1005 [==============================] - 0s 242us/sample - loss: 0.0080 - acc: 1.0000 - val_loss: 0.0574 - val_acc: 0.9762\n",
      "Epoch 62/100\n",
      "1005/1005 [==============================] - 0s 89us/sample - loss: 0.0077 - acc: 1.0000 - val_loss: 0.0575 - val_acc: 0.9762\n",
      "Epoch 63/100\n",
      "1005/1005 [==============================] - 0s 67us/sample - loss: 0.0074 - acc: 1.0000 - val_loss: 0.0567 - val_acc: 0.9762\n",
      "Epoch 64/100\n",
      "1005/1005 [==============================] - 0s 64us/sample - loss: 0.0071 - acc: 1.0000 - val_loss: 0.0562 - val_acc: 0.9762\n",
      "Epoch 65/100\n",
      "1005/1005 [==============================] - 0s 66us/sample - loss: 0.0068 - acc: 1.0000 - val_loss: 0.0563 - val_acc: 0.9762\n",
      "Epoch 66/100\n",
      "1005/1005 [==============================] - 0s 68us/sample - loss: 0.0066 - acc: 1.0000 - val_loss: 0.0555 - val_acc: 0.9762\n",
      "Epoch 67/100\n",
      "1005/1005 [==============================] - 0s 242us/sample - loss: 0.0063 - acc: 1.0000 - val_loss: 0.0555 - val_acc: 0.9762\n",
      "Epoch 68/100\n",
      "1005/1005 [==============================] - 0s 112us/sample - loss: 0.0062 - acc: 1.0000 - val_loss: 0.0549 - val_acc: 0.9762\n",
      "Epoch 69/100\n",
      "1005/1005 [==============================] - 0s 191us/sample - loss: 0.0059 - acc: 1.0000 - val_loss: 0.0548 - val_acc: 0.9762\n",
      "Epoch 70/100\n",
      "1005/1005 [==============================] - 0s 150us/sample - loss: 0.0057 - acc: 1.0000 - val_loss: 0.0545 - val_acc: 0.9762\n",
      "Epoch 71/100\n",
      "1005/1005 [==============================] - 0s 77us/sample - loss: 0.0055 - acc: 1.0000 - val_loss: 0.0542 - val_acc: 0.9762\n",
      "Epoch 72/100\n",
      "1005/1005 [==============================] - 0s 68us/sample - loss: 0.0053 - acc: 1.0000 - val_loss: 0.0541 - val_acc: 0.9762\n",
      "Epoch 73/100\n",
      "1005/1005 [==============================] - 0s 71us/sample - loss: 0.0051 - acc: 1.0000 - val_loss: 0.0534 - val_acc: 0.9762\n",
      "Epoch 74/100\n",
      "1005/1005 [==============================] - 0s 230us/sample - loss: 0.0050 - acc: 1.0000 - val_loss: 0.0529 - val_acc: 0.9762\n",
      "Epoch 75/100\n",
      "1005/1005 [==============================] - 0s 110us/sample - loss: 0.0048 - acc: 1.0000 - val_loss: 0.0533 - val_acc: 0.9762\n",
      "Epoch 76/100\n",
      "1005/1005 [==============================] - 0s 87us/sample - loss: 0.0046 - acc: 1.0000 - val_loss: 0.0526 - val_acc: 0.9762\n",
      "Epoch 77/100\n",
      "1005/1005 [==============================] - 0s 155us/sample - loss: 0.0045 - acc: 1.0000 - val_loss: 0.0523 - val_acc: 0.9762\n",
      "Epoch 78/100\n",
      "1005/1005 [==============================] - 0s 202us/sample - loss: 0.0044 - acc: 1.0000 - val_loss: 0.0522 - val_acc: 0.9762\n",
      "Epoch 79/100\n",
      "1005/1005 [==============================] - 0s 95us/sample - loss: 0.0042 - acc: 1.0000 - val_loss: 0.0514 - val_acc: 0.9762\n",
      "Epoch 80/100\n",
      "1005/1005 [==============================] - 0s 191us/sample - loss: 0.0041 - acc: 1.0000 - val_loss: 0.0517 - val_acc: 0.9762\n",
      "Epoch 81/100\n",
      "1005/1005 [==============================] - 0s 153us/sample - loss: 0.0040 - acc: 1.0000 - val_loss: 0.0511 - val_acc: 0.9762\n",
      "Epoch 82/100\n",
      "1005/1005 [==============================] - 0s 75us/sample - loss: 0.0038 - acc: 1.0000 - val_loss: 0.0509 - val_acc: 0.9762\n",
      "Epoch 83/100\n",
      "1005/1005 [==============================] - 0s 149us/sample - loss: 0.0037 - acc: 1.0000 - val_loss: 0.0507 - val_acc: 0.9762\n",
      "Epoch 84/100\n",
      "1005/1005 [==============================] - 0s 174us/sample - loss: 0.0036 - acc: 1.0000 - val_loss: 0.0504 - val_acc: 0.9762\n",
      "Epoch 85/100\n",
      "1005/1005 [==============================] - 0s 73us/sample - loss: 0.0035 - acc: 1.0000 - val_loss: 0.0504 - val_acc: 0.9762\n",
      "Epoch 86/100\n",
      "1005/1005 [==============================] - 0s 60us/sample - loss: 0.0034 - acc: 1.0000 - val_loss: 0.0499 - val_acc: 0.9762\n",
      "Epoch 87/100\n",
      "1005/1005 [==============================] - 0s 51us/sample - loss: 0.0033 - acc: 1.0000 - val_loss: 0.0499 - val_acc: 0.9762\n",
      "Epoch 88/100\n",
      "1005/1005 [==============================] - 0s 63us/sample - loss: 0.0032 - acc: 1.0000 - val_loss: 0.0497 - val_acc: 0.9762\n",
      "Epoch 89/100\n",
      "1005/1005 [==============================] - 0s 60us/sample - loss: 0.0031 - acc: 1.0000 - val_loss: 0.0497 - val_acc: 0.9762\n",
      "Epoch 90/100\n",
      "1005/1005 [==============================] - 0s 245us/sample - loss: 0.0030 - acc: 1.0000 - val_loss: 0.0492 - val_acc: 0.9762\n",
      "Epoch 91/100\n",
      "1005/1005 [==============================] - 0s 104us/sample - loss: 0.0029 - acc: 1.0000 - val_loss: 0.0493 - val_acc: 0.9762\n",
      "Epoch 92/100\n",
      "1005/1005 [==============================] - 0s 72us/sample - loss: 0.0029 - acc: 1.0000 - val_loss: 0.0490 - val_acc: 0.9762\n",
      "Epoch 93/100\n",
      "1005/1005 [==============================] - 0s 185us/sample - loss: 0.0028 - acc: 1.0000 - val_loss: 0.0490 - val_acc: 0.9762\n",
      "Epoch 94/100\n",
      "1005/1005 [==============================] - 0s 155us/sample - loss: 0.0027 - acc: 1.0000 - val_loss: 0.0486 - val_acc: 0.9762\n",
      "Epoch 95/100\n",
      "1005/1005 [==============================] - 0s 101us/sample - loss: 0.0026 - acc: 1.0000 - val_loss: 0.0487 - val_acc: 0.9762\n",
      "Epoch 96/100\n",
      "1005/1005 [==============================] - 0s 222us/sample - loss: 0.0026 - acc: 1.0000 - val_loss: 0.0485 - val_acc: 0.9762\n",
      "Epoch 97/100\n",
      "1005/1005 [==============================] - 0s 60us/sample - loss: 0.0025 - acc: 1.0000 - val_loss: 0.0483 - val_acc: 0.9762\n",
      "Epoch 98/100\n",
      "1005/1005 [==============================] - 0s 53us/sample - loss: 0.0024 - acc: 1.0000 - val_loss: 0.0482 - val_acc: 0.9762\n",
      "Epoch 99/100\n",
      "1005/1005 [==============================] - 0s 62us/sample - loss: 0.0024 - acc: 1.0000 - val_loss: 0.0480 - val_acc: 0.9762\n",
      "Epoch 100/100\n",
      "1005/1005 [==============================] - 0s 62us/sample - loss: 0.0023 - acc: 1.0000 - val_loss: 0.0482 - val_acc: 0.9762\n",
      "------------------------------------------------------------------------\n",
      "Train on 1005 samples, validate on 252 samples\n",
      "Epoch 1/100\n",
      "1005/1005 [==============================] - 0s 326us/sample - loss: 3.0699 - acc: 0.3353 - val_loss: 1.4180 - val_acc: 0.5635\n",
      "Epoch 2/100\n",
      "1005/1005 [==============================] - 0s 100us/sample - loss: 0.9373 - acc: 0.7343 - val_loss: 0.4762 - val_acc: 0.8532\n",
      "Epoch 3/100\n",
      "1005/1005 [==============================] - 0s 209us/sample - loss: 0.4043 - acc: 0.8816 - val_loss: 0.2533 - val_acc: 0.9206\n",
      "Epoch 4/100\n",
      "1005/1005 [==============================] - 0s 124us/sample - loss: 0.2338 - acc: 0.9383 - val_loss: 0.1761 - val_acc: 0.9405\n",
      "Epoch 5/100\n",
      "1005/1005 [==============================] - 0s 71us/sample - loss: 0.1526 - acc: 0.9592 - val_loss: 0.1535 - val_acc: 0.9484\n",
      "Epoch 6/100\n",
      "1005/1005 [==============================] - 0s 246us/sample - loss: 0.1100 - acc: 0.9721 - val_loss: 0.1340 - val_acc: 0.9524\n",
      "Epoch 7/100\n",
      "1005/1005 [==============================] - 0s 73us/sample - loss: 0.0887 - acc: 0.9791 - val_loss: 0.1167 - val_acc: 0.9603\n",
      "Epoch 8/100\n",
      "1005/1005 [==============================] - 0s 55us/sample - loss: 0.0707 - acc: 0.9861 - val_loss: 0.1136 - val_acc: 0.9563\n",
      "Epoch 9/100\n",
      "1005/1005 [==============================] - 0s 71us/sample - loss: 0.0564 - acc: 0.9910 - val_loss: 0.1172 - val_acc: 0.9563\n",
      "Epoch 10/100\n",
      "1005/1005 [==============================] - 0s 134us/sample - loss: 0.0485 - acc: 0.9930 - val_loss: 0.1216 - val_acc: 0.9524\n",
      "Epoch 11/100\n",
      "1005/1005 [==============================] - 0s 194us/sample - loss: 0.0430 - acc: 0.9930 - val_loss: 0.1258 - val_acc: 0.9524\n",
      "Epoch 12/100\n",
      "1005/1005 [==============================] - 0s 76us/sample - loss: 0.0387 - acc: 0.9950 - val_loss: 0.1285 - val_acc: 0.9524\n",
      "Epoch 13/100\n",
      "1005/1005 [==============================] - 0s 65us/sample - loss: 0.0354 - acc: 0.9950 - val_loss: 0.1292 - val_acc: 0.9524\n",
      "Epoch 14/100\n",
      "1005/1005 [==============================] - 0s 71us/sample - loss: 0.0322 - acc: 0.9970 - val_loss: 0.1231 - val_acc: 0.9524\n",
      "Epoch 15/100\n",
      "1005/1005 [==============================] - 0s 90us/sample - loss: 0.0287 - acc: 0.9980 - val_loss: 0.1109 - val_acc: 0.9563\n",
      "Epoch 16/100\n",
      "1005/1005 [==============================] - 0s 253us/sample - loss: 0.0250 - acc: 0.9980 - val_loss: 0.0986 - val_acc: 0.9563\n",
      "Epoch 17/100\n",
      "1005/1005 [==============================] - 0s 95us/sample - loss: 0.0213 - acc: 0.9990 - val_loss: 0.0908 - val_acc: 0.9563\n",
      "Epoch 18/100\n",
      "1005/1005 [==============================] - 0s 202us/sample - loss: 0.0180 - acc: 1.0000 - val_loss: 0.0882 - val_acc: 0.9563\n",
      "Epoch 19/100\n",
      "1005/1005 [==============================] - 0s 136us/sample - loss: 0.0159 - acc: 1.0000 - val_loss: 0.0871 - val_acc: 0.9563\n",
      "Epoch 20/100\n",
      "1005/1005 [==============================] - 0s 58us/sample - loss: 0.0145 - acc: 1.0000 - val_loss: 0.0866 - val_acc: 0.9563\n",
      "Epoch 21/100\n",
      "1005/1005 [==============================] - 0s 58us/sample - loss: 0.0134 - acc: 1.0000 - val_loss: 0.0867 - val_acc: 0.9563\n",
      "Epoch 22/100\n",
      "1005/1005 [==============================] - 0s 65us/sample - loss: 0.0125 - acc: 1.0000 - val_loss: 0.0849 - val_acc: 0.9603\n",
      "Epoch 23/100\n",
      "1005/1005 [==============================] - 0s 163us/sample - loss: 0.0117 - acc: 1.0000 - val_loss: 0.0853 - val_acc: 0.9603\n",
      "Epoch 24/100\n",
      "1005/1005 [==============================] - 0s 163us/sample - loss: 0.0109 - acc: 1.0000 - val_loss: 0.0839 - val_acc: 0.9603\n",
      "Epoch 25/100\n",
      "1005/1005 [==============================] - 0s 67us/sample - loss: 0.0102 - acc: 1.0000 - val_loss: 0.0845 - val_acc: 0.9603\n",
      "Epoch 26/100\n",
      "1005/1005 [==============================] - 0s 69us/sample - loss: 0.0096 - acc: 1.0000 - val_loss: 0.0832 - val_acc: 0.9603\n",
      "Epoch 27/100\n",
      "1005/1005 [==============================] - 0s 68us/sample - loss: 0.0091 - acc: 1.0000 - val_loss: 0.0837 - val_acc: 0.9603\n",
      "Epoch 28/100\n",
      "1005/1005 [==============================] - 0s 252us/sample - loss: 0.0086 - acc: 1.0000 - val_loss: 0.0825 - val_acc: 0.9603\n",
      "Epoch 29/100\n",
      "1005/1005 [==============================] - 0s 92us/sample - loss: 0.0081 - acc: 1.0000 - val_loss: 0.0831 - val_acc: 0.9603\n",
      "Epoch 30/100\n",
      "1005/1005 [==============================] - 0s 81us/sample - loss: 0.0077 - acc: 1.0000 - val_loss: 0.0820 - val_acc: 0.9603\n",
      "Epoch 31/100\n",
      "1005/1005 [==============================] - 0s 246us/sample - loss: 0.0073 - acc: 1.0000 - val_loss: 0.0827 - val_acc: 0.9603\n",
      "Epoch 32/100\n",
      "1005/1005 [==============================] - 0s 81us/sample - loss: 0.0070 - acc: 1.0000 - val_loss: 0.0817 - val_acc: 0.9643\n",
      "Epoch 33/100\n",
      "1005/1005 [==============================] - 0s 75us/sample - loss: 0.0066 - acc: 1.0000 - val_loss: 0.0822 - val_acc: 0.9643\n",
      "Epoch 34/100\n",
      "1005/1005 [==============================] - 0s 169us/sample - loss: 0.0063 - acc: 1.0000 - val_loss: 0.0816 - val_acc: 0.9643\n",
      "Epoch 35/100\n",
      "1005/1005 [==============================] - 0s 157us/sample - loss: 0.0061 - acc: 1.0000 - val_loss: 0.0812 - val_acc: 0.9643\n",
      "Epoch 36/100\n",
      "1005/1005 [==============================] - 0s 67us/sample - loss: 0.0058 - acc: 1.0000 - val_loss: 0.0814 - val_acc: 0.9643\n",
      "Epoch 37/100\n",
      "1005/1005 [==============================] - 0s 58us/sample - loss: 0.0056 - acc: 1.0000 - val_loss: 0.0810 - val_acc: 0.9643\n",
      "Epoch 38/100\n",
      "1005/1005 [==============================] - 0s 65us/sample - loss: 0.0053 - acc: 1.0000 - val_loss: 0.0812 - val_acc: 0.9643\n",
      "Epoch 39/100\n",
      "1005/1005 [==============================] - 0s 103us/sample - loss: 0.0051 - acc: 1.0000 - val_loss: 0.0807 - val_acc: 0.9643\n",
      "Epoch 40/100\n",
      "1005/1005 [==============================] - 0s 215us/sample - loss: 0.0049 - acc: 1.0000 - val_loss: 0.0804 - val_acc: 0.9643\n",
      "Epoch 41/100\n",
      "1005/1005 [==============================] - 0s 61us/sample - loss: 0.0047 - acc: 1.0000 - val_loss: 0.0808 - val_acc: 0.9643\n",
      "Epoch 42/100\n",
      "1005/1005 [==============================] - 0s 68us/sample - loss: 0.0045 - acc: 1.0000 - val_loss: 0.0806 - val_acc: 0.9643\n",
      "Epoch 43/100\n",
      "1005/1005 [==============================] - 0s 63us/sample - loss: 0.0044 - acc: 1.0000 - val_loss: 0.0803 - val_acc: 0.9643\n",
      "Epoch 44/100\n",
      "1005/1005 [==============================] - 0s 257us/sample - loss: 0.0042 - acc: 1.0000 - val_loss: 0.0809 - val_acc: 0.9643\n",
      "Epoch 45/100\n",
      "1005/1005 [==============================] - 0s 63us/sample - loss: 0.0040 - acc: 1.0000 - val_loss: 0.0804 - val_acc: 0.9643\n",
      "Epoch 46/100\n",
      "1005/1005 [==============================] - 0s 66us/sample - loss: 0.0039 - acc: 1.0000 - val_loss: 0.0809 - val_acc: 0.9643\n",
      "Epoch 47/100\n",
      "1005/1005 [==============================] - 0s 235us/sample - loss: 0.0038 - acc: 1.0000 - val_loss: 0.0805 - val_acc: 0.9643\n",
      "Epoch 48/100\n",
      "1005/1005 [==============================] - 0s 74us/sample - loss: 0.0036 - acc: 1.0000 - val_loss: 0.0808 - val_acc: 0.9643\n",
      "Epoch 49/100\n",
      "1005/1005 [==============================] - 0s 67us/sample - loss: 0.0035 - acc: 1.0000 - val_loss: 0.0809 - val_acc: 0.9643\n",
      "Epoch 50/100\n",
      "1005/1005 [==============================] - 0s 64us/sample - loss: 0.0034 - acc: 1.0000 - val_loss: 0.0806 - val_acc: 0.9683\n",
      "Epoch 51/100\n",
      "1005/1005 [==============================] - 0s 172us/sample - loss: 0.0033 - acc: 1.0000 - val_loss: 0.0813 - val_acc: 0.9643\n",
      "Epoch 52/100\n",
      "1005/1005 [==============================] - 0s 153us/sample - loss: 0.0032 - acc: 1.0000 - val_loss: 0.0809 - val_acc: 0.9683\n",
      "Epoch 53/100\n",
      "1005/1005 [==============================] - 0s 66us/sample - loss: 0.0031 - acc: 1.0000 - val_loss: 0.0811 - val_acc: 0.9683\n",
      "Epoch 54/100\n",
      "1005/1005 [==============================] - 0s 55us/sample - loss: 0.0030 - acc: 1.0000 - val_loss: 0.0816 - val_acc: 0.9683\n",
      "Epoch 55/100\n",
      "1005/1005 [==============================] - 0s 51us/sample - loss: 0.0029 - acc: 1.0000 - val_loss: 0.0814 - val_acc: 0.9683\n",
      "Epoch 56/100\n",
      "1005/1005 [==============================] - 0s 62us/sample - loss: 0.0028 - acc: 1.0000 - val_loss: 0.0815 - val_acc: 0.9683\n",
      "Epoch 57/100\n",
      "1005/1005 [==============================] - 0s 138us/sample - loss: 0.0027 - acc: 1.0000 - val_loss: 0.0819 - val_acc: 0.9683\n",
      "Epoch 58/100\n",
      "1005/1005 [==============================] - 0s 193us/sample - loss: 0.0026 - acc: 1.0000 - val_loss: 0.0818 - val_acc: 0.9683\n",
      "Epoch 59/100\n",
      "1005/1005 [==============================] - 0s 76us/sample - loss: 0.0026 - acc: 1.0000 - val_loss: 0.0823 - val_acc: 0.9683\n",
      "Epoch 60/100\n",
      "1005/1005 [==============================] - 0s 112us/sample - loss: 0.0025 - acc: 1.0000 - val_loss: 0.0822 - val_acc: 0.9683\n",
      "Epoch 61/100\n",
      "1005/1005 [==============================] - 0s 222us/sample - loss: 0.0024 - acc: 1.0000 - val_loss: 0.0823 - val_acc: 0.9683\n",
      "Epoch 62/100\n",
      "1005/1005 [==============================] - 0s 83us/sample - loss: 0.0023 - acc: 1.0000 - val_loss: 0.0826 - val_acc: 0.9683\n",
      "Epoch 63/100\n",
      "1005/1005 [==============================] - 0s 108us/sample - loss: 0.0023 - acc: 1.0000 - val_loss: 0.0826 - val_acc: 0.9683\n",
      "Epoch 64/100\n",
      "1005/1005 [==============================] - 0s 234us/sample - loss: 0.0022 - acc: 1.0000 - val_loss: 0.0828 - val_acc: 0.9683\n",
      "Epoch 65/100\n",
      "1005/1005 [==============================] - 0s 78us/sample - loss: 0.0022 - acc: 1.0000 - val_loss: 0.0832 - val_acc: 0.9683\n",
      "Epoch 66/100\n",
      "1005/1005 [==============================] - 0s 78us/sample - loss: 0.0021 - acc: 1.0000 - val_loss: 0.0831 - val_acc: 0.9683\n",
      "Epoch 67/100\n",
      "1005/1005 [==============================] - 0s 215us/sample - loss: 0.0020 - acc: 1.0000 - val_loss: 0.0832 - val_acc: 0.9683\n",
      "Epoch 68/100\n",
      "1005/1005 [==============================] - 0s 132us/sample - loss: 0.0020 - acc: 1.0000 - val_loss: 0.0836 - val_acc: 0.9683\n",
      "Epoch 69/100\n",
      "1005/1005 [==============================] - 0s 77us/sample - loss: 0.0019 - acc: 1.0000 - val_loss: 0.0836 - val_acc: 0.9683\n",
      "Epoch 70/100\n",
      "1005/1005 [==============================] - 0s 199us/sample - loss: 0.0019 - acc: 1.0000 - val_loss: 0.0839 - val_acc: 0.9683\n",
      "Epoch 71/100\n",
      "1005/1005 [==============================] - 0s 138us/sample - loss: 0.0018 - acc: 1.0000 - val_loss: 0.0841 - val_acc: 0.9683\n",
      "Epoch 72/100\n",
      "1005/1005 [==============================] - 0s 60us/sample - loss: 0.0018 - acc: 1.0000 - val_loss: 0.0840 - val_acc: 0.9683\n",
      "Epoch 73/100\n",
      "1005/1005 [==============================] - 0s 59us/sample - loss: 0.0017 - acc: 1.0000 - val_loss: 0.0843 - val_acc: 0.9683\n",
      "Epoch 74/100\n",
      "1005/1005 [==============================] - 0s 69us/sample - loss: 0.0017 - acc: 1.0000 - val_loss: 0.0843 - val_acc: 0.9683\n",
      "Epoch 75/100\n",
      "1005/1005 [==============================] - 0s 154us/sample - loss: 0.0017 - acc: 1.0000 - val_loss: 0.0846 - val_acc: 0.9683\n",
      "Epoch 76/100\n",
      "1005/1005 [==============================] - 0s 179us/sample - loss: 0.0016 - acc: 1.0000 - val_loss: 0.0849 - val_acc: 0.9683\n",
      "Epoch 77/100\n",
      "1005/1005 [==============================] - 0s 128us/sample - loss: 0.0016 - acc: 1.0000 - val_loss: 0.0847 - val_acc: 0.9683\n",
      "Epoch 78/100\n",
      "1005/1005 [==============================] - 0s 222us/sample - loss: 0.0015 - acc: 1.0000 - val_loss: 0.0852 - val_acc: 0.9683\n",
      "Epoch 79/100\n",
      "1005/1005 [==============================] - 0s 78us/sample - loss: 0.0015 - acc: 1.0000 - val_loss: 0.0850 - val_acc: 0.9683\n",
      "Epoch 80/100\n",
      "1005/1005 [==============================] - 0s 72us/sample - loss: 0.0015 - acc: 1.0000 - val_loss: 0.0856 - val_acc: 0.9683\n",
      "Epoch 81/100\n",
      "1005/1005 [==============================] - 0s 142us/sample - loss: 0.0014 - acc: 1.0000 - val_loss: 0.0854 - val_acc: 0.9683\n",
      "Epoch 82/100\n",
      "1005/1005 [==============================] - 0s 176us/sample - loss: 0.0014 - acc: 1.0000 - val_loss: 0.0858 - val_acc: 0.9683\n",
      "Epoch 83/100\n",
      "1005/1005 [==============================] - 0s 69us/sample - loss: 0.0014 - acc: 1.0000 - val_loss: 0.0859 - val_acc: 0.9683\n",
      "Epoch 84/100\n",
      "1005/1005 [==============================] - 0s 71us/sample - loss: 0.0013 - acc: 1.0000 - val_loss: 0.0861 - val_acc: 0.9683\n",
      "Epoch 85/100\n",
      "1005/1005 [==============================] - 0s 106us/sample - loss: 0.0013 - acc: 1.0000 - val_loss: 0.0862 - val_acc: 0.9683\n",
      "Epoch 86/100\n",
      "1005/1005 [==============================] - 0s 246us/sample - loss: 0.0013 - acc: 1.0000 - val_loss: 0.0863 - val_acc: 0.9683\n",
      "Epoch 87/100\n",
      "1005/1005 [==============================] - 0s 65us/sample - loss: 0.0013 - acc: 1.0000 - val_loss: 0.0865 - val_acc: 0.9683\n",
      "Epoch 88/100\n",
      "1005/1005 [==============================] - 0s 62us/sample - loss: 0.0012 - acc: 1.0000 - val_loss: 0.0867 - val_acc: 0.9683\n",
      "Epoch 89/100\n",
      "1005/1005 [==============================] - 0s 67us/sample - loss: 0.0012 - acc: 1.0000 - val_loss: 0.0868 - val_acc: 0.9683\n",
      "Epoch 90/100\n",
      "1005/1005 [==============================] - 0s 192us/sample - loss: 0.0012 - acc: 1.0000 - val_loss: 0.0870 - val_acc: 0.9683\n",
      "Epoch 91/100\n",
      "1005/1005 [==============================] - 0s 138us/sample - loss: 0.0011 - acc: 1.0000 - val_loss: 0.0871 - val_acc: 0.9683\n",
      "Epoch 92/100\n",
      "1005/1005 [==============================] - 0s 61us/sample - loss: 0.0011 - acc: 1.0000 - val_loss: 0.0872 - val_acc: 0.9683\n",
      "Epoch 93/100\n",
      "1005/1005 [==============================] - 0s 240us/sample - loss: 0.0011 - acc: 1.0000 - val_loss: 0.0874 - val_acc: 0.9683\n",
      "Epoch 94/100\n",
      "1005/1005 [==============================] - 0s 94us/sample - loss: 0.0011 - acc: 1.0000 - val_loss: 0.0874 - val_acc: 0.9683\n",
      "Epoch 95/100\n",
      "1005/1005 [==============================] - 0s 61us/sample - loss: 0.0011 - acc: 1.0000 - val_loss: 0.0877 - val_acc: 0.9683\n",
      "Epoch 96/100\n",
      "1005/1005 [==============================] - 0s 53us/sample - loss: 0.0010 - acc: 1.0000 - val_loss: 0.0878 - val_acc: 0.9683\n",
      "Epoch 97/100\n",
      "1005/1005 [==============================] - 0s 74us/sample - loss: 0.0010 - acc: 1.0000 - val_loss: 0.0879 - val_acc: 0.9683\n",
      "Epoch 98/100\n",
      "1005/1005 [==============================] - 0s 162us/sample - loss: 9.8921e-04 - acc: 1.0000 - val_loss: 0.0882 - val_acc: 0.9683\n",
      "Epoch 99/100\n",
      "1005/1005 [==============================] - 0s 179us/sample - loss: 9.6901e-04 - acc: 1.0000 - val_loss: 0.0881 - val_acc: 0.9683\n",
      "Epoch 100/100\n",
      "1005/1005 [==============================] - 0s 68us/sample - loss: 9.4913e-04 - acc: 1.0000 - val_loss: 0.0883 - val_acc: 0.9683\n"
     ]
    }
   ],
   "source": [
    "orig_history0 = orig_model0.fit(X_train, y_train, batch_size = 50, validation_split = 0.2, epochs = 100, verbose = 1, shuffle=False)\n",
    "print(72*'-')\n",
    "orig_history1 = orig_model1.fit(X_train, y_train, batch_size = 50, validation_split = 0.2, epochs = 100, verbose = 1, shuffle=False)"
   ]
  },
  {
   "cell_type": "code",
   "execution_count": 44,
   "metadata": {},
   "outputs": [
    {
     "data": {
      "text/plain": [
       "dict_keys(['loss', 'acc', 'val_loss', 'val_acc'])"
      ]
     },
     "execution_count": 44,
     "metadata": {},
     "output_type": "execute_result"
    }
   ],
   "source": [
    "orig_history0.history.keys()"
   ]
  },
  {
   "cell_type": "code",
   "execution_count": 45,
   "metadata": {},
   "outputs": [
    {
     "data": {
      "image/png": "[encoded data removed]",
      "text/plain": [
       "<Figure size 432x288 with 1 Axes>"
      ]
     },
     "metadata": {},
     "output_type": "display_data"
    }
   ],
   "source": [
    "plt.clf()\n",
    "plt.plot(orig_history0.history['val_acc'])\n",
    "plt.plot(orig_history1.history['val_acc'])\n",
    "plt.xticks(color='w',fontsize=18)\n",
    "plt.yticks(color='w',fontsize=18)\n",
    "plt.show()"
   ]
  },
  {
   "cell_type": "code",
   "execution_count": 46,
   "metadata": {},
   "outputs": [
    {
     "data": {
      "image/png": "[encoded data removed]",
      "text/plain": [
       "<Figure size 432x288 with 1 Axes>"
      ]
     },
     "metadata": {},
     "output_type": "display_data"
    }
   ],
   "source": [
    "plt.clf()\n",
    "plt.semilogy(orig_history0.history['loss'])\n",
    "plt.semilogy(orig_history1.history['loss'])\n",
    "plt.xticks(color='w',fontsize=18)\n",
    "plt.yticks([1e-2,1e-3,1e-4],color='w',fontsize=18)\n",
    "plt.show()"
   ]
  },
  {
   "cell_type": "code",
   "execution_count": 47,
   "metadata": {},
   "outputs": [],
   "source": [
    "orig_results0 = orig_model0.evaluate(X_test, y_test,verbose=0)\n",
    "orig_results1 = orig_model1.evaluate(X_test, y_test,verbose=0)"
   ]
  },
  {
   "cell_type": "code",
   "execution_count": 48,
   "metadata": {},
   "outputs": [
    {
     "name": "stdout",
     "output_type": "stream",
     "text": [
      "   0-Original Test accuracy:  0.9777778\n",
      "   1-Original Test accuracy:  0.9722222\n",
      "MUST PERFORM STATISTICS EVEN ON SIMPLE DATASETS\n",
      " AND THINK CAREFULLY ABOUT THE LAYERS WE THINK WE ARE ADDING\n"
     ]
    }
   ],
   "source": [
    "print('   0-Original Test accuracy: ', orig_results0[1])\n",
    "print('   1-Original Test accuracy: ', orig_results1[1])\n",
    "print('MUST PERFORM STATISTICS EVEN ON SIMPLE DATASETS')\n",
    "print(' AND THINK CAREFULLY ABOUT THE LAYERS WE THINK WE ARE ADDING')"
   ]
  },
  {
   "cell_type": "markdown",
   "metadata": {},
   "source": [
    "Summary\n",
    "---\n",
    "\n",
    "* Even simple CNN model shows fine performance of **97%** test accuracy\n",
    "* Difficult to perform small change and measure outcomes deterministically, must use statistics\n",
    "* Helps to functionally define model and evalute results to improve statistical appreciation of layer construction\n",
    "* Relatively straightforward to program CNN on ASU HPC systems with Python."
   ]
  },
  {
   "cell_type": "code",
   "execution_count": 49,
   "metadata": {},
   "outputs": [
    {
     "name": "stdout",
     "output_type": "stream",
     "text": [
      "cg26-2.agave.rc.asu.edu\n"
     ]
    }
   ],
   "source": [
    "!hostname"
   ]
  },
  {
   "cell_type": "code",
   "execution_count": 50,
   "metadata": {},
   "outputs": [
    {
     "name": "stdout",
     "output_type": "stream",
     "text": [
      "Thu May 21 11:44:55 2020       \n",
      "+-----------------------------------------------------------------------------+\n",
      "| NVIDIA-SMI 440.33.01    Driver Version: 440.33.01    CUDA Version: 10.2     |\n",
      "|-------------------------------+----------------------+----------------------+\n",
      "| GPU  Name        Persistence-M| Bus-Id        Disp.A | Volatile Uncorr. ECC |\n",
      "| Fan  Temp  Perf  Pwr:Usage/Cap|         Memory-Usage | GPU-Util  Compute M. |\n",
      "|===============================+======================+======================|\n",
      "|   0  Tesla V100-SXM2...  Off  | 00000000:1A:00.0 Off |                    0 |\n",
      "| N/A   51C    P0   152W / 300W |  32012MiB / 32510MiB |     71%      Default |\n",
      "+-------------------------------+----------------------+----------------------+\n",
      "|   1  Tesla V100-SXM2...  Off  | 00000000:1C:00.0 Off |                    0 |\n",
      "| N/A   48C    P0   132W / 300W |  12311MiB / 32510MiB |      0%      Default |\n",
      "+-------------------------------+----------------------+----------------------+\n",
      "|   2  Tesla V100-SXM2...  Off  | 00000000:1D:00.0 Off |                    0 |\n",
      "| N/A   55C    P0   110W / 300W |  12311MiB / 32510MiB |     30%      Default |\n",
      "+-------------------------------+----------------------+----------------------+\n",
      "|   3  Tesla V100-SXM2...  Off  | 00000000:1E:00.0 Off |                    0 |\n",
      "| N/A   57C    P0    73W / 300W |  12311MiB / 32510MiB |     34%      Default |\n",
      "+-------------------------------+----------------------+----------------------+\n",
      "                                                                               \n",
      "+-----------------------------------------------------------------------------+\n",
      "| Processes:                                                       GPU Memory |\n",
      "|  GPU       PID   Type   Process name                             Usage      |\n",
      "|=============================================================================|\n",
      "|    0    105827      C   PARABRICKS                                 11961MiB |\n",
      "|    0    130675      C   ...conda3/5.3.0/envs/tf1.13-gpu/bin/python 19293MiB |\n",
      "|    0    132737      C   .../anaconda3/5.3.0/envs/rapids/bin/python   713MiB |\n",
      "|    1    105827      C   PARABRICKS                                 11961MiB |\n",
      "|    1    130675      C   ...conda3/5.3.0/envs/tf1.13-gpu/bin/python   307MiB |\n",
      "|    2    105827      C   PARABRICKS                                 11961MiB |\n",
      "|    2    130675      C   ...conda3/5.3.0/envs/tf1.13-gpu/bin/python   307MiB |\n",
      "|    3    105827      C   PARABRICKS                                 11961MiB |\n",
      "|    3    130675      C   ...conda3/5.3.0/envs/tf1.13-gpu/bin/python   307MiB |\n",
      "+-----------------------------------------------------------------------------+\n"
     ]
    }
   ],
   "source": [
    "!nvidia-smi"
   ]
  },
  {
   "cell_type": "code",
   "execution_count": null,
   "metadata": {},
   "outputs": [],
   "source": []
  }
 ],
 "metadata": {
  "kernelspec": {
   "display_name": "tf1.13-gpu (Tensorflow)",
   "language": "python",
   "name": "tf1.13-gpu"
  },
  "language_info": {
   "codemirror_mode": {
    "name": "ipython",
    "version": 3
   },
   "file_extension": ".py",
   "mimetype": "text/x-python",
   "name": "python",
   "nbconvert_exporter": "python",
   "pygments_lexer": "ipython3",
   "version": "3.7.3"
  }
 },
 "nbformat": 4,
 "nbformat_minor": 4
}
