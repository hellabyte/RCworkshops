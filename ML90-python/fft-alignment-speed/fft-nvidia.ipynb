{
 "cells": [
  {
   "cell_type": "markdown",
   "metadata": {},
   "source": [
    "# Parallelism Demo\n",
    "\n",
    "Consider $f$ where\n",
    "\n",
    "$$f(t) = \\sum_{k\\in\\mathbb{N}}^{\\infty}(-1)^k\\dfrac{\\sin[(2k+1) x]}{(2k+1)^2}$$\n"
   ]
  },
  {
   "cell_type": "code",
   "execution_count": 17,
   "metadata": {},
   "outputs": [],
   "source": [
    "from plt_style import *\n",
    "#import numpy as np\n",
    "import cupy  as np\n",
    "import pylab as plt\n",
    "import scipy as sp\n",
    "%matplotlib inline"
   ]
  },
  {
   "cell_type": "code",
   "execution_count": 18,
   "metadata": {},
   "outputs": [
    {
     "name": "stdout",
     "output_type": "stream",
     "text": [
      "Mon Oct  5 13:56:12 2020       \n",
      "+-----------------------------------------------------------------------------+\n",
      "| NVIDIA-SMI 418.152.00   Driver Version: 418.152.00   CUDA Version: 10.1     |\n",
      "|-------------------------------+----------------------+----------------------+\n",
      "| GPU  Name        Persistence-M| Bus-Id        Disp.A | Volatile Uncorr. ECC |\n",
      "| Fan  Temp  Perf  Pwr:Usage/Cap|         Memory-Usage | GPU-Util  Compute M. |\n",
      "|===============================+======================+======================|\n",
      "|   0  Tesla V100-SXM2...  On   | 00000000:0A:00.0 Off |                    0 |\n",
      "| N/A   33C    P0    54W / 300W |  13218MiB / 32480MiB |      0%      Default |\n",
      "+-------------------------------+----------------------+----------------------+\n",
      "                                                                               \n",
      "+-----------------------------------------------------------------------------+\n",
      "| Processes:                                                       GPU Memory |\n",
      "|  GPU       PID   Type   Process name                             Usage      |\n",
      "|=============================================================================|\n",
      "|    0     30719      C   .../envs/rapids-0.15.0-cuda10.1/bin/python 13207MiB |\n",
      "+-----------------------------------------------------------------------------+\n"
     ]
    }
   ],
   "source": [
    "!nvidia-smi"
   ]
  },
  {
   "cell_type": "code",
   "execution_count": 19,
   "metadata": {},
   "outputs": [],
   "source": [
    "N = 2**27+1 # 2**27 * 8 bytes -> 2**30/2**30 = 1 GiB of data\n",
    "M = N-1\n",
    "t = np.linspace(0,10*np.pi,N)[:-1]\n",
    "#f = np.array([ (-1)**k*np.sin((2*k+1)*t)/(2*k+1)**2 for k in range(31) ]).sum(axis=0)\n",
    "#f = np.sin(t) + np.sin(3*t)/9 + np.sin(5*t)/25\n"
   ]
  },
  {
   "cell_type": "code",
   "execution_count": 20,
   "metadata": {},
   "outputs": [
    {
     "name": "stdout",
     "output_type": "stream",
     "text": [
      "CPU times: user 7.1 ms, sys: 1.05 ms, total: 8.15 ms\n",
      "Wall time: 7.05 ms\n"
     ]
    }
   ],
   "source": [
    "%%time\n",
    "f = 0*t\n",
    "for k in range(31):\n",
    "    ell = 2*k+1\n",
    "    f += (-1)**k*np.sin(ell*t)/ell**2"
   ]
  },
  {
   "cell_type": "code",
   "execution_count": 21,
   "metadata": {},
   "outputs": [
    {
     "name": "stdout",
     "output_type": "stream",
     "text": [
      "domain (t) data are on: <CUDA Device 0> with size: 1.0 GiB\n",
      " range (f) data are on: <CUDA Device 0> with size: 1.0 GiB\n"
     ]
    }
   ],
   "source": [
    "print(f'domain (t) data are on: {t.device} with size: {t.size*8/2**30} GiB')\n",
    "print(f' range (f) data are on: {f.device} with size: {f.size*8/2**30} GiB')"
   ]
  },
  {
   "cell_type": "code",
   "execution_count": 22,
   "metadata": {},
   "outputs": [
    {
     "data": {
      "image/png": "[encoded data removed]",
      "text/plain": [
       "<Figure size 432x288 with 1 Axes>"
      ]
     },
     "metadata": {
      "needs_background": "dark"
     },
     "output_type": "display_data"
    }
   ],
   "source": [
    "skip = 1000\n",
    "ts,fs= [ np.asnumpy(u)[::skip] for u in [t,f] ]\n",
    "plt.plot(ts,fs,'w-',lw=3)\n",
    "_=plt.xticks(fontsize=20)\n",
    "_=plt.yticks(fontsize=20)\n",
    "_=plt.xlabel(r'$t$',fontsize=20,color='w')\n",
    "_=plt.ylabel(r'$f(t)$',fontsize=20,color='w')"
   ]
  },
  {
   "cell_type": "code",
   "execution_count": 23,
   "metadata": {},
   "outputs": [
    {
     "name": "stdout",
     "output_type": "stream",
     "text": [
      "CPU times: user 1.85 ms, sys: 3.94 ms, total: 5.79 ms\n",
      "Wall time: 4.49 ms\n"
     ]
    }
   ],
   "source": [
    "%%time\n",
    "q = np.abs(np.fft.fft(f)[:M//2])"
   ]
  },
  {
   "cell_type": "code",
   "execution_count": 24,
   "metadata": {},
   "outputs": [
    {
     "name": "stdout",
     "output_type": "stream",
     "text": [
      "Mon Oct  5 13:56:22 2020       \n",
      "+-----------------------------------------------------------------------------+\n",
      "| NVIDIA-SMI 418.152.00   Driver Version: 418.152.00   CUDA Version: 10.1     |\n",
      "|-------------------------------+----------------------+----------------------+\n",
      "| GPU  Name        Persistence-M| Bus-Id        Disp.A | Volatile Uncorr. ECC |\n",
      "| Fan  Temp  Perf  Pwr:Usage/Cap|         Memory-Usage | GPU-Util  Compute M. |\n",
      "|===============================+======================+======================|\n",
      "|   0  Tesla V100-SXM2...  On   | 00000000:0A:00.0 Off |                    0 |\n",
      "| N/A   33C    P0    54W / 300W |  15266MiB / 32480MiB |      0%      Default |\n",
      "+-------------------------------+----------------------+----------------------+\n",
      "                                                                               \n",
      "+-----------------------------------------------------------------------------+\n",
      "| Processes:                                                       GPU Memory |\n",
      "|  GPU       PID   Type   Process name                             Usage      |\n",
      "|=============================================================================|\n",
      "|    0     30719      C   .../envs/rapids-0.15.0-cuda10.1/bin/python 15255MiB |\n",
      "+-----------------------------------------------------------------------------+\n"
     ]
    }
   ],
   "source": [
    "!nvidia-smi"
   ]
  },
  {
   "cell_type": "code",
   "execution_count": 25,
   "metadata": {},
   "outputs": [],
   "source": [
    "tau = 10*np.pi\n",
    "om0 = 2*np.pi/tau\n",
    "om  = om0*np.asnumpy(np.arange(len(q)))\n",
    "p   = np.asnumpy(q)\n",
    "p  /= p.max()\n",
    "k   = np.asnumpy(np.linspace(1,11,1001))"
   ]
  },
  {
   "cell_type": "code",
   "execution_count": 26,
   "metadata": {},
   "outputs": [
    {
     "data": {
      "image/png": "[encoded data removed]",
      "text/plain": [
       "<Figure size 432x288 with 1 Axes>"
      ]
     },
     "metadata": {
      "needs_background": "dark"
     },
     "output_type": "display_data"
    }
   ],
   "source": [
    "plt.semilogy(om,p,'w-',lw=3)\n",
    "plt.semilogy(k,1/k**2,'--',c=gld,lw=2)\n",
    "plt.annotate(r'$k^{-2}$',(8,5e-2),fontsize=20,color=gld,ha='center')\n",
    "_=plt.xlim(0,10)\n",
    "_=plt.ylim(1e-7,1)\n",
    "_=plt.xticks(np.asnumpy(np.arange(10)),fontsize=20)\n",
    "_=plt.yticks(fontsize=20)\n",
    "_=plt.xlabel(r'$\\omega$',fontsize=20,color='w')\n",
    "_=plt.ylabel(r'$PSD$',fontsize=20,color='w')"
   ]
  },
  {
   "cell_type": "markdown",
   "metadata": {},
   "source": [
    "## Einsum on the GPU\n",
    "\n",
    "Consider \n",
    "\n",
    "$$U(x,y,z) = \\sum_{\\ell\\in\\mathbb{N}\\,odd}^{\\infty}\\dfrac{\\cos(\\ell x)\\sin(\\ell z)}{\\ell^3}$$\n",
    "\n",
    "for $(x,y,z)\\in[0,\\pi]^3$. Then, in the $xz$-plane, $\\partial U/\\partial x$ is the convolution of two orthogonal triangle waves."
   ]
  },
  {
   "cell_type": "code",
   "execution_count": 10,
   "metadata": {},
   "outputs": [
    {
     "ename": "ModuleNotFoundError",
     "evalue": "No module named 'cheb'",
     "output_type": "error",
     "traceback": [
      "\u001b[0;31m---------------------------------------------------------------------------\u001b[0m",
      "\u001b[0;31mModuleNotFoundError\u001b[0m                       Traceback (most recent call last)",
      "\u001b[0;32m<ipython-input-10-08ac75b45948>\u001b[0m in \u001b[0;36m<module>\u001b[0;34m\u001b[0m\n\u001b[0;32m----> 1\u001b[0;31m \u001b[0;32mimport\u001b[0m \u001b[0mcheb\u001b[0m\u001b[0;34m\u001b[0m\u001b[0;34m\u001b[0m\u001b[0m\n\u001b[0m\u001b[1;32m      2\u001b[0m \u001b[0;32mimport\u001b[0m \u001b[0mnumpy\u001b[0m \u001b[0;32mas\u001b[0m \u001b[0monp\u001b[0m\u001b[0;34m\u001b[0m\u001b[0;34m\u001b[0m\u001b[0m\n",
      "\u001b[0;31mModuleNotFoundError\u001b[0m: No module named 'cheb'"
     ]
    }
   ],
   "source": [
    "import cheb\n",
    "import numpy as onp"
   ]
  },
  {
   "cell_type": "code",
   "execution_count": null,
   "metadata": {},
   "outputs": [],
   "source": [
    "N = 256\n",
    "Do,xo = cheb.cheb(256)\n",
    "D,x = Do*2/np.pi,(xo+1)*np.pi/2\n",
    "sanity = np.isclose( (D@x).sum()/(N+1),1)\n",
    "print(f\"Sanity: {sanity.__repr__():s}\")\n",
    "Dgpu,xgpu = np.array(D),np.array(x)"
   ]
  },
  {
   "cell_type": "code",
   "execution_count": null,
   "metadata": {},
   "outputs": [],
   "source": [
    "X,Y,Z = onp.meshgrid(x,x,x,indexing='ij')\n",
    "U = onp.array([ onp.cos(ell*X)*onp.sin(ell*Z)/ell**3 for ell in 2*onp.arange(31)+1 ]).sum(axis=0)"
   ]
  },
  {
   "cell_type": "code",
   "execution_count": null,
   "metadata": {},
   "outputs": [],
   "source": [
    "Ugpu = np.array(U)"
   ]
  },
  {
   "cell_type": "code",
   "execution_count": null,
   "metadata": {},
   "outputs": [],
   "source": [
    "%%time\n",
    "dUdx = np.einsum('ij,jkl->ikl',Dgpu,Ugpu)"
   ]
  },
  {
   "cell_type": "code",
   "execution_count": null,
   "metadata": {},
   "outputs": [],
   "source": [
    "dUdx_iter = 0*dUdx"
   ]
  },
  {
   "cell_type": "code",
   "execution_count": null,
   "metadata": {},
   "outputs": [],
   "source": [
    "%%time\n",
    "for k in range(Ugpu.shape[-1]):\n",
    "    dUdx_iter[:,:,k] = Dgpu @ Ugpu[:,:,k]"
   ]
  },
  {
   "cell_type": "code",
   "execution_count": null,
   "metadata": {},
   "outputs": [],
   "source": [
    "dUdx = np.asnumpy(dUdx)"
   ]
  },
  {
   "cell_type": "code",
   "execution_count": null,
   "metadata": {},
   "outputs": [],
   "source": [
    "f,a = no_ax_fax()\n",
    "L   = onp.abs(dUdx).max() * onp.linspace(-1,1,16)\n",
    "mycontourf(X[:,128,:],Z[:,128,:],dUdx[:,128,:],L,cmap=mycm15)"
   ]
  },
  {
   "cell_type": "code",
   "execution_count": null,
   "metadata": {},
   "outputs": [],
   "source": []
  }
 ],
 "metadata": {
  "kernelspec": {
   "display_name": "rapids-0.15-cuda10.1",
   "language": "python",
   "name": "rapids-0.15.0"
  },
  "language_info": {
   "codemirror_mode": {
    "name": "ipython",
    "version": 3
   },
   "file_extension": ".py",
   "mimetype": "text/x-python",
   "name": "python",
   "nbconvert_exporter": "python",
   "pygments_lexer": "ipython3",
   "version": "3.7.8"
  }
 },
 "nbformat": 4,
 "nbformat_minor": 4
}
