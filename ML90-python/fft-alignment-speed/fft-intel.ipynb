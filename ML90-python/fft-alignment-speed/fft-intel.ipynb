{
 "cells": [
  {
   "cell_type": "markdown",
   "metadata": {},
   "source": [
    "# Parallelism Demo\n",
    "\n",
    "Consider $f\\,$ where\n",
    "\n",
    "$$f(t) = \\sum_{k\\in\\mathbb{N}}^{\\infty}(-1)^k\\dfrac{\\sin[(2k+1) x]}{(2k+1)^2}$$\n"
   ]
  },
  {
   "cell_type": "code",
   "execution_count": 12,
   "metadata": {},
   "outputs": [],
   "source": [
    "from plt_style import *\n",
    "import numpy as np\n",
    "import pylab as plt\n",
    "import scipy as sp\n",
    "%matplotlib inline"
   ]
  },
  {
   "cell_type": "code",
   "execution_count": 13,
   "metadata": {},
   "outputs": [
    {
     "name": "stdout",
     "output_type": "stream",
     "text": [
      "Architecture:          x86_64\n",
      "CPU op-mode(s):        32-bit, 64-bit\n",
      "Byte Order:            Little Endian\n",
      "CPU(s):                40\n",
      "On-line CPU(s) list:   0-39\n",
      "Thread(s) per core:    1\n",
      "Core(s) per socket:    20\n",
      "Socket(s):             2\n",
      "NUMA node(s):          2\n",
      "Vendor ID:             GenuineIntel\n",
      "CPU family:            6\n",
      "Model:                 79\n",
      "Model name:            Intel(R) Xeon(R) CPU E5-2698 v4 @ 2.20GHz\n",
      "Stepping:              1\n",
      "CPU MHz:               3010.229\n",
      "CPU max MHz:           3600.0000\n",
      "CPU min MHz:           1200.0000\n",
      "BogoMIPS:              4390.05\n",
      "Virtualization:        VT-x\n",
      "L1d cache:             32K\n",
      "L1i cache:             32K\n",
      "L2 cache:              256K\n",
      "L3 cache:              51200K\n",
      "NUMA node0 CPU(s):     0-19\n",
      "NUMA node1 CPU(s):     20-39\n",
      "Flags:                 fpu vme de pse tsc msr pae mce cx8 apic sep mtrr pge mca cmov pat pse36 clflush dts acpi mmx fxsr sse sse2 ss ht tm pbe syscall nx pdpe1gb rdtscp lm constant_tsc arch_perfmon pebs bts rep_good nopl xtopology nonstop_tsc aperfmperf eagerfpu pni pclmulqdq dtes64 monitor ds_cpl vmx smx est tm2 ssse3 sdbg fma cx16 xtpr pdcm pcid dca sse4_1 sse4_2 x2apic movbe popcnt tsc_deadline_timer aes xsave avx f16c rdrand lahf_lm abm 3dnowprefetch epb cat_l3 cdp_l3 invpcid_single intel_ppin intel_pt ssbd ibrs ibpb stibp tpr_shadow vnmi flexpriority ept vpid fsgsbase tsc_adjust bmi1 hle avx2 smep bmi2 erms invpcid rtm cqm rdt_a rdseed adx smap xsaveopt cqm_llc cqm_occup_llc cqm_mbm_total cqm_mbm_local dtherm ida arat pln pts spec_ctrl intel_stibp flush_l1d\n"
     ]
    }
   ],
   "source": [
    "!lscpu"
   ]
  },
  {
   "cell_type": "code",
   "execution_count": 14,
   "metadata": {},
   "outputs": [
    {
     "name": "stdout",
     "output_type": "stream",
     "text": [
      "              total        used        free      shared  buff/cache   available\n",
      "Mem:           503G         11G        453G        376M         38G        490G\n",
      "Swap:          4.0G         37M        4.0G\n"
     ]
    }
   ],
   "source": [
    "!free -h"
   ]
  },
  {
   "cell_type": "code",
   "execution_count": 17,
   "metadata": {},
   "outputs": [],
   "source": [
    "N = 2**27+1 # 2**27 * 8 bytes -> 2**30/2**30 = 1 GiB of data\n",
    "t = np.linspace(0,10*np.pi,N)[:-1]"
   ]
  },
  {
   "cell_type": "code",
   "execution_count": 18,
   "metadata": {},
   "outputs": [
    {
     "name": "stdout",
     "output_type": "stream",
     "text": [
      "CPU times: user 2min 7s, sys: 1min 4s, total: 3min 11s\n",
      "Wall time: 29.7 s\n"
     ]
    }
   ],
   "source": [
    "%%time\n",
    "f = np.array([ (-1)**k*np.sin(ell*t)/ell**2 for k,ell in enumerate(2*np.arange(31)+1) ]).sum(axis=0)"
   ]
  },
  {
   "cell_type": "code",
   "execution_count": 19,
   "metadata": {},
   "outputs": [
    {
     "data": {
      "image/png": "[encoded data removed]",
      "text/plain": [
       "<Figure size 432x288 with 1 Axes>"
      ]
     },
     "metadata": {},
     "output_type": "display_data"
    }
   ],
   "source": [
    "skip  = 1000\n",
    "ts,fs= [ u[::skip] for u in [t,f] ]\n",
    "plt.plot(ts,fs,'w-',lw=3)\n",
    "_=plt.xticks(fontsize=20)\n",
    "_=plt.yticks(fontsize=20)\n",
    "_=plt.xlabel(r'$t$',fontsize=20,color='w')\n",
    "_=plt.ylabel(r'$f(t)$',fontsize=20,color='w')"
   ]
  },
  {
   "cell_type": "code",
   "execution_count": 20,
   "metadata": {},
   "outputs": [
    {
     "name": "stdout",
     "output_type": "stream",
     "text": [
      "MKL THREADS SET: 1\n",
      "CPU times: user 6.21 s, sys: 2.13 s, total: 8.34 s\n",
      "Wall time: 8.05 s\n"
     ]
    }
   ],
   "source": [
    "%%time\n",
    "mkl_set_num_threads(1)\n",
    "q = abs(np.fft.fft(f)[:len(t)//2])"
   ]
  },
  {
   "cell_type": "code",
   "execution_count": 21,
   "metadata": {},
   "outputs": [
    {
     "name": "stdout",
     "output_type": "stream",
     "text": [
      "MKL THREADS SET: 4\n",
      "CPU times: user 2.9 s, sys: 1.2 s, total: 4.1 s\n",
      "Wall time: 4.1 s\n"
     ]
    }
   ],
   "source": [
    "%%time\n",
    "mkl_set_num_threads(4)\n",
    "q = abs(np.fft.fft(f)[:len(t)//2])"
   ]
  },
  {
   "cell_type": "code",
   "execution_count": 22,
   "metadata": {},
   "outputs": [
    {
     "name": "stdout",
     "output_type": "stream",
     "text": [
      "MKL THREADS SET: 10\n",
      "CPU times: user 2.89 s, sys: 1.24 s, total: 4.13 s\n",
      "Wall time: 4.13 s\n"
     ]
    }
   ],
   "source": [
    "%%time\n",
    "mkl_set_num_threads(10)\n",
    "q = abs(np.fft.fft(f)[:len(t)//2])"
   ]
  },
  {
   "cell_type": "code",
   "execution_count": 23,
   "metadata": {},
   "outputs": [
    {
     "name": "stdout",
     "output_type": "stream",
     "text": [
      " 13:55:57 up 19 days, 22:43,  5 users,  load average: 3.24, 1.83, 1.74\n"
     ]
    }
   ],
   "source": [
    "!uptime"
   ]
  },
  {
   "cell_type": "code",
   "execution_count": 24,
   "metadata": {},
   "outputs": [],
   "source": [
    "tau = 10*np.pi\n",
    "om0 = 2*np.pi/tau\n",
    "om  = om0*np.arange(len(q))\n",
    "p   = q/q.max()\n",
    "k   = np.linspace(1,11,1001)"
   ]
  },
  {
   "cell_type": "code",
   "execution_count": 25,
   "metadata": {},
   "outputs": [
    {
     "data": {
      "image/png": "[encoded data removed]",
      "text/plain": [
       "<Figure size 432x288 with 1 Axes>"
      ]
     },
     "metadata": {},
     "output_type": "display_data"
    }
   ],
   "source": [
    "plt.semilogy(om,p,'w-',lw=3)\n",
    "plt.semilogy(k,1/k**2,'--',c=gld,lw=2)\n",
    "plt.annotate(r'$k^{-2}$',(8,5e-2),fontsize=20,color=gld,ha='center')\n",
    "_=plt.xlim(0,10)\n",
    "_=plt.ylim(1e-7,1)\n",
    "_=plt.xticks(np.arange(10),fontsize=20)\n",
    "_=plt.yticks(fontsize=20)\n",
    "_=plt.xlabel(r'$\\omega$',fontsize=20,color='w')\n",
    "_=plt.ylabel(r'$PSD$',fontsize=20,color='w')"
   ]
  },
  {
   "cell_type": "markdown",
   "metadata": {},
   "source": [
    "## Einsum On the CPU\n",
    "\n",
    "Consider \n",
    "\n",
    "$$U(x,y,z) = \\sum_{\\ell\\in\\mathbb{N}\\,odd}^{\\infty}\\dfrac{\\cos(\\ell x)\\sin(\\ell z)}{\\ell^3}$$\n",
    "\n",
    "for $(x,y,z)\\in[0,\\pi]^3$. Then, in the $xz$-plane, $\\partial U/\\partial x$ is the convolution of two orthogonal triangle waves."
   ]
  },
  {
   "cell_type": "code",
   "execution_count": 167,
   "metadata": {},
   "outputs": [],
   "source": [
    "import cheb"
   ]
  },
  {
   "cell_type": "code",
   "execution_count": 168,
   "metadata": {},
   "outputs": [
    {
     "name": "stdout",
     "output_type": "stream",
     "text": [
      "Sanity: True\n"
     ]
    }
   ],
   "source": [
    "N = 256\n",
    "Do,xo = cheb.cheb(N)\n",
    "D,x = Do*2/np.pi,(xo+1)*np.pi/2\n",
    "sanity = np.isclose( (D@x).sum()/(N+1),1)\n",
    "print(f\"Sanity: {sanity.__repr__():s}\")"
   ]
  },
  {
   "cell_type": "code",
   "execution_count": 169,
   "metadata": {},
   "outputs": [],
   "source": [
    "X,Y,Z = np.meshgrid(x,x,x,indexing='ij')\n",
    "U = np.array([ np.cos(ell*X)*np.sin(ell*Z)/ell**3 for ell in 2*np.arange(31)+1 ]).sum(axis=0)"
   ]
  },
  {
   "cell_type": "code",
   "execution_count": 170,
   "metadata": {},
   "outputs": [
    {
     "name": "stdout",
     "output_type": "stream",
     "text": [
      "MKL THREADS SET: 40\n"
     ]
    }
   ],
   "source": [
    "mkl_set_num_threads(40)"
   ]
  },
  {
   "cell_type": "code",
   "execution_count": 171,
   "metadata": {},
   "outputs": [
    {
     "name": "stdout",
     "output_type": "stream",
     "text": [
      "CPU times: user 3.68 s, sys: 33 ms, total: 3.71 s\n",
      "Wall time: 3.72 s\n"
     ]
    }
   ],
   "source": [
    "%%time\n",
    "dUdx = np.einsum('ij,jkl->ikl',D,U)"
   ]
  },
  {
   "cell_type": "code",
   "execution_count": 172,
   "metadata": {},
   "outputs": [],
   "source": [
    "dUdx_iter = 0*dUdx"
   ]
  },
  {
   "cell_type": "code",
   "execution_count": 173,
   "metadata": {},
   "outputs": [
    {
     "name": "stdout",
     "output_type": "stream",
     "text": [
      "CPU times: user 13.8 s, sys: 300 ms, total: 14.1 s\n",
      "Wall time: 354 ms\n"
     ]
    }
   ],
   "source": [
    "%%time\n",
    "for k in range(U.shape[-1]):\n",
    "    dUdx_iter[:,:,k] = D @ U[:,:,k]"
   ]
  },
  {
   "cell_type": "code",
   "execution_count": 174,
   "metadata": {},
   "outputs": [
    {
     "data": {
      "image/png": "[encoded data removed]",
      "text/plain": [
       "<Figure size 432x432 with 1 Axes>"
      ]
     },
     "metadata": {},
     "output_type": "display_data"
    }
   ],
   "source": [
    "f,a = no_ax_fax()\n",
    "L   = np.abs(dUdx).max() * np.linspace(-1,1,16)\n",
    "mycontourf(X[:,128,:],Z[:,128,:],dUdx[:,128,:],L,cmap=mycm15)"
   ]
  },
  {
   "cell_type": "code",
   "execution_count": null,
   "metadata": {},
   "outputs": [],
   "source": []
  }
 ],
 "metadata": {
  "kernelspec": {
   "display_name": "pyintel",
   "language": "python",
   "name": "pyintel"
  },
  "language_info": {
   "codemirror_mode": {
    "name": "ipython",
    "version": 3
   },
   "file_extension": ".py",
   "mimetype": "text/x-python",
   "name": "python",
   "nbconvert_exporter": "python",
   "pygments_lexer": "ipython3",
   "version": "3.6.3"
  }
 },
 "nbformat": 4,
 "nbformat_minor": 4
}
