{
 "cells": [
  {
   "cell_type": "markdown",
   "metadata": {},
   "source": [
    "Copyright (c) 2019 [Sebastian Raschka](https://sebastianraschka.com)  \n",
    "[MIT License](https://github.com/rasbt/python-machine-learning-book-3rd-edition/blob/master/LICENSE.txt)\n",
    "\n",
    "\n",
    "THIS IPYTHON NOTEBOOK IS LIGHTLY MODIFIED FROM:  \n",
    "https://github.com/rasbt/python-machine-learning-book-3rd-edition\n",
    "\n",
    "PLEASE ALSO CHECK OUT:  \n",
    "https://web.stanford.edu/~hastie/ElemStatLearn/\n",
    "\n"
   ]
  },
  {
   "cell_type": "code",
   "execution_count": 3,
   "metadata": {
    "collapsed": true
   },
   "outputs": [],
   "source": [
    "%matplotlib inline\n",
    "import numpy as np\n",
    "import pylab as plt\n",
    "import sys\n",
    "sys.path.append('../../common')\n",
    "from plt_style import *"
   ]
  },
  {
   "cell_type": "markdown",
   "metadata": {},
   "source": [
    "# Python Machine Learning - Code Examples"
   ]
  },
  {
   "cell_type": "markdown",
   "metadata": {},
   "source": [
    "## Chapter 1 - Giving Computers the Ability to Learn from Data"
   ]
  },
  {
   "cell_type": "markdown",
   "metadata": {},
   "source": [
    "# Python"
   ]
  },
  {
   "cell_type": "markdown",
   "metadata": {},
   "source": [
    "![title](images/python.png)\n",
    "\n",
    "*hovertext*:  \n",
    "> I wrote 20 short programs in Python yesterday. It was wonderful. Perl, I am leaving you.\n",
    "\n",
    "**image credit** https://xkcd.com/353/"
   ]
  },
  {
   "cell_type": "markdown",
   "metadata": {},
   "source": [
    "# Building intelligent machines to transform data into knowledge\n",
    "\n",
    "* Appeal of using data to optimize algorithms for classification and prediction\n",
    "    - Detecting skin cancer with \"near-human\" accuracy [Nature 2015][0]\n",
    "    - Predict 3D protein structures [alphafold][1]\n",
    "\n",
    "    <img src=\"images/alphafold-fig2.png\" alt=\"alphafold-fig2\" width=\"700\"/>      \n",
    "    <img src=\"images/alphafold-fig3.png\" alt=\"alphafold-fig3\" width=\"700\"/>  \n",
    "    \n",
    "\n",
    "    \n",
    "    \n",
    "[0]: https://nature.com/articles/nature21056]\n",
    "[1]: https://deepmind.com/blog/alphafold"
   ]
  },
  {
   "cell_type": "markdown",
   "metadata": {},
   "source": [
    "### General idea: \n",
    "\n",
    "Consider set of inputs $x$ and outputs $y$. In order to understand, determine map $\\,\\,f:x\\to y$, that is\n",
    "\n",
    "$$f(x) = y$$\n",
    "\n",
    "Assumptions are made on the structure of the mapping $\\,\\,f$, and then known data $(x,y)$ are used to optimize the model so that it may **learn**. "
   ]
  },
  {
   "cell_type": "markdown",
   "metadata": {},
   "source": [
    "# The three different types of machine learning\n",
    "\n",
    "<img src='images/01_01.png' alt='ML Classes' width=700/>"
   ]
  },
  {
   "cell_type": "markdown",
   "metadata": {},
   "source": [
    "## Making predictions about the future with supervised learning  \n",
    "\n",
    "<img src='images/01_02.png' alt='supervised' width=700>  \n",
    "\n",
    "* Main goal: learn a model from **labeled** training data to classify or predict in application\n",
    "* Example, classification: Dataset of correctly labeled e-mails (spam or not spam) $$f(new\\_email)=not\\_spam$$\n",
    "* Example, regression: Dataset of previous homesales and property attributes $$f(newly\\_for\\_sale)=sale\\_attribute$$\n",
    "    "
   ]
  },
  {
   "cell_type": "markdown",
   "metadata": {},
   "source": [
    "#### Classification for predicting class labels\n",
    "\n",
    "<img src='images/01_03.png' width=300/>  \n",
    "\n",
    "#### Regression for predicting continuous outcomes  \n",
    "\n",
    "<img src='images/01_04.png' width=300/>"
   ]
  },
  {
   "cell_type": "code",
   "execution_count": 2,
   "metadata": {},
   "outputs": [
    {
     "data": {
      "image/png": "[encoded data removed]",
      "text/plain": [
       "<Figure size 432x288 with 1 Axes>"
      ]
     },
     "metadata": {},
     "output_type": "display_data"
    }
   ],
   "source": [
    "N = 32\n",
    "x = np.linspace(0,1,N)\n",
    "y = np.random.randn(N)*1e-1 + 2*x\n",
    "c = np.polyfit(x,y,1)\n",
    "_ = my_plot(x,y,'wo',x[[0,-1]],np.polyval(c,x[[0,-1]]),'m--')"
   ]
  },
  {
   "cell_type": "markdown",
   "metadata": {},
   "source": [
    "## Solving interactive problems with reinforcement learning\n",
    "\n",
    "Goal: Develop a system (**agent**) that improves its performance based on interactions with the environment.\n",
    "\n",
    "Feedback is given to the agent through a **reward signal**, based on \"how well\" the agent performed.\n",
    "\n",
    "Example: Chess bot\n",
    "\n",
    "<img src='images/01_05.png' width=700 />  "
   ]
  },
  {
   "cell_type": "markdown",
   "metadata": {},
   "source": [
    "## Discovering hidden structures with unsupervised learning"
   ]
  },
  {
   "cell_type": "markdown",
   "metadata": {},
   "source": [
    "Data are unlabeled or unstructured. Many techniques "
   ]
  },
  {
   "cell_type": "markdown",
   "metadata": {},
   "source": [
    "### Finding subgroups with clustering\n",
    "\n",
    "<img src='images/01_06.png' width=300/>"
   ]
  },
  {
   "cell_type": "markdown",
   "metadata": {},
   "source": [
    "### Dimensionality reduction for data compression\n",
    "\n",
    "<img src='images/01_07.png' width=600/>  "
   ]
  },
  {
   "cell_type": "markdown",
   "metadata": {},
   "source": [
    "### An introduction to the basic terminology and notations\n",
    "\n",
    "<img src='images/01_08.png' width=700/>"
   ]
  },
  {
   "cell_type": "markdown",
   "metadata": {},
   "source": [
    "# A roadmap for building machine learning systems\n",
    "\n",
    "<img src='images/01_09.png' width=700/>  "
   ]
  },
  {
   "cell_type": "markdown",
   "metadata": {},
   "source": [
    "## Preprocessing - getting data into shape"
   ]
  },
  {
   "cell_type": "markdown",
   "metadata": {},
   "source": [
    "* With an abundance of data, analyst has to use best practices to determine most relevant data features. \n",
    "    - E.g., highly correlated features may be redundant \n",
    "* Many ML algorithms require normalization of selected features, e.g. all in the range $[0,1]$. \n",
    "* Should dimensionality reduction be performed?\n",
    "    - E.g., highly resolved periodic signal (10,000,000 datapoints)\n",
    "    - When the signal to noise ratio is low"
   ]
  },
  {
   "cell_type": "code",
   "execution_count": 17,
   "metadata": {},
   "outputs": [
    {
     "data": {
      "image/png": "[encoded data removed]",
      "text/plain": [
       "<Figure size 432x288 with 1 Axes>"
      ]
     },
     "metadata": {},
     "output_type": "display_data"
    }
   ],
   "source": [
    "t = np.linspace(0,10000,10000*100+1)\n",
    "u = np.cos(2*np.pi*t) + np.cos(4*np.pi*t)\n",
    "my_plot(t,u,'w-')\n",
    "_ = plt.title('10,000 forcing periods, 1,000,000 points!',pad=30)"
   ]
  },
  {
   "cell_type": "code",
   "execution_count": 19,
   "metadata": {},
   "outputs": [
    {
     "data": {
      "image/png": "[encoded data removed]",
      "text/plain": [
       "<Figure size 432x288 with 1 Axes>"
      ]
     },
     "metadata": {},
     "output_type": "display_data"
    }
   ],
   "source": [
    "f0  = 1/(t[-1]-t[0])\n",
    "q   = np.abs(np.fft.fft(u[:-1]))[:len(u[:-1])//2]\n",
    "my_plot(f0*np.arange(len(q)),q/q.max(),'w-')\n",
    "plt.xlim(0,5)\n",
    "plt.xticks(np.arange(6))\n",
    "plt.xlabel('Frequency',**lblprops)\n",
    "plt.ylabel('PSD',**lblprops)\n",
    "_ = plt.title('Only 2 Frequencies of comparable power!',pad=30)"
   ]
  },
  {
   "cell_type": "markdown",
   "metadata": {},
   "source": [
    "* Even if data are well-formed, processing necessary for **optimization** (training) and **validation** (testing)"
   ]
  },
  {
   "cell_type": "markdown",
   "metadata": {},
   "source": [
    "## Training and selecting a predictive model"
   ]
  },
  {
   "cell_type": "markdown",
   "metadata": {},
   "source": [
    "* \"With a hammer, everything is a nail\"\n",
    "* Every algorithm has its bias\n",
    "* cross-validation: additional partitioning of dataset into training and testing sets to estimate the generalization of the model\n",
    "* Hyper-parameterization"
   ]
  },
  {
   "cell_type": "markdown",
   "metadata": {},
   "source": [
    "## Evaluating models and predicting unseen data instances"
   ]
  },
  {
   "cell_type": "markdown",
   "metadata": {},
   "source": [
    "* With a satisfiable generalization error, extrapolate.\n",
    "* Note that all hyper-parametrization, i.e. optimization or learning, was performed on the training data."
   ]
  },
  {
   "cell_type": "markdown",
   "metadata": {},
   "source": [
    "# Installing Python packages"
   ]
  },
  {
   "cell_type": "markdown",
   "metadata": {},
   "source": [
    "* anaconda"
   ]
  },
  {
   "cell_type": "markdown",
   "metadata": {},
   "source": [
    "# Using Python for machine learning"
   ]
  },
  {
   "cell_type": "markdown",
   "metadata": {},
   "source": [
    "* Very popular, has many modern libraries, e.g. tensorflow, pytorch, horovad\n",
    "    - Additional non-vanilla standards, e.g. numpy, pandas, scikit-learn\n",
    "* Through popularity, is very well documented \n",
    "    - https://github.com/drathier/stack-overflow-import"
   ]
  }
 ],
 "metadata": {
  "anaconda-cloud": {},
  "kernelspec": {
   "display_name": "Py3-basic",
   "language": "python",
   "name": "python3"
  },
  "language_info": {
   "codemirror_mode": {
    "name": "ipython",
    "version": 3
   },
   "file_extension": ".py",
   "mimetype": "text/x-python",
   "name": "python",
   "nbconvert_exporter": "python",
   "pygments_lexer": "ipython3",
   "version": "3.7.2"
  }
 },
 "nbformat": 4,
 "nbformat_minor": 2
}
