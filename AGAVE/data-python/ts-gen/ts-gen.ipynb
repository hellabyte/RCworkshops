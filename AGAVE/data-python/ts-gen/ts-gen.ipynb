{
 "cells": [
  {
   "cell_type": "code",
   "execution_count": null,
   "metadata": {},
   "outputs": [],
   "source": [
    "import numpy as np\n",
    "import pylab as plt\n",
    "import natsort,glob\n",
    "import tqdm\n",
    "from plt_style import *"
   ]
  },
  {
   "cell_type": "code",
   "execution_count": null,
   "metadata": {},
   "outputs": [],
   "source": [
    "globstr = '/scratch/jyalim/d2tixh/sweeps_a1e-4/runs_0/Rn1e5.5/o*e-2/ts*_anim'\n",
    "F  = natsort.realsorted(glob.glob(globstr))\n",
    "edge_limit = 5\n",
    "for k,f in enumerate(F):\n",
    "    if k < edge_limit:\n",
    "        print(f)\n",
    "    elif len(F)-k < edge_limit:\n",
    "        print(f)   \n",
    "#print('\\n'.join([*F[:5],*F[-5:]]))\n",
    "print(f'\\nSummary paths of {len(F)} time series files')"
   ]
  },
  {
   "cell_type": "code",
   "execution_count": null,
   "metadata": {},
   "outputs": [],
   "source": [
    "omegas = np.array([ float(f.split('/')[-1].split('_o')[-1].split('_')[0]) for f in F])"
   ]
  },
  {
   "cell_type": "code",
   "execution_count": null,
   "metadata": {},
   "outputs": [],
   "source": [
    "def reader(f,Rn=10**5.5):\n",
    "    d = np.memmap(f,mode='r',offset=256,dtype=np.double)\n",
    "    om= f.split('/')[-1].split('_o')[-1].split('_')[0]\n",
    "    \n",
    "    t = d[::19]/2/np.pi*float(om)*Rn\n",
    "    E = d[1::19]\n",
    "    return t,E"
   ]
  },
  {
   "cell_type": "code",
   "execution_count": null,
   "metadata": {},
   "outputs": [],
   "source": [
    "D = np.array([ reader(f) for f in tqdm.tqdm(F,leave=False) ])"
   ]
  },
  {
   "cell_type": "code",
   "execution_count": null,
   "metadata": {},
   "outputs": [],
   "source": [
    "plt.figure(figsize=(12,6))\n",
    "_=plt.plot(D[:,0].T,D[:,1].T,alpha=1)\n",
    "plt.xlabel(r'time',color='w')\n",
    "plt.ylabel(r'Kinetic Energy', color='w')\n",
    "plt.title(f'time series for {len(D)} simulations')\n",
    "plt.xlim(0,1)"
   ]
  },
  {
   "cell_type": "code",
   "execution_count": null,
   "metadata": {},
   "outputs": [],
   "source": [
    "plt.figure(figsize=(12,6))\n",
    "plt.plot(omegas,D[:,1].mean(axis=1),'wo-',lw=3,mec='w',mfc='#ffff00',mew=0.2)\n",
    "plt.xlabel(r'Forcing frequency ($\\omega$)',color='w')\n",
    "plt.ylabel(r'Averaged Kinetic Energy', color='w')\n",
    "#plt.title(f'Response Diagram')\n",
    "#plt.xlim(.1,2)\n"
   ]
  },
  {
   "cell_type": "code",
   "execution_count": null,
   "metadata": {},
   "outputs": [],
   "source": []
  }
 ],
 "metadata": {
  "kernelspec": {
   "display_name": "scicomp",
   "language": "python",
   "name": "scicomp"
  },
  "language_info": {
   "codemirror_mode": {
    "name": "ipython",
    "version": 3
   },
   "file_extension": ".py",
   "mimetype": "text/x-python",
   "name": "python",
   "nbconvert_exporter": "python",
   "pygments_lexer": "ipython3",
   "version": "3.9.1"
  }
 },
 "nbformat": 4,
 "nbformat_minor": 4
}
