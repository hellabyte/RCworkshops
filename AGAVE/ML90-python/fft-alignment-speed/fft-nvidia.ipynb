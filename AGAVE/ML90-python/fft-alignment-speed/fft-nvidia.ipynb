{
 "cells": [
  {
   "cell_type": "markdown",
   "metadata": {},
   "source": [
    "# Parallelism Demo\n",
    "\n",
    "Consider $f$ where\n",
    "\n",
    "$$f(t) = \\sum_{k\\in\\mathbb{N}}^{\\infty}(-1)^k\\dfrac{\\sin[(2k+1) x]}{(2k+1)^2}$$\n"
   ]
  },
  {
   "cell_type": "code",
   "execution_count": 1,
   "metadata": {},
   "outputs": [],
   "source": [
    "from plt_style import *\n",
    "#import numpy as np\n",
    "import cupy  as np\n",
    "import pylab as plt\n",
    "import scipy as sp\n",
   ]
  },
  {
   "cell_type": "code",
   "execution_count": 2,
   "metadata": {},
   "outputs": [
    {
     "name": "stdout",
     "output_type": "stream",
     "text": [
      "Mon Oct  5 14:52:48 2020       \n",
      "+-----------------------------------------------------------------------------+\n",
      "| NVIDIA-SMI 418.152.00   Driver Version: 418.152.00   CUDA Version: 10.1     |\n",
      "|-------------------------------+----------------------+----------------------+\n",
      "| GPU  Name        Persistence-M| Bus-Id        Disp.A | Volatile Uncorr. ECC |\n",
      "| Fan  Temp  Perf  Pwr:Usage/Cap|         Memory-Usage | GPU-Util  Compute M. |\n",
      "|===============================+======================+======================|\n",
      "|   0  Tesla V100-SXM2...  On   | 00000000:0A:00.0 Off |                    0 |\n",
      "| N/A   32C    P0    40W / 300W |      0MiB / 32480MiB |      0%      Default |\n",
      "+-------------------------------+----------------------+----------------------+\n",
      "                                                                               \n",
      "+-----------------------------------------------------------------------------+\n",
      "| Processes:                                                       GPU Memory |\n",
      "|  GPU       PID   Type   Process name                             Usage      |\n",
      "|=============================================================================|\n",
      "|  No running processes found                                                 |\n",
      "+-----------------------------------------------------------------------------+\n"
     ]
    }
   ],
   "source": [
    "!nvidia-smi"
   ]
  },
  {
   "cell_type": "code",
   "execution_count": 3,
   "metadata": {},
   "outputs": [],
   "source": [
    "N = 2**27+1 # 2**27 * 8 bytes -> 2**30/2**30 = 1 GiB of data\n",
    "M = N-1\n",
    "t = np.linspace(0,10*np.pi,N)[:-1]\n",
    "#f = np.array([ (-1)**k*np.sin((2*k+1)*t)/(2*k+1)**2 for k in range(31) ]).sum(axis=0)\n",
    "#f = np.sin(t) + np.sin(3*t)/9 + np.sin(5*t)/25\n"
   ]
  },
  {
   "cell_type": "code",
   "execution_count": 4,
   "metadata": {},
   "outputs": [
    {
     "name": "stdout",
     "output_type": "stream",
     "text": [
      "CPU times: user 10.1 ms, sys: 7.96 ms, total: 18 ms\n",
      "Wall time: 21.9 ms\n"
     ]
    }
   ],
   "source": [
    "%%time\n",
    "f = 0*t\n",
    "for k in range(31):\n",
    "    ell = 2*k+1\n",
    "    f += (-1)**k*np.sin(ell*t)/ell**2"
   ]
  },
  {
   "cell_type": "code",
   "execution_count": 5,
   "metadata": {},
   "outputs": [
    {
     "name": "stdout",
     "output_type": "stream",
     "text": [
      "domain (t) data are on: <CUDA Device 0> with size: 1.0 GiB\n",
      " range (f) data are on: <CUDA Device 0> with size: 1.0 GiB\n"
     ]
    }
   ],
   "source": [
    "print(f'domain (t) data are on: {t.device} with size: {t.size*8/2**30} GiB')\n",
    "print(f' range (f) data are on: {f.device} with size: {f.size*8/2**30} GiB')"
   ]
  },
  {
   "cell_type": "code",
   "execution_count": 6,
   "metadata": {},
   "outputs": [
    {
     "data": {
      "image/png": "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\n",
      "text/plain": [
       "<Figure size 432x288 with 1 Axes>"
      ]
     },
     "metadata": {},
     "output_type": "display_data"
    }
   ],
   "source": [
    "skip = 1000\n",
    "ts,fs= [ np.asnumpy(u)[::skip] for u in [t,f] ]\n",
    "plt.figure(facecolor='#111111')\n",
    "plt.plot(ts,fs,'w-',lw=3)\n",
    "_=plt.xticks(fontsize=20)\n",
    "_=plt.yticks(fontsize=20)\n",
    "_=plt.xlabel(r'$t$',fontsize=20,color='w')\n",
    "_=plt.ylabel(r'$f(t)$',fontsize=20,color='w')"
   ]
  },
  {
   "cell_type": "code",
   "execution_count": 7,
   "metadata": {},
   "outputs": [
    {
     "name": "stdout",
     "output_type": "stream",
     "text": [
      "CPU times: user 395 ms, sys: 119 ms, total: 515 ms\n",
      "Wall time: 517 ms\n"
     ]
    }
   ],
   "source": [
    "%%time\n",
    "q = np.abs(np.fft.fft(f)[:M//2])"
   ]
  },
  {
   "cell_type": "code",
   "execution_count": 8,
   "metadata": {},
   "outputs": [
    {
     "name": "stdout",
     "output_type": "stream",
     "text": [
      "Mon Oct  5 14:52:51 2020       \n",
      "+-----------------------------------------------------------------------------+\n",
      "| NVIDIA-SMI 418.152.00   Driver Version: 418.152.00   CUDA Version: 10.1     |\n",
      "|-------------------------------+----------------------+----------------------+\n",
      "| GPU  Name        Persistence-M| Bus-Id        Disp.A | Volatile Uncorr. ECC |\n",
      "| Fan  Temp  Perf  Pwr:Usage/Cap|         Memory-Usage | GPU-Util  Compute M. |\n",
      "|===============================+======================+======================|\n",
      "|   0  Tesla V100-SXM2...  On   | 00000000:0A:00.0 Off |                    0 |\n",
      "| N/A   34C    P0    63W / 300W |  10656MiB / 32480MiB |     17%      Default |\n",
      "+-------------------------------+----------------------+----------------------+\n",
      "                                                                               \n",
      "+-----------------------------------------------------------------------------+\n",
      "| Processes:                                                       GPU Memory |\n",
      "|  GPU       PID   Type   Process name                             Usage      |\n",
      "|=============================================================================|\n",
      "|    0     38386      C   .../envs/rapids-0.15.0-cuda10.1/bin/python 10645MiB |\n",
      "+-----------------------------------------------------------------------------+\n"
     ]
    }
   ],
   "source": [
    "!nvidia-smi"
   ]
  },
  {
   "cell_type": "code",
   "execution_count": 9,
   "metadata": {},
   "outputs": [],
   "source": [
    "tau = 10*np.pi\n",
    "om0 = 2*np.pi/tau\n",
    "om  = om0*np.asnumpy(np.arange(len(q)))\n",
    "p   = np.asnumpy(q)\n",
    "p  /= p.max()\n",
    "k   = np.asnumpy(np.linspace(1,11,1001))"
   ]
  },
  {
   "cell_type": "code",
   "execution_count": 10,
   "metadata": {},
   "outputs": [
    {
     "data": {
      "image/png": "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\n",
      "text/plain": [
       "<Figure size 432x288 with 1 Axes>"
      ]
     },
     "metadata": {},
     "output_type": "display_data"
    }
   ],
   "source": [
    "plt.figure(facecolor='#111111')\n",
    "plt.semilogy(om,p,'w-',lw=3)\n",
    "plt.semilogy(k,1/k**2,'--',c=gld,lw=2)\n",
    "plt.annotate(r'$k^{-2}$',(8,5e-2),fontsize=20,color=gld,ha='center')\n",
    "_=plt.xlim(0,10)\n",
    "_=plt.ylim(1e-7,1)\n",
    "_=plt.xticks(np.asnumpy(np.arange(10)),fontsize=20)\n",
    "_=plt.yticks(fontsize=20)\n",
    "_=plt.xlabel(r'$\\omega$',fontsize=20,color='w')\n",
    "_=plt.ylabel(r'$PSD$',fontsize=20,color='w')"
   ]
  },
  {
   "cell_type": "markdown",
   "metadata": {},
   "source": [
    "## Einsum on the GPU\n",
    "\n",
    "Consider \n",
    "\n",
    "$$U(x,y,z) = \\sum_{\\ell\\in\\mathbb{N}\\,odd}^{\\infty}\\dfrac{\\cos(\\ell x)\\sin(\\ell z)}{\\ell^3}$$\n",
    "\n",
    "for $(x,y,z)\\in[0,\\pi]^3$. Then, in the $xz$-plane, $\\partial U/\\partial x$ is the convolution of two orthogonal triangle waves."
   ]
  },
  {
   "cell_type": "code",
   "execution_count": 11,
   "metadata": {},
   "outputs": [],
   "source": [
    "import cheb\n",
    "import numpy as onp"
   ]
  },
  {
   "cell_type": "code",
   "execution_count": 12,
   "metadata": {},
   "outputs": [
    {
     "name": "stdout",
     "output_type": "stream",
     "text": [
      "Sanity: array(True)\n"
     ]
    }
   ],
   "source": [
    "N = 256\n",
    "Do,xo = cheb.cheb(256)\n",
    "D,x = Do*2/np.pi,(xo+1)*np.pi/2\n",
    "sanity = np.isclose( (D@x).sum()/(N+1),1)\n",
    "print(f\"Sanity: {sanity.__repr__():s}\")\n",
    "Dgpu,xgpu = np.array(D),np.array(x)"
   ]
  },
  {
   "cell_type": "code",
   "execution_count": 13,
   "metadata": {},
   "outputs": [],
   "source": [
    "X,Y,Z = onp.meshgrid(x,x,x,indexing='ij')\n",
    "U = onp.array([ onp.cos(ell*X)*onp.sin(ell*Z)/ell**3 for ell in 2*onp.arange(31)+1 ]).sum(axis=0)"
   ]
  },
  {
   "cell_type": "code",
   "execution_count": 14,
   "metadata": {},
   "outputs": [],
   "source": [
    "Ugpu = np.array(U)"
   ]
  },
  {
   "cell_type": "code",
   "execution_count": 15,
   "metadata": {},
   "outputs": [
    {
     "name": "stdout",
     "output_type": "stream",
     "text": [
      "CPU times: user 172 ms, sys: 104 ms, total: 276 ms\n",
      "Wall time: 277 ms\n"
     ]
    }
   ],
   "source": [
    "%%time\n",
    "dUdx = np.einsum('ij,jkl->ikl',Dgpu,Ugpu)"
   ]
  },
  {
   "cell_type": "code",
   "execution_count": 16,
   "metadata": {},
   "outputs": [],
   "source": [
    "dUdx_iter = 0*dUdx"
   ]
  },
  {
   "cell_type": "code",
   "execution_count": 17,
   "metadata": {},
   "outputs": [
    {
     "name": "stdout",
     "output_type": "stream",
     "text": [
      "CPU times: user 16.7 ms, sys: 338 µs, total: 17 ms\n",
      "Wall time: 18.1 ms\n"
     ]
    }
   ],
   "source": [
    "%%time\n",
    "for k in range(Ugpu.shape[-1]):\n",
    "    dUdx_iter[:,:,k] = Dgpu @ Ugpu[:,:,k]"
   ]
  },
  {
   "cell_type": "code",
   "execution_count": 18,
   "metadata": {},
   "outputs": [],
   "source": [
    "dUdx = np.asnumpy(dUdx)"
   ]
  },
  {
   "cell_type": "code",
   "execution_count": 19,
   "metadata": {},
   "outputs": [
    {
     "data": {
      "text/plain": [
       "<matplotlib.collections.PathCollection at 0x2b3671a05790>"
      ]
     },
     "execution_count": 19,
     "metadata": {},
     "output_type": "execute_result"
    },
    {
     "data": {
      "image/png": "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\n",
      "text/plain": [
       "<Figure size 432x432 with 1 Axes>"
      ]
     },
     "metadata": {
      "needs_background": "dark"
     },
     "output_type": "display_data"
    }
   ],
   "source": [
    "f,a = no_ax_fax()\n",
    "L   = onp.abs(dUdx).max() * onp.linspace(-1,1,16)\n",
    "mycontourf(X[:,128,:],Z[:,128,:],dUdx[:,128,:],L,cmap=mycm15)"
   ]
  },
  {
   "cell_type": "code",
   "execution_count": null,
   "metadata": {},
   "outputs": [],
   "source": []
  }
 ],
 "metadata": {
  "kernelspec": {
   "display_name": "rapids-0.15-cuda10.1",
   "language": "python",
   "name": "rapids-0.15.0"
  },
  "language_info": {
   "codemirror_mode": {
    "name": "ipython",
    "version": 3
   },
   "file_extension": ".py",
   "mimetype": "text/x-python",
   "name": "python",
   "nbconvert_exporter": "python",
   "pygments_lexer": "ipython3",
   "version": "3.7.8"
  }
 },
 "nbformat": 4,
 "nbformat_minor": 4
}
