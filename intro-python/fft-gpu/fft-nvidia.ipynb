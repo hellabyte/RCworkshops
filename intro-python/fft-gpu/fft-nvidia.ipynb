{
 "cells": [
  {
   "cell_type": "markdown",
   "metadata": {},
   "source": [
    "# Parallelism Demo\n",
    "\n",
    "Consider $f$ where\n",
    "\n",
    "$$f(t) = \\sum_{k\\in\\mathbb{N}}^{\\infty}(-1)^k\\dfrac{\\sin[(2k+1) x]}{(2k+1)^2}$$\n"
   ]
  },
  {
   "cell_type": "code",
   "execution_count": 1,
   "metadata": {},
   "outputs": [],
   "source": [
    "#import hellaPy\n",
    "from plt_style import *\n",
    "#import numpy as np\n",
    "import cupy  as np\n",
    "import pylab as plt\n",
    "import scipy as sp\n",
    "%matplotlib inline"
   ]
  },
  {
   "cell_type": "code",
   "execution_count": 2,
   "metadata": {},
   "outputs": [
    {
     "name": "stdout",
     "output_type": "stream",
     "text": [
      "Mon Aug 31 14:55:45 2020       \n",
      "+-----------------------------------------------------------------------------+\n",
      "| NVIDIA-SMI 440.33.01    Driver Version: 440.33.01    CUDA Version: 10.2     |\n",
      "|-------------------------------+----------------------+----------------------+\n",
      "| GPU  Name        Persistence-M| Bus-Id        Disp.A | Volatile Uncorr. ECC |\n",
      "| Fan  Temp  Perf  Pwr:Usage/Cap|         Memory-Usage | GPU-Util  Compute M. |\n",
      "|===============================+======================+======================|\n",
      "|   0  Tesla V100-SXM2...  Off  | 00000000:18:00.0 Off |                    0 |\n",
      "| N/A   60C    P0   154W / 300W |    546MiB / 32510MiB |     48%      Default |\n",
      "+-------------------------------+----------------------+----------------------+\n",
      "|   1  Tesla V100-SXM2...  Off  | 00000000:3B:00.0 Off |                    0 |\n",
      "| N/A   42C    P0    94W / 300W |    514MiB / 32510MiB |     30%      Default |\n",
      "+-------------------------------+----------------------+----------------------+\n",
      "|   2  Tesla V100-SXM2...  Off  | 00000000:86:00.0 Off |                    0 |\n",
      "| N/A   65C    P0   159W / 300W |  24006MiB / 32510MiB |    100%      Default |\n",
      "+-------------------------------+----------------------+----------------------+\n",
      "|   3  Tesla V100-SXM2...  Off  | 00000000:AF:00.0 Off |                    0 |\n",
      "| N/A   43C    P0    57W / 300W |      0MiB / 32510MiB |      5%      Default |\n",
      "+-------------------------------+----------------------+----------------------+\n",
      "                                                                               \n",
      "+-----------------------------------------------------------------------------+\n",
      "| Processes:                                                       GPU Memory |\n",
      "|  GPU       PID   Type   Process name                             Usage      |\n",
      "|=============================================================================|\n",
      "|    0     64238      C   namd2                                        535MiB |\n",
      "|    1     64238      C   namd2                                        503MiB |\n",
      "|    2    268670      C   python3                                    23995MiB |\n",
      "+-----------------------------------------------------------------------------+\n"
     ]
    }
   ],
   "source": [
    "!nvidia-smi"
   ]
  },
  {
   "cell_type": "code",
   "execution_count": 3,
   "metadata": {},
   "outputs": [],
   "source": [
    "N = 2**25+1\n",
    "M = N-1\n",
    "t = np.linspace(0,10*np.pi,N)[:-1]\n",
    "#f = np.array([ (-1)**k*np.sin((2*k+1)*t)/(2*k+1)**2 for k in range(31) ]).sum(axis=0)\n",
    "#f = np.sin(t) + np.sin(3*t)/9 + np.sin(5*t)/25\n"
   ]
  },
  {
   "cell_type": "code",
   "execution_count": 4,
   "metadata": {},
   "outputs": [],
   "source": [
    "f = 0*t\n",
    "for k in range(31):\n",
    "    ell = 2*k+1\n",
    "    f += (-1)**k*np.sin(ell*t)/ell**2"
   ]
  },
  {
   "cell_type": "code",
   "execution_count": 5,
   "metadata": {},
   "outputs": [
    {
     "data": {
      "image/png": "[encoded data removed]",
      "text/plain": [
       "<Figure size 432x288 with 1 Axes>"
      ]
     },
     "metadata": {
      "needs_background": "dark"
     },
     "output_type": "display_data"
    }
   ],
   "source": [
    "skip = 1000\n",
    "ts,fs= [ np.asnumpy(u)[::skip] for u in [t,f] ]\n",
    "plt.plot(ts,fs,'w-',lw=3)\n",
    "_=plt.xticks(fontsize=20)\n",
    "_=plt.yticks(fontsize=20)\n",
    "_=plt.xlabel(r'$t$',fontsize=20,color='w')\n",
    "_=plt.ylabel(r'$f(t)$',fontsize=20,color='w')"
   ]
  },
  {
   "cell_type": "code",
   "execution_count": 6,
   "metadata": {},
   "outputs": [
    {
     "name": "stdout",
     "output_type": "stream",
     "text": [
      "CPU times: user 183 ms, sys: 95.5 ms, total: 279 ms\n",
      "Wall time: 354 ms\n"
     ]
    }
   ],
   "source": [
    "%%time\n",
    "q = np.abs(np.fft.fft(f)[:M//2])"
   ]
  },
  {
   "cell_type": "code",
   "execution_count": 7,
   "metadata": {},
   "outputs": [],
   "source": [
    "tau = 10*np.pi\n",
    "om0 = 2*np.pi/tau\n",
    "om  = om0*np.asnumpy(np.arange(len(q)))\n",
    "p   = np.asnumpy(q)\n",
    "p  /= p.max()\n",
    "k   = np.asnumpy(np.linspace(1,11,1001))"
   ]
  },
  {
   "cell_type": "code",
   "execution_count": 8,
   "metadata": {},
   "outputs": [
    {
     "data": {
      "image/png": "[encoded data removed]",
      "text/plain": [
       "<Figure size 432x288 with 1 Axes>"
      ]
     },
     "metadata": {
      "needs_background": "dark"
     },
     "output_type": "display_data"
    }
   ],
   "source": [
    "plt.semilogy(om,p,'w-',lw=3)\n",
    "plt.semilogy(k,1/k**2,'--',c=gld,lw=2)\n",
    "plt.annotate(r'$k^{-2}$',(8,5e-2),fontsize=20,color=gld,ha='center')\n",
    "_=plt.xlim(0,10)\n",
    "_=plt.ylim(1e-7,1)\n",
    "_=plt.xticks(np.asnumpy(np.arange(10)),fontsize=20)\n",
    "_=plt.yticks(fontsize=20)\n",
    "_=plt.xlabel(r'$\\omega$',fontsize=20,color='w')\n",
    "_=plt.ylabel(r'$PSD$',fontsize=20,color='w')"
   ]
  },
  {
   "cell_type": "markdown",
   "metadata": {},
   "source": [
    "## Einsum on the GPU\n",
    "\n",
    "Consider \n",
    "\n",
    "$$U(x,y,z) = \\sum_{\\ell\\in\\mathbb{N}\\,odd}^{\\infty}\\dfrac{\\cos(\\ell x)\\sin(\\ell z)}{\\ell^3}$$\n",
    "\n",
    "for $(x,y,z)\\in[0,\\pi]^3$. Then, in the $xz$-plane, $\\partial U/\\partial x$ is the cartesian product of two orthogonal triangle waves."
   ]
  },
  {
   "cell_type": "code",
   "execution_count": 26,
   "metadata": {},
   "outputs": [],
   "source": [
    "import cheb\n",
    "import numpy as onp"
   ]
  },
  {
   "cell_type": "code",
   "execution_count": 27,
   "metadata": {},
   "outputs": [
    {
     "name": "stdout",
     "output_type": "stream",
     "text": [
      "Sanity: array(True)\n"
     ]
    }
   ],
   "source": [
    "N = 256\n",
    "Do,xo = cheb.cheb(256)\n",
    "D,x = Do*2/np.pi,(xo+1)*np.pi/2\n",
    "sanity = np.isclose( (D@x).sum()/(N+1),1)\n",
    "print(f\"Sanity: {sanity.__repr__():s}\")\n",
    "Dgpu,xgpu = np.array(D),np.array(x)"
   ]
  },
  {
   "cell_type": "code",
   "execution_count": 28,
   "metadata": {},
   "outputs": [],
   "source": [
    "X,Y,Z = onp.meshgrid(x,x,x,indexing='ij')\n",
    "U = onp.array([ onp.cos(ell*X)*onp.sin(ell*Z)/ell**3 for ell in 2*onp.arange(31)+1 ]).sum(axis=0)"
   ]
  },
  {
   "cell_type": "code",
   "execution_count": 29,
   "metadata": {},
   "outputs": [],
   "source": [
    "Ugpu = np.array(U)"
   ]
  },
  {
   "cell_type": "code",
   "execution_count": 30,
   "metadata": {},
   "outputs": [
    {
     "name": "stdout",
     "output_type": "stream",
     "text": [
      "CPU times: user 640 µs, sys: 3.91 ms, total: 4.55 ms\n",
      "Wall time: 3.36 ms\n"
     ]
    }
   ],
   "source": [
    "%%time\n",
    "dUdx = np.einsum('ij,jkl->ikl',Dgpu,Ugpu)"
   ]
  },
  {
   "cell_type": "code",
   "execution_count": 31,
   "metadata": {},
   "outputs": [],
   "source": [
    "dUdx_iter = 0*dUdx"
   ]
  },
  {
   "cell_type": "code",
   "execution_count": 32,
   "metadata": {},
   "outputs": [
    {
     "name": "stdout",
     "output_type": "stream",
     "text": [
      "CPU times: user 18.3 ms, sys: 406 µs, total: 18.7 ms\n",
      "Wall time: 17.7 ms\n"
     ]
    }
   ],
   "source": [
    "%%time\n",
    "for k in range(Ugpu.shape[-1]):\n",
    "    dUdx_iter[:,:,k] = Dgpu @ Ugpu[:,:,k]"
   ]
  },
  {
   "cell_type": "code",
   "execution_count": 33,
   "metadata": {},
   "outputs": [],
   "source": [
    "dUdx = np.asnumpy(dUdx)"
   ]
  },
  {
   "cell_type": "code",
   "execution_count": 34,
   "metadata": {},
   "outputs": [
    {
     "data": {
      "image/png": "[encoded data removed]",
      "text/plain": [
       "<Figure size 432x432 with 1 Axes>"
      ]
     },
     "metadata": {
      "needs_background": "dark"
     },
     "output_type": "display_data"
    }
   ],
   "source": [
    "f,a = hellaPy.no_ax_fax()\n",
    "L   = onp.abs(dUdx).max() * onp.linspace(-1,1,16)\n",
    "hellaPy.mycontourf(X[:,128,:],Z[:,128,:],dUdx[:,128,:],L,cmap=hellaPy.mycm15)"
   ]
  },
  {
   "cell_type": "code",
   "execution_count": null,
   "metadata": {},
   "outputs": [],
   "source": []
  }
 ],
 "metadata": {
  "kernelspec": {
   "display_name": "rapids_Workshop",
   "language": "python",
   "name": "rapids_workshop"
  },
  "language_info": {
   "codemirror_mode": {
    "name": "ipython",
    "version": 3
   },
   "file_extension": ".py",
   "mimetype": "text/x-python",
   "name": "python",
   "nbconvert_exporter": "python",
   "pygments_lexer": "ipython3",
   "version": "3.6.7"
  }
 },
 "nbformat": 4,
 "nbformat_minor": 4
}
