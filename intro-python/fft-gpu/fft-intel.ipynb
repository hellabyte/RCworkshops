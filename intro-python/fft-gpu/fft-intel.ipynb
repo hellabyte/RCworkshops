{
 "cells": [
  {
   "cell_type": "markdown",
   "metadata": {},
   "source": [
    "# Parallelism Demo\n",
    "\n",
    "Consider $f$ where\n",
    "\n",
    "$$f(t) = \\sum_{k\\in\\mathbb{N}}^{\\infty}(-1)^k\\dfrac{\\sin[(2k+1) x]}{(2k+1)^2}$$\n"
   ]
  },
  {
   "cell_type": "code",
   "execution_count": 1,
   "metadata": {},
   "outputs": [],
   "source": [
    "import hellaPy\n",
    "from plt_style import *\n",
    "import numpy as np\n",
    "import pylab as plt\n",
    "import scipy as sp\n",
    "%matplotlib inline"
   ]
  },
  {
   "cell_type": "code",
   "execution_count": 2,
   "metadata": {},
   "outputs": [
    {
     "name": "stdout",
     "output_type": "stream",
     "text": [
      "Architecture:          x86_64\n",
      "CPU op-mode(s):        32-bit, 64-bit\n",
      "Byte Order:            Little Endian\n",
      "CPU(s):                40\n",
      "On-line CPU(s) list:   0-39\n",
      "Thread(s) per core:    1\n",
      "Core(s) per socket:    20\n",
      "Socket(s):             2\n",
      "NUMA node(s):          2\n",
      "Vendor ID:             GenuineIntel\n",
      "CPU family:            6\n",
      "Model:                 85\n",
      "Model name:            Intel(R) Xeon(R) Gold 6230 CPU @ 2.10GHz\n",
      "Stepping:              7\n",
      "CPU MHz:               2027.966\n",
      "CPU max MHz:           3900.0000\n",
      "CPU min MHz:           800.0000\n",
      "BogoMIPS:              4200.00\n",
      "Virtualization:        VT-x\n",
      "L1d cache:             32K\n",
      "L1i cache:             32K\n",
      "L2 cache:              1024K\n",
      "L3 cache:              28160K\n",
      "NUMA node0 CPU(s):     0,2,4,6,8,10,12,14,16,18,20,22,24,26,28,30,32,34,36,38\n",
      "NUMA node1 CPU(s):     1,3,5,7,9,11,13,15,17,19,21,23,25,27,29,31,33,35,37,39\n",
      "Flags:                 fpu vme de pse tsc msr pae mce cx8 apic sep mtrr pge mca cmov pat pse36 clflush dts acpi mmx fxsr sse sse2 ss ht tm pbe syscall nx pdpe1gb rdtscp lm constant_tsc art arch_perfmon pebs bts rep_good nopl xtopology nonstop_tsc aperfmperf eagerfpu pni pclmulqdq dtes64 monitor ds_cpl vmx smx est tm2 ssse3 sdbg fma cx16 xtpr pdcm pcid dca sse4_1 sse4_2 x2apic movbe popcnt tsc_deadline_timer aes xsave avx f16c rdrand lahf_lm abm 3dnowprefetch epb cat_l3 cdp_l3 invpcid_single intel_ppin intel_pt ssbd mba ibrs ibpb stibp ibrs_enhanced tpr_shadow vnmi flexpriority ept vpid fsgsbase tsc_adjust bmi1 hle avx2 smep bmi2 erms invpcid rtm cqm mpx rdt_a avx512f avx512dq rdseed adx smap clflushopt clwb avx512cd avx512bw avx512vl xsaveopt xsavec xgetbv1 cqm_llc cqm_occup_llc cqm_mbm_total cqm_mbm_local dtherm ida arat pln pts pku ospke avx512_vnni md_clear spec_ctrl intel_stibp flush_l1d arch_capabilities\n"
     ]
    }
   ],
   "source": [
    "!lscpu"
   ]
  },
  {
   "cell_type": "code",
   "execution_count": 3,
   "metadata": {},
   "outputs": [
    {
     "name": "stdout",
     "output_type": "stream",
     "text": [
      "              total        used        free      shared  buff/cache   available\n",
      "Mem:           187G         85G         59G        843M         42G        100G\n",
      "Swap:           31G        9.9M         31G\n"
     ]
    }
   ],
   "source": [
    "!free -h"
   ]
  },
  {
   "cell_type": "code",
   "execution_count": 4,
   "metadata": {},
   "outputs": [],
   "source": [
    "N = 10**7\n",
    "t = np.linspace(0,10*np.pi,N)[:-1]\n",
    "f = np.array([ (-1)**k*np.sin(ell*t)/ell**2 for k,ell in enumerate(2*np.arange(31)+1) ]).sum(axis=0)"
   ]
  },
  {
   "cell_type": "code",
   "execution_count": 5,
   "metadata": {},
   "outputs": [
    {
     "data": {
      "image/png": "[encoded data removed]",
      "text/plain": [
       "<Figure size 432x288 with 1 Axes>"
      ]
     },
     "metadata": {},
     "output_type": "display_data"
    }
   ],
   "source": [
    "skip  = 1000\n",
    "ts,fs= [ u[::skip] for u in [t,f] ]\n",
    "plt.plot(ts,fs,'w-',lw=3)\n",
    "_=plt.xticks(fontsize=20)\n",
    "_=plt.yticks(fontsize=20)\n",
    "_=plt.xlabel(r'$t$',fontsize=20,color='w')\n",
    "_=plt.ylabel(r'$f(t)$',fontsize=20,color='w')"
   ]
  },
  {
   "cell_type": "code",
   "execution_count": 6,
   "metadata": {},
   "outputs": [
    {
     "name": "stdout",
     "output_type": "stream",
     "text": [
      "MKL THREADS SET: 1\n",
      "CPU times: user 7.87 s, sys: 682 ms, total: 8.55 s\n",
      "Wall time: 9.75 s\n"
     ]
    }
   ],
   "source": [
    "%%time\n",
    "hellaPy.mkl_set_num_threads(1)\n",
    "q = abs(np.fft.fft(f)[:len(t)//2])"
   ]
  },
  {
   "cell_type": "code",
   "execution_count": 7,
   "metadata": {},
   "outputs": [
    {
     "name": "stdout",
     "output_type": "stream",
     "text": [
      "MKL THREADS SET: 2\n",
      "CPU times: user 4.89 s, sys: 173 ms, total: 5.06 s\n",
      "Wall time: 5.58 s\n"
     ]
    }
   ],
   "source": [
    "%%time\n",
    "hellaPy.mkl_set_num_threads(2)\n",
    "q = abs(np.fft.fft(f)[:len(t)//2])"
   ]
  },
  {
   "cell_type": "code",
   "execution_count": 8,
   "metadata": {},
   "outputs": [
    {
     "name": "stdout",
     "output_type": "stream",
     "text": [
      "MKL THREADS SET: 4\n",
      "CPU times: user 2.23 s, sys: 138 ms, total: 2.37 s\n",
      "Wall time: 2.43 s\n"
     ]
    }
   ],
   "source": [
    "%%time\n",
    "hellaPy.mkl_set_num_threads(4)\n",
    "q = abs(np.fft.fft(f)[:len(t)//2])"
   ]
  },
  {
   "cell_type": "code",
   "execution_count": 157,
   "metadata": {},
   "outputs": [
    {
     "name": "stdout",
     "output_type": "stream",
     "text": [
      "MKL THREADS SET: 8\n",
      "CPU times: user 23.9 ms, sys: 2.73 ms, total: 26.6 ms\n",
      "Wall time: 23.7 ms\n"
     ]
    }
   ],
   "source": [
    "%%time\n",
    "hellaPy.mkl_set_num_threads(8)\n",
    "q = abs(np.fft.fft(f)[:len(t)//2])"
   ]
  },
  {
   "cell_type": "code",
   "execution_count": 9,
   "metadata": {},
   "outputs": [
    {
     "name": "stdout",
     "output_type": "stream",
     "text": [
      "MKL THREADS SET: 40\n",
      "CPU times: user 4.79 s, sys: 150 ms, total: 4.94 s\n",
      "Wall time: 5.62 s\n"
     ]
    }
   ],
   "source": [
    "%%time\n",
    "hellaPy.mkl_set_num_threads(40)\n",
    "q = abs(np.fft.fft(f)[:len(t)//2])"
   ]
  },
  {
   "cell_type": "code",
   "execution_count": 10,
   "metadata": {},
   "outputs": [],
   "source": [
    "tau = 10*np.pi\n",
    "om0 = 2*np.pi/tau\n",
    "om  = om0*np.arange(len(q))\n",
    "p   = q/q.max()\n",
    "k   = np.linspace(1,11,1001)"
   ]
  },
  {
   "cell_type": "code",
   "execution_count": 11,
   "metadata": {},
   "outputs": [
    {
     "data": {
      "image/png": "[encoded data removed]",
      "text/plain": [
       "<Figure size 432x288 with 1 Axes>"
      ]
     },
     "metadata": {},
     "output_type": "display_data"
    }
   ],
   "source": [
    "plt.semilogy(om,p,'w-',lw=3)\n",
    "plt.semilogy(k,1/k**2,'--',c=gld,lw=2)\n",
    "plt.annotate(r'$k^{-2}$',(8,5e-2),fontsize=20,color=gld,ha='center')\n",
    "_=plt.xlim(0,10)\n",
    "_=plt.ylim(1e-7,1)\n",
    "_=plt.xticks(np.arange(10),fontsize=20)\n",
    "_=plt.yticks(fontsize=20)\n",
    "_=plt.xlabel(r'$\\omega$',fontsize=20,color='w')\n",
    "_=plt.ylabel(r'$PSD$',fontsize=20,color='w')"
   ]
  },
  {
   "cell_type": "markdown",
   "metadata": {},
   "source": [
    "## Einsum On the CPU\n",
    "\n",
    "Consider \n",
    "\n",
    "$$U(x,y,z) = \\sum_{\\ell\\in\\mathbb{N}\\,odd}^{\\infty}\\dfrac{\\cos(\\ell x)\\sin(\\ell z)}{\\ell^3}$$\n",
    "\n",
    "for $(x,y,z)\\in[0,\\pi]^3$. Then, in the $xz$-plane, $\\partial U/\\partial x$ is the cartesian product of two orthogonal triangle waves."
   ]
  },
  {
   "cell_type": "code",
   "execution_count": 12,
   "metadata": {},
   "outputs": [],
   "source": [
    "import cheb"
   ]
  },
  {
   "cell_type": "code",
   "execution_count": 13,
   "metadata": {},
   "outputs": [
    {
     "name": "stdout",
     "output_type": "stream",
     "text": [
      "Sanity: True\n"
     ]
    }
   ],
   "source": [
    "N = 256\n",
    "Do,xo = cheb.cheb(N)\n",
    "D,x = Do*2/np.pi,(xo+1)*np.pi/2\n",
    "sanity = np.isclose( (D@x).sum()/(N+1),1)\n",
    "print(f\"Sanity: {sanity.__repr__():s}\")"
   ]
  },
  {
   "cell_type": "code",
   "execution_count": 14,
   "metadata": {},
   "outputs": [],
   "source": [
    "X,Y,Z = np.meshgrid(x,x,x,indexing='ij')\n",
    "U = np.array([ np.cos(ell*X)*np.sin(ell*Z)/ell**3 for ell in 2*np.arange(31)+1 ]).sum(axis=0)"
   ]
  },
  {
   "cell_type": "code",
   "execution_count": 15,
   "metadata": {},
   "outputs": [
    {
     "name": "stdout",
     "output_type": "stream",
     "text": [
      "MKL THREADS SET: 40\n"
     ]
    }
   ],
   "source": [
    "hellaPy.mkl_set_num_threads(40)"
   ]
  },
  {
   "cell_type": "code",
   "execution_count": 16,
   "metadata": {},
   "outputs": [
    {
     "name": "stdout",
     "output_type": "stream",
     "text": [
      "CPU times: user 4.1 s, sys: 29 ms, total: 4.13 s\n",
      "Wall time: 4.59 s\n"
     ]
    }
   ],
   "source": [
    "%%time\n",
    "dUdx = np.einsum('ij,jkl->ikl',D,U)"
   ]
  },
  {
   "cell_type": "code",
   "execution_count": 17,
   "metadata": {},
   "outputs": [],
   "source": [
    "dUdx_iter = 0*dUdx"
   ]
  },
  {
   "cell_type": "code",
   "execution_count": 18,
   "metadata": {},
   "outputs": [
    {
     "name": "stdout",
     "output_type": "stream",
     "text": [
      "CPU times: user 23 s, sys: 3.97 s, total: 26.9 s\n",
      "Wall time: 1.43 s\n"
     ]
    }
   ],
   "source": [
    "%%time\n",
    "for k in range(U.shape[-1]):\n",
    "    dUdx_iter[:,:,k] = D @ U[:,:,k]"
   ]
  },
  {
   "cell_type": "code",
   "execution_count": 19,
   "metadata": {},
   "outputs": [
    {
     "data": {
      "image/png": "[encoded data removed]",
      "text/plain": [
       "<Figure size 432x432 with 1 Axes>"
      ]
     },
     "metadata": {},
     "output_type": "display_data"
    }
   ],
   "source": [
    "f,a = hellaPy.no_ax_fax()\n",
    "L   = np.abs(dUdx).max() * np.linspace(-1,1,16)\n",
    "hellaPy.mycontourf(X[:,128,:],Z[:,128,:],dUdx[:,128,:],L,cmap=hellaPy.mycm15)"
   ]
  },
  {
   "cell_type": "code",
   "execution_count": null,
   "metadata": {},
   "outputs": [],
   "source": []
  }
 ],
 "metadata": {
  "kernelspec": {
   "display_name": "pyintel",
   "language": "python",
   "name": "pyintel"
  },
  "language_info": {
   "codemirror_mode": {
    "name": "ipython",
    "version": 3
   },
   "file_extension": ".py",
   "mimetype": "text/x-python",
   "name": "python",
   "nbconvert_exporter": "python",
   "pygments_lexer": "ipython3",
   "version": "3.6.3"
  }
 },
 "nbformat": 4,
 "nbformat_minor": 4
}
