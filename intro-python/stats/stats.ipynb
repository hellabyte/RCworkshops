{
 "cells": [
  {
   "cell_type": "markdown",
   "metadata": {},
   "source": [
    "Quick Statistics Exercise\n",
    "===\n",
    "\n",
    "The file `gen_data.sh` quickly generates 1,000 Cartesian (two-column x,y) data files of sinsoidal signals with an additive white Gaussian noise component. \n",
    "\n",
    "This ipython notebook explores how to quickly read those data files into memory and perform operations on them."
   ]
  },
  {
   "cell_type": "code",
   "execution_count": 1,
   "metadata": {},
   "outputs": [],
   "source": [
    "# Standard module imports and Jupyter magics\n",
    "%matplotlib inline\n",
    "import sys\n",
    "sys.path.append('../common')\n",
    "from plt_style import *\n",
    "import glob,natsort"
   ]
  },
  {
   "cell_type": "code",
   "execution_count": 2,
   "metadata": {},
   "outputs": [],
   "source": [
    "# Scientific/Numerical modules required by exercise\n",
    "import numpy as np\n",
    "import pylab as plt"
   ]
  },
  {
   "cell_type": "code",
   "execution_count": 18,
   "metadata": {},
   "outputs": [],
   "source": [
    "# Generate synthetic data for the exercise\n",
    "!tar xjf dat.txz"
   ]
  },
  {
   "cell_type": "code",
   "execution_count": 4,
   "metadata": {},
   "outputs": [
    {
     "name": "stdout",
     "output_type": "stream",
     "text": [
      "total 32000\n",
      "-rw-r--r-- 1 jyalim jyalim 25250 Aug 31 12:16 seed_000.txt\n",
      "-rw-r--r-- 1 jyalim jyalim 25256 Aug 31 12:16 seed_001.txt\n",
      "-rw-r--r-- 1 jyalim jyalim 25256 Aug 31 12:16 seed_002.txt\n",
      "-rw-r--r-- 1 jyalim jyalim 25247 Aug 31 12:16 seed_003.txt\n",
      "-rw-r--r-- 1 jyalim jyalim 25252 Aug 31 12:16 seed_004.txt\n",
      "-rw-r--r-- 1 jyalim jyalim 25245 Aug 31 12:16 seed_005.txt\n",
      "-rw-r--r-- 1 jyalim jyalim 25248 Aug 31 12:16 seed_006.txt\n",
      "-rw-r--r-- 1 jyalim jyalim 25251 Aug 31 12:16 seed_007.txt\n",
      "-rw-r--r-- 1 jyalim jyalim 25248 Aug 31 12:16 seed_008.txt\n",
      "ls: write error: Broken pipe\n",
      "-rw-r--r-- 1 jyalim jyalim 25252 Aug 31 12:16 seed_990.txt\n",
      "-rw-r--r-- 1 jyalim jyalim 25248 Aug 31 12:16 seed_991.txt\n",
      "-rw-r--r-- 1 jyalim jyalim 25249 Aug 31 12:16 seed_992.txt\n",
      "-rw-r--r-- 1 jyalim jyalim 25255 Aug 31 12:16 seed_993.txt\n",
      "-rw-r--r-- 1 jyalim jyalim 25249 Aug 31 12:16 seed_994.txt\n",
      "-rw-r--r-- 1 jyalim jyalim 25254 Aug 31 12:16 seed_995.txt\n",
      "-rw-r--r-- 1 jyalim jyalim 25255 Aug 31 12:16 seed_996.txt\n",
      "-rw-r--r-- 1 jyalim jyalim 25247 Aug 31 12:16 seed_997.txt\n",
      "-rw-r--r-- 1 jyalim jyalim 25251 Aug 31 12:16 seed_998.txt\n",
      "-rw-r--r-- 1 jyalim jyalim 25253 Aug 31 12:16 seed_999.txt\n",
      "33M\tdat/\n",
      "33M\ttotal\n"
     ]
    }
   ],
   "source": [
    "# Exploring the filesystem\n",
    "!ls -l dat/ | head -n 10 \n",
    "!ls -l dat/ | tail -n 10\n",
    "!du --si -cs dat/"
   ]
  },
  {
   "cell_type": "markdown",
   "metadata": {},
   "source": [
    "Glob\n",
    "---\n",
    "\n",
    "One of the easiest ways to obtain paths to data files in python is to use the `glob` module which provides the `glob.glob` function. This function matches patterns in the filesystem based on standard regex, e.g. `dat/*.txt` expands to all files with extension `.txt` in the relative `dat/` directory.\n",
    "\n",
    "Natsort\n",
    "---\n",
    "\n",
    "This very powerful module provides a sorting mechansim uncommon to the standard Linux shell: the `natsort.realsorted` function will sort strings based on real (floating) point values, e.g. \n",
    "\n",
    "`natsort.realsorted(['string_5e-2.txt','string_5e3.txt','string_5e0.txt'])` \n",
    "\n",
    "becomes: \n",
    "\n",
    "`['string_5e-2.txt', 'string_5e0.txt', 'string_5e3.txt']`\n"
   ]
  },
  {
   "cell_type": "code",
   "execution_count": 5,
   "metadata": {},
   "outputs": [
    {
     "name": "stdout",
     "output_type": "stream",
     "text": [
      "['dat/seed_000.txt', 'dat/seed_001.txt', 'dat/seed_002.txt', 'dat/seed_003.txt', 'dat/seed_004.txt', 'dat/seed_005.txt', 'dat/seed_006.txt', 'dat/seed_007.txt', 'dat/seed_008.txt', 'dat/seed_009.txt']\n",
      "['dat/seed_990.txt', 'dat/seed_991.txt', 'dat/seed_992.txt', 'dat/seed_993.txt', 'dat/seed_994.txt', 'dat/seed_995.txt', 'dat/seed_996.txt', 'dat/seed_997.txt', 'dat/seed_998.txt', 'dat/seed_999.txt']\n"
     ]
    }
   ],
   "source": [
    "G = natsort.realsorted(glob.glob('dat/*.txt'))\n",
    "print(G[:10])\n",
    "print(G[-10:])"
   ]
  },
  {
   "cell_type": "markdown",
   "metadata": {},
   "source": [
    "Investigating the Data\n",
    "---\n",
    "\n",
    "Here we'll plot a single noisy signal, to get a good visual sample of what the data look like."
   ]
  },
  {
   "cell_type": "code",
   "execution_count": 6,
   "metadata": {},
   "outputs": [
    {
     "data": {
      "image/png": "[encoded data removed]",
      "text/plain": [
       "<Figure size 432x288 with 1 Axes>"
      ]
     },
     "metadata": {},
     "output_type": "display_data"
    }
   ],
   "source": [
    "x,y = np.loadtxt(G[0]).T\n",
    "plt.figure()\n",
    "plt.plot(x,y,'w-')\n",
    "plt.xticks(fontsize=18)\n",
    "plt.yticks(fontsize=18)\n",
    "plt.title('Seed 0 is indeed a noisy signal',fontsize=18)\n",
    "plt.gcf().set_facecolor('#111111');"
   ]
  },
  {
   "cell_type": "markdown",
   "metadata": {},
   "source": [
    "Recovering the Mean signal\n",
    "---\n",
    "\n",
    "Here two methods are presented for recovering the mean signal. \n",
    "\n",
    "The first method, slightly slower, uses an explicit loop. \n",
    "\n",
    "The second method uses a list comprehension.\n",
    "\n",
    "Why is one method faster than the other? \n",
    "\n",
    "Because the explicit loop uses more high-level (and slow) python interpretation between executions of very fast C code."
   ]
  },
  {
   "cell_type": "code",
   "execution_count": 7,
   "metadata": {},
   "outputs": [
    {
     "name": "stdout",
     "output_type": "stream",
     "text": [
      "CPU times: user 2.73 s, sys: 58.2 ms, total: 2.79 s\n",
      "Wall time: 4.34 s\n"
     ]
    }
   ],
   "source": [
    "%%time\n",
    "# Note that the zeroth file is already read\n",
    "D = y\n",
    "for k,g in enumerate(G):\n",
    "    if k > 0:\n",
    "        x,y = np.loadtxt(g).T\n",
    "        D += y\n",
    "M = D / k"
   ]
  },
  {
   "cell_type": "code",
   "execution_count": 8,
   "metadata": {},
   "outputs": [
    {
     "name": "stdout",
     "output_type": "stream",
     "text": [
      "CPU times: user 2.53 s, sys: 74.5 ms, total: 2.6 s\n",
      "Wall time: 3.25 s\n"
     ]
    }
   ],
   "source": [
    "%%time\n",
    "D = np.array([ np.loadtxt(g).T[1] for g in G ])\n",
    "M = np.mean(D,axis=0)"
   ]
  },
  {
   "cell_type": "markdown",
   "metadata": {},
   "source": [
    "### Mean signal\n",
    "\n",
    "Now that the mean signal is recovered in memory, we can visualize:"
   ]
  },
  {
   "cell_type": "code",
   "execution_count": 10,
   "metadata": {},
   "outputs": [
    {
     "data": {
      "image/png": "[encoded data removed]",
      "text/plain": [
       "<Figure size 432x288 with 1 Axes>"
      ]
     },
     "metadata": {},
     "output_type": "display_data"
    }
   ],
   "source": [
    "plt.plot(x,M,'r-',lw=3)\n",
    "plt.xticks(fontsize=18)\n",
    "plt.yticks(fontsize=18)\n",
    "plt.title('Mean signal')\n",
    "plt.gcf().set_facecolor('#111111');"
   ]
  },
  {
   "cell_type": "markdown",
   "metadata": {},
   "source": [
    "Signal Perturbation\n",
    "---\n",
    "\n",
    "What about the accumulated noise?\n",
    "\n",
    "Note that `D` and `M` have different shapes, yet python's numpy is smart enough to figure it out"
   ]
  },
  {
   "cell_type": "code",
   "execution_count": 11,
   "metadata": {},
   "outputs": [
    {
     "name": "stdout",
     "output_type": "stream",
     "text": [
      "(1000, 500)\n",
      "(500,)\n"
     ]
    }
   ],
   "source": [
    "print(D.shape)\n",
    "print(M.shape)"
   ]
  },
  {
   "cell_type": "code",
   "execution_count": 12,
   "metadata": {},
   "outputs": [
    {
     "name": "stdout",
     "output_type": "stream",
     "text": [
      "CPU times: user 237 ms, sys: 16 ms, total: 253 ms\n",
      "Wall time: 98.7 ms\n"
     ]
    }
   ],
   "source": [
    "%%time\n",
    "# Slow explicit method\n",
    "\n",
    "# initialize object\n",
    "dZ = 0*D\n",
    "for k,d in enumerate(D):\n",
    "    dZ[k] = d - M"
   ]
  },
  {
   "cell_type": "code",
   "execution_count": 13,
   "metadata": {},
   "outputs": [
    {
     "name": "stdout",
     "output_type": "stream",
     "text": [
      "CPU times: user 8.06 ms, sys: 3.96 ms, total: 12 ms\n",
      "Wall time: 10.7 ms\n"
     ]
    }
   ],
   "source": [
    "%%time\n",
    "# Fast list comprehension way from previous example\n",
    "dY = np.array([d - M for d in D])"
   ]
  },
  {
   "cell_type": "code",
   "execution_count": 14,
   "metadata": {},
   "outputs": [
    {
     "name": "stdout",
     "output_type": "stream",
     "text": [
      "CPU times: user 328 µs, sys: 5.98 ms, total: 6.31 ms\n",
      "Wall time: 4.77 ms\n"
     ]
    }
   ],
   "source": [
    "%%time\n",
    "# Significantly faster method\n",
    "dX = D - M"
   ]
  },
  {
   "cell_type": "code",
   "execution_count": 15,
   "metadata": {},
   "outputs": [
    {
     "name": "stdout",
     "output_type": "stream",
     "text": [
      "0.0\n",
      "0.0\n"
     ]
    }
   ],
   "source": [
    "# Verification\n",
    "print(abs(dX-dZ).max())\n",
    "print(abs(dX-dY).max())\n"
   ]
  },
  {
   "cell_type": "code",
   "execution_count": 17,
   "metadata": {},
   "outputs": [
    {
     "data": {
      "image/png": "[encoded data removed]",
      "text/plain": [
       "<Figure size 432x288 with 1 Axes>"
      ]
     },
     "metadata": {},
     "output_type": "display_data"
    }
   ],
   "source": [
    "# Visualization (change the bin number)\n",
    "plt.hist(dX.flatten(),bins=25,edgecolor='k',facecolor='#ffff00')\n",
    "plt.title('Perturbation Histogram',fontsize=24)\n",
    "plt.xticks(fontsize=18)\n",
    "plt.yticks(fontsize=18)\n",
    "plt.gcf().set_facecolor('#111111');"
   ]
  },
  {
   "cell_type": "code",
   "execution_count": null,
   "metadata": {},
   "outputs": [],
   "source": []
  }
 ],
 "metadata": {
  "kernelspec": {
   "display_name": "pyintel",
   "language": "python",
   "name": "pyintel"
  },
  "language_info": {
   "codemirror_mode": {
    "name": "ipython",
    "version": 3
   },
   "file_extension": ".py",
   "mimetype": "text/x-python",
   "name": "python",
   "nbconvert_exporter": "python",
   "pygments_lexer": "ipython3",
   "version": "3.6.3"
  }
 },
 "nbformat": 4,
 "nbformat_minor": 2
}
