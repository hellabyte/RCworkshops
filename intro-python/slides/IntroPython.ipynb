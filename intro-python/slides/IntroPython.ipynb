{
 "cells": [
  {
   "cell_type": "markdown",
   "metadata": {
    "slideshow": {
     "slide_type": "slide"
    }
   },
   "source": [
    "# Introduction to Python for Scientific Computing\n",
    "\n",
    "### PEARC19 / Tutorial for Student Modeling Challenge\n",
    "\n",
    "<hr></hr>\n",
    "\n",
    "**If you haven't yet installed Anaconda Python Distribution (Python 3.7) on your laptop, do so now:**\n",
    "\n",
    "https://www.anaconda.com/distribution/<br/>\n",
    "\n",
    "**You can also download these slides and related material in a zip file at:**\n",
    "\n",
    "https://tinyurl.com/PEARC19Py\n",
    "\n",
    "\n",
    "**We have Anaconda Python and course materials on USB drives if you cannot download.**"
   ]
  },
  {
   "cell_type": "markdown",
   "metadata": {
    "slideshow": {
     "slide_type": "slide"
    }
   },
   "source": [
    "# Python Intro\n",
    "\n",
    "### Based on slides from PEARC19 \n",
    "\n",
    "#### Chris Myers\n",
    "*Center for Advanced Computing, Cornell University*\n",
    "\n",
    "#### Kate Cahill \n",
    "*Ohio Supercomputing Center*\n",
    "\n",
    "#### Aaron Weeden\n",
    "*Shodor Education Foundation*\n",
    "    \n",
    "<br>\n",
    "\n",
    "*based in part on previous PEARC Python tutorials developed by Steve Lantz (Cornell CAC) and others*"
   ]
  },
  {
   "cell_type": "markdown",
   "metadata": {
    "slideshow": {
     "slide_type": "slide"
    }
   },
   "source": [
    "# Downloads\n",
    "\n",
    "### Anaconda Python Distribution (Python 3.7) :  \n",
    "https://www.anaconda.com/distribution/\n",
    "\n",
    "### These slides and associated material in a zip file : \n",
    "https://tinyurl.com/PEARC19Py\n",
    "\n",
    "* Unzip to create folder named: **PEARC19_IntroPython**\n",
    "* Within that folder, find:\n",
    "    * Jupyter notebook for these slides: **PEARC19_IntroPython.ipynb**\n",
    "    * Notebook as static HTML page: **PEARC19_IntroPython.html**\n",
    "    * Notebook as static Reveal.js HTML slides: **PEARC19_IntroPython.slides.html**\n",
    "    * python files for exercises in subdirectory: **pyfiles**\n",
    "    * associated images and data files in subdirectory: **otherfiles**\n",
    "    "
   ]
  },
  {
   "cell_type": "markdown",
   "metadata": {
    "slideshow": {
     "slide_type": "slide"
    }
   },
   "source": [
    "# Outline\n",
    "\n",
    "1. Introduction to Python\n",
    "3. Input / output\n",
    "4. Control flow\n",
    "5. Functions\n",
    "6. Objects, classes, and built-in datatypes\n",
    "7. Modules, import, and the Python ecosystem\n",
    "9. Plotting\n",
    "10. A concluding exercise"
   ]
  },
  {
   "cell_type": "markdown",
   "metadata": {
    "slideshow": {
     "slide_type": "slide"
    }
   },
   "source": [
    "# Questions\n",
    "\n",
    "* How many of you have prior experience programming in Python?\n",
    "* If not Python, what other programming languages do you have experience with?\n",
    "\n",
    "# Questions?\n",
    "\n",
    "* If something is confusing, not working, or piques your curiosity, please let us know.\n",
    "* Feel free to ask your neighbors for help, too.  Computing should be a communal activity."
   ]
  },
  {
   "cell_type": "markdown",
   "metadata": {
    "slideshow": {
     "slide_type": "slide"
    }
   },
   "source": [
    "# Python as a programming language\n",
    "\n",
    "### General-purpose\n",
    "* Python was not designed as a language for scientific/technical computing (unlike MATLAB, R, Mathematica)\n",
    "* Additional functionality is provided by external libraries that can be imported\n",
    "\n",
    "### Interpreted\n",
    "* Code is executed by another program (an interpreter), not compiled into an executable\n",
    "* Can be run standalone (<code>python filename.py</code>) or in an interactive mode"
   ]
  },
  {
   "cell_type": "markdown",
   "metadata": {
    "slideshow": {
     "slide_type": "slide"
    }
   },
   "source": [
    "# Python as a programming language\n",
    "\n",
    "### Dynamically typed\n",
    "* Variables acquire the type of whatever object is assigned to them, do not need to be declared\n",
    "* Code will run if objects are able to carry out the operations asked of them (\"duck typing\")\n",
    "\n",
    "### Object-oriented\n",
    "* Everything\\* is an object, with an associated namespace (\\*except for keywords that are part of language)\n",
    "* Programming support for defining new classes of objects"
   ]
  },
  {
   "cell_type": "markdown",
   "metadata": {
    "slideshow": {
     "slide_type": "slide"
    }
   },
   "source": [
    "# Python as an ecosystem\n",
    "\n",
    "### Flexible and expressive programming language\n",
    "\n",
    "### Rich set of external packages\n",
    "* Python Standard Library\n",
    "* Third-party libraries and tools for scientific computing, data science, visualization, web programming, etc.\n",
    "* numpy, scipy, pandas, matplotlib, seaborn, scikit-learn, sympy, networkx, ipython, jupyter, etc.\n",
    "\n",
    "### Enthusiastic and productive developer and user communities\n",
    "* https://www.python.org"
   ]
  },
  {
   "cell_type": "markdown",
   "metadata": {
    "slideshow": {
     "slide_type": "slide"
    }
   },
   "source": [
    "# Development and execution environments\n",
    "\n",
    "We need to be able to write code, and to run code.  There are many ways to do this.\n",
    "\n",
    "### Code Editors\n",
    "* too many to name, but you want one that provides support for Python programming\n",
    "\n",
    "### Python Interpreters\n",
    "* python: the default interpreter (also known as CPython)\n",
    "* ipython: enhanced interpreter to facilitate interactive exploration and development\n",
    "\n",
    "### Notebooks and integrated development environments (IDEs)\n",
    "* Jupyter: browser-based notebooks (integration of ipython, markdown and graphics)\n",
    "* Spyder: IDE with editor, ipython interpreter, various explorer panes\n",
    "* many others"
   ]
  },
  {
   "cell_type": "markdown",
   "metadata": {
    "slideshow": {
     "slide_type": "slide"
    }
   },
   "source": [
    "# Development and execution environments (continued)\n",
    "\n",
    "### Standalone editor + python/ipython in terminal\n",
    "* Flexibility to use editor of choice and lightweight environment for running code\n",
    "* ipython for exploratory data analysis or algorithm development / python for command line jobs\n",
    "\n",
    "### Integrated development environment (IDE)\n",
    "* Useful integration of editor and interpreter with additional support (e.g., file/variable explorers)\n",
    "* Similar to environments developed for other languages (e.g., MATLAB GUI, RStudio)\n",
    "\n",
    "### Jupyter notebooks\n",
    "* Integrate code, documentation and graphics -- great for presenting computations and results\n",
    "* Less useful as a development environment for creating large libraries or programs (but can run/load code developed elsewhere)\n"
   ]
  },
  {
   "cell_type": "markdown",
   "metadata": {
    "slideshow": {
     "slide_type": "slide"
    }
   },
   "source": [
    "# Editors, terminals and applications\n",
    "\n",
    "* If no editor and terminal, jupyter notebook provides these too\n",
    "* Notebook will open in your default browser\n",
    "\n",
    "### Starting jupyter notebook from the command line\n",
    "\n",
    "* ```cd PEARC19_IntroPython``` before starting jupyter notebook\n",
    "* enter ```jupyter notebook``` on the command line\n",
    "\n",
    "### Starting jupyter notebook from Anaconda-Navigator\n",
    "\n",
    "* select jupyter notebook from graphical panel\n",
    "* navigate to ```PEARC19_IntroPython``` once you've started up jupyter notebook\n",
    "\n",
    "![](otherfiles/anaconda-navigator-img.png)"
   ]
  },
  {
   "cell_type": "markdown",
   "metadata": {
    "slideshow": {
     "slide_type": "slide"
    }
   },
   "source": [
    "# Writing and running our first program\n",
    "\n",
    "<code># Our first program\n",
    "print('Hello, world!')\n",
    "</code>\n",
    "\n",
    "<hr>\n",
    "\n",
    "* Standalone editor + python/ipython in terminal\n",
    "    * (either use your own editor and terminal, or...)\n",
    "    * from jupyter Home, select ```New > Text File```\n",
    "    * navigate to file, rename as ```hello.py```, add code, and save file\n",
    "    * from jupyter Home, select ```New > Terminal```\n",
    "    * run ```python hello.py``` in terminal\n",
    "    * start ipython and enter ```%run hello.py```\n",
    "    "
   ]
  },
  {
   "cell_type": "markdown",
   "metadata": {
    "slideshow": {
     "slide_type": "slide"
    }
   },
   "source": [
    "# Running our program in spyder\n",
    "\n",
    "### Starting spyder from the command line\n",
    "\n",
    "* ```cd PEARC19_IntroPython```\n",
    "* enter ```spyder``` on the command line\n",
    "\n",
    "### Starting spyder from Anaconda-Navigator\n",
    "\n",
    "* select spyder from graphical panel\n",
    "* navigate to ```PEARC19_IntroPython``` once you've started up spyder\n",
    "\n",
    "### Working in spyder\n",
    "\n",
    "* Open existing file ```hello.py```  (or create a new file if want)\n",
    "* Click \"Run file\" button (green right triangle) and observe output in the console window"
   ]
  },
  {
   "cell_type": "markdown",
   "metadata": {
    "slideshow": {
     "slide_type": "slide"
    }
   },
   "source": [
    "# Running our program in a Jupyter notebook\n",
    "\n",
    "* We're running in one now... \n",
    "* ( rendered as live slides via https://github.com/damianavila/RISE )\n",
    "* After starting jupyter notebook, select **PEARC19_IntroPython.ipynb** and scroll down to here\n",
    "* This cell is a **Markdown** cell, for text and documentation\n",
    "* The cells below are **Code** cells\n",
    "* Cell mode can be changed with the buttons/menus at the top of the web page\n",
    "* A cell is **executed** via ```Shift+Enter```\n",
    "* Any line starting with ```%``` or ```%%``` is a \"magic\" function in ipython/jupyter, not part of Python language"
   ]
  },
  {
   "cell_type": "code",
   "execution_count": 1,
   "metadata": {
    "slideshow": {
     "slide_type": "-"
    }
   },
   "outputs": [
    {
     "name": "stdout",
     "output_type": "stream",
     "text": [
      "Hello, World!\n"
     ]
    }
   ],
   "source": [
    "%run hello.py"
   ]
  },
  {
   "cell_type": "code",
   "execution_count": 2,
   "metadata": {
    "slideshow": {
     "slide_type": "-"
    }
   },
   "outputs": [
    {
     "data": {
      "text/plain": [
       "4"
      ]
     },
     "execution_count": 2,
     "metadata": {},
     "output_type": "execute_result"
    }
   ],
   "source": [
    "2 + 2"
   ]
  },
  {
   "cell_type": "markdown",
   "metadata": {
    "slideshow": {
     "slide_type": "slide"
    }
   },
   "source": [
    "# Help\n",
    "\n",
    "* Online Python documentation: https://docs.python.org/3/\n",
    "* Interactive help function and ipython/jupyter ?/??"
   ]
  },
  {
   "cell_type": "code",
   "execution_count": 3,
   "metadata": {
    "slideshow": {
     "slide_type": "-"
    }
   },
   "outputs": [],
   "source": [
    "#help()"
   ]
  },
  {
   "cell_type": "code",
   "execution_count": 4,
   "metadata": {},
   "outputs": [],
   "source": [
    "#print?"
   ]
  },
  {
   "cell_type": "markdown",
   "metadata": {
    "slideshow": {
     "slide_type": "slide"
    }
   },
   "source": [
    "# The Python Scientific Computing Ecosystem\n",
    "\n",
    "* Python Standard Library: system/os interaction, many utilities\n",
    "* Third-party libraries (many wrappers around libraries written in **compiled** languages)\n",
    "    * numpy: multidimensional arrays & array syntax; linear algebra; random numbers\n",
    "    * scipy: numerical routines for many common algorithms\n",
    "    * pandas: DataFrames and Series for dealing with tabular data\n",
    "    * matplotlib: plotting and data visualization\n",
    "    * etc.\n",
    "\n",
    "* Anaconda and other distributions come bundled with many packages\n",
    "* use ```conda``` package manager for installing /updating packages in Anaconda\n",
    "* use ```pip``` package manager for installing from Python Package Index (PyPI) with any distribution"
   ]
  },
  {
   "cell_type": "markdown",
   "metadata": {
    "slideshow": {
     "slide_type": "slide"
    }
   },
   "source": [
    "# NumPy"
   ]
  },
  {
   "cell_type": "code",
   "execution_count": null,
   "metadata": {
    "slideshow": {
     "slide_type": "-"
    }
   },
   "outputs": [],
   "source": [
    "import numpy as np   # imports numpy, but calls it np\n",
    "\n",
    "a = np.array([[1,2,3], [4,5,6], [7,8,9]])\n",
    "print( a )\n",
    "print()\n",
    "\n",
    "print( a[1,1] )\n",
    "print( a[2] )\n",
    "print( a[1:,1:] )\n",
    "print()\n",
    "print( a.shape, a.dtype )"
   ]
  },
  {
   "cell_type": "markdown",
   "metadata": {
    "slideshow": {
     "slide_type": "slide"
    }
   },
   "source": [
    "# Array operations\n",
    "\n",
    "* element-wise arithmetic operations\n",
    "* equivalent to looping over all the elements and executing the operation\n",
    "* array-level operations are cleaner and faster\n",
    "* avoid for loops over arrays if you can"
   ]
  },
  {
   "cell_type": "code",
   "execution_count": null,
   "metadata": {
    "slideshow": {
     "slide_type": "slide"
    }
   },
   "outputs": [],
   "source": [
    "b = np.array([[0.1, 0.2, 0.3], [0.4, 0.5, 0.6], [0.7, 0.8, 0.9]])\n",
    "print( a, '\\n')\n",
    "print( b, '\\n')\n",
    "\n",
    "c = a + b    # a and b must be of the same shape\n",
    "\n",
    "print( c, '\\n')\n",
    "\n",
    "d = a * b    # element-wise array multiplication: NOT matrix multiplication\n",
    "print( d, '\\n')\n",
    "\n",
    "print( 100 * b )"
   ]
  },
  {
   "cell_type": "markdown",
   "metadata": {
    "slideshow": {
     "slide_type": "slide"
    }
   },
   "source": [
    "# Array operations (continued)\n",
    "\n",
    "* Mathematical functions (e.g., trig, log/exp, etc.)\n",
    "* Utility functions"
   ]
  },
  {
   "cell_type": "code",
   "execution_count": null,
   "metadata": {},
   "outputs": [],
   "source": [
    "x = np.linspace(0., 1., 11)\n",
    "print( x, '\\n')\n",
    "print( np.sin(x), '\\n')\n",
    "\n",
    "y = np.ones((4,4))\n",
    "print( y )"
   ]
  },
  {
   "cell_type": "markdown",
   "metadata": {
    "slideshow": {
     "slide_type": "slide"
    }
   },
   "source": [
    "# Array operations (continued)\n",
    "\n",
    "* methods on arrays (over entire array, or along a specific axis, e.g., row or column)\n",
    "* <code>sum(), mean(), std(), min(), max(), etc.</code>"
   ]
  },
  {
   "cell_type": "code",
   "execution_count": null,
   "metadata": {},
   "outputs": [],
   "source": [
    "print(a, '\\n')\n",
    "\n",
    "print( a.sum() )\n",
    "print( a.sum(axis=0) )  # axis = 0: rows\n",
    "print( a.sum(axis=1) )  # axis = 1: columns\n",
    "\n",
    "print()\n",
    "\n",
    "print( a.mean() )\n",
    "print( a.mean(axis=1) )"
   ]
  },
  {
   "cell_type": "markdown",
   "metadata": {
    "slideshow": {
     "slide_type": "slide"
    }
   },
   "source": [
    "# Random numbers"
   ]
  },
  {
   "cell_type": "code",
   "execution_count": null,
   "metadata": {
    "slideshow": {
     "slide_type": "-"
    }
   },
   "outputs": [],
   "source": [
    "x = np.random.random(10)\n",
    "\n",
    "print( x )\n",
    "print( x.mean() )\n",
    "print( np.mean(x) )"
   ]
  },
  {
   "cell_type": "code",
   "execution_count": null,
   "metadata": {
    "slideshow": {
     "slide_type": "slide"
    }
   },
   "outputs": [],
   "source": [
    "# generate N random steps in x-y plane (D=2)\n",
    "N = 10000\n",
    "steps = np.random.random((N,2))-0.5\n",
    "\n",
    "# make a walk by cumulatively summing each step\n",
    "walk = np.cumsum(steps, axis=0)\n",
    "\n",
    "# plot the walk in the x-y plane\n",
    "import matplotlib.pyplot as plt\n",
    "%matplotlib inline\n",
    "plt.plot(walk[:,0], walk[:,1])"
   ]
  },
  {
   "cell_type": "markdown",
   "metadata": {
    "slideshow": {
     "slide_type": "slide"
    }
   },
   "source": [
    "# Exercise: more fun with random numbers\n",
    "\n",
    "For values of N equal to [1, 10, 100, 1000, 10000, 100000, 1000000]:\n",
    "\n",
    "compute the mean of N random numbers\n",
    "\n",
    "print the value of N and the computed mean"
   ]
  },
  {
   "cell_type": "code",
   "execution_count": null,
   "metadata": {},
   "outputs": [],
   "source": [
    "# YOUR CODE HERE"
   ]
  },
  {
   "cell_type": "code",
   "execution_count": null,
   "metadata": {
    "slideshow": {
     "slide_type": "slide"
    }
   },
   "outputs": [],
   "source": [
    "# SOLUTION\n",
    "\n",
    "for N in [1,10,100,1000,10000,100000,1000000]:\n",
    "    rmean = np.mean(np.random.random(N))\n",
    "    print(N, rmean)"
   ]
  },
  {
   "cell_type": "code",
   "execution_count": null,
   "metadata": {},
   "outputs": [],
   "source": [
    "# ALTERNATIVE SOLUTION\n",
    "\n",
    "for N in 10**np.arange(0,6,1):\n",
    "    rmean = np.mean(np.random.random(N))\n",
    "    print(N, rmean)"
   ]
  },
  {
   "cell_type": "markdown",
   "metadata": {
    "slideshow": {
     "slide_type": "slide"
    }
   },
   "source": [
    "# SciPy"
   ]
  },
  {
   "cell_type": "code",
   "execution_count": null,
   "metadata": {},
   "outputs": [],
   "source": [
    "# Root finding using fsolve\n",
    "\n",
    "from scipy.optimize import fsolve\n",
    "\n",
    "# Finds solutions of f(x)=0 (x can be array of values)\n",
    "\n",
    "def myfunc(x):\n",
    "    return 0.8 + 3.2*x - 2.5*x**2\n",
    "\n",
    "root1 = fsolve(myfunc, x0=1.)\n",
    "print( root1 )\n",
    "\n",
    "root2 = fsolve(myfunc, x0=-1.)\n",
    "print( root2 )"
   ]
  },
  {
   "cell_type": "code",
   "execution_count": null,
   "metadata": {
    "slideshow": {
     "slide_type": "slide"
    }
   },
   "outputs": [],
   "source": [
    "import matplotlib.pyplot as plt\n",
    "xs = np.arange(-1, 2, 0.1)\n",
    "plt.plot(xs, myfunc(xs))   # myfunc works on arrays too!\n",
    "plt.plot(root1[0], 0., 'ro')\n",
    "plt.plot(root2[0], 0., 'ro')"
   ]
  },
  {
   "cell_type": "code",
   "execution_count": null,
   "metadata": {
    "slideshow": {
     "slide_type": "slide"
    }
   },
   "outputs": [],
   "source": [
    "# ODE integration using odeint\n",
    "\n",
    "from scipy.integrate import odeint\n",
    "\n",
    "# Integrates general differential equation of the form dy/dt = f(y,t)\n",
    "# y can have multiple components, stored in an array\n",
    "\n",
    "def f(y,t):\n",
    "    return -y\n",
    "\n",
    "trajectory = odeint(f, y0=[1.0], t=np.linspace(0.,5.,51))\n",
    "\n",
    "plt.plot(np.linspace(0.,5.,51), trajectory)"
   ]
  },
  {
   "cell_type": "markdown",
   "metadata": {
    "slideshow": {
     "slide_type": "slide"
    }
   },
   "source": [
    "# Pandas\n",
    "\n",
    "### DataFrames (and Series)\n",
    "\n",
    "* Tabular data as you would find in a spreadsheet or csv-formatted file\n",
    "* Each column is a Series, with a particular type (like a NumPy array)\n",
    "* Columns can be different types\n",
    "* Row and column labels (df.index and df.columns)\n",
    "* Rows and columns can be indexed (accessed) by labels or position\n",
    "* Follows similar logic as NumPy: axis=0 (rows) and axis=1 (columns)"
   ]
  },
  {
   "cell_type": "code",
   "execution_count": 30,
   "metadata": {
    "slideshow": {
     "slide_type": "slide"
    }
   },
   "outputs": [
    {
     "name": "stdout",
     "output_type": "stream",
     "text": [
      "        Date Observer  Temperature  Rainfall\n",
      "0 2019-06-01      Bob         74.4      0.00\n",
      "1 2019-06-02    Carol         67.7      0.12\n",
      "2 2019-06-03      Ted         66.3      0.11\n",
      "3 2019-06-04    Alice         74.5      0.00\n",
      "4 2019-06-05      Bob         69.5      0.51\n",
      "5 2019-06-06    Alice         66.7      0.43\n",
      "6 2019-06-07      Ted         73.6      0.02\n",
      "7 2019-06-08    Alice         66.9      0.00\n",
      "8 2019-06-09      Bob         67.3       NaN\n",
      "9 2019-06-10    Carol         73.4      0.32\n"
     ]
    },
    {
     "data": {
      "text/html": [
       "<div>\n",
       "<style scoped>\n",
       "    .dataframe tbody tr th:only-of-type {\n",
       "        vertical-align: middle;\n",
       "    }\n",
       "\n",
       "    .dataframe tbody tr th {\n",
       "        vertical-align: top;\n",
       "    }\n",
       "\n",
       "    .dataframe thead th {\n",
       "        text-align: right;\n",
       "    }\n",
       "</style>\n",
       "<table border=\"1\" class=\"dataframe\">\n",
       "  <thead>\n",
       "    <tr style=\"text-align: right;\">\n",
       "      <th></th>\n",
       "      <th>Date</th>\n",
       "      <th>Observer</th>\n",
       "      <th>Temperature</th>\n",
       "      <th>Rainfall</th>\n",
       "    </tr>\n",
       "  </thead>\n",
       "  <tbody>\n",
       "    <tr>\n",
       "      <th>0</th>\n",
       "      <td>2019-06-01</td>\n",
       "      <td>Bob</td>\n",
       "      <td>74.4</td>\n",
       "      <td>0.00</td>\n",
       "    </tr>\n",
       "    <tr>\n",
       "      <th>1</th>\n",
       "      <td>2019-06-02</td>\n",
       "      <td>Carol</td>\n",
       "      <td>67.7</td>\n",
       "      <td>0.12</td>\n",
       "    </tr>\n",
       "    <tr>\n",
       "      <th>2</th>\n",
       "      <td>2019-06-03</td>\n",
       "      <td>Ted</td>\n",
       "      <td>66.3</td>\n",
       "      <td>0.11</td>\n",
       "    </tr>\n",
       "    <tr>\n",
       "      <th>3</th>\n",
       "      <td>2019-06-04</td>\n",
       "      <td>Alice</td>\n",
       "      <td>74.5</td>\n",
       "      <td>0.00</td>\n",
       "    </tr>\n",
       "    <tr>\n",
       "      <th>4</th>\n",
       "      <td>2019-06-05</td>\n",
       "      <td>Bob</td>\n",
       "      <td>69.5</td>\n",
       "      <td>0.51</td>\n",
       "    </tr>\n",
       "    <tr>\n",
       "      <th>5</th>\n",
       "      <td>2019-06-06</td>\n",
       "      <td>Alice</td>\n",
       "      <td>66.7</td>\n",
       "      <td>0.43</td>\n",
       "    </tr>\n",
       "    <tr>\n",
       "      <th>6</th>\n",
       "      <td>2019-06-07</td>\n",
       "      <td>Ted</td>\n",
       "      <td>73.6</td>\n",
       "      <td>0.02</td>\n",
       "    </tr>\n",
       "    <tr>\n",
       "      <th>7</th>\n",
       "      <td>2019-06-08</td>\n",
       "      <td>Alice</td>\n",
       "      <td>66.9</td>\n",
       "      <td>0.00</td>\n",
       "    </tr>\n",
       "    <tr>\n",
       "      <th>8</th>\n",
       "      <td>2019-06-09</td>\n",
       "      <td>Bob</td>\n",
       "      <td>67.3</td>\n",
       "      <td>NaN</td>\n",
       "    </tr>\n",
       "    <tr>\n",
       "      <th>9</th>\n",
       "      <td>2019-06-10</td>\n",
       "      <td>Carol</td>\n",
       "      <td>73.4</td>\n",
       "      <td>0.32</td>\n",
       "    </tr>\n",
       "  </tbody>\n",
       "</table>\n",
       "</div>"
      ],
      "text/plain": [
       "        Date Observer  Temperature  Rainfall\n",
       "0 2019-06-01      Bob         74.4      0.00\n",
       "1 2019-06-02    Carol         67.7      0.12\n",
       "2 2019-06-03      Ted         66.3      0.11\n",
       "3 2019-06-04    Alice         74.5      0.00\n",
       "4 2019-06-05      Bob         69.5      0.51\n",
       "5 2019-06-06    Alice         66.7      0.43\n",
       "6 2019-06-07      Ted         73.6      0.02\n",
       "7 2019-06-08    Alice         66.9      0.00\n",
       "8 2019-06-09      Bob         67.3       NaN\n",
       "9 2019-06-10    Carol         73.4      0.32"
      ]
     },
     "execution_count": 30,
     "metadata": {},
     "output_type": "execute_result"
    }
   ],
   "source": [
    "import pandas as pd; import numpy as np\n",
    "dates = ['2019-06-01', '2019-06-02', '2019-06-03', '2019-06-04', '2019-06-05', '2019-06-06', \\\n",
    "         '2019-06-07', '2019-06-08', '2019-06-09', '2019-06-10']\n",
    "observers = ['Bob', 'Carol', 'Ted', 'Alice', 'Bob', 'Alice', 'Ted', 'Alice', 'Bob', 'Carol']\n",
    "temperatures = np.round(list(70 + (10.*(np.random.random(10)-0.5))), 1)\n",
    "rainfall = [0.,0.12,0.11,0.,0.51,0.43,0.02,0.,np.nan,0.32]\n",
    "data_tuples = list(zip(dates,observers,temperatures,rainfall))\n",
    "df = pd.DataFrame(data_tuples, columns=['Date', 'Observer', 'Temperature', 'Rainfall'])\n",
    "df['Date'] = pd.to_datetime(df['Date'])\n",
    "print( df )\n",
    "df"
   ]
  },
  {
   "cell_type": "code",
   "execution_count": 33,
   "metadata": {
    "slideshow": {
     "slide_type": "slide"
    }
   },
   "outputs": [
    {
     "name": "stdout",
     "output_type": "stream",
     "text": [
      "0    74.4\n",
      "1    67.7\n",
      "2    66.3\n",
      "3    74.5\n",
      "4    69.5\n",
      "5    66.7\n",
      "6    73.6\n",
      "7    66.9\n",
      "8    67.3\n",
      "9    73.4\n",
      "Name: Temperature, dtype: float64\n"
     ]
    }
   ],
   "source": [
    "print(df['Temperature'])"
   ]
  },
  {
   "cell_type": "code",
   "execution_count": 32,
   "metadata": {},
   "outputs": [
    {
     "data": {
      "text/html": [
       "<div>\n",
       "<style scoped>\n",
       "    .dataframe tbody tr th:only-of-type {\n",
       "        vertical-align: middle;\n",
       "    }\n",
       "\n",
       "    .dataframe tbody tr th {\n",
       "        vertical-align: top;\n",
       "    }\n",
       "\n",
       "    .dataframe thead th {\n",
       "        text-align: right;\n",
       "    }\n",
       "</style>\n",
       "<table border=\"1\" class=\"dataframe\">\n",
       "  <thead>\n",
       "    <tr style=\"text-align: right;\">\n",
       "      <th></th>\n",
       "      <th>Date</th>\n",
       "      <th>Temperature</th>\n",
       "    </tr>\n",
       "  </thead>\n",
       "  <tbody>\n",
       "    <tr>\n",
       "      <th>0</th>\n",
       "      <td>2019-06-01</td>\n",
       "      <td>74.4</td>\n",
       "    </tr>\n",
       "    <tr>\n",
       "      <th>1</th>\n",
       "      <td>2019-06-02</td>\n",
       "      <td>67.7</td>\n",
       "    </tr>\n",
       "    <tr>\n",
       "      <th>2</th>\n",
       "      <td>2019-06-03</td>\n",
       "      <td>66.3</td>\n",
       "    </tr>\n",
       "    <tr>\n",
       "      <th>3</th>\n",
       "      <td>2019-06-04</td>\n",
       "      <td>74.5</td>\n",
       "    </tr>\n",
       "    <tr>\n",
       "      <th>4</th>\n",
       "      <td>2019-06-05</td>\n",
       "      <td>69.5</td>\n",
       "    </tr>\n",
       "    <tr>\n",
       "      <th>5</th>\n",
       "      <td>2019-06-06</td>\n",
       "      <td>66.7</td>\n",
       "    </tr>\n",
       "    <tr>\n",
       "      <th>6</th>\n",
       "      <td>2019-06-07</td>\n",
       "      <td>73.6</td>\n",
       "    </tr>\n",
       "    <tr>\n",
       "      <th>7</th>\n",
       "      <td>2019-06-08</td>\n",
       "      <td>66.9</td>\n",
       "    </tr>\n",
       "    <tr>\n",
       "      <th>8</th>\n",
       "      <td>2019-06-09</td>\n",
       "      <td>67.3</td>\n",
       "    </tr>\n",
       "    <tr>\n",
       "      <th>9</th>\n",
       "      <td>2019-06-10</td>\n",
       "      <td>73.4</td>\n",
       "    </tr>\n",
       "  </tbody>\n",
       "</table>\n",
       "</div>"
      ],
      "text/plain": [
       "        Date  Temperature\n",
       "0 2019-06-01         74.4\n",
       "1 2019-06-02         67.7\n",
       "2 2019-06-03         66.3\n",
       "3 2019-06-04         74.5\n",
       "4 2019-06-05         69.5\n",
       "5 2019-06-06         66.7\n",
       "6 2019-06-07         73.6\n",
       "7 2019-06-08         66.9\n",
       "8 2019-06-09         67.3\n",
       "9 2019-06-10         73.4"
      ]
     },
     "execution_count": 32,
     "metadata": {},
     "output_type": "execute_result"
    }
   ],
   "source": [
    "df[['Date', 'Temperature']]"
   ]
  },
  {
   "cell_type": "code",
   "execution_count": 34,
   "metadata": {
    "slideshow": {
     "slide_type": "slide"
    }
   },
   "outputs": [
    {
     "data": {
      "text/plain": [
       "3    0.00\n",
       "4    0.51\n",
       "5    0.43\n",
       "6    0.02\n",
       "7    0.00\n",
       "Name: Rainfall, dtype: float64"
      ]
     },
     "execution_count": 34,
     "metadata": {},
     "output_type": "execute_result"
    }
   ],
   "source": [
    "df.loc[3:7, 'Rainfall']    # pandas slicing is inclusive of stop, unlike lists and numpy arrays"
   ]
  },
  {
   "cell_type": "code",
   "execution_count": 35,
   "metadata": {},
   "outputs": [
    {
     "data": {
      "text/html": [
       "<div>\n",
       "<style scoped>\n",
       "    .dataframe tbody tr th:only-of-type {\n",
       "        vertical-align: middle;\n",
       "    }\n",
       "\n",
       "    .dataframe tbody tr th {\n",
       "        vertical-align: top;\n",
       "    }\n",
       "\n",
       "    .dataframe thead th {\n",
       "        text-align: right;\n",
       "    }\n",
       "</style>\n",
       "<table border=\"1\" class=\"dataframe\">\n",
       "  <thead>\n",
       "    <tr style=\"text-align: right;\">\n",
       "      <th></th>\n",
       "      <th>Temperature</th>\n",
       "      <th>Rainfall</th>\n",
       "    </tr>\n",
       "    <tr>\n",
       "      <th>Observer</th>\n",
       "      <th></th>\n",
       "      <th></th>\n",
       "    </tr>\n",
       "  </thead>\n",
       "  <tbody>\n",
       "    <tr>\n",
       "      <th>Alice</th>\n",
       "      <td>69.366667</td>\n",
       "      <td>0.143333</td>\n",
       "    </tr>\n",
       "    <tr>\n",
       "      <th>Bob</th>\n",
       "      <td>70.400000</td>\n",
       "      <td>0.255000</td>\n",
       "    </tr>\n",
       "    <tr>\n",
       "      <th>Carol</th>\n",
       "      <td>70.550000</td>\n",
       "      <td>0.220000</td>\n",
       "    </tr>\n",
       "    <tr>\n",
       "      <th>Ted</th>\n",
       "      <td>69.950000</td>\n",
       "      <td>0.065000</td>\n",
       "    </tr>\n",
       "  </tbody>\n",
       "</table>\n",
       "</div>"
      ],
      "text/plain": [
       "          Temperature  Rainfall\n",
       "Observer                       \n",
       "Alice       69.366667  0.143333\n",
       "Bob         70.400000  0.255000\n",
       "Carol       70.550000  0.220000\n",
       "Ted         69.950000  0.065000"
      ]
     },
     "execution_count": 35,
     "metadata": {},
     "output_type": "execute_result"
    }
   ],
   "source": [
    "df.groupby('Observer').mean()   # an example of split-apply-combine"
   ]
  }
 ],
 "metadata": {
  "celltoolbar": "Slideshow",
  "kernelspec": {
   "display_name": "Python 3",
   "language": "python",
   "name": "python3"
  },
  "language_info": {
   "codemirror_mode": {
    "name": "ipython",
    "version": 3
   },
   "file_extension": ".py",
   "mimetype": "text/x-python",
   "name": "python",
   "nbconvert_exporter": "python",
   "pygments_lexer": "ipython3",
   "version": "3.6.2"
  },
  "livereveal": {
   "autolaunch": true,
   "scroll": true
  }
 },
 "nbformat": 4,
 "nbformat_minor": 4
}
